{
  "nbformat": 4,
  "nbformat_minor": 0,
  "metadata": {
    "colab": {
      "name": "Group_model.ipynb",
      "provenance": [],
      "collapsed_sections": [],
      "toc_visible": true,
      "include_colab_link": true
    },
    "kernelspec": {
      "name": "python3",
      "display_name": "Python 3"
    },
    "accelerator": "TPU"
  },
  "cells": [
    {
      "cell_type": "markdown",
      "metadata": {
        "id": "view-in-github",
        "colab_type": "text"
      },
      "source": [
        "<a href=\"https://colab.research.google.com/github/CocoTheAussieCat/dl_at3/blob/donald1/Group_model.ipynb\" target=\"_parent\"><img src=\"https://colab.research.google.com/assets/colab-badge.svg\" alt=\"Open In Colab\"/></a>"
      ]
    },
    {
      "cell_type": "code",
      "metadata": {
        "id": "JXFt04pcxuP9",
        "colab_type": "code",
        "colab": {}
      },
      "source": [
        "### RUN THIS CELL ###\n",
        "# Use more recent version of tensorflow\n",
        "%tensorflow_version 2.x"
      ],
      "execution_count": 0,
      "outputs": []
    },
    {
      "cell_type": "markdown",
      "metadata": {
        "id": "7QK7eXHIsc6t",
        "colab_type": "text"
      },
      "source": [
        "# Mount Google Drive -- RUN\n",
        "All data is located in `Experimentation` folder of Google Drive. "
      ]
    },
    {
      "cell_type": "code",
      "metadata": {
        "id": "5CBM_yUOsezf",
        "colab_type": "code",
        "outputId": "7b5c4591-7d8d-4b39-f3d8-75a63f12c9b7",
        "colab": {
          "base_uri": "https://localhost:8080/",
          "height": 122
        }
      },
      "source": [
        "### RUN THIS CELL ###\n",
        "from google.colab import drive\n",
        "drive.mount('/content/drive', force_remount=True)"
      ],
      "execution_count": 1,
      "outputs": [
        {
          "output_type": "stream",
          "text": [
            "Go to this URL in a browser: https://accounts.google.com/o/oauth2/auth?client_id=947318989803-6bn6qk8qdgf4n4g3pfee6491hc0brc4i.apps.googleusercontent.com&redirect_uri=urn%3aietf%3awg%3aoauth%3a2.0%3aoob&response_type=code&scope=email%20https%3a%2f%2fwww.googleapis.com%2fauth%2fdocs.test%20https%3a%2f%2fwww.googleapis.com%2fauth%2fdrive%20https%3a%2f%2fwww.googleapis.com%2fauth%2fdrive.photos.readonly%20https%3a%2f%2fwww.googleapis.com%2fauth%2fpeopleapi.readonly\n",
            "\n",
            "Enter your authorization code:\n",
            "··········\n",
            "Mounted at /content/drive\n"
          ],
          "name": "stdout"
        }
      ]
    },
    {
      "cell_type": "code",
      "metadata": {
        "id": "fLzzNZH5tvKB",
        "colab_type": "code",
        "outputId": "08e3224d-47d2-40a9-f83f-5c85c286b0b8",
        "colab": {
          "base_uri": "https://localhost:8080/",
          "height": 34
        }
      },
      "source": [
        "### RUN THIS CELL ###\n",
        "# Direct the workbook into the project folder\n",
        "%cd drive/Shared\\ drives/DL_AT3/ImageCaptioning"
      ],
      "execution_count": 2,
      "outputs": [
        {
          "output_type": "stream",
          "text": [
            "/content/drive/Shared drives/DL_AT3/ImageCaptioning\n"
          ],
          "name": "stdout"
        }
      ]
    },
    {
      "cell_type": "code",
      "metadata": {
        "id": "-8X0FuZOkWFV",
        "colab_type": "code",
        "colab": {}
      },
      "source": [
        "### RUN THIS CELL ###\n",
        "import os \n",
        "dataset_dir = os.getcwd() "
      ],
      "execution_count": 0,
      "outputs": []
    },
    {
      "cell_type": "code",
      "metadata": {
        "id": "SE3_tIgRkfeL",
        "colab_type": "code",
        "outputId": "2af2e14a-b1b4-44db-8cf9-3016282ac65a",
        "colab": {
          "base_uri": "https://localhost:8080/",
          "height": 34
        }
      },
      "source": [
        "### RUN THIS CELL ###\n",
        "# Check the directory\n",
        "dataset_dir"
      ],
      "execution_count": 4,
      "outputs": [
        {
          "output_type": "execute_result",
          "data": {
            "text/plain": [
              "'/content/drive/Shared drives/DL_AT3/ImageCaptioning'"
            ]
          },
          "metadata": {
            "tags": []
          },
          "execution_count": 4
        }
      ]
    },
    {
      "cell_type": "code",
      "metadata": {
        "id": "S5a1biZwZGqt",
        "colab_type": "code",
        "outputId": "bc4e9ec9-0266-432d-b19f-1e465edccd60",
        "colab": {
          "base_uri": "https://localhost:8080/",
          "height": 34
        }
      },
      "source": [
        "### RUN THIS CELL ###\n",
        "# Check working director set correctly\n",
        "!pwd"
      ],
      "execution_count": 5,
      "outputs": [
        {
          "output_type": "stream",
          "text": [
            "/content/drive/Shared drives/DL_AT3/ImageCaptioning\n"
          ],
          "name": "stdout"
        }
      ]
    },
    {
      "cell_type": "code",
      "metadata": {
        "id": "NsGMBdWc0SVR",
        "colab_type": "code",
        "outputId": "7fe26568-8a96-49da-8d3f-639ecec8c1be",
        "colab": {
          "base_uri": "https://localhost:8080/",
          "height": 170
        }
      },
      "source": [
        "### RUN THIS CELL ###\n",
        "# Check the files inside the directory\n",
        "!ls"
      ],
      "execution_count": 6,
      "outputs": [
        {
          "output_type": "stream",
          "text": [
            "captions.txt\t\t    Flickr8k_text.zip\n",
            "checkpoints\t\t    Flickr8k.token.txt\n",
            "CrowdFlowerAnnotations.txt  Flickr_8k.trainImages.txt\n",
            "ExpertAnnotations.txt\t    glove.6B.200d.txt\n",
            "Flicker8k_Dataset\t    Group_model.ipynb\n",
            "Flickr8k_Dataset.zip\t    __MACOSX\n",
            "Flickr_8k.devImages.txt     readme.txt\n",
            "Flickr8k.lemma.token.txt    train_features_inception.pkl\n",
            "Flickr_8k.testImages.txt    val_features_inception.pkl\n"
          ],
          "name": "stdout"
        }
      ]
    },
    {
      "cell_type": "markdown",
      "metadata": {
        "id": "C32A5lyYpJZP",
        "colab_type": "text"
      },
      "source": [
        "## Unzip files from Google Drive\n",
        "Only required once, if files are already lists in the directory unzipping is not required again."
      ]
    },
    {
      "cell_type": "code",
      "metadata": {
        "id": "uo61q99biV6G",
        "colab_type": "code",
        "colab": {}
      },
      "source": [
        "#Unzip the Image Dataset\n",
        "#!unzip Flickr8k_Dataset.zip"
      ],
      "execution_count": 0,
      "outputs": []
    },
    {
      "cell_type": "code",
      "metadata": {
        "id": "gUrNOy-UAGT5",
        "colab_type": "code",
        "colab": {}
      },
      "source": [
        "#Unzip the Text Dataset\n",
        "#!unzip Flickr8k_text.zip"
      ],
      "execution_count": 0,
      "outputs": []
    },
    {
      "cell_type": "markdown",
      "metadata": {
        "id": "83HvfBCS9Rm_",
        "colab_type": "text"
      },
      "source": [
        "## Set paths for files"
      ]
    },
    {
      "cell_type": "code",
      "metadata": {
        "id": "DV41L_nfkYWw",
        "colab_type": "code",
        "colab": {}
      },
      "source": [
        "### RUN THIS CELL ###\n",
        "# Set the dataset directory and relative directories\n",
        "image_dir = dataset_dir + '/Flicker8k_Dataset'\n",
        "caption_dir = dataset_dir + '/Flickr8k.token.txt'\n",
        "train_dir = dataset_dir + '/Flickr_8k.trainImages.txt'\n",
        "test_dir = dataset_dir + '/Flickr_8k.testImages.txt'\n",
        "val_dir = dataset_dir +'/Flickr_8k.devImages.txt'\n"
      ],
      "execution_count": 0,
      "outputs": []
    },
    {
      "cell_type": "markdown",
      "metadata": {
        "id": "Gv7XZ57Sj4TC",
        "colab_type": "text"
      },
      "source": [
        "# Setup -- RUN"
      ]
    },
    {
      "cell_type": "markdown",
      "metadata": {
        "id": "fxQY7v5tkDqA",
        "colab_type": "text"
      },
      "source": [
        "Import libraries, set working directory and relative paths"
      ]
    },
    {
      "cell_type": "code",
      "metadata": {
        "id": "TQzW9k4cj0oF",
        "colab_type": "code",
        "colab": {}
      },
      "source": [
        "### RUN THIS CELL ###\n",
        "import pandas as pd\n",
        "import numpy as np\n",
        "from numpy import argmax\n",
        "import array as arr\n",
        "import matplotlib.pyplot as plt\n",
        "import matplotlib.image as mpimg\n",
        "import pickle\n",
        "from pickle import dump, load\n",
        "import string\n",
        "import os\n",
        "from time import time\n",
        "import time\n",
        "import random\n",
        "\n",
        "from PIL import Image\n",
        "from collections import Counter\n",
        "\n",
        "import tensorflow as tf\n",
        "from tensorflow.keras.preprocessing import image\n",
        "from tensorflow.keras.preprocessing.image import img_to_array\n",
        "from tensorflow.keras.preprocessing.image import load_img\n",
        "from tensorflow.keras.preprocessing import sequence\n",
        "from tensorflow.keras.preprocessing.sequence import pad_sequences\n",
        "\n",
        "from tensorflow.keras.applications.vgg16 import VGG16\n",
        "from tensorflow.keras.applications.vgg16 import preprocess_input\n",
        "\n",
        "from tensorflow.keras.models import Model, Sequential\n",
        "from tensorflow.keras import Input, layers\n",
        "from tensorflow.keras.utils import to_categorical\n",
        "from tensorflow.keras.utils import plot_model\n",
        "from tensorflow.keras.layers import Input, Dense, Flatten, LSTM, Embedding, Dropout, Add, TimeDistributed, RepeatVector, Activation, Reshape, concatenate,BatchNormalization\n",
        "\n",
        "from tensorflow.keras import optimizers\n",
        "from tensorflow.keras.optimizers import Adam, RMSprop\n",
        "from tensorflow.keras.layers import Bidirectional\n",
        "from tensorflow.keras.layers import add\n",
        "from tensorflow.keras.applications.inception_v3 import InceptionV3\n",
        "from tensorflow.keras.applications.inception_v3 import preprocess_input\n",
        "\n",
        "from tensorflow.keras.callbacks import ModelCheckpoint\n",
        "from tensorflow.keras.callbacks import EarlyStopping\n",
        "from tensorflow.keras.callbacks import ReduceLROnPlateau\n",
        "\t\n",
        "from tensorflow.keras.preprocessing.text import Tokenizer\n",
        "from tensorflow.keras.models import load_model\n",
        "from nltk.translate.bleu_score import corpus_bleu"
      ],
      "execution_count": 0,
      "outputs": []
    },
    {
      "cell_type": "markdown",
      "metadata": {
        "id": "2DadsgAW9JDm",
        "colab_type": "text"
      },
      "source": [
        "## Set seeds\n",
        "For reproducible results"
      ]
    },
    {
      "cell_type": "code",
      "metadata": {
        "id": "u_NsXujecUtO",
        "colab_type": "code",
        "colab": {}
      },
      "source": [
        "### RUN THIS CELL ###\n",
        "# Set seeds for numpy and tensorflow\n",
        "tf.random.set_seed(12)\n",
        "np.random.seed(12)"
      ],
      "execution_count": 0,
      "outputs": []
    },
    {
      "cell_type": "markdown",
      "metadata": {
        "id": "6dAZSt8K_bmy",
        "colab_type": "text"
      },
      "source": [
        "## Train and validation file names\n",
        "Create lists of train and validation file names."
      ]
    },
    {
      "cell_type": "code",
      "metadata": {
        "id": "o_9hOHfTVG6C",
        "colab_type": "code",
        "colab": {}
      },
      "source": [
        "### RUN THIS CELL ###\n",
        "# Gets all files in directory and extracts filename without extension\n",
        "# Returns a list\n",
        "def img_id(filename):\n",
        "    with open(filename) as file:\n",
        "        data = file.readlines()\n",
        "        img_name = []\n",
        "        for img_id in data:\n",
        "            img_name.append(img_id.split('.')[0])\n",
        "    return img_name    "
      ],
      "execution_count": 0,
      "outputs": []
    },
    {
      "cell_type": "code",
      "metadata": {
        "id": "ZEOv0jWvVTNN",
        "colab_type": "code",
        "outputId": "00673056-38a9-4094-d654-46869601be78",
        "colab": {
          "base_uri": "https://localhost:8080/",
          "height": 170
        }
      },
      "source": [
        "### RUN THIS CELL ###\n",
        "train_img_name = img_id(train_dir) \n",
        "val_img_name = img_id(val_dir) \n",
        "\n",
        "# Print 5 sample image names\n",
        "print(*train_img_name[:5],sep='\\n') \n",
        "\n",
        "# Check length of train and validation datasets\n",
        "print('\\nNumber of images in train data:',len(train_img_name)) \n",
        "print('\\nNumber of images in val data:',len(val_img_name))"
      ],
      "execution_count": 11,
      "outputs": [
        {
          "output_type": "stream",
          "text": [
            "2513260012_03d33305cf\n",
            "2903617548_d3e38d7f88\n",
            "3338291921_fe7ae0c8f8\n",
            "488416045_1c6d903fe0\n",
            "2644326817_8f45080b87\n",
            "\n",
            "Number of images in train data: 6000\n",
            "\n",
            "Number of images in val data: 1000\n"
          ],
          "name": "stdout"
        }
      ]
    },
    {
      "cell_type": "markdown",
      "metadata": {
        "id": "Ic6Xn_TCRpku",
        "colab_type": "text"
      },
      "source": [
        "# Caption pre-processing -- DO NOT RUN\n",
        "Source: <https://github.com/akki3d76/Image-Captioning-Using-Keras/blob/master/Captionate.ipynb>\n",
        "\n",
        "Each image has 5 captions (#0 to #4). The 5 captions are turned into a list with the associated image id. Captions are then cleaned to remove punctuation. \n",
        "\n",
        "This is saved as `caption.txt` so this code DOES NOT need to be run again."
      ]
    },
    {
      "cell_type": "markdown",
      "metadata": {
        "id": "inWnLLx59_Q-",
        "colab_type": "text"
      },
      "source": [
        "## Load captions from .txt file"
      ]
    },
    {
      "cell_type": "code",
      "metadata": {
        "id": "bHxXjalxRoF5",
        "colab_type": "code",
        "colab": {}
      },
      "source": [
        "### DO NOT RUN THIS CELL ###\n",
        "# def load_doc(filename):\n",
        "#     with open(filename) as file:\n",
        "#         text = file.readlines()\n",
        "#         return text"
      ],
      "execution_count": 0,
      "outputs": []
    },
    {
      "cell_type": "code",
      "metadata": {
        "id": "z4CLCK39Sape",
        "colab_type": "code",
        "outputId": "2a7a0dbf-8e98-4c7d-8cce-75993ffa2ff4",
        "colab": {
          "base_uri": "https://localhost:8080/",
          "height": 211
        }
      },
      "source": [
        "### DO NOT RUN THIS CELL ###\n",
        "# text = load_doc(caption_dir)\n",
        "# for line in text[:10]:\n",
        "#     print(line,end='')"
      ],
      "execution_count": 0,
      "outputs": [
        {
          "output_type": "stream",
          "text": [
            "1000268201_693b08cb0e.jpg#0\tA child in a pink dress is climbing up a set of stairs in an entry way .\n",
            "1000268201_693b08cb0e.jpg#1\tA girl going into a wooden building .\n",
            "1000268201_693b08cb0e.jpg#2\tA little girl climbing into a wooden playhouse .\n",
            "1000268201_693b08cb0e.jpg#3\tA little girl climbing the stairs to her playhouse .\n",
            "1000268201_693b08cb0e.jpg#4\tA little girl in a pink dress going into a wooden cabin .\n",
            "1001773457_577c3a7d70.jpg#0\tA black dog and a spotted dog are fighting\n",
            "1001773457_577c3a7d70.jpg#1\tA black dog and a tri-colored dog playing with each other on the road .\n",
            "1001773457_577c3a7d70.jpg#2\tA black dog and a white dog with brown spots are staring at each other in the street .\n",
            "1001773457_577c3a7d70.jpg#3\tTwo dogs of different breeds looking at each other on the road .\n",
            "1001773457_577c3a7d70.jpg#4\tTwo dogs on pavement moving toward each other .\n"
          ],
          "name": "stdout"
        }
      ]
    },
    {
      "cell_type": "markdown",
      "metadata": {
        "id": "XJE7oV0uSJu8",
        "colab_type": "text"
      },
      "source": [
        "## Map images file names to captions\n",
        "Create a dictionary of captions with corresponding image file name (with .jpg extension removed)"
      ]
    },
    {
      "cell_type": "code",
      "metadata": {
        "id": "sHN45CiaSJX7",
        "colab_type": "code",
        "colab": {}
      },
      "source": [
        "### DO NOT RUN THIS CELL ###\n",
        "# def image_to_captions(text):\n",
        "#     hash_map = {}\n",
        "#     for line in text:\n",
        "#         token = line.split()\n",
        "#         image_id = token[0].split('.')[0] # separating with '.' to extract image id (removing .jpg)\n",
        "#         image_caption = ' '.join(token[1: ])\n",
        "        \n",
        "#         if(image_id not in hash_map):\n",
        "#             hash_map[image_id] = [image_caption]\n",
        "#         else:\n",
        "#             hash_map[image_id].append(image_caption)\n",
        "        \n",
        "#     return hash_map"
      ],
      "execution_count": 0,
      "outputs": []
    },
    {
      "cell_type": "code",
      "metadata": {
        "id": "ZdyP-M4MSW1Q",
        "colab_type": "code",
        "outputId": "e7fe6a76-39cb-4230-f065-d12048acabc1",
        "colab": {
          "base_uri": "https://localhost:8080/",
          "height": 104
        }
      },
      "source": [
        "### DO NOT RUN THIS CELL ###\n",
        "# map_img_to_captions = image_to_captions(text)\n",
        "\n",
        "# # print five captions for sample image\n",
        "# print(*map_img_to_captions['1000268201_693b08cb0e'],sep='\\n')"
      ],
      "execution_count": 0,
      "outputs": [
        {
          "output_type": "stream",
          "text": [
            "A child in a pink dress is climbing up a set of stairs in an entry way .\n",
            "A girl going into a wooden building .\n",
            "A little girl climbing into a wooden playhouse .\n",
            "A little girl climbing the stairs to her playhouse .\n",
            "A little girl in a pink dress going into a wooden cabin .\n"
          ],
          "name": "stdout"
        }
      ]
    },
    {
      "cell_type": "markdown",
      "metadata": {
        "id": "yY1880DjSycG",
        "colab_type": "text"
      },
      "source": [
        "## Clean captions\n"
      ]
    },
    {
      "cell_type": "code",
      "metadata": {
        "id": "sIgMiOxIS9es",
        "colab_type": "code",
        "colab": {}
      },
      "source": [
        "### DO NOT RUN THIS CELL ###\n",
        "# For each image, clean captions and put all five captions into single list\n",
        "\n",
        "# def preprocess(map_img_to_captions):\n",
        "#     preprocessed_captions = []\n",
        "#     for key in map_img_to_captions.keys():\n",
        "#         for idx in range(len(map_img_to_captions[key])):\n",
        "#             tokens = map_img_to_captions[key][idx].split()\n",
        "#             tokens = [token.lower() for token in tokens if len(token)>1 if token.isalpha()]\n",
        "#             map_img_to_captions[key][idx] = ' '.join(tokens)\n",
        "            \n",
        "#     return map_img_to_captions"
      ],
      "execution_count": 0,
      "outputs": []
    },
    {
      "cell_type": "code",
      "metadata": {
        "id": "-tzELOIRS_1j",
        "colab_type": "code",
        "outputId": "b3b74371-9e71-4af2-86ac-10fffb0b466e",
        "colab": {
          "base_uri": "https://localhost:8080/",
          "height": 104
        }
      },
      "source": [
        "### DO NOT RUN THIS CELL ###\n",
        "# preprocessed_map = preprocess(map_img_to_captions)\n",
        "\n",
        "# # print list of captions for sample image\n",
        "# preprocessed_map['1000268201_693b08cb0e']"
      ],
      "execution_count": 0,
      "outputs": [
        {
          "output_type": "execute_result",
          "data": {
            "text/plain": [
              "['child in pink dress is climbing up set of stairs in an entry way',\n",
              " 'girl going into wooden building',\n",
              " 'little girl climbing into wooden playhouse',\n",
              " 'little girl climbing the stairs to her playhouse',\n",
              " 'little girl in pink dress going into wooden cabin']"
            ]
          },
          "metadata": {
            "tags": []
          },
          "execution_count": 17
        }
      ]
    },
    {
      "cell_type": "markdown",
      "metadata": {
        "id": "Ck9DZ3ECTWdN",
        "colab_type": "text"
      },
      "source": [
        "## Create vocabulary from captions\n",
        "Build a set with unique words from all the captions. Check by printing out the size of the vocab."
      ]
    },
    {
      "cell_type": "code",
      "metadata": {
        "id": "yZ9n39xsTWLh",
        "colab_type": "code",
        "colab": {}
      },
      "source": [
        "### DO NOT RUN THIS CELL ###\n",
        "# Make a set of unique words in all the captions\n",
        "# def create_vocabulary(preprocessed_map):\n",
        "#     vocabulary = set()\n",
        "#     for img_captions in preprocessed_map.values(): # list of 5 captions for each image\n",
        "#         for caption in img_captions:\n",
        "#             for token in caption.split():\n",
        "#                 vocabulary.add(token)    \n",
        "#     return vocabulary"
      ],
      "execution_count": 0,
      "outputs": []
    },
    {
      "cell_type": "code",
      "metadata": {
        "id": "_qAuQp0eTyl1",
        "colab_type": "code",
        "outputId": "6d882fc9-c1f8-476d-e647-0645a10c9cd0",
        "colab": {
          "base_uri": "https://localhost:8080/",
          "height": 34
        }
      },
      "source": [
        "### DO NOT RUN THIS CELL ###\n",
        "# vocabulary = create_vocabulary(preprocessed_map)\n",
        "\n",
        "# # Check vocab size\n",
        "# print('Vocabulary size',len(vocabulary))"
      ],
      "execution_count": 0,
      "outputs": [
        {
          "output_type": "stream",
          "text": [
            "Vocabulary size 8357\n"
          ],
          "name": "stdout"
        }
      ]
    },
    {
      "cell_type": "markdown",
      "metadata": {
        "id": "T1hoGyCHUbU5",
        "colab_type": "text"
      },
      "source": [
        "## Save captions.txt\n",
        "Save image id and clean captions as `captions.txt` in working directory.\n",
        "\n"
      ]
    },
    {
      "cell_type": "code",
      "metadata": {
        "id": "fsKGaRxjULdt",
        "colab_type": "code",
        "colab": {}
      },
      "source": [
        "### DO NOT RUN THIS CELL ###\n",
        "# Create list of image ids and preprocessed captions, which is written to txt file\n",
        "# def save_captions(preprocessed_map,filename):\n",
        "#     data = []\n",
        "#     for image_id,image_captions in preprocessed_map.items():\n",
        "#         for caption in image_captions:\n",
        "#             data.append(image_id + ' ' + caption + '\\n')\n",
        "            \n",
        "#     with open(filename,'w') as file:\n",
        "#         for line in data:\n",
        "#             file.write(line)"
      ],
      "execution_count": 0,
      "outputs": []
    },
    {
      "cell_type": "code",
      "metadata": {
        "id": "dTbwy8T3UhZ3",
        "colab_type": "code",
        "colab": {}
      },
      "source": [
        "### DO NOT RUN THIS CELL ###\n",
        "# save_captions(preprocessed_map,'captions.txt') # will save to working directory"
      ],
      "execution_count": 0,
      "outputs": []
    },
    {
      "cell_type": "markdown",
      "metadata": {
        "id": "QqhSZ55oVHmz",
        "colab_type": "text"
      },
      "source": [
        "# Image pre-processing -- DO NOT RUN\n",
        "Images are pre-processed so they can be run through Inceptions-V3 to extract features. \n",
        "\n",
        "Feature vector for train images saved as `features_train_inception.pkl` and for validation images saved as `features_val_inception.pkl`.\n"
      ]
    },
    {
      "cell_type": "markdown",
      "metadata": {
        "id": "ReuaCTFUXD1o",
        "colab_type": "text"
      },
      "source": [
        "## Pre-process images\n",
        "Pre-process so images are in correct format to be fed into Inception-V3 model for feature extraction.\n",
        "\n",
        "Extract feature vectors are saved as `features_train_inception.pkl` and `features_val_inception.pkl` so this code DOES NOT need to be run again."
      ]
    },
    {
      "cell_type": "markdown",
      "metadata": {
        "id": "NgTrrA6VZ2ST",
        "colab_type": "text"
      },
      "source": [
        "### Create lists of train and validation image file names, including .jpg extension"
      ]
    },
    {
      "cell_type": "code",
      "metadata": {
        "id": "d5Ii4cnrZbHm",
        "colab_type": "code",
        "colab": {}
      },
      "source": [
        "### DO NOT RUN THIS CELL ###\n",
        "\n",
        "# def images_name(path):\n",
        "#     img_name = set([path+image for image in os.listdir(path)])\n",
        "#     return img_name"
      ],
      "execution_count": 0,
      "outputs": []
    },
    {
      "cell_type": "code",
      "metadata": {
        "id": "aCLX_A8VZnpH",
        "colab_type": "code",
        "colab": {}
      },
      "source": [
        "### DO NOT RUN THIS CELL ###\n",
        "\n",
        "# all_images_filnames = images_name(image_dir)\n",
        "# train_img_filenames = [image_dir + '/' + img + '.jpg' for img in train_img_name]\n",
        "# val_img_filenames = [image_dir + '/' + img + '.jpg' for img in val_img_name]"
      ],
      "execution_count": 0,
      "outputs": []
    },
    {
      "cell_type": "markdown",
      "metadata": {
        "id": "kZxLzsp5BJxE",
        "colab_type": "text"
      },
      "source": [
        "### Pre-process images as required for Inception-V3"
      ]
    },
    {
      "cell_type": "code",
      "metadata": {
        "id": "Tio6hMX5XM2y",
        "colab_type": "code",
        "colab": {}
      },
      "source": [
        "### DO NOT RUN THIS CELL ###\n",
        "# Loads image, adds 4th dimension for colour channel, pre-process for Inception-V3\n",
        "# Returns array with dims (1, 299, 299, 3)\n",
        "\n",
        "# def preprocess_image(img_path):\n",
        "#     img = image.load_img(img_path,target_size=(299,299)) \n",
        "#     img = image.img_to_array(img) # Converts PIL Image instance to numpy array (299,299,3)\n",
        "#     img = np.expand_dims(img, axis=0) # Add one more dimension: (1, 299, 299, 3)\n",
        "#     img = preprocess_input(img) # Pre-process image as per Inception-V3 model\n",
        "#     return img  # shape: (1, 299, 299, 3)"
      ],
      "execution_count": 0,
      "outputs": []
    },
    {
      "cell_type": "code",
      "metadata": {
        "id": "639bGqA8X08h",
        "colab_type": "code",
        "outputId": "80bea0d8-66f4-4044-bb41-e3ab848e810e",
        "colab": {
          "base_uri": "https://localhost:8080/",
          "height": 324
        }
      },
      "source": [
        "### DO NOT RUN THIS CELL ###\n",
        "# Check preprocess_image works by running one sample image through it\n",
        "\n",
        "# sample_image = image_dir +'/1000268201_693b08cb0e.jpg'\n",
        "# img = preprocess_image(sample_image)\n",
        "# plt.imshow(img[0])"
      ],
      "execution_count": 0,
      "outputs": [
        {
          "output_type": "stream",
          "text": [
            "Clipping input data to the valid range for imshow with RGB data ([0..1] for floats or [0..255] for integers).\n"
          ],
          "name": "stderr"
        },
        {
          "output_type": "execute_result",
          "data": {
            "text/plain": [
              "<matplotlib.image.AxesImage at 0x7f41aa56f9e8>"
            ]
          },
          "metadata": {
            "tags": []
          },
          "execution_count": 43
        },
        {
          "output_type": "display_data",
          "data": {
            "image/png": "[encoded data removed]",
            "text/plain": [
              "<Figure size 432x288 with 1 Axes>"
            ]
          },
          "metadata": {
            "tags": [],
            "needs_background": "light"
          }
        }
      ]
    },
    {
      "cell_type": "markdown",
      "metadata": {
        "id": "km3KYuY-ZGXY",
        "colab_type": "text"
      },
      "source": [
        "## Load Inception-V3 model\n",
        "Load model and remove last layer so that features can be extracted from images."
      ]
    },
    {
      "cell_type": "code",
      "metadata": {
        "id": "1KvhmsIfZQFN",
        "colab_type": "code",
        "outputId": "7b43c2f3-baeb-4119-bf95-7f1ad0286e2e",
        "colab": {
          "base_uri": "https://localhost:8080/",
          "height": 72
        }
      },
      "source": [
        "### DO NOT RUN THIS CELL ###\n",
        "# Load Inception-V3 model\n",
        "# model = InceptionV3(weights='imagenet')\n",
        "\n",
        "# # Create new model, by removing last layer (output layer) from Inception-V3\n",
        "# model_new = Model(inputs=model.input, outputs=model.layers[-2].output) # outputs=(second last layer output)"
      ],
      "execution_count": 0,
      "outputs": [
        {
          "output_type": "stream",
          "text": [
            "Downloading data from https://storage.googleapis.com/tensorflow/keras-applications/inception_v3/inception_v3_weights_tf_dim_ordering_tf_kernels.h5\n",
            "96116736/96112376 [==============================] - 1s 0us/step\n"
          ],
          "name": "stdout"
        }
      ]
    },
    {
      "cell_type": "markdown",
      "metadata": {
        "id": "5Fus9UoFaQuM",
        "colab_type": "text"
      },
      "source": [
        "## Extract feature from images\n",
        "Run images through Inception-V3 model to extract features as a vector. Each image will have dimensions of (2048, ), which is the required size for modelling"
      ]
    },
    {
      "cell_type": "code",
      "metadata": {
        "id": "XDfA2jIeaPbE",
        "colab_type": "code",
        "colab": {}
      },
      "source": [
        "### DO NOT RUN THIS CELL ###\n",
        "# Function to extract features from image into a vector of size (2048, )\n",
        "# def extract_image_features(image):\n",
        "\n",
        "#     # pre-process image so it can be run through Inception-V3\n",
        "#     image = preprocess_image(image)\n",
        "    \n",
        "#     # Extract features from image by running it through Inception-V3\n",
        "#     feature_vector = model_new.predict(image) \n",
        "\n",
        "#     # Reshape from (1, 2048) to (2048, )\n",
        "#     feature_vector = feature_vector.reshape(feature_vector.shape[1], ) \n",
        "\n",
        "#     return feature_vector"
      ],
      "execution_count": 0,
      "outputs": []
    },
    {
      "cell_type": "code",
      "metadata": {
        "id": "4GM5v0g6agYX",
        "colab_type": "code",
        "outputId": "986872ea-1136-46d3-c745-a85e8a7be63d",
        "colab": {
          "base_uri": "https://localhost:8080/",
          "height": 243
        }
      },
      "source": [
        "### DO NOT RUN THIS CELL ###\n",
        "# Extract features from train images\n",
        "# start_train = time()\n",
        "# train_features = {}\n",
        "# for idx,img in enumerate(train_img_filenames):\n",
        "#     if( (idx+1)%500 == 0):\n",
        "#         print('Train images encoded ',idx+1)\n",
        "#     train_features[img] = extract_image_features(img)\n",
        "# print(\"Train image feature extraction took: {} seconds\".format(time()-start_train))"
      ],
      "execution_count": 0,
      "outputs": [
        {
          "output_type": "stream",
          "text": [
            "Train images encoded  500\n",
            "Train images encoded  1000\n",
            "Train images encoded  1500\n",
            "Train images encoded  2000\n",
            "Train images encoded  2500\n",
            "Train images encoded  3000\n",
            "Train images encoded  3500\n",
            "Train images encoded  4000\n",
            "Train images encoded  4500\n",
            "Train images encoded  5000\n",
            "Train images encoded  5500\n",
            "Train images encoded  6000\n",
            "Train image feature extraction took: 3345.310848712921 seconds\n"
          ],
          "name": "stdout"
        }
      ]
    },
    {
      "cell_type": "code",
      "metadata": {
        "id": "lXg_hcc8pBR2",
        "colab_type": "code",
        "colab": {}
      },
      "source": [
        "### DO NOT RUN THIS CELL ###\n",
        "# Save train feature as pickle file\n",
        "# Will save to working directory\n",
        "dump(train_features, open('train_features_inception.pkl', 'wb'))"
      ],
      "execution_count": 0,
      "outputs": []
    },
    {
      "cell_type": "code",
      "metadata": {
        "id": "G9OtOmbodFGG",
        "colab_type": "code",
        "outputId": "6ca942e8-7cc0-4b55-e0f2-a3c7b780c5e7",
        "colab": {
          "base_uri": "https://localhost:8080/",
          "height": 69
        }
      },
      "source": [
        "### DO NOT RUN THIS CELL ###\n",
        "# Extract features from validation images\n",
        "# start_val = time()\n",
        "# val_features = {}\n",
        "# for idx,img in enumerate(val_img_filenames):\n",
        "#     if( (idx+1)%500 == 0):\n",
        "#         print('Validation images encoded ',idx+1)\n",
        "#     val_features[img] = extract_image_features(img)\n",
        "# print(\"Validation image feature extraction took: {} seconds\".format(time()-start_val))"
      ],
      "execution_count": 0,
      "outputs": [
        {
          "output_type": "stream",
          "text": [
            "Validation images encoded  500\n",
            "Validation images encoded  1000\n",
            "Validation image feature extraction took: 568.206071138382 seconds\n"
          ],
          "name": "stdout"
        }
      ]
    },
    {
      "cell_type": "markdown",
      "metadata": {
        "id": "5vK_EbMEekEF",
        "colab_type": "text"
      },
      "source": [
        "## Save extracted image feature to pickles\n"
      ]
    },
    {
      "cell_type": "code",
      "metadata": {
        "id": "udJ_UxHooeAd",
        "colab_type": "code",
        "colab": {}
      },
      "source": [
        "### DO NOT RUN THIS CELL ###\n",
        "# Save validation feature as pickle file\n",
        "# Will save to working directory\n",
        "# dump(val_features, open('val_features_inception.pkl', 'wb'))"
      ],
      "execution_count": 0,
      "outputs": []
    },
    {
      "cell_type": "markdown",
      "metadata": {
        "id": "_6ippPiTeh5F",
        "colab_type": "text"
      },
      "source": [
        "# Load image features and captions -- RUN\n",
        "Load image features from pickle files and get associated captions from caption dictionary"
      ]
    },
    {
      "cell_type": "code",
      "metadata": {
        "id": "Y_-dVFoWF5nE",
        "colab_type": "code",
        "colab": {}
      },
      "source": [
        "### RUN THIS CELL ###\n",
        "def load_doc(filename):\n",
        "    with open(filename) as file:\n",
        "        text = file.readlines()\n",
        "        return text"
      ],
      "execution_count": 0,
      "outputs": []
    },
    {
      "cell_type": "code",
      "metadata": {
        "id": "WlCcUUZb1URw",
        "colab_type": "code",
        "colab": {}
      },
      "source": [
        "### RUN THIS CELL ###\n",
        "# Creates dictionary with image id as key, captions as value\n",
        "# Adds 'startseq' and 'endseq' to caption\n",
        "def load_captions(filename, filelist):\n",
        "    doc = load_doc(filename) \n",
        "    captions = {}    \n",
        "    \n",
        "    for line in doc:\n",
        "        tokens = line.split()\n",
        "        image_id, image_caption = tokens[0], tokens[1:]\n",
        "\n",
        "        if(image_id in filelist):\n",
        "            if(image_id not in captions):\n",
        "                captions[image_id] = []\n",
        "            \n",
        "            modified_caption = 'startseq ' + ' '.join(image_caption) + ' endseq'\n",
        "            captions[image_id].append(modified_caption)\n",
        "    \n",
        "    return captions"
      ],
      "execution_count": 0,
      "outputs": []
    },
    {
      "cell_type": "code",
      "metadata": {
        "id": "3f1MDlge1nSZ",
        "colab_type": "code",
        "outputId": "4f06913a-3fc9-4f81-cabc-b2809db06915",
        "colab": {
          "base_uri": "https://localhost:8080/",
          "height": 102
        }
      },
      "source": [
        "### RUN THIS CELL ###\n",
        "# Create train captions dictionary\n",
        "train_captions = load_captions('captions.txt', train_img_name)\n",
        "\n",
        "# Print a sample caption as a check, should return 5 captions, each sandwiched between 'startseq' 'endseq'\n",
        "print(*train_captions['1000268201_693b08cb0e'],sep='\\n')"
      ],
      "execution_count": 14,
      "outputs": [
        {
          "output_type": "stream",
          "text": [
            "startseq child in pink dress is climbing up set of stairs in an entry way endseq\n",
            "startseq girl going into wooden building endseq\n",
            "startseq little girl climbing into wooden playhouse endseq\n",
            "startseq little girl climbing the stairs to her playhouse endseq\n",
            "startseq little girl in pink dress going into wooden cabin endseq\n"
          ],
          "name": "stdout"
        }
      ]
    },
    {
      "cell_type": "code",
      "metadata": {
        "id": "D0torB_C133v",
        "colab_type": "code",
        "outputId": "4532b976-ea13-4f72-eabd-907a373da877",
        "colab": {
          "base_uri": "https://localhost:8080/",
          "height": 102
        }
      },
      "source": [
        "### RUN THIS CELL ###\n",
        "# Create train captions dictionary\n",
        "val_captions = load_captions('captions.txt', val_img_name)\n",
        "\n",
        "# Print a sample caption as a check, should return 5 captions, each sandwiched between 'startseq' 'endseq'\n",
        "print(*val_captions['2391812384_7429b5e567'],sep='\\n')"
      ],
      "execution_count": 15,
      "outputs": [
        {
          "output_type": "stream",
          "text": [
            "startseq child dressed in purple clothing and hat runs in splashing water while man and small boy walk nearby endseq\n",
            "startseq child wearing purple runs through splashing water while man in red looks on endseq\n",
            "startseq family playing the spray of fountain endseq\n",
            "startseq man and two toddlers get sprinkled as they pass an ornamental fountain endseq\n",
            "startseq young girl wearing purple running through water endseq\n"
          ],
          "name": "stdout"
        }
      ]
    },
    {
      "cell_type": "code",
      "metadata": {
        "id": "CO9NpPEee9Ch",
        "colab_type": "code",
        "outputId": "330e7828-6965-4864-a1ed-bde9e17f65ba",
        "colab": {
          "base_uri": "https://localhost:8080/",
          "height": 187
        }
      },
      "source": [
        "### RUN THIS CELL ###\n",
        "train_features = load(open('train_features_inception.pkl', \"rb\"))\n",
        "\n",
        "# Create a list of all training captions\n",
        "all_train_captions = []\n",
        "for captions in train_captions.values():\n",
        "    for caption in captions:\n",
        "        all_train_captions.append(caption)\n",
        "\n",
        "# Check by printing length of captions and first 10 captions   \n",
        "assert len(all_train_captions) == 5 * len(train_img_name)\n",
        "print(*all_train_captions[:10],sep='\\n')\n"
      ],
      "execution_count": 16,
      "outputs": [
        {
          "output_type": "stream",
          "text": [
            "startseq child in pink dress is climbing up set of stairs in an entry way endseq\n",
            "startseq girl going into wooden building endseq\n",
            "startseq little girl climbing into wooden playhouse endseq\n",
            "startseq little girl climbing the stairs to her playhouse endseq\n",
            "startseq little girl in pink dress going into wooden cabin endseq\n",
            "startseq black dog and spotted dog are fighting endseq\n",
            "startseq black dog and dog playing with each other on the road endseq\n",
            "startseq black dog and white dog with brown spots are staring at each other in the street endseq\n",
            "startseq two dogs of different breeds looking at each other on the road endseq\n",
            "startseq two dogs on pavement moving toward each other endseq\n"
          ],
          "name": "stdout"
        }
      ]
    },
    {
      "cell_type": "code",
      "metadata": {
        "id": "K_hlVFQMzN8Z",
        "colab_type": "code",
        "outputId": "0d15ba6f-05f5-4c64-ec7d-fc6479a71e3c",
        "colab": {
          "base_uri": "https://localhost:8080/",
          "height": 187
        }
      },
      "source": [
        "### RUN THIS CELL ###\n",
        "val_features = load(open('val_features_inception.pkl', \"rb\"))\n",
        "\n",
        "# Create a list of all training captions\n",
        "all_val_captions = []\n",
        "for captions in val_captions.values():\n",
        "    for caption in captions:\n",
        "        all_val_captions.append(caption)\n",
        "\n",
        "# Check by printing length of captions and first 10 captions   \n",
        "assert len(all_val_captions) == 5 * len(val_img_name)\n",
        "print(*all_val_captions[:10],sep='\\n')"
      ],
      "execution_count": 17,
      "outputs": [
        {
          "output_type": "stream",
          "text": [
            "startseq child and woman are at waters edge in big city endseq\n",
            "startseq large lake with lone duck swimming in it with several people around the edge of it endseq\n",
            "startseq little boy at lake watching duck endseq\n",
            "startseq young boy waves his hand at the duck in the water surrounded by green park endseq\n",
            "startseq two people are at the edge of lake facing the water and the city skyline endseq\n",
            "startseq boy with stick kneeling in front of goalie net endseq\n",
            "startseq child in red jacket playing street hockey guarding goal endseq\n",
            "startseq young kid playing the goalie in hockey rink endseq\n",
            "startseq young male kneeling in front of hockey goal with hockey stick in his right hand endseq\n",
            "startseq hockey goalie boy in red jacket crouches by goal with stick endseq\n"
          ],
          "name": "stdout"
        }
      ]
    },
    {
      "cell_type": "markdown",
      "metadata": {
        "id": "TEkDsO3Zfg_e",
        "colab_type": "text"
      },
      "source": [
        "#  Create vocab -- RUN\n",
        "Select threshold for number of times a word must appear in training captions for word to be added to vocab.\n",
        "\n",
        "Tokenize captions.\n"
      ]
    },
    {
      "cell_type": "code",
      "metadata": {
        "id": "Nd67hyIZfs2C",
        "colab_type": "code",
        "outputId": "2bc8fdc7-9b72-4038-88e1-f82c251cba93",
        "colab": {
          "base_uri": "https://localhost:8080/",
          "height": 51
        }
      },
      "source": [
        "### RUN THIS CELL ###\n",
        "# Set threshold for number of times word must appear in captions to be included in vocab\n",
        "corpus_threshold = 10\n",
        "\n",
        "# Create corpus by tokenizing all training captions\n",
        "corpus = []\n",
        "for caption in all_train_captions:\n",
        "    for token in caption.split():\n",
        "        corpus.append(token)\n",
        "        \n",
        "hash_map = Counter(corpus)\n",
        "\n",
        "# Create vocab by only including words from corpus that appears enough times in captions\n",
        "vocab = []\n",
        "for token,count in hash_map.items():\n",
        "    if(count>=corpus_threshold):\n",
        "        vocab.append(token)\n",
        "        \n",
        "print('Number of original tokens:',len(hash_map))\n",
        "print('Number of tokens after threshold:',len(vocab))"
      ],
      "execution_count": 96,
      "outputs": [
        {
          "output_type": "stream",
          "text": [
            "Number of original tokens: 7265\n",
            "Number of tokens after threshold: 1643\n"
          ],
          "name": "stdout"
        }
      ]
    },
    {
      "cell_type": "markdown",
      "metadata": {
        "id": "6jleZMkcOI9K",
        "colab_type": "text"
      },
      "source": [
        "# VOCAB EDA"
      ]
    },
    {
      "cell_type": "code",
      "metadata": {
        "id": "pIO96FmMPifZ",
        "colab_type": "code",
        "colab": {
          "base_uri": "https://localhost:8080/",
          "height": 419
        },
        "outputId": "3d9380f6-81f4-4f24-9a85-d02cf5accbc0"
      },
      "source": [
        "words_vocabulary = pd.DataFrame(vocab)\n",
        "\n",
        "\n",
        "#Rename columns for easy manipulation\n",
        "words_vocabulary = words_vocabulary.rename(columns={0: 'word'})\n",
        "words_vocabulary"
      ],
      "execution_count": 97,
      "outputs": [
        {
          "output_type": "execute_result",
          "data": {
            "text/html": [
              "<div>\n",
              "<style scoped>\n",
              "    .dataframe tbody tr th:only-of-type {\n",
              "        vertical-align: middle;\n",
              "    }\n",
              "\n",
              "    .dataframe tbody tr th {\n",
              "        vertical-align: top;\n",
              "    }\n",
              "\n",
              "    .dataframe thead th {\n",
              "        text-align: right;\n",
              "    }\n",
              "</style>\n",
              "<table border=\"1\" class=\"dataframe\">\n",
              "  <thead>\n",
              "    <tr style=\"text-align: right;\">\n",
              "      <th></th>\n",
              "      <th>word</th>\n",
              "    </tr>\n",
              "  </thead>\n",
              "  <tbody>\n",
              "    <tr>\n",
              "      <th>0</th>\n",
              "      <td>startseq</td>\n",
              "    </tr>\n",
              "    <tr>\n",
              "      <th>1</th>\n",
              "      <td>child</td>\n",
              "    </tr>\n",
              "    <tr>\n",
              "      <th>2</th>\n",
              "      <td>in</td>\n",
              "    </tr>\n",
              "    <tr>\n",
              "      <th>3</th>\n",
              "      <td>pink</td>\n",
              "    </tr>\n",
              "    <tr>\n",
              "      <th>4</th>\n",
              "      <td>dress</td>\n",
              "    </tr>\n",
              "    <tr>\n",
              "      <th>...</th>\n",
              "      <td>...</td>\n",
              "    </tr>\n",
              "    <tr>\n",
              "      <th>1638</th>\n",
              "      <td>elephant</td>\n",
              "    </tr>\n",
              "    <tr>\n",
              "      <th>1639</th>\n",
              "      <td>wrestlers</td>\n",
              "    </tr>\n",
              "    <tr>\n",
              "      <th>1640</th>\n",
              "      <td>cards</td>\n",
              "    </tr>\n",
              "    <tr>\n",
              "      <th>1641</th>\n",
              "      <td>sumo</td>\n",
              "    </tr>\n",
              "    <tr>\n",
              "      <th>1642</th>\n",
              "      <td>camels</td>\n",
              "    </tr>\n",
              "  </tbody>\n",
              "</table>\n",
              "<p>1643 rows × 1 columns</p>\n",
              "</div>"
            ],
            "text/plain": [
              "           word\n",
              "0      startseq\n",
              "1         child\n",
              "2            in\n",
              "3          pink\n",
              "4         dress\n",
              "...         ...\n",
              "1638   elephant\n",
              "1639  wrestlers\n",
              "1640      cards\n",
              "1641       sumo\n",
              "1642     camels\n",
              "\n",
              "[1643 rows x 1 columns]"
            ]
          },
          "metadata": {
            "tags": []
          },
          "execution_count": 97
        }
      ]
    },
    {
      "cell_type": "code",
      "metadata": {
        "id": "hIamcvmwVfML",
        "colab_type": "code",
        "colab": {
          "base_uri": "https://localhost:8080/",
          "height": 221
        },
        "outputId": "1785f220-84d8-4986-c7e5-f27073c0b4db"
      },
      "source": [
        "words_vocabulary[\"word\"].value_counts()"
      ],
      "execution_count": 100,
      "outputs": [
        {
          "output_type": "execute_result",
          "data": {
            "text/plain": [
              "beads        1\n",
              "pitbull      1\n",
              "reads        1\n",
              "tricks       1\n",
              "stripes      1\n",
              "            ..\n",
              "identical    1\n",
              "stair        1\n",
              "home         1\n",
              "food         1\n",
              "path         1\n",
              "Name: word, Length: 1643, dtype: int64"
            ]
          },
          "metadata": {
            "tags": []
          },
          "execution_count": 100
        }
      ]
    },
    {
      "cell_type": "code",
      "metadata": {
        "id": "sn3whNDHSVJW",
        "colab_type": "code",
        "colab": {
          "base_uri": "https://localhost:8080/",
          "height": 473
        },
        "outputId": "ce1c7c31-4a17-4159-9a6d-2ea88782c486"
      },
      "source": [
        "sns.set(style= \"whitegrid\")\n",
        "plt.figure(figsize=(20,6))\n",
        "ax = sns.countplot(x=\"word\", data=words_vocabulary[:50])\n",
        "plt.xticks(rotation=\"vertical\")\n",
        "plt.title(\"Vocabulary Count\")"
      ],
      "execution_count": 98,
      "outputs": [
        {
          "output_type": "execute_result",
          "data": {
            "text/plain": [
              "Text(0.5, 1.0, 'Vocabulary Count')"
            ]
          },
          "metadata": {
            "tags": []
          },
          "execution_count": 98
        },
        {
          "output_type": "display_data",
          "data": {
            "image/png": "[encoded data removed]",
            "text/plain": [
              "<Figure size 1440x432 with 1 Axes>"
            ]
          },
          "metadata": {
            "tags": []
          }
        }
      ]
    },
    {
      "cell_type": "markdown",
      "metadata": {
        "id": "13UWt-9dgb5N",
        "colab_type": "text"
      },
      "source": [
        "## Create word-to-index and index-to-word dictionaries"
      ]
    },
    {
      "cell_type": "code",
      "metadata": {
        "id": "8fCQ4O0igaUH",
        "colab_type": "code",
        "colab": {}
      },
      "source": [
        "### RUN THIS CELL ###\n",
        "word_to_index = {}\n",
        "index_to_word = {}\n",
        "    \n",
        "for idx,token in enumerate(vocab):\n",
        "    word_to_index[token] = idx+1\n",
        "    index_to_word[idx+1] = token\n",
        "\n",
        "vocab_size = len(index_to_word) + 1 # one for appended 0's\n",
        "\n",
        "# Check lengths are identical\n",
        "assert (len(index_to_word)) == (len(index_to_word))"
      ],
      "execution_count": 0,
      "outputs": []
    },
    {
      "cell_type": "markdown",
      "metadata": {
        "id": "Z_yydJWLqfT6",
        "colab_type": "text"
      },
      "source": [
        "## Find max length caption\n",
        "Need to know max length caption to set padding size"
      ]
    },
    {
      "cell_type": "code",
      "metadata": {
        "id": "diFqLseKql2M",
        "colab_type": "code",
        "colab": {}
      },
      "source": [
        "### RUN THIS CELL ###\n",
        "def max_len_caption(all_train_captions):   \n",
        "    max_len = 0\n",
        "    for caption in all_train_captions:\n",
        "        max_len = max(max_len,len(caption.split()))\n",
        "    print('Maximum length of caption:',max_len)\n",
        "    return max_len"
      ],
      "execution_count": 0,
      "outputs": []
    },
    {
      "cell_type": "code",
      "metadata": {
        "id": "Uwbyw4fNqomq",
        "colab_type": "code",
        "outputId": "48fd8bfe-aa31-4652-987d-13bc24220826",
        "colab": {
          "base_uri": "https://localhost:8080/",
          "height": 34
        }
      },
      "source": [
        "### RUN THIS CELL ###\n",
        "max_length_caption = max_len_caption(all_train_captions)"
      ],
      "execution_count": 21,
      "outputs": [
        {
          "output_type": "stream",
          "text": [
            "Maximum length of caption: 33\n"
          ],
          "name": "stdout"
        }
      ]
    },
    {
      "cell_type": "markdown",
      "metadata": {
        "id": "5HXCMWepqztx",
        "colab_type": "text"
      },
      "source": [
        "# Create train and validation datasets -- RUN\n",
        "X1, X2, y1 dataset in the correct format for `model.fit()`\n"
      ]
    },
    {
      "cell_type": "code",
      "metadata": {
        "id": "LRbpffj8q2VB",
        "colab_type": "code",
        "colab": {}
      },
      "source": [
        "### RUN THIS CELL ###\n",
        "# Creates X1, X2, y in correct input format for model.fit()\n",
        "def create_dataset(descriptions, photos, wordtoix, max_length):\n",
        "    X1, X2, y = list(), list(), list()\n",
        "    for key, desc_list in descriptions.items():\n",
        "        # retrieve the photo feature\n",
        "        ### IF FEATURES EXTRACTED AGAIN, CHANGE EXPERIMENTATION TO WHATEVER\n",
        "        ### FOLDER PICKLE FILES ARE SAVED IN\n",
        "        temp = '/content/drive/Shared drives/DL_AT3/Experimentation/Flicker8k_Dataset/'\n",
        "        photo = photos[temp + key + '.jpg']\n",
        "        for desc in desc_list:\n",
        "            # encode the sequence\n",
        "            seq = [wordtoix[word] for word in desc.split(' ') if word in wordtoix]\n",
        "            # split one sequence into multiple X, y pairs\n",
        "            for i in range(1, len(seq)):\n",
        "                # split into input and output pair\n",
        "                in_seq, out_seq = seq[:i], seq[i]\n",
        "                # pad input sequence\n",
        "                in_seq = pad_sequences([in_seq], maxlen=max_length)[0]\n",
        "                # encode output sequence\n",
        "                out_seq = to_categorical([out_seq], num_classes=vocab_size)[0]\n",
        "                # store\n",
        "                X1.append(photo)\n",
        "                X2.append(in_seq)\n",
        "                y.append(out_seq)\n",
        "    return np.array(X1), np.array(X2), np.array(y)"
      ],
      "execution_count": 0,
      "outputs": []
    },
    {
      "cell_type": "code",
      "metadata": {
        "id": "ef9lojzLstp5",
        "colab_type": "code",
        "outputId": "11e198b1-0044-4b3a-ec9e-45a5917012cd",
        "colab": {
          "base_uri": "https://localhost:8080/",
          "height": 34
        }
      },
      "source": [
        "### RUN THIS CELL ###\n",
        "# Set train sample size\n",
        "# Dataset will be randomly subset\n",
        "\n",
        "train_size = 500\n",
        "\n",
        "import random\n",
        "def extract(d, keys):\n",
        "    return dict((k, d[k]) for k in keys if k in d)\n",
        "x = random.sample(train_captions.keys(), train_size)\n",
        "train_captions = extract(train_captions, x)\n",
        "len(train_captions)"
      ],
      "execution_count": 27,
      "outputs": [
        {
          "output_type": "execute_result",
          "data": {
            "text/plain": [
              "500"
            ]
          },
          "metadata": {
            "tags": []
          },
          "execution_count": 27
        }
      ]
    },
    {
      "cell_type": "code",
      "metadata": {
        "id": "IdpYtOa1xlY2",
        "colab_type": "code",
        "colab": {}
      },
      "source": [
        "### RUN THIS CELL ###\n",
        "X1train, X2train, ytrain = create_dataset(train_captions, train_features, word_to_index, max_length_caption)"
      ],
      "execution_count": 0,
      "outputs": []
    },
    {
      "cell_type": "code",
      "metadata": {
        "id": "BlBgD4_Cs1PC",
        "colab_type": "code",
        "outputId": "a0862df2-05a8-449d-84de-8e9486b05560",
        "colab": {
          "base_uri": "https://localhost:8080/",
          "height": 34
        }
      },
      "source": [
        "len(X1train)"
      ],
      "execution_count": 29,
      "outputs": [
        {
          "output_type": "execute_result",
          "data": {
            "text/plain": [
              "24555"
            ]
          },
          "metadata": {
            "tags": []
          },
          "execution_count": 29
        }
      ]
    },
    {
      "cell_type": "code",
      "metadata": {
        "id": "9xhNkE1OsyPE",
        "colab_type": "code",
        "outputId": "bcd2085e-f5b2-4d81-ae44-dc86fb72d60f",
        "colab": {
          "base_uri": "https://localhost:8080/",
          "height": 34
        }
      },
      "source": [
        "### RUN THIS CELL ###\n",
        "# Set validation sample size\n",
        "# Dataset will be randomly subset\n",
        "\n",
        "val_size = 100\n",
        "\n",
        "import random\n",
        "def extract(d, keys):\n",
        "    return dict((k, d[k]) for k in keys if k in d)\n",
        "y = random.sample(val_captions.keys(), val_size)\n",
        "val_captions = extract(val_captions, y)\n",
        "len(val_captions)"
      ],
      "execution_count": 30,
      "outputs": [
        {
          "output_type": "execute_result",
          "data": {
            "text/plain": [
              "100"
            ]
          },
          "metadata": {
            "tags": []
          },
          "execution_count": 30
        }
      ]
    },
    {
      "cell_type": "code",
      "metadata": {
        "id": "bXYA_vNPzj3p",
        "colab_type": "code",
        "colab": {}
      },
      "source": [
        "### RUN THIS CELL ###\n",
        "X1val, X2val, yval = create_dataset(val_captions, val_features, word_to_index, max_length_caption)"
      ],
      "execution_count": 0,
      "outputs": []
    },
    {
      "cell_type": "code",
      "metadata": {
        "id": "NzwycIlks20o",
        "colab_type": "code",
        "outputId": "9f500c73-a062-487e-be0d-78024990a1ce",
        "colab": {
          "base_uri": "https://localhost:8080/",
          "height": 34
        }
      },
      "source": [
        "len(X1val)"
      ],
      "execution_count": 32,
      "outputs": [
        {
          "output_type": "execute_result",
          "data": {
            "text/plain": [
              "4745"
            ]
          },
          "metadata": {
            "tags": []
          },
          "execution_count": 32
        }
      ]
    },
    {
      "cell_type": "markdown",
      "metadata": {
        "id": "p-rrF-PbLh1s",
        "colab_type": "text"
      },
      "source": [
        "# EDA"
      ]
    },
    {
      "cell_type": "code",
      "metadata": {
        "id": "GxEJ7KPYLjlC",
        "colab_type": "code",
        "colab": {
          "base_uri": "https://localhost:8080/",
          "height": 265
        },
        "outputId": "eee6f891-59bf-4b45-926b-48be5cbf05fd"
      },
      "source": [
        "#Image ID? or image pixels?\n",
        "import matplotlib.pyplot as plt\n",
        "plt.hist(X1train)\n",
        "plt.show()\n"
      ],
      "execution_count": 50,
      "outputs": [
        {
          "output_type": "display_data",
          "data": {
            "image/png": "[encoded data removed]",
            "text/plain": [
              "<Figure size 432x288 with 1 Axes>"
            ]
          },
          "metadata": {
            "tags": [],
            "needs_background": "light"
          }
        }
      ]
    },
    {
      "cell_type": "code",
      "metadata": {
        "id": "S6MbThCsMY0y",
        "colab_type": "code",
        "colab": {
          "base_uri": "https://localhost:8080/",
          "height": 265
        },
        "outputId": "9316f5c4-7ddd-434c-e975-d105f00af400"
      },
      "source": [
        "#WHAT IS THIS?\n",
        "import matplotlib.pyplot as plt\n",
        "plt.hist(X2train)\n",
        "plt.show()"
      ],
      "execution_count": 51,
      "outputs": [
        {
          "output_type": "display_data",
          "data": {
            "image/png": "[encoded data removed]",
            "text/plain": [
              "<Figure size 432x288 with 1 Axes>"
            ]
          },
          "metadata": {
            "tags": [],
            "needs_background": "light"
          }
        }
      ]
    },
    {
      "cell_type": "code",
      "metadata": {
        "id": "Jr5GQb1MMf-i",
        "colab_type": "code",
        "colab": {
          "base_uri": "https://localhost:8080/",
          "height": 265
        },
        "outputId": "6f0c3f4c-8f24-4ad2-b30d-9871b86e30b4"
      },
      "source": [
        "#Do we need to standardise the images?\n",
        "import matplotlib.pyplot as plt\n",
        "plt.hist(ytrain)\n",
        "plt.show()"
      ],
      "execution_count": 53,
      "outputs": [
        {
          "output_type": "display_data",
          "data": {
            "image/png": "[encoded data removed]",
            "text/plain": [
              "<Figure size 432x288 with 1 Axes>"
            ]
          },
          "metadata": {
            "tags": [],
            "needs_background": "light"
          }
        }
      ]
    },
    {
      "cell_type": "markdown",
      "metadata": {
        "id": "zB4VzDpfro-J",
        "colab_type": "text"
      },
      "source": [
        "## Load GloVe vectors\n",
        "Source: <https://nlp.stanford.edu/projects/glove/>\n",
        "\n",
        "Will match words that are similar, for example frog and toad.\n",
        "\n",
        "glove.6B.200d.txt must be located in working directory. There is a copy in Experimentation folder in Google Drive\n"
      ]
    },
    {
      "cell_type": "code",
      "metadata": {
        "id": "cuO8-EDnrzE0",
        "colab_type": "code",
        "outputId": "22f03ae7-cba4-4356-818e-c9bcc7abf927",
        "colab": {
          "base_uri": "https://localhost:8080/",
          "height": 34
        }
      },
      "source": [
        "### RUN THIS CELL ###\n",
        "embeddings_index = {} # empty dictionary\n",
        "f = open('glove.6B.200d.txt', encoding=\"utf-8\")\n",
        "\n",
        "for line in f:\n",
        "    values = line.split()\n",
        "    word = values[0]\n",
        "    coefs = np.asarray(values[1:], dtype='float32')\n",
        "    embeddings_index[word] = coefs\n",
        "f.close()\n",
        "print('Found %s word vectors' % len(embeddings_index))"
      ],
      "execution_count": 33,
      "outputs": [
        {
          "output_type": "stream",
          "text": [
            "Found 400000 word vectors\n"
          ],
          "name": "stdout"
        }
      ]
    },
    {
      "cell_type": "code",
      "metadata": {
        "id": "47NhXcV4sj-0",
        "colab_type": "code",
        "colab": {}
      },
      "source": [
        "### RUN THIS CELL ###\n",
        "embedding_dim = 200\n",
        "\n",
        "# Create 200-dim dense vector for each of the words in vocabulary\n",
        "embedding_matrix = np.zeros((vocab_size, embedding_dim))\n",
        "\n",
        "for word, i in word_to_index.items():\n",
        "    #if i < max_words:\n",
        "    embedding_vector = embeddings_index.get(word)\n",
        "    if embedding_vector is not None:\n",
        "        # Words not found in the embedding index will be all zeros\n",
        "        embedding_matrix[i] = embedding_vector\n",
        "\n",
        "# Check shape size        \n",
        "assert embedding_matrix.shape == (vocab_size, embedding_dim)"
      ],
      "execution_count": 0,
      "outputs": []
    },
    {
      "cell_type": "markdown",
      "metadata": {
        "id": "hViZWTkBtKYQ",
        "colab_type": "text"
      },
      "source": [
        "# Image caption model -- RUN\n",
        "Based on merge-model described by Tanti et al. in *Where to put the Image in an Image Caption Generator*\n",
        "\n",
        "source: <https://arxiv.org/abs/1703.09137>"
      ]
    },
    {
      "cell_type": "markdown",
      "metadata": {
        "id": "QYulvaUpBsu6",
        "colab_type": "text"
      },
      "source": [
        "## Define model"
      ]
    },
    {
      "cell_type": "code",
      "metadata": {
        "id": "mBR1BMpWtJzT",
        "colab_type": "code",
        "outputId": "1f64c7f3-b9ab-4f32-f4b9-0d57f792582e",
        "colab": {
          "base_uri": "https://localhost:8080/",
          "height": 510
        }
      },
      "source": [
        "### RUN THIS CELL ###\n",
        "inputs1 = Input(shape=(2048,))\n",
        "fe1 = Dropout(0.5)(inputs1)\n",
        "fe2 = Dense(256, activation='relu')(fe1)\n",
        "inputs2 = Input(shape=(max_length_caption,))\n",
        "se1 = Embedding(vocab_size, embedding_dim, mask_zero=True)(inputs2)\n",
        "se2 = Dropout(0.5)(se1)\n",
        "se3 = LSTM(256)(se2)\n",
        "decoder1 = add([fe2, se3])\n",
        "decoder2 = Dense(256, activation='relu')(decoder1)\n",
        "outputs = Dense(vocab_size, activation='softmax')(decoder2)\n",
        "model = Model(inputs=[inputs1, inputs2], outputs=outputs)\n",
        "\n",
        "model.summary()"
      ],
      "execution_count": 35,
      "outputs": [
        {
          "output_type": "stream",
          "text": [
            "Model: \"model\"\n",
            "__________________________________________________________________________________________________\n",
            "Layer (type)                    Output Shape         Param #     Connected to                     \n",
            "==================================================================================================\n",
            "input_2 (InputLayer)            [(None, 33)]         0                                            \n",
            "__________________________________________________________________________________________________\n",
            "input_1 (InputLayer)            [(None, 2048)]       0                                            \n",
            "__________________________________________________________________________________________________\n",
            "embedding (Embedding)           (None, 33, 200)      328800      input_2[0][0]                    \n",
            "__________________________________________________________________________________________________\n",
            "dropout (Dropout)               (None, 2048)         0           input_1[0][0]                    \n",
            "__________________________________________________________________________________________________\n",
            "dropout_1 (Dropout)             (None, 33, 200)      0           embedding[0][0]                  \n",
            "__________________________________________________________________________________________________\n",
            "dense (Dense)                   (None, 256)          524544      dropout[0][0]                    \n",
            "__________________________________________________________________________________________________\n",
            "lstm (LSTM)                     (None, 256)          467968      dropout_1[0][0]                  \n",
            "__________________________________________________________________________________________________\n",
            "add (Add)                       (None, 256)          0           dense[0][0]                      \n",
            "                                                                 lstm[0][0]                       \n",
            "__________________________________________________________________________________________________\n",
            "dense_1 (Dense)                 (None, 256)          65792       add[0][0]                        \n",
            "__________________________________________________________________________________________________\n",
            "dense_2 (Dense)                 (None, 1644)         422508      dense_1[0][0]                    \n",
            "==================================================================================================\n",
            "Total params: 1,809,612\n",
            "Trainable params: 1,809,612\n",
            "Non-trainable params: 0\n",
            "__________________________________________________________________________________________________\n"
          ],
          "name": "stdout"
        }
      ]
    },
    {
      "cell_type": "markdown",
      "metadata": {
        "id": "TPVgDXjLBwq6",
        "colab_type": "text"
      },
      "source": [
        "## Set final layers weights to equal embedding matrix\n"
      ]
    },
    {
      "cell_type": "code",
      "metadata": {
        "id": "B4rNo9agutsV",
        "colab_type": "code",
        "colab": {}
      },
      "source": [
        "### RUN THIS CELL ###\n",
        "model.layers[2].set_weights([embedding_matrix])\n",
        "model.layers[2].trainable = False"
      ],
      "execution_count": 0,
      "outputs": []
    },
    {
      "cell_type": "markdown",
      "metadata": {
        "id": "JVdphpd-B1vC",
        "colab_type": "text"
      },
      "source": [
        "## Compile model"
      ]
    },
    {
      "cell_type": "code",
      "metadata": {
        "id": "S2sBLZQTuyTS",
        "colab_type": "code",
        "colab": {}
      },
      "source": [
        "### RUN THIS CELL ###\n",
        "# Compile model using adam and categorical cross entropy loss\n",
        "learning_rate = 0.001\n",
        "optimizer = optimizers.Adam(learning_rate = learning_rate)\n",
        "model.compile(loss='categorical_crossentropy', optimizer=optimizer)"
      ],
      "execution_count": 0,
      "outputs": []
    },
    {
      "cell_type": "markdown",
      "metadata": {
        "id": "4bfie4IOB5bc",
        "colab_type": "text"
      },
      "source": [
        "## Set number of epochs"
      ]
    },
    {
      "cell_type": "code",
      "metadata": {
        "id": "Nt2_FWhLvBJE",
        "colab_type": "code",
        "colab": {}
      },
      "source": [
        "### RUN THIS CELL ###\n",
        "# Set epochs and batch size\n",
        "epochs = 20"
      ],
      "execution_count": 0,
      "outputs": []
    },
    {
      "cell_type": "markdown",
      "metadata": {
        "id": "FAJOfWS2B8ut",
        "colab_type": "text"
      },
      "source": [
        "## Set callbacks\n",
        "Make sure you set `check_path` correctly!\n"
      ]
    },
    {
      "cell_type": "code",
      "metadata": {
        "id": "3_ZaNtf-vOnX",
        "colab_type": "code",
        "colab": {}
      },
      "source": [
        "### RUN THIS CELL ###\n",
        "# Set callbacks\n",
        "#### MAKE A DIRECTORY TO SAVE CHECKPOINTS TO ##############################\n",
        "# eg: check_path = 'checkpoints/rebecca/exp_2'\n",
        "###########################################################################\n",
        "\n",
        "check_path = 'checkpoints/donald/exp_1' # CHANGE THIS\n",
        "!mkdir -p $check_path\n",
        "\n",
        "check_dir = check_path+'/model-ep{epoch:03d}-loss{loss:.3f}-val_loss{val_loss:.3f}.h5'\n",
        "\n",
        "# Monitor validation loss, saving only the best, stopping early if no improvement after 5 epochs, dropping learning rate if loss plateaux\n",
        "checkpoint = ModelCheckpoint(check_dir, monitor='val_loss', verbose=1, save_best_only=True, mode='min')\n",
        "early_stopping = EarlyStopping(monitor='val_loss', patience=10)\n",
        "reduce_lr = ReduceLROnPlateau(monitor='val_loss', factor=0.5, patience=5, min_lr=0.00001)"
      ],
      "execution_count": 0,
      "outputs": []
    },
    {
      "cell_type": "markdown",
      "metadata": {
        "id": "yNRo77z0CDe9",
        "colab_type": "text"
      },
      "source": [
        "## Train model"
      ]
    },
    {
      "cell_type": "code",
      "metadata": {
        "id": "9m3Ln-ESvdLI",
        "colab_type": "code",
        "outputId": "2ce3a90a-59c1-4577-e6c2-914f2c56e4dd",
        "colab": {
          "base_uri": "https://localhost:8080/",
          "height": 918
        }
      },
      "source": [
        "### RUN THIS CELL ###\n",
        "# Fit model\n",
        "tic = time.perf_counter()\n",
        "history = model.fit([X1train, X2train], ytrain, epochs=epochs, verbose=2, \n",
        "                    validation_data=([X1val, X2val], yval), \n",
        "                    callbacks = [checkpoint, early_stopping, reduce_lr])\n",
        "toc = time.perf_counter()\n",
        "run_time = (toc-tic)/60\n",
        "print(f'Model ran in: {run_time:0.2f} minutes')"
      ],
      "execution_count": 40,
      "outputs": [
        {
          "output_type": "stream",
          "text": [
            "Epoch 1/20\n",
            "\n",
            "Epoch 00001: val_loss improved from inf to 4.48804, saving model to checkpoints/donald/exp_1/model-ep001-loss4.912-val_loss4.488.h5\n",
            "768/768 - 119s - loss: 4.9116 - val_loss: 4.4880 - lr: 0.0010\n",
            "Epoch 2/20\n",
            "\n",
            "Epoch 00002: val_loss improved from 4.48804 to 4.24014, saving model to checkpoints/donald/exp_1/model-ep002-loss4.064-val_loss4.240.h5\n",
            "768/768 - 118s - loss: 4.0643 - val_loss: 4.2401 - lr: 0.0010\n",
            "Epoch 3/20\n",
            "\n",
            "Epoch 00003: val_loss improved from 4.24014 to 4.16867, saving model to checkpoints/donald/exp_1/model-ep003-loss3.656-val_loss4.169.h5\n",
            "768/768 - 120s - loss: 3.6561 - val_loss: 4.1687 - lr: 0.0010\n",
            "Epoch 4/20\n",
            "\n",
            "Epoch 00004: val_loss did not improve from 4.16867\n",
            "768/768 - 119s - loss: 3.3194 - val_loss: 4.1753 - lr: 0.0010\n",
            "Epoch 5/20\n",
            "\n",
            "Epoch 00005: val_loss did not improve from 4.16867\n",
            "768/768 - 124s - loss: 3.0401 - val_loss: 4.2252 - lr: 0.0010\n",
            "Epoch 6/20\n",
            "\n",
            "Epoch 00006: val_loss did not improve from 4.16867\n",
            "768/768 - 118s - loss: 2.7946 - val_loss: 4.3459 - lr: 0.0010\n",
            "Epoch 7/20\n",
            "\n",
            "Epoch 00007: val_loss did not improve from 4.16867\n",
            "768/768 - 118s - loss: 2.5813 - val_loss: 4.4774 - lr: 0.0010\n",
            "Epoch 8/20\n",
            "\n",
            "Epoch 00008: val_loss did not improve from 4.16867\n",
            "768/768 - 119s - loss: 2.3852 - val_loss: 4.6136 - lr: 0.0010\n",
            "Epoch 9/20\n",
            "\n",
            "Epoch 00009: val_loss did not improve from 4.16867\n",
            "768/768 - 121s - loss: 2.0884 - val_loss: 4.8415 - lr: 5.0000e-04\n",
            "Epoch 10/20\n",
            "\n",
            "Epoch 00010: val_loss did not improve from 4.16867\n",
            "768/768 - 125s - loss: 1.9684 - val_loss: 4.9591 - lr: 5.0000e-04\n",
            "Epoch 11/20\n",
            "\n",
            "Epoch 00011: val_loss did not improve from 4.16867\n",
            "768/768 - 120s - loss: 1.8705 - val_loss: 5.0592 - lr: 5.0000e-04\n",
            "Epoch 12/20\n",
            "\n",
            "Epoch 00012: val_loss did not improve from 4.16867\n",
            "768/768 - 120s - loss: 1.7874 - val_loss: 5.2182 - lr: 5.0000e-04\n",
            "Epoch 13/20\n",
            "\n",
            "Epoch 00013: val_loss did not improve from 4.16867\n",
            "768/768 - 117s - loss: 1.7073 - val_loss: 5.3031 - lr: 5.0000e-04\n",
            "Model ran in: 26.08 minutes\n"
          ],
          "name": "stdout"
        }
      ]
    },
    {
      "cell_type": "markdown",
      "metadata": {
        "id": "08SYdZ2xClny",
        "colab_type": "text"
      },
      "source": [
        "# Evaluate image caption model -- RUN\n",
        "Plot loss curves.\n",
        "\n",
        "Calculates BLEU scores."
      ]
    },
    {
      "cell_type": "markdown",
      "metadata": {
        "id": "6YZh347eCI3K",
        "colab_type": "text"
      },
      "source": [
        "## Loss curves\n"
      ]
    },
    {
      "cell_type": "code",
      "metadata": {
        "id": "vfuWrMh3wAV1",
        "colab_type": "code",
        "colab": {}
      },
      "source": [
        "### RUN THIS CELL ###\n",
        "def modelPlot(history_name, plt_title):\n",
        "    \"\"\"\n",
        "    Generates plot (with title) for model training and validation accuracy and loss by epoch\n",
        "    Inputs  - history_name = history object resulting from fitted model\n",
        "            - plt_title = title for plot, as string\n",
        "    Output  - plot\n",
        "    \"\"\"\n",
        "    from matplotlib.pyplot import savefig\n",
        "    accuracy_filename = check_path+'/acc.png'\n",
        "    loss_filename = check_path+'/loss.png'\n",
        "    # plt.plot(history_name.history['accuracy'], label='Training', color = 'blue')\n",
        "    # plt.plot(history_name.history['val_accuracy'], label='Validation', color = 'orange')\n",
        "    # plt.ylabel('Accuracy')\n",
        "    # plt.xlabel('Epoch')\n",
        "    # plt.title(plt_title)\n",
        "    # plt.legend()\n",
        "    # plt.savefig(accuracy_filename)\n",
        "    # plt.show()\n",
        "    # plt.close()\n",
        "\n",
        "    plt.plot(history_name.history['loss'], label='Training', color = 'blue')\n",
        "    plt.plot(history_name.history['val_loss'], label='Validation', color = 'orange')\n",
        "    plt.ylabel('Loss')\n",
        "    plt.xlabel('Epoch')\n",
        "    plt.title(plt_title)\n",
        "    plt.legend()\n",
        "    plt.savefig(loss_filename)\n",
        "    plt.show()\n",
        "    plt.close()"
      ],
      "execution_count": 0,
      "outputs": []
    },
    {
      "cell_type": "code",
      "metadata": {
        "id": "AzMbbODpwBk_",
        "colab_type": "code",
        "outputId": "ffec08e6-4538-465b-9d7f-45f0894544e5",
        "colab": {
          "base_uri": "https://localhost:8080/",
          "height": 295
        }
      },
      "source": [
        "# Change title\n",
        "title = 'Experiment 1' # CHANGE THIS\n",
        "\n",
        "# Plot will save to check_path as loss.png\n",
        "modelPlot(history, title)"
      ],
      "execution_count": 42,
      "outputs": [
        {
          "output_type": "display_data",
          "data": {
            "image/png": "[encoded data removed]",
            "text/plain": [
              "<Figure size 432x288 with 1 Axes>"
            ]
          },
          "metadata": {
            "tags": [],
            "needs_background": "light"
          }
        }
      ]
    },
    {
      "cell_type": "markdown",
      "metadata": {
        "id": "-kCEX3ethL49",
        "colab_type": "text"
      },
      "source": [
        "## BLEU scores\n"
      ]
    },
    {
      "cell_type": "code",
      "metadata": {
        "id": "HW8hiqXV_kyS",
        "colab_type": "code",
        "colab": {}
      },
      "source": [
        "### RUN THIS CELL ###\n",
        "# Find best model file name from model.fit output and insert below\n",
        "best_model = 'checkpoints/donald/exp_1/model-ep003-loss3.656-val_loss4.169.h5' # CHANGE THIS\n",
        "\n",
        "# Load best model\n",
        "best_model = tf.keras.models.load_model(best_model)\n"
      ],
      "execution_count": 0,
      "outputs": []
    },
    {
      "cell_type": "code",
      "metadata": {
        "id": "MzPM-AfNSwqg",
        "colab_type": "code",
        "colab": {}
      },
      "source": [
        "### RUN THIS CELL ###\n",
        "# Predict a caption for a word using model\n",
        "def predict_caption(model, photo, wordtoix, ixtoword, max_length):\n",
        "    photo = photo.reshape((1,2048))\n",
        "    in_text = 'startseq'\n",
        "    for i in range(max_length_caption):\n",
        "        sequence = [wordtoix[w] for w in in_text.split() if w in wordtoix]\n",
        "        sequence = pad_sequences([sequence], maxlen=max_length)\n",
        "        yhat = model.predict([photo,sequence], verbose=0)\n",
        "        yhat = np.argmax(yhat)\n",
        "        word = ixtoword[yhat]\n",
        "        in_text += ' ' + word\n",
        "        if word == 'endseq':\n",
        "            break\n",
        "    final = in_text.split()\n",
        "    final = final[1:-1]\n",
        "    final = ' '.join(final)\n",
        "    return final"
      ],
      "execution_count": 0,
      "outputs": []
    },
    {
      "cell_type": "code",
      "metadata": {
        "id": "Vlytc6SphqTk",
        "colab_type": "code",
        "colab": {}
      },
      "source": [
        "### RUN THIS CELL ###\n",
        "# Evaluate model by predicting captions for images\n",
        "# Compare predicted captions to truth captions\n",
        "# Calculate BLEU-1 through BLEU-4 to determine model fit\n",
        "def evaluate_model(model, captions, features, wordix, ixword, max_length):\n",
        "\tactual, predicted = list(), list()\n",
        "\t# step over the whole set\n",
        "\tfor key, desc_list in captions.items():\n",
        "\t\t# generate description\n",
        "\t\ttemp = '/content/drive/Shared drives/DL_AT3/Experimentation/Flicker8k_Dataset/'\n",
        "\t\tphoto = features[temp + key + '.jpg']\n",
        "\t\tyhat = predict_caption(best_model, photo, wordix, ixword, max_length)\n",
        "\t\t# store actual and predicted\n",
        "\t\treferences = [d.split() for d in desc_list]\n",
        "\t\tactual.append(references)\n",
        "\t\tpredicted.append(yhat.split())\n",
        "\t# calculate BLEU score\n",
        "\tprint('BLEU-1: %f' % corpus_bleu(actual, predicted, weights=(1.0, 0, 0, 0)))\n",
        "\tprint('BLEU-2: %f' % corpus_bleu(actual, predicted, weights=(0.5, 0.5, 0, 0)))\n",
        "\tprint('BLEU-3: %f' % corpus_bleu(actual, predicted, weights=(0.3, 0.3, 0.3, 0)))\n",
        "\tprint('BLEU-4: %f' % corpus_bleu(actual, predicted, weights=(0.25, 0.25, 0.25, 0.25)))"
      ],
      "execution_count": 0,
      "outputs": []
    },
    {
      "cell_type": "code",
      "metadata": {
        "id": "ElfjpCj_A4Xa",
        "colab_type": "code",
        "outputId": "7aa4a119-20d7-4906-80eb-edb00ed3cbfb",
        "colab": {
          "base_uri": "https://localhost:8080/",
          "height": 102
        }
      },
      "source": [
        "### RUN THIS CELL ###\n",
        "# Calculate BLEU scores on validation dataset for best model\n",
        "tic = time.perf_counter()\n",
        "evaluate_model(best_model, val_captions, val_features, word_to_index, index_to_word, max_length_caption)\n",
        "toc = time.perf_counter()\n",
        "run_time = (toc-tic)/60\n",
        "print(f'Model evaluated in: {run_time:0.2f} minutes')"
      ],
      "execution_count": 46,
      "outputs": [
        {
          "output_type": "stream",
          "text": [
            "BLEU-1: 0.436352\n",
            "BLEU-2: 0.221172\n",
            "BLEU-3: 0.128256\n",
            "BLEU-4: 0.037655\n",
            "Model evaluated in: 0.59 minutes\n"
          ],
          "name": "stdout"
        }
      ]
    },
    {
      "cell_type": "code",
      "metadata": {
        "id": "lpZMvoWu0qPy",
        "colab_type": "code",
        "outputId": "88edc777-9ab5-4ad5-ba9b-e3864fdeecb5",
        "colab": {
          "base_uri": "https://localhost:8080/",
          "height": 34
        }
      },
      "source": [
        "image_dir"
      ],
      "execution_count": 0,
      "outputs": [
        {
          "output_type": "execute_result",
          "data": {
            "text/plain": [
              "'/content/drive/Shared drives/DL_AT3/ImageCaptioning/Flicker8k_Dataset'"
            ]
          },
          "metadata": {
            "tags": []
          },
          "execution_count": 48
        }
      ]
    },
    {
      "cell_type": "code",
      "metadata": {
        "id": "eliOKfcj0rje",
        "colab_type": "code",
        "colab": {}
      },
      "source": [
        ""
      ],
      "execution_count": 0,
      "outputs": []
    }
  ]
}