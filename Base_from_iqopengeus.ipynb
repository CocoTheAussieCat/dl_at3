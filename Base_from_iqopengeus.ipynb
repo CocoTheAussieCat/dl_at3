{
  "nbformat": 4,
  "nbformat_minor": 0,
  "metadata": {
    "colab": {
      "name": "Base_from_iqopengeus.ipynb",
      "provenance": [],
      "collapsed_sections": [],
      "toc_visible": true,
      "include_colab_link": true
    },
    "kernelspec": {
      "name": "python3",
      "display_name": "Python 3"
    },
    "accelerator": "GPU"
  },
  "cells": [
    {
      "cell_type": "markdown",
      "metadata": {
        "id": "view-in-github",
        "colab_type": "text"
      },
      "source": [
        "<a href=\"https://colab.research.google.com/github/CocoTheAussieCat/dl_at3/blob/master/Base_from_iqopengeus.ipynb\" target=\"_parent\"><img src=\"https://colab.research.google.com/assets/colab-badge.svg\" alt=\"Open In Colab\"/></a>"
      ]
    },
    {
      "cell_type": "code",
      "metadata": {
        "id": "JXFt04pcxuP9",
        "colab_type": "code",
        "colab": {}
      },
      "source": [
        "### RUN THIS CELL ###\n",
        "# Use more recent version of tensorflow\n",
        "%tensorflow_version 2.x"
      ],
      "execution_count": 0,
      "outputs": []
    },
    {
      "cell_type": "markdown",
      "metadata": {
        "id": "7QK7eXHIsc6t",
        "colab_type": "text"
      },
      "source": [
        "# Mount Google Drive -- RUN\n",
        "All data is located in `Experimentation` folder of Google Drive. "
      ]
    },
    {
      "cell_type": "code",
      "metadata": {
        "id": "5CBM_yUOsezf",
        "colab_type": "code",
        "outputId": "1150298e-e990-4c4b-c89c-2934000543be",
        "colab": {
          "base_uri": "https://localhost:8080/",
          "height": 34
        }
      },
      "source": [
        "### RUN THIS CELL ###\n",
        "from google.colab import drive\n",
        "drive.mount('/content/drive', force_remount=True)"
      ],
      "execution_count": 3,
      "outputs": [
        {
          "output_type": "stream",
          "text": [
            "Mounted at /content/drive\n"
          ],
          "name": "stdout"
        }
      ]
    },
    {
      "cell_type": "code",
      "metadata": {
        "id": "fLzzNZH5tvKB",
        "colab_type": "code",
        "outputId": "d042148f-0eeb-441d-e01c-742f6ce85956",
        "colab": {
          "base_uri": "https://localhost:8080/",
          "height": 34
        }
      },
      "source": [
        "### RUN THIS CELL ###\n",
        "# Direct the workbook into the project folder\n",
        "%cd drive/Shared\\ drives/DL_AT3/Experimentation"
      ],
      "execution_count": 4,
      "outputs": [
        {
          "output_type": "stream",
          "text": [
            "/content/drive/Shared drives/DL_AT3/Experimentation\n"
          ],
          "name": "stdout"
        }
      ]
    },
    {
      "cell_type": "code",
      "metadata": {
        "id": "-8X0FuZOkWFV",
        "colab_type": "code",
        "colab": {}
      },
      "source": [
        "### RUN THIS CELL ###\n",
        "import os \n",
        "dataset_dir = os.getcwd() "
      ],
      "execution_count": 0,
      "outputs": []
    },
    {
      "cell_type": "code",
      "metadata": {
        "id": "SE3_tIgRkfeL",
        "colab_type": "code",
        "outputId": "13de76c1-be52-4d33-97ca-ca53da2a70be",
        "colab": {
          "base_uri": "https://localhost:8080/",
          "height": 34
        }
      },
      "source": [
        "### RUN THIS CELL ###\n",
        "# Check the directory\n",
        "dataset_dir"
      ],
      "execution_count": 6,
      "outputs": [
        {
          "output_type": "execute_result",
          "data": {
            "text/plain": [
              "'/content/drive/Shared drives/DL_AT3/Experimentation'"
            ]
          },
          "metadata": {
            "tags": []
          },
          "execution_count": 6
        }
      ]
    },
    {
      "cell_type": "code",
      "metadata": {
        "id": "S5a1biZwZGqt",
        "colab_type": "code",
        "outputId": "c29ad83f-606f-4ded-f121-b3de90e6e8e7",
        "colab": {
          "base_uri": "https://localhost:8080/",
          "height": 34
        }
      },
      "source": [
        "### RUN THIS CELL ###\n",
        "# Check working director set correctly\n",
        "!pwd"
      ],
      "execution_count": 7,
      "outputs": [
        {
          "output_type": "stream",
          "text": [
            "/content/drive/Shared drives/DL_AT3/Experimentation\n"
          ],
          "name": "stdout"
        }
      ]
    },
    {
      "cell_type": "code",
      "metadata": {
        "id": "NsGMBdWc0SVR",
        "colab_type": "code",
        "outputId": "5aee47bb-5450-497d-9947-0f3cbb18fc94",
        "colab": {
          "base_uri": "https://localhost:8080/",
          "height": 225
        }
      },
      "source": [
        "### RUN THIS CELL ###\n",
        "# Check the files inside the directory\n",
        "!ls"
      ],
      "execution_count": 8,
      "outputs": [
        {
          "output_type": "stream",
          "text": [
            "archive\t\t\t    Flickr8k.lemma.token.txt\n",
            "captions.txt\t\t    Flickr_8k.testImages.txt\n",
            "checkpoints\t\t    Flickr8k_text.zip\n",
            "CrowdFlowerAnnotations.txt  Flickr8k.token.txt\n",
            "descriptions.txt\t    Flickr_8k.trainImages.txt\n",
            "Experimentation.ipynb\t    glove.6B.200d.txt\n",
            "ExpertAnnotations.txt\t    __MACOSX\n",
            "features.pkl\t\t    model.png\n",
            "features_VGG16.pkl\t    readme.txt\n",
            "Flicker8k_Dataset\t    train_features_inception.pkl\n",
            "Flickr8k_Dataset.zip\t    val_features_inception.pkl\n",
            "Flickr_8k.devImages.txt\n"
          ],
          "name": "stdout"
        }
      ]
    },
    {
      "cell_type": "markdown",
      "metadata": {
        "id": "C32A5lyYpJZP",
        "colab_type": "text"
      },
      "source": [
        "## Unzip files from Google Drive\n",
        "Only required once, if files are already lists in the directory unzipping is not required again."
      ]
    },
    {
      "cell_type": "code",
      "metadata": {
        "id": "uo61q99biV6G",
        "colab_type": "code",
        "colab": {}
      },
      "source": [
        "#Unzip the Image Dataset\n",
        "#!unzip Flickr8k_Dataset.zip"
      ],
      "execution_count": 0,
      "outputs": []
    },
    {
      "cell_type": "code",
      "metadata": {
        "id": "gUrNOy-UAGT5",
        "colab_type": "code",
        "colab": {}
      },
      "source": [
        "#Unzip the Text Dataset\n",
        "#!unzip Flickr8k_text.zip"
      ],
      "execution_count": 0,
      "outputs": []
    },
    {
      "cell_type": "markdown",
      "metadata": {
        "id": "83HvfBCS9Rm_",
        "colab_type": "text"
      },
      "source": [
        "## Set paths for files"
      ]
    },
    {
      "cell_type": "code",
      "metadata": {
        "id": "DV41L_nfkYWw",
        "colab_type": "code",
        "colab": {}
      },
      "source": [
        "### RUN THIS CELL ###\n",
        "# Set the dataset directory and relative directories\n",
        "image_dir = dataset_dir + '/Flicker8k_Dataset'\n",
        "caption_dir = dataset_dir + '/Flickr8k.token.txt'\n",
        "train_dir = dataset_dir + '/Flickr_8k.trainImages.txt'\n",
        "test_dir = dataset_dir + '/Flickr_8k.testImages.txt'\n",
        "val_dir = dataset_dir + '/Flickr_8k.devImages.txt'\n"
      ],
      "execution_count": 0,
      "outputs": []
    },
    {
      "cell_type": "markdown",
      "metadata": {
        "id": "Gv7XZ57Sj4TC",
        "colab_type": "text"
      },
      "source": [
        "# Setup -- RUN"
      ]
    },
    {
      "cell_type": "markdown",
      "metadata": {
        "id": "fxQY7v5tkDqA",
        "colab_type": "text"
      },
      "source": [
        "Import libraries, set working directory and relative paths"
      ]
    },
    {
      "cell_type": "code",
      "metadata": {
        "id": "TQzW9k4cj0oF",
        "colab_type": "code",
        "colab": {}
      },
      "source": [
        "### RUN THIS CELL ###\n",
        "import pandas as pd\n",
        "import numpy as np\n",
        "from numpy import argmax\n",
        "import array as arr\n",
        "import matplotlib.pyplot as plt\n",
        "import matplotlib.image as mpimg\n",
        "import pickle\n",
        "from pickle import dump, load\n",
        "import string\n",
        "import os\n",
        "from time import time\n",
        "import time\n",
        "import random\n",
        "\n",
        "from PIL import Image\n",
        "from collections import Counter\n",
        "\n",
        "import tensorflow as tf\n",
        "from tensorflow.keras.preprocessing import image\n",
        "from tensorflow.keras.preprocessing.image import img_to_array\n",
        "from tensorflow.keras.preprocessing.image import load_img\n",
        "from tensorflow.keras.preprocessing import sequence\n",
        "from tensorflow.keras.preprocessing.sequence import pad_sequences\n",
        "\n",
        "from tensorflow.keras.applications.vgg16 import VGG16\n",
        "from tensorflow.keras.applications.vgg16 import preprocess_input\n",
        "\n",
        "from tensorflow.keras.models import Model, Sequential\n",
        "from tensorflow.keras import Input, layers\n",
        "from tensorflow.keras.utils import to_categorical\n",
        "from tensorflow.keras.utils import plot_model\n",
        "from tensorflow.keras.layers import Input, Dense, Flatten, LSTM, Embedding, Dropout, Add, TimeDistributed, RepeatVector, Activation, Reshape, concatenate,BatchNormalization\n",
        "\n",
        "from tensorflow.keras import optimizers\n",
        "from tensorflow.keras.optimizers import Adam, RMSprop\n",
        "from tensorflow.keras.layers import Bidirectional\n",
        "from tensorflow.keras.layers import add\n",
        "from tensorflow.keras.applications.inception_v3 import InceptionV3\n",
        "from tensorflow.keras.applications.inception_v3 import preprocess_input\n",
        "\n",
        "from tensorflow.keras.callbacks import ModelCheckpoint\n",
        "from tensorflow.keras.callbacks import EarlyStopping\n",
        "from tensorflow.keras.callbacks import ReduceLROnPlateau\n",
        "\t\n",
        "from tensorflow.keras.preprocessing.text import Tokenizer\n",
        "from tensorflow.keras.models import load_model\n",
        "from nltk.translate.bleu_score import corpus_bleu"
      ],
      "execution_count": 0,
      "outputs": []
    },
    {
      "cell_type": "markdown",
      "metadata": {
        "id": "2DadsgAW9JDm",
        "colab_type": "text"
      },
      "source": [
        "## Set seeds\n",
        "For reproducible results"
      ]
    },
    {
      "cell_type": "code",
      "metadata": {
        "id": "u_NsXujecUtO",
        "colab_type": "code",
        "colab": {}
      },
      "source": [
        "### RUN THIS CELL ###\n",
        "# Set seeds for numpy and tensorflow\n",
        "tf.random.set_seed(12)\n",
        "np.random.seed(12)"
      ],
      "execution_count": 0,
      "outputs": []
    },
    {
      "cell_type": "markdown",
      "metadata": {
        "id": "6dAZSt8K_bmy",
        "colab_type": "text"
      },
      "source": [
        "## Train and validation file names\n",
        "Create lists of train and validation file names."
      ]
    },
    {
      "cell_type": "code",
      "metadata": {
        "id": "o_9hOHfTVG6C",
        "colab_type": "code",
        "colab": {}
      },
      "source": [
        "### RUN THIS CELL ###\n",
        "# Gets all files in directory and extracts filename without extension\n",
        "# Returns a list\n",
        "def img_id(filename):\n",
        "    with open(filename) as file:\n",
        "        data = file.readlines()\n",
        "        img_name = []\n",
        "        for img_id in data:\n",
        "            img_name.append(img_id.split('.')[0])\n",
        "    return img_name    "
      ],
      "execution_count": 0,
      "outputs": []
    },
    {
      "cell_type": "code",
      "metadata": {
        "id": "ZEOv0jWvVTNN",
        "colab_type": "code",
        "colab": {
          "base_uri": "https://localhost:8080/",
          "height": 173
        },
        "outputId": "b892e40d-a7dc-49e1-ac24-7d11a45d634c"
      },
      "source": [
        "### RUN THIS CELL ###\n",
        "train_img_name = img_id(train_dir) \n",
        "val_img_name = img_id(val_dir) \n",
        "\n",
        "# Print 5 sample image names\n",
        "print(*train_img_name[:5],sep='\\n') \n",
        "\n",
        "# Check length of train and validation datasets\n",
        "print('\\nNumber of images in train data:',len(train_img_name)) \n",
        "print('\\nNumber of images in val data:',len(val_img_name))"
      ],
      "execution_count": 23,
      "outputs": [
        {
          "output_type": "stream",
          "text": [
            "2513260012_03d33305cf\n",
            "2903617548_d3e38d7f88\n",
            "3338291921_fe7ae0c8f8\n",
            "488416045_1c6d903fe0\n",
            "2644326817_8f45080b87\n",
            "\n",
            "Number of images in train data: 6000\n",
            "\n",
            "Number of images in val data: 1000\n"
          ],
          "name": "stdout"
        }
      ]
    },
    {
      "cell_type": "markdown",
      "metadata": {
        "id": "Ic6Xn_TCRpku",
        "colab_type": "text"
      },
      "source": [
        "# Caption pre-processing -- DO NOT RUN\n",
        "Source: <https://github.com/akki3d76/Image-Captioning-Using-Keras/blob/master/Captionate.ipynb>\n",
        "\n",
        "Each image has 5 captions (#0 to #4). The 5 captions are turned into a list with the associated image id. Captions are then cleaned to remove punctuation. \n",
        "\n",
        "This is saved as `caption.txt` so this code DOES NOT need to be run again."
      ]
    },
    {
      "cell_type": "markdown",
      "metadata": {
        "id": "inWnLLx59_Q-",
        "colab_type": "text"
      },
      "source": [
        "## Load captions from .txt file"
      ]
    },
    {
      "cell_type": "code",
      "metadata": {
        "id": "bHxXjalxRoF5",
        "colab_type": "code",
        "colab": {}
      },
      "source": [
        "### DO NOT RUN THIS CELL ###\n",
        "def load_doc(filename):\n",
        "    with open(filename) as file:\n",
        "        text = file.readlines()\n",
        "        return text"
      ],
      "execution_count": 0,
      "outputs": []
    },
    {
      "cell_type": "code",
      "metadata": {
        "id": "z4CLCK39Sape",
        "colab_type": "code",
        "colab": {
          "base_uri": "https://localhost:8080/",
          "height": 211
        },
        "outputId": "2a7a0dbf-8e98-4c7d-8cce-75993ffa2ff4"
      },
      "source": [
        "### DO NOT RUN THIS CELL ###\n",
        "text = load_doc(caption_dir)\n",
        "for line in text[:10]:\n",
        "    print(line,end='')"
      ],
      "execution_count": 13,
      "outputs": [
        {
          "output_type": "stream",
          "text": [
            "1000268201_693b08cb0e.jpg#0\tA child in a pink dress is climbing up a set of stairs in an entry way .\n",
            "1000268201_693b08cb0e.jpg#1\tA girl going into a wooden building .\n",
            "1000268201_693b08cb0e.jpg#2\tA little girl climbing into a wooden playhouse .\n",
            "1000268201_693b08cb0e.jpg#3\tA little girl climbing the stairs to her playhouse .\n",
            "1000268201_693b08cb0e.jpg#4\tA little girl in a pink dress going into a wooden cabin .\n",
            "1001773457_577c3a7d70.jpg#0\tA black dog and a spotted dog are fighting\n",
            "1001773457_577c3a7d70.jpg#1\tA black dog and a tri-colored dog playing with each other on the road .\n",
            "1001773457_577c3a7d70.jpg#2\tA black dog and a white dog with brown spots are staring at each other in the street .\n",
            "1001773457_577c3a7d70.jpg#3\tTwo dogs of different breeds looking at each other on the road .\n",
            "1001773457_577c3a7d70.jpg#4\tTwo dogs on pavement moving toward each other .\n"
          ],
          "name": "stdout"
        }
      ]
    },
    {
      "cell_type": "markdown",
      "metadata": {
        "id": "XJE7oV0uSJu8",
        "colab_type": "text"
      },
      "source": [
        "## Map images file names to captions\n",
        "Create a dictionary of captions with corresponding image file name (with .jpg extension removed)"
      ]
    },
    {
      "cell_type": "code",
      "metadata": {
        "id": "sHN45CiaSJX7",
        "colab_type": "code",
        "colab": {}
      },
      "source": [
        "### DO NOT RUN THIS CELL ###\n",
        "def image_to_captions(text):\n",
        "    hash_map = {}\n",
        "    for line in text:\n",
        "        token = line.split()\n",
        "        image_id = token[0].split('.')[0] # separating with '.' to extract image id (removing .jpg)\n",
        "        image_caption = ' '.join(token[1: ])\n",
        "        \n",
        "        if(image_id not in hash_map):\n",
        "            hash_map[image_id] = [image_caption]\n",
        "        else:\n",
        "            hash_map[image_id].append(image_caption)\n",
        "        \n",
        "    return hash_map"
      ],
      "execution_count": 0,
      "outputs": []
    },
    {
      "cell_type": "code",
      "metadata": {
        "id": "ZdyP-M4MSW1Q",
        "colab_type": "code",
        "colab": {
          "base_uri": "https://localhost:8080/",
          "height": 104
        },
        "outputId": "e7fe6a76-39cb-4230-f065-d12048acabc1"
      },
      "source": [
        "### DO NOT RUN THIS CELL ###\n",
        "map_img_to_captions = image_to_captions(text)\n",
        "\n",
        "# print five captions for sample image\n",
        "print(*map_img_to_captions['1000268201_693b08cb0e'],sep='\\n')"
      ],
      "execution_count": 15,
      "outputs": [
        {
          "output_type": "stream",
          "text": [
            "A child in a pink dress is climbing up a set of stairs in an entry way .\n",
            "A girl going into a wooden building .\n",
            "A little girl climbing into a wooden playhouse .\n",
            "A little girl climbing the stairs to her playhouse .\n",
            "A little girl in a pink dress going into a wooden cabin .\n"
          ],
          "name": "stdout"
        }
      ]
    },
    {
      "cell_type": "markdown",
      "metadata": {
        "id": "yY1880DjSycG",
        "colab_type": "text"
      },
      "source": [
        "## Clean captions\n"
      ]
    },
    {
      "cell_type": "code",
      "metadata": {
        "id": "sIgMiOxIS9es",
        "colab_type": "code",
        "colab": {}
      },
      "source": [
        "### DO NOT RUN THIS CELL ###\n",
        "# For each image, clean captions and put all five captions into single list\n",
        "def preprocess(map_img_to_captions):\n",
        "    preprocessed_captions = []\n",
        "    for key in map_img_to_captions.keys():\n",
        "        for idx in range(len(map_img_to_captions[key])):\n",
        "            tokens = map_img_to_captions[key][idx].split()\n",
        "            tokens = [token.lower() for token in tokens if len(token)>1 if token.isalpha()]\n",
        "            map_img_to_captions[key][idx] = ' '.join(tokens)\n",
        "            \n",
        "    return map_img_to_captions"
      ],
      "execution_count": 0,
      "outputs": []
    },
    {
      "cell_type": "code",
      "metadata": {
        "id": "-tzELOIRS_1j",
        "colab_type": "code",
        "colab": {
          "base_uri": "https://localhost:8080/",
          "height": 104
        },
        "outputId": "b3b74371-9e71-4af2-86ac-10fffb0b466e"
      },
      "source": [
        "### DO NOT RUN THIS CELL ###\n",
        "preprocessed_map = preprocess(map_img_to_captions)\n",
        "\n",
        "# print list of captions for sample image\n",
        "preprocessed_map['1000268201_693b08cb0e']"
      ],
      "execution_count": 17,
      "outputs": [
        {
          "output_type": "execute_result",
          "data": {
            "text/plain": [
              "['child in pink dress is climbing up set of stairs in an entry way',\n",
              " 'girl going into wooden building',\n",
              " 'little girl climbing into wooden playhouse',\n",
              " 'little girl climbing the stairs to her playhouse',\n",
              " 'little girl in pink dress going into wooden cabin']"
            ]
          },
          "metadata": {
            "tags": []
          },
          "execution_count": 17
        }
      ]
    },
    {
      "cell_type": "markdown",
      "metadata": {
        "id": "Ck9DZ3ECTWdN",
        "colab_type": "text"
      },
      "source": [
        "## Create vocabulary from captions\n",
        "Build a set with unique words from all the captions. Check by printing out the size of the vocab."
      ]
    },
    {
      "cell_type": "code",
      "metadata": {
        "id": "yZ9n39xsTWLh",
        "colab_type": "code",
        "colab": {}
      },
      "source": [
        "### DO NOT RUN THIS CELL ###\n",
        "# Make a set of unique words in all the captions\n",
        "def create_vocabulary(preprocessed_map):\n",
        "    vocabulary = set()\n",
        "    for img_captions in preprocessed_map.values(): # list of 5 captions for each image\n",
        "        for caption in img_captions:\n",
        "            for token in caption.split():\n",
        "                vocabulary.add(token)    \n",
        "    return vocabulary"
      ],
      "execution_count": 0,
      "outputs": []
    },
    {
      "cell_type": "code",
      "metadata": {
        "id": "_qAuQp0eTyl1",
        "colab_type": "code",
        "colab": {
          "base_uri": "https://localhost:8080/",
          "height": 34
        },
        "outputId": "6d882fc9-c1f8-476d-e647-0645a10c9cd0"
      },
      "source": [
        "### DO NOT RUN THIS CELL ###\n",
        "vocabulary = create_vocabulary(preprocessed_map)\n",
        "\n",
        "# Check vocab size\n",
        "print('Vocabulary size',len(vocabulary))"
      ],
      "execution_count": 19,
      "outputs": [
        {
          "output_type": "stream",
          "text": [
            "Vocabulary size 8357\n"
          ],
          "name": "stdout"
        }
      ]
    },
    {
      "cell_type": "markdown",
      "metadata": {
        "id": "T1hoGyCHUbU5",
        "colab_type": "text"
      },
      "source": [
        "## Save captions.txt\n",
        "Save image id and clean captions as `captions.txt` in working directory.\n",
        "\n"
      ]
    },
    {
      "cell_type": "code",
      "metadata": {
        "id": "fsKGaRxjULdt",
        "colab_type": "code",
        "colab": {}
      },
      "source": [
        "### DO NOT RUN THIS CELL ###\n",
        "# Create list of image ids and preprocessed captions, which is written to txt file\n",
        "def save_captions(preprocessed_map,filename):\n",
        "    data = []\n",
        "    for image_id,image_captions in preprocessed_map.items():\n",
        "        for caption in image_captions:\n",
        "            data.append(image_id + ' ' + caption + '\\n')\n",
        "            \n",
        "    with open(filename,'w') as file:\n",
        "        for line in data:\n",
        "            file.write(line)"
      ],
      "execution_count": 0,
      "outputs": []
    },
    {
      "cell_type": "code",
      "metadata": {
        "id": "dTbwy8T3UhZ3",
        "colab_type": "code",
        "colab": {}
      },
      "source": [
        "### DO NOT RUN THIS CELL ###\n",
        "save_captions(preprocessed_map,'captions.txt') # will save to working directory"
      ],
      "execution_count": 0,
      "outputs": []
    },
    {
      "cell_type": "markdown",
      "metadata": {
        "id": "QqhSZ55oVHmz",
        "colab_type": "text"
      },
      "source": [
        "# Image pre-processing -- DO NOT RUN\n",
        "Images are pre-processed so they can be run through Inceptions-V3 to extract features. \n",
        "\n",
        "Feature vector for train images saved as `features_train_inception.pkl` and for validation images saved as `features_val_inception.pkl`.\n"
      ]
    },
    {
      "cell_type": "markdown",
      "metadata": {
        "id": "ReuaCTFUXD1o",
        "colab_type": "text"
      },
      "source": [
        "## Pre-process images\n",
        "Pre-process so images are in correct format to be fed into Inception-V3 model for feature extraction.\n",
        "\n",
        "Extract feature vectors are saved as `features_train_inception.pkl` and `features_val_inception.pkl` so this code DOES NOT need to be run again."
      ]
    },
    {
      "cell_type": "markdown",
      "metadata": {
        "id": "NgTrrA6VZ2ST",
        "colab_type": "text"
      },
      "source": [
        "### Create lists of train and validation image file names, including .jpg extension"
      ]
    },
    {
      "cell_type": "code",
      "metadata": {
        "id": "d5Ii4cnrZbHm",
        "colab_type": "code",
        "colab": {}
      },
      "source": [
        "### DO NOT RUN THIS CELL ###\n",
        "def images_name(path):\n",
        "    img_name = set([path+image for image in os.listdir(path)])\n",
        "    return img_name"
      ],
      "execution_count": 0,
      "outputs": []
    },
    {
      "cell_type": "code",
      "metadata": {
        "id": "aCLX_A8VZnpH",
        "colab_type": "code",
        "colab": {}
      },
      "source": [
        "### DO NOT RUN THIS CELL ###\n",
        "all_images_filnames = images_name(image_dir)\n",
        "train_img_filenames = [image_dir + '/' + img + '.jpg' for img in train_img_name]\n",
        "val_img_filenames = [image_dir + '/' + img + '.jpg' for img in val_img_name]"
      ],
      "execution_count": 0,
      "outputs": []
    },
    {
      "cell_type": "markdown",
      "metadata": {
        "id": "kZxLzsp5BJxE",
        "colab_type": "text"
      },
      "source": [
        "### Pre-process images as required for Inception-V3"
      ]
    },
    {
      "cell_type": "code",
      "metadata": {
        "id": "Tio6hMX5XM2y",
        "colab_type": "code",
        "colab": {}
      },
      "source": [
        "### DO NOT RUN THIS CELL ###\n",
        "# Loads image, adds 4th dimension for colour channel, pre-process for Inception-V3\n",
        "# Returns array with dims (1, 299, 299, 3)\n",
        "def preprocess_image(img_path):\n",
        "    img = image.load_img(img_path,target_size=(299,299)) \n",
        "    img = image.img_to_array(img) # Converts PIL Image instance to numpy array (299,299,3)\n",
        "    img = np.expand_dims(img, axis=0) # Add one more dimension: (1, 299, 299, 3)\n",
        "    img = preprocess_input(img) # Pre-process image as per Inception-V3 model\n",
        "    return img  # shape: (1, 299, 299, 3)"
      ],
      "execution_count": 0,
      "outputs": []
    },
    {
      "cell_type": "code",
      "metadata": {
        "id": "639bGqA8X08h",
        "colab_type": "code",
        "colab": {
          "base_uri": "https://localhost:8080/",
          "height": 324
        },
        "outputId": "80bea0d8-66f4-4044-bb41-e3ab848e810e"
      },
      "source": [
        "### DO NOT RUN THIS CELL ###\n",
        "# Check preprocess_image works by running one sample image through it\n",
        "sample_image = image_dir +'/1000268201_693b08cb0e.jpg'\n",
        "img = preprocess_image(sample_image)\n",
        "plt.imshow(img[0])"
      ],
      "execution_count": 43,
      "outputs": [
        {
          "output_type": "stream",
          "text": [
            "Clipping input data to the valid range for imshow with RGB data ([0..1] for floats or [0..255] for integers).\n"
          ],
          "name": "stderr"
        },
        {
          "output_type": "execute_result",
          "data": {
            "text/plain": [
              "<matplotlib.image.AxesImage at 0x7f41aa56f9e8>"
            ]
          },
          "metadata": {
            "tags": []
          },
          "execution_count": 43
        },
        {
          "output_type": "display_data",
          "data": {
            "image/png": "[encoded data removed]",
            "text/plain": [
              "<Figure size 432x288 with 1 Axes>"
            ]
          },
          "metadata": {
            "tags": [],
            "needs_background": "light"
          }
        }
      ]
    },
    {
      "cell_type": "markdown",
      "metadata": {
        "id": "km3KYuY-ZGXY",
        "colab_type": "text"
      },
      "source": [
        "## Load Inception-V3 model\n",
        "Load model and remove last layer so that features can be extracted from images."
      ]
    },
    {
      "cell_type": "code",
      "metadata": {
        "id": "1KvhmsIfZQFN",
        "colab_type": "code",
        "colab": {
          "base_uri": "https://localhost:8080/",
          "height": 72
        },
        "outputId": "7b43c2f3-baeb-4119-bf95-7f1ad0286e2e"
      },
      "source": [
        "### DO NOT RUN THIS CELL ###\n",
        "# Load Inception-V3 model\n",
        "model = InceptionV3(weights='imagenet')\n",
        "\n",
        "# Create new model, by removing last layer (output layer) from Inception-V3\n",
        "model_new = Model(inputs=model.input, outputs=model.layers[-2].output) # outputs=(second last layer output)"
      ],
      "execution_count": 44,
      "outputs": [
        {
          "output_type": "stream",
          "text": [
            "Downloading data from https://storage.googleapis.com/tensorflow/keras-applications/inception_v3/inception_v3_weights_tf_dim_ordering_tf_kernels.h5\n",
            "96116736/96112376 [==============================] - 1s 0us/step\n"
          ],
          "name": "stdout"
        }
      ]
    },
    {
      "cell_type": "markdown",
      "metadata": {
        "id": "5Fus9UoFaQuM",
        "colab_type": "text"
      },
      "source": [
        "## Extract feature from images\n",
        "Run images through Inception-V3 model to extract features as a vector. Each image will have dimensions of (2048, ), which is the required size for modelling"
      ]
    },
    {
      "cell_type": "code",
      "metadata": {
        "id": "XDfA2jIeaPbE",
        "colab_type": "code",
        "colab": {}
      },
      "source": [
        "### DO NOT RUN THIS CELL ###\n",
        "# Function to extract features from image into a vector of size (2048, )\n",
        "def extract_image_features(image):\n",
        "\n",
        "    # pre-process image so it can be run through Inception-V3\n",
        "    image = preprocess_image(image)\n",
        "    \n",
        "    # Extract features from image by running it through Inception-V3\n",
        "    feature_vector = model_new.predict(image) \n",
        "\n",
        "    # Reshape from (1, 2048) to (2048, )\n",
        "    feature_vector = feature_vector.reshape(feature_vector.shape[1], ) \n",
        "\n",
        "    return feature_vector"
      ],
      "execution_count": 0,
      "outputs": []
    },
    {
      "cell_type": "code",
      "metadata": {
        "id": "4GM5v0g6agYX",
        "colab_type": "code",
        "colab": {
          "base_uri": "https://localhost:8080/",
          "height": 243
        },
        "outputId": "986872ea-1136-46d3-c745-a85e8a7be63d"
      },
      "source": [
        "### DO NOT RUN THIS CELL ###\n",
        "# Extract features from train images\n",
        "start_train = time()\n",
        "train_features = {}\n",
        "for idx,img in enumerate(train_img_filenames):\n",
        "    if( (idx+1)%500 == 0):\n",
        "        print('Train images encoded ',idx+1)\n",
        "    train_features[img] = extract_image_features(img)\n",
        "print(\"Train image feature extraction took: {} seconds\".format(time()-start_train))"
      ],
      "execution_count": 66,
      "outputs": [
        {
          "output_type": "stream",
          "text": [
            "Train images encoded  500\n",
            "Train images encoded  1000\n",
            "Train images encoded  1500\n",
            "Train images encoded  2000\n",
            "Train images encoded  2500\n",
            "Train images encoded  3000\n",
            "Train images encoded  3500\n",
            "Train images encoded  4000\n",
            "Train images encoded  4500\n",
            "Train images encoded  5000\n",
            "Train images encoded  5500\n",
            "Train images encoded  6000\n",
            "Train image feature extraction took: 3345.310848712921 seconds\n"
          ],
          "name": "stdout"
        }
      ]
    },
    {
      "cell_type": "code",
      "metadata": {
        "id": "lXg_hcc8pBR2",
        "colab_type": "code",
        "colab": {}
      },
      "source": [
        "### DO NOT RUN THIS CELL ###\n",
        "# Save train feature as pickle file\n",
        "# Will save to working directory\n",
        "dump(train_features, open('train_features_inception.pkl', 'wb'))"
      ],
      "execution_count": 0,
      "outputs": []
    },
    {
      "cell_type": "code",
      "metadata": {
        "id": "G9OtOmbodFGG",
        "colab_type": "code",
        "colab": {
          "base_uri": "https://localhost:8080/",
          "height": 69
        },
        "outputId": "6ca942e8-7cc0-4b55-e0f2-a3c7b780c5e7"
      },
      "source": [
        "### DO NOT RUN THIS CELL ###\n",
        "# Extract features from validation images\n",
        "start_val = time()\n",
        "val_features = {}\n",
        "for idx,img in enumerate(val_img_filenames):\n",
        "    if( (idx+1)%500 == 0):\n",
        "        print('Validation images encoded ',idx+1)\n",
        "    val_features[img] = extract_image_features(img)\n",
        "print(\"Validation image feature extraction took: {} seconds\".format(time()-start_val))"
      ],
      "execution_count": 97,
      "outputs": [
        {
          "output_type": "stream",
          "text": [
            "Validation images encoded  500\n",
            "Validation images encoded  1000\n",
            "Validation image feature extraction took: 568.206071138382 seconds\n"
          ],
          "name": "stdout"
        }
      ]
    },
    {
      "cell_type": "markdown",
      "metadata": {
        "id": "5vK_EbMEekEF",
        "colab_type": "text"
      },
      "source": [
        "## Save extracted image feature to pickles\n"
      ]
    },
    {
      "cell_type": "code",
      "metadata": {
        "id": "udJ_UxHooeAd",
        "colab_type": "code",
        "colab": {}
      },
      "source": [
        "### DO NOT RUN THIS CELL ###\n",
        "# Save validation feature as pickle file\n",
        "# Will save to working directory\n",
        "dump(val_features, open('val_features_inception.pkl', 'wb'))"
      ],
      "execution_count": 0,
      "outputs": []
    },
    {
      "cell_type": "markdown",
      "metadata": {
        "id": "_6ippPiTeh5F",
        "colab_type": "text"
      },
      "source": [
        "# Load image features and captions -- RUN\n",
        "Load image features from pickle files and get associated captions from caption dictionary"
      ]
    },
    {
      "cell_type": "code",
      "metadata": {
        "id": "WlCcUUZb1URw",
        "colab_type": "code",
        "colab": {}
      },
      "source": [
        "### RUN THIS CELL ###\n",
        "# Creates dictionary with image id as key, captions as value\n",
        "# Adds 'startseq' and 'endseq' to caption\n",
        "def load_captions(filename, filelist):\n",
        "    doc = load_doc(filename) \n",
        "    captions = {}    \n",
        "    \n",
        "    for line in doc:\n",
        "        tokens = line.split()\n",
        "        image_id, image_caption = tokens[0], tokens[1:]\n",
        "\n",
        "        if(image_id in filelist):\n",
        "            if(image_id not in captions):\n",
        "                captions[image_id] = []\n",
        "            \n",
        "            modified_caption = 'startseq ' + ' '.join(image_caption) + ' endseq'\n",
        "            captions[image_id].append(modified_caption)\n",
        "    \n",
        "    return captions"
      ],
      "execution_count": 0,
      "outputs": []
    },
    {
      "cell_type": "code",
      "metadata": {
        "id": "3f1MDlge1nSZ",
        "colab_type": "code",
        "colab": {
          "base_uri": "https://localhost:8080/",
          "height": 104
        },
        "outputId": "68d232f5-dda5-49c5-a588-c10b83822351"
      },
      "source": [
        "### RUN THIS CELL ###\n",
        "# Create train captions dictionary\n",
        "train_captions = load_captions('captions.txt', train_img_name)\n",
        "\n",
        "# Print a sample caption as a check, should return 5 captions, each sandwiched between 'startseq' 'endseq'\n",
        "print(*train_captions['1000268201_693b08cb0e'],sep='\\n')"
      ],
      "execution_count": 25,
      "outputs": [
        {
          "output_type": "stream",
          "text": [
            "startseq child in pink dress is climbing up set of stairs in an entry way endseq\n",
            "startseq girl going into wooden building endseq\n",
            "startseq little girl climbing into wooden playhouse endseq\n",
            "startseq little girl climbing the stairs to her playhouse endseq\n",
            "startseq little girl in pink dress going into wooden cabin endseq\n"
          ],
          "name": "stdout"
        }
      ]
    },
    {
      "cell_type": "code",
      "metadata": {
        "id": "D0torB_C133v",
        "colab_type": "code",
        "colab": {
          "base_uri": "https://localhost:8080/",
          "height": 124
        },
        "outputId": "14b61eeb-c946-4de0-8a6a-f8b8f10bee1d"
      },
      "source": [
        "### RUN THIS CELL ###\n",
        "# Create train captions dictionary\n",
        "val_captions = load_captions('captions.txt', val_img_name)\n",
        "\n",
        "# Print a sample caption as a check, should return 5 captions, each sandwiched between 'startseq' 'endseq'\n",
        "print(*val_captions['2391812384_7429b5e567'],sep='\\n')"
      ],
      "execution_count": 26,
      "outputs": [
        {
          "output_type": "stream",
          "text": [
            "startseq child dressed in purple clothing and hat runs in splashing water while man and small boy walk nearby endseq\n",
            "startseq child wearing purple runs through splashing water while man in red looks on endseq\n",
            "startseq family playing the spray of fountain endseq\n",
            "startseq man and two toddlers get sprinkled as they pass an ornamental fountain endseq\n",
            "startseq young girl wearing purple running through water endseq\n"
          ],
          "name": "stdout"
        }
      ]
    },
    {
      "cell_type": "code",
      "metadata": {
        "id": "CO9NpPEee9Ch",
        "colab_type": "code",
        "colab": {
          "base_uri": "https://localhost:8080/",
          "height": 211
        },
        "outputId": "e273b3f6-a388-4752-d1e9-bceddee132b5"
      },
      "source": [
        "### RUN THIS CELL ###\n",
        "train_features = load(open('train_features_inception.pkl', \"rb\"))\n",
        "\n",
        "# Create a list of all training captions\n",
        "all_train_captions = []\n",
        "for captions in train_captions.values():\n",
        "    for caption in captions:\n",
        "        all_train_captions.append(caption)\n",
        "\n",
        "# Check by printing length of captions and first 10 captions   \n",
        "assert len(all_train_captions) == 5 * len(train_img_name)\n",
        "print(*all_train_captions[:10],sep='\\n')\n"
      ],
      "execution_count": 29,
      "outputs": [
        {
          "output_type": "stream",
          "text": [
            "startseq child in pink dress is climbing up set of stairs in an entry way endseq\n",
            "startseq girl going into wooden building endseq\n",
            "startseq little girl climbing into wooden playhouse endseq\n",
            "startseq little girl climbing the stairs to her playhouse endseq\n",
            "startseq little girl in pink dress going into wooden cabin endseq\n",
            "startseq black dog and spotted dog are fighting endseq\n",
            "startseq black dog and dog playing with each other on the road endseq\n",
            "startseq black dog and white dog with brown spots are staring at each other in the street endseq\n",
            "startseq two dogs of different breeds looking at each other on the road endseq\n",
            "startseq two dogs on pavement moving toward each other endseq\n"
          ],
          "name": "stdout"
        }
      ]
    },
    {
      "cell_type": "code",
      "metadata": {
        "id": "K_hlVFQMzN8Z",
        "colab_type": "code",
        "colab": {
          "base_uri": "https://localhost:8080/",
          "height": 211
        },
        "outputId": "99463cf2-b31f-4fef-da7a-917d7ab31963"
      },
      "source": [
        "### RUN THIS CELL ###\n",
        "val_features = load(open('val_features_inception.pkl', \"rb\"))\n",
        "\n",
        "# Create a list of all training captions\n",
        "all_val_captions = []\n",
        "for captions in val_captions.values():\n",
        "    for caption in captions:\n",
        "        all_val_captions.append(caption)\n",
        "\n",
        "# Check by printing length of captions and first 10 captions   \n",
        "assert len(all_val_captions) == 5 * len(val_img_name)\n",
        "print(*all_val_captions[:10],sep='\\n')"
      ],
      "execution_count": 30,
      "outputs": [
        {
          "output_type": "stream",
          "text": [
            "startseq child and woman are at waters edge in big city endseq\n",
            "startseq large lake with lone duck swimming in it with several people around the edge of it endseq\n",
            "startseq little boy at lake watching duck endseq\n",
            "startseq young boy waves his hand at the duck in the water surrounded by green park endseq\n",
            "startseq two people are at the edge of lake facing the water and the city skyline endseq\n",
            "startseq boy with stick kneeling in front of goalie net endseq\n",
            "startseq child in red jacket playing street hockey guarding goal endseq\n",
            "startseq young kid playing the goalie in hockey rink endseq\n",
            "startseq young male kneeling in front of hockey goal with hockey stick in his right hand endseq\n",
            "startseq hockey goalie boy in red jacket crouches by goal with stick endseq\n"
          ],
          "name": "stdout"
        }
      ]
    },
    {
      "cell_type": "markdown",
      "metadata": {
        "id": "TEkDsO3Zfg_e",
        "colab_type": "text"
      },
      "source": [
        "#  Create vocab -- RUN\n",
        "Select threshold for number of times a word must appear in training captions for word to be added to vocab.\n",
        "\n",
        "Tokenize captions.\n"
      ]
    },
    {
      "cell_type": "code",
      "metadata": {
        "id": "Nd67hyIZfs2C",
        "colab_type": "code",
        "colab": {
          "base_uri": "https://localhost:8080/",
          "height": 52
        },
        "outputId": "f888ad62-1a57-4465-8d71-17a32b5e9187"
      },
      "source": [
        "### RUN THIS CELL ###\n",
        "# Set threshold for number of times word must appear in captions to be included in vocab\n",
        "corpus_threshold = 10\n",
        "\n",
        "# Create corpus by tokenizing all training captions\n",
        "corpus = []\n",
        "for caption in all_train_captions:\n",
        "    for token in caption.split():\n",
        "        corpus.append(token)\n",
        "        \n",
        "hash_map = Counter(corpus)\n",
        "\n",
        "# Create vocab by only including words from corpus that appears enough times in captions\n",
        "vocab = []\n",
        "for token,count in hash_map.items():\n",
        "    if(count>=corpus_threshold):\n",
        "        vocab.append(token)\n",
        "        \n",
        "print('Number of original tokens:',len(hash_map))\n",
        "print('Number of tokens after threshold:',len(vocab))"
      ],
      "execution_count": 31,
      "outputs": [
        {
          "output_type": "stream",
          "text": [
            "Number of original tokens: 7265\n",
            "Number of tokens after threshold: 1643\n"
          ],
          "name": "stdout"
        }
      ]
    },
    {
      "cell_type": "markdown",
      "metadata": {
        "id": "13UWt-9dgb5N",
        "colab_type": "text"
      },
      "source": [
        "## Create word-to-index and index-to-word dictionaries"
      ]
    },
    {
      "cell_type": "code",
      "metadata": {
        "id": "8fCQ4O0igaUH",
        "colab_type": "code",
        "colab": {}
      },
      "source": [
        "### RUN THIS CELL ###\n",
        "word_to_index = {}\n",
        "index_to_word = {}\n",
        "    \n",
        "for idx,token in enumerate(vocab):\n",
        "    word_to_index[token] = idx+1\n",
        "    index_to_word[idx+1] = token\n",
        "\n",
        "vocab_size = len(index_to_word) + 1 # one for appended 0's\n",
        "\n",
        "# Check lengths are identical\n",
        "assert (len(index_to_word)) == (len(index_to_word))"
      ],
      "execution_count": 0,
      "outputs": []
    },
    {
      "cell_type": "markdown",
      "metadata": {
        "id": "Z_yydJWLqfT6",
        "colab_type": "text"
      },
      "source": [
        "## Find max length caption\n",
        "Need to know max length caption to set padding size"
      ]
    },
    {
      "cell_type": "code",
      "metadata": {
        "id": "diFqLseKql2M",
        "colab_type": "code",
        "colab": {}
      },
      "source": [
        "### RUN THIS CELL ###\n",
        "def max_len_caption(all_train_captions):   \n",
        "    max_len = 0\n",
        "    for caption in all_train_captions:\n",
        "        max_len = max(max_len,len(caption.split()))\n",
        "    print('Maximum length of caption:',max_len)\n",
        "    return max_len"
      ],
      "execution_count": 0,
      "outputs": []
    },
    {
      "cell_type": "code",
      "metadata": {
        "id": "Uwbyw4fNqomq",
        "colab_type": "code",
        "colab": {
          "base_uri": "https://localhost:8080/",
          "height": 34
        },
        "outputId": "7915fb4b-f848-43ef-c237-1dc1fb5dd9ba"
      },
      "source": [
        "### RUN THIS CELL ###\n",
        "max_length_caption = max_len_caption(all_train_captions)"
      ],
      "execution_count": 34,
      "outputs": [
        {
          "output_type": "stream",
          "text": [
            "Maximum length of caption: 33\n"
          ],
          "name": "stdout"
        }
      ]
    },
    {
      "cell_type": "markdown",
      "metadata": {
        "id": "5HXCMWepqztx",
        "colab_type": "text"
      },
      "source": [
        "# Create train and validation datasets -- RUN\n",
        "X1, X2, y1 dataset in the correct format for `model.fit()`\n"
      ]
    },
    {
      "cell_type": "code",
      "metadata": {
        "id": "LRbpffj8q2VB",
        "colab_type": "code",
        "colab": {}
      },
      "source": [
        "### RUN THIS CELL ###\n",
        "# Creates X1, X2, y in correct input format for model.fit()\n",
        "def create_dataset(descriptions, photos, wordtoix, max_length):\n",
        "    X1, X2, y = list(), list(), list()\n",
        "    for key, desc_list in descriptions.items():\n",
        "        # retrieve the photo feature\n",
        "        temp = image_dir + '/'\n",
        "        photo = photos[temp + key + '.jpg']\n",
        "        for desc in desc_list:\n",
        "            # encode the sequence\n",
        "            seq = [wordtoix[word] for word in desc.split(' ') if word in wordtoix]\n",
        "            # split one sequence into multiple X, y pairs\n",
        "            for i in range(1, len(seq)):\n",
        "                # split into input and output pair\n",
        "                in_seq, out_seq = seq[:i], seq[i]\n",
        "                # pad input sequence\n",
        "                in_seq = pad_sequences([in_seq], maxlen=max_length)[0]\n",
        "                # encode output sequence\n",
        "                out_seq = to_categorical([out_seq], num_classes=vocab_size)[0]\n",
        "                # store\n",
        "                X1.append(photo)\n",
        "                X2.append(in_seq)\n",
        "                y.append(out_seq)\n",
        "    return np.array(X1), np.array(X2), np.array(y)"
      ],
      "execution_count": 0,
      "outputs": []
    },
    {
      "cell_type": "code",
      "metadata": {
        "id": "IdpYtOa1xlY2",
        "colab_type": "code",
        "colab": {}
      },
      "source": [
        "### RUN THIS CELL ###\n",
        "X1train, X2train, ytrain = create_dataset(train_captions, train_features, word_to_index, max_length_caption)"
      ],
      "execution_count": 0,
      "outputs": []
    },
    {
      "cell_type": "code",
      "metadata": {
        "id": "bXYA_vNPzj3p",
        "colab_type": "code",
        "colab": {}
      },
      "source": [
        "### RUN THIS CELL ###\n",
        "X1val, X2val, yval = create_dataset(val_captions, val_features, word_to_index, max_length_caption)"
      ],
      "execution_count": 0,
      "outputs": []
    },
    {
      "cell_type": "markdown",
      "metadata": {
        "id": "zB4VzDpfro-J",
        "colab_type": "text"
      },
      "source": [
        "## Load GloVe vectors\n",
        "Source: <https://nlp.stanford.edu/projects/glove/>\n",
        "\n",
        "Will match words that are similar, for example frog and toad.\n",
        "\n",
        "glove.6B.200d.txt must be located in working directory. There is a copy in Experimentation folder in Google Drive\n"
      ]
    },
    {
      "cell_type": "code",
      "metadata": {
        "id": "cuO8-EDnrzE0",
        "colab_type": "code",
        "colab": {
          "base_uri": "https://localhost:8080/",
          "height": 34
        },
        "outputId": "c5bcacd3-95b1-4831-d17f-de850e90c34e"
      },
      "source": [
        "### RUN THIS CELL ###\n",
        "embeddings_index = {} # empty dictionary\n",
        "f = open('glove.6B.200d.txt', encoding=\"utf-8\")\n",
        "\n",
        "for line in f:\n",
        "    values = line.split()\n",
        "    word = values[0]\n",
        "    coefs = np.asarray(values[1:], dtype='float32')\n",
        "    embeddings_index[word] = coefs\n",
        "f.close()\n",
        "print('Found %s word vectors' % len(embeddings_index))"
      ],
      "execution_count": 41,
      "outputs": [
        {
          "output_type": "stream",
          "text": [
            "Found 400000 word vectors\n"
          ],
          "name": "stdout"
        }
      ]
    },
    {
      "cell_type": "code",
      "metadata": {
        "id": "47NhXcV4sj-0",
        "colab_type": "code",
        "colab": {}
      },
      "source": [
        "### RUN THIS CELL ###\n",
        "embedding_dim = 200\n",
        "\n",
        "# Create 200-dim dense vector for each of the words in vocabulary\n",
        "embedding_matrix = np.zeros((vocab_size, embedding_dim))\n",
        "\n",
        "for word, i in word_to_index.items():\n",
        "    #if i < max_words:\n",
        "    embedding_vector = embeddings_index.get(word)\n",
        "    if embedding_vector is not None:\n",
        "        # Words not found in the embedding index will be all zeros\n",
        "        embedding_matrix[i] = embedding_vector\n",
        "\n",
        "# Check shape size        \n",
        "assert embedding_matrix.shape == (vocab_size, embedding_dim)"
      ],
      "execution_count": 0,
      "outputs": []
    },
    {
      "cell_type": "markdown",
      "metadata": {
        "id": "hViZWTkBtKYQ",
        "colab_type": "text"
      },
      "source": [
        "# Image caption model -- RUN\n",
        "Based on merge-model described by Tanti et al. in *Where to put the Image in an Image Caption Generator*\n",
        "\n",
        "source: <https://arxiv.org/abs/1703.09137>"
      ]
    },
    {
      "cell_type": "markdown",
      "metadata": {
        "id": "QYulvaUpBsu6",
        "colab_type": "text"
      },
      "source": [
        "## Define model"
      ]
    },
    {
      "cell_type": "code",
      "metadata": {
        "id": "mBR1BMpWtJzT",
        "colab_type": "code",
        "colab": {
          "base_uri": "https://localhost:8080/",
          "height": 541
        },
        "outputId": "0cef2dcc-0668-461c-9a5a-2c3417110687"
      },
      "source": [
        "### RUN THIS CELL ###\n",
        "inputs1 = Input(shape=(2048,))\n",
        "fe1 = Dropout(0.5)(inputs1)\n",
        "fe2 = Dense(256, activation='relu')(fe1)\n",
        "inputs2 = Input(shape=(max_length_caption,))\n",
        "se1 = Embedding(vocab_size, embedding_dim, mask_zero=True)(inputs2)\n",
        "se2 = Dropout(0.5)(se1)\n",
        "se3 = LSTM(256)(se2)\n",
        "decoder1 = add([fe2, se3])\n",
        "decoder2 = Dense(256, activation='relu')(decoder1)\n",
        "outputs = Dense(vocab_size, activation='softmax')(decoder2)\n",
        "model = Model(inputs=[inputs1, inputs2], outputs=outputs)\n",
        "\n",
        "model.summary()"
      ],
      "execution_count": 43,
      "outputs": [
        {
          "output_type": "stream",
          "text": [
            "Model: \"model\"\n",
            "__________________________________________________________________________________________________\n",
            "Layer (type)                    Output Shape         Param #     Connected to                     \n",
            "==================================================================================================\n",
            "input_2 (InputLayer)            [(None, 33)]         0                                            \n",
            "__________________________________________________________________________________________________\n",
            "input_1 (InputLayer)            [(None, 2048)]       0                                            \n",
            "__________________________________________________________________________________________________\n",
            "embedding (Embedding)           (None, 33, 200)      328800      input_2[0][0]                    \n",
            "__________________________________________________________________________________________________\n",
            "dropout (Dropout)               (None, 2048)         0           input_1[0][0]                    \n",
            "__________________________________________________________________________________________________\n",
            "dropout_1 (Dropout)             (None, 33, 200)      0           embedding[0][0]                  \n",
            "__________________________________________________________________________________________________\n",
            "dense (Dense)                   (None, 256)          524544      dropout[0][0]                    \n",
            "__________________________________________________________________________________________________\n",
            "lstm (LSTM)                     (None, 256)          467968      dropout_1[0][0]                  \n",
            "__________________________________________________________________________________________________\n",
            "add (Add)                       (None, 256)          0           dense[0][0]                      \n",
            "                                                                 lstm[0][0]                       \n",
            "__________________________________________________________________________________________________\n",
            "dense_1 (Dense)                 (None, 256)          65792       add[0][0]                        \n",
            "__________________________________________________________________________________________________\n",
            "dense_2 (Dense)                 (None, 1644)         422508      dense_1[0][0]                    \n",
            "==================================================================================================\n",
            "Total params: 1,809,612\n",
            "Trainable params: 1,809,612\n",
            "Non-trainable params: 0\n",
            "__________________________________________________________________________________________________\n"
          ],
          "name": "stdout"
        }
      ]
    },
    {
      "cell_type": "markdown",
      "metadata": {
        "id": "TPVgDXjLBwq6",
        "colab_type": "text"
      },
      "source": [
        "## Set final layers weights to equal embedding matrix\n"
      ]
    },
    {
      "cell_type": "code",
      "metadata": {
        "id": "B4rNo9agutsV",
        "colab_type": "code",
        "colab": {}
      },
      "source": [
        "### RUN THIS CELL ###\n",
        "model.layers[2].set_weights([embedding_matrix])\n",
        "model.layers[2].trainable = False"
      ],
      "execution_count": 0,
      "outputs": []
    },
    {
      "cell_type": "markdown",
      "metadata": {
        "id": "JVdphpd-B1vC",
        "colab_type": "text"
      },
      "source": [
        "## Compile model"
      ]
    },
    {
      "cell_type": "code",
      "metadata": {
        "id": "S2sBLZQTuyTS",
        "colab_type": "code",
        "colab": {}
      },
      "source": [
        "### RUN THIS CELL ###\n",
        "# Compile model using adam and categorical cross entropy loss\n",
        "model.compile(loss='categorical_crossentropy', optimizer='adam')"
      ],
      "execution_count": 0,
      "outputs": []
    },
    {
      "cell_type": "markdown",
      "metadata": {
        "id": "4bfie4IOB5bc",
        "colab_type": "text"
      },
      "source": [
        "## Set number of epochs"
      ]
    },
    {
      "cell_type": "code",
      "metadata": {
        "id": "Nt2_FWhLvBJE",
        "colab_type": "code",
        "colab": {}
      },
      "source": [
        "### RUN THIS CELL ###\n",
        "# Set epochs and batch size\n",
        "epochs = 10"
      ],
      "execution_count": 0,
      "outputs": []
    },
    {
      "cell_type": "markdown",
      "metadata": {
        "id": "FAJOfWS2B8ut",
        "colab_type": "text"
      },
      "source": [
        "## Set callbacks\n",
        "Make sure you set `check_path` correctly!\n"
      ]
    },
    {
      "cell_type": "code",
      "metadata": {
        "id": "3_ZaNtf-vOnX",
        "colab_type": "code",
        "colab": {}
      },
      "source": [
        "### RUN THIS CELL ###\n",
        "# Set callbacks\n",
        "#### MAKE A DIRECTORY TO SAVE CHECKPOINTS TO ##############################\n",
        "# eg: check_path = 'checkpoints/rebecca/exp_2'\n",
        "###########################################################################\n",
        "\n",
        "check_path = 'checkpoints/rebecca/exp_5' # CHANGE THIS\n",
        "!mkdir -p $check_path\n",
        "\n",
        "check_dir = check_path+'/model-ep{epoch:03d}-loss{loss:.3f}-val_loss{val_loss:.3f}.h5'\n",
        "\n",
        "# Monitor validation loss, saving only the best, stopping early if no improvement after 5 epochs, dropping learning rate if loss plateaux\n",
        "checkpoint = ModelCheckpoint(check_dir, monitor='val_loss', verbose=1, save_best_only=True, mode='min')\n",
        "early_stopping = EarlyStopping(monitor='val_loss', patience=10)\n",
        "reduce_lr = ReduceLROnPlateau(monitor='val_loss', factor=0.5, patience=5, min_lr=0.001)"
      ],
      "execution_count": 0,
      "outputs": []
    },
    {
      "cell_type": "markdown",
      "metadata": {
        "id": "yNRo77z0CDe9",
        "colab_type": "text"
      },
      "source": [
        "## Train model"
      ]
    },
    {
      "cell_type": "code",
      "metadata": {
        "id": "9m3Ln-ESvdLI",
        "colab_type": "code",
        "colab": {
          "base_uri": "https://localhost:8080/",
          "height": 749
        },
        "outputId": "25f1733e-1bc8-46bd-cb40-d1214a87d0ae"
      },
      "source": [
        "### RUN THIS CELL ###\n",
        "# Fit model\n",
        "tic = time.perf_counter()\n",
        "history = model.fit([X1train, X2train], ytrain, epochs=epochs, verbose=2, \n",
        "                    validation_data=([X1val, X2val], yval), \n",
        "                    callbacks = [checkpoint, early_stopping, reduce_lr])\n",
        "toc = time.perf_counter()\n",
        "run_time = (toc-tic)/60\n",
        "print(f'Model ran in: {run_time:0.2f} minutes')"
      ],
      "execution_count": 51,
      "outputs": [
        {
          "output_type": "stream",
          "text": [
            "Epoch 1/10\n",
            "\n",
            "Epoch 00001: val_loss improved from inf to 3.48031, saving model to checkpoints/rebecca/exp_5/model-ep001-loss3.899-val_loss3.480.h5\n",
            "9127/9127 - 652s - loss: 3.8990 - val_loss: 3.4803 - lr: 0.0010\n",
            "Epoch 2/10\n",
            "\n",
            "Epoch 00002: val_loss improved from 3.48031 to 3.38406, saving model to checkpoints/rebecca/exp_5/model-ep002-loss3.355-val_loss3.384.h5\n",
            "9127/9127 - 637s - loss: 3.3548 - val_loss: 3.3841 - lr: 0.0010\n",
            "Epoch 3/10\n",
            "\n",
            "Epoch 00003: val_loss improved from 3.38406 to 3.37219, saving model to checkpoints/rebecca/exp_5/model-ep003-loss3.224-val_loss3.372.h5\n",
            "9127/9127 - 629s - loss: 3.2242 - val_loss: 3.3722 - lr: 0.0010\n",
            "Epoch 4/10\n",
            "\n",
            "Epoch 00004: val_loss did not improve from 3.37219\n",
            "9127/9127 - 634s - loss: 3.1612 - val_loss: 3.3759 - lr: 0.0010\n",
            "Epoch 5/10\n",
            "\n",
            "Epoch 00005: val_loss did not improve from 3.37219\n",
            "9127/9127 - 638s - loss: 3.1300 - val_loss: 3.4110 - lr: 0.0010\n",
            "Epoch 6/10\n",
            "\n",
            "Epoch 00006: val_loss did not improve from 3.37219\n",
            "9127/9127 - 634s - loss: 3.1090 - val_loss: 3.4146 - lr: 0.0010\n",
            "Epoch 7/10\n",
            "\n",
            "Epoch 00007: val_loss did not improve from 3.37219\n",
            "9127/9127 - 628s - loss: 3.0971 - val_loss: 3.4501 - lr: 0.0010\n",
            "Epoch 8/10\n",
            "\n",
            "Epoch 00008: val_loss did not improve from 3.37219\n",
            "9127/9127 - 632s - loss: 3.0875 - val_loss: 3.4732 - lr: 0.0010\n",
            "Epoch 9/10\n",
            "\n",
            "Epoch 00009: val_loss did not improve from 3.37219\n",
            "9127/9127 - 640s - loss: 3.0859 - val_loss: 3.4874 - lr: 0.0010\n",
            "Epoch 10/10\n",
            "\n",
            "Epoch 00010: val_loss did not improve from 3.37219\n",
            "9127/9127 - 641s - loss: 3.0812 - val_loss: 3.4773 - lr: 0.0010\n",
            "Model ran in: 106.08 minutes\n"
          ],
          "name": "stdout"
        }
      ]
    },
    {
      "cell_type": "markdown",
      "metadata": {
        "id": "08SYdZ2xClny",
        "colab_type": "text"
      },
      "source": [
        "# Evaluate image caption model -- RUN\n",
        "# NOTHING BELOW HERE WORKS\n",
        "Plot loss curves.\n",
        "\n",
        "Calculates BLEU scores."
      ]
    },
    {
      "cell_type": "markdown",
      "metadata": {
        "id": "6YZh347eCI3K",
        "colab_type": "text"
      },
      "source": [
        "## Loss curves\n"
      ]
    },
    {
      "cell_type": "code",
      "metadata": {
        "id": "vfuWrMh3wAV1",
        "colab_type": "code",
        "colab": {}
      },
      "source": [
        "def modelPlot(history_name, plt_title):\n",
        "    \"\"\"\n",
        "    Generates plot (with title) for model training and validation accuracy and loss by epoch\n",
        "    Inputs  - history_name = history object resulting from fitted model\n",
        "            - plt_title = title for plot, as string\n",
        "    Output  - plot\n",
        "    \"\"\"\n",
        "    from matplotlib.pyplot import savefig\n",
        "    accuracy_filename = check_path+'/acc.png'\n",
        "    loss_filename = check_path+'/loss.png'\n",
        "    # plt.plot(history_name.history['accuracy'], label='Training', color = 'blue')\n",
        "    # plt.plot(history_name.history['val_accuracy'], label='Validation', color = 'orange')\n",
        "    # plt.ylabel('Accuracy')\n",
        "    # plt.xlabel('Epoch')\n",
        "    # plt.title(plt_title)\n",
        "    # plt.legend()\n",
        "    # plt.savefig(accuracy_filename)\n",
        "    # plt.show()\n",
        "    # plt.close()\n",
        "\n",
        "    plt.plot(history_name.history['loss'], label='Training', color = 'blue')\n",
        "    plt.plot(history_name.history['val_loss'], label='Validation', color = 'orange')\n",
        "    plt.ylabel('Loss')\n",
        "    plt.xlabel('Epoch')\n",
        "    plt.title(plt_title)\n",
        "    plt.legend()\n",
        "    plt.savefig(loss_filename)\n",
        "    plt.show()\n",
        "    plt.close()"
      ],
      "execution_count": 0,
      "outputs": []
    },
    {
      "cell_type": "code",
      "metadata": {
        "id": "AzMbbODpwBk_",
        "colab_type": "code",
        "outputId": "815012e0-a54b-426c-b4a8-57ce34bea390",
        "colab": {
          "base_uri": "https://localhost:8080/",
          "height": 295
        }
      },
      "source": [
        "# Change title string\n",
        "title = 'Experiment 5' # CHANGE THIS\n",
        "\n",
        "# Plot will save to check_path as loss.png\n",
        "modelPlot(history, title)"
      ],
      "execution_count": 53,
      "outputs": [
        {
          "output_type": "display_data",
          "data": {
            "image/png": "[encoded data removed]",
            "text/plain": [
              "<Figure size 432x288 with 1 Axes>"
            ]
          },
          "metadata": {
            "tags": [],
            "needs_background": "light"
          }
        }
      ]
    },
    {
      "cell_type": "markdown",
      "metadata": {
        "id": "-kCEX3ethL49",
        "colab_type": "text"
      },
      "source": [
        "## BLEU scores\n"
      ]
    },
    {
      "cell_type": "code",
      "metadata": {
        "id": "MzPM-AfNSwqg",
        "colab_type": "code",
        "colab": {}
      },
      "source": [
        "def greedySearch(model, photo, wordtoix):\n",
        "    in_text = 'startseq'\n",
        "    for i in range(max_length_caption):\n",
        "        sequence = [wordtoix[w] for w in in_text.split() if w in wordtoix]\n",
        "        sequence = pad_sequences([sequence], maxlen=max_length_caption)\n",
        "        yhat = model.predict([photo,sequence], verbose=0)\n",
        "        yhat = np.argmax(yhat)\n",
        "        word = ixtoword[yhat]\n",
        "        in_text += ' ' + word\n",
        "        if word == 'endseq':\n",
        "            break\n",
        "    final = in_text.split()\n",
        "    final = final[1:-1]\n",
        "    final = ' '.join(final)\n",
        "    return final"
      ],
      "execution_count": 0,
      "outputs": []
    },
    {
      "cell_type": "code",
      "metadata": {
        "id": "nOszOQCSUlKA",
        "colab_type": "code",
        "colab": {
          "base_uri": "https://localhost:8080/",
          "height": 52
        },
        "outputId": "bd72e975-5a4a-4586-a26d-7fc6e1681958"
      },
      "source": [
        "sample_predict_image = X1val[1]\n",
        "sample_predict_image.reshape((1, 2048))"
      ],
      "execution_count": 98,
      "outputs": [
        {
          "output_type": "execute_result",
          "data": {
            "text/plain": [
              "array([[0.4987718, 0.5118383, 0.5580948, ..., 0.5969279, 1.0398719,\n",
              "        1.0383673]], dtype=float32)"
            ]
          },
          "metadata": {
            "tags": []
          },
          "execution_count": 98
        }
      ]
    },
    {
      "cell_type": "code",
      "metadata": {
        "id": "6xsMnmeBS23S",
        "colab_type": "code",
        "colab": {
          "base_uri": "https://localhost:8080/",
          "height": 365
        },
        "outputId": "49a7b742-0d86-43cd-c6ed-1c220c18b6dd"
      },
      "source": [
        "greedySearch(best_model, sample_predict_image, word_to_index)"
      ],
      "execution_count": 99,
      "outputs": [
        {
          "output_type": "error",
          "ename": "ValueError",
          "evalue": "ignored",
          "traceback": [
            "\u001b[0;31m---------------------------------------------------------------------------\u001b[0m",
            "\u001b[0;31mValueError\u001b[0m                                Traceback (most recent call last)",
            "\u001b[0;32m<ipython-input-99-a42c6e326f22>\u001b[0m in \u001b[0;36m<module>\u001b[0;34m()\u001b[0m\n\u001b[0;32m----> 1\u001b[0;31m \u001b[0mgreedySearch\u001b[0m\u001b[0;34m(\u001b[0m\u001b[0mbest_model\u001b[0m\u001b[0;34m,\u001b[0m \u001b[0msample_predict_image\u001b[0m\u001b[0;34m,\u001b[0m \u001b[0mword_to_index\u001b[0m\u001b[0;34m)\u001b[0m\u001b[0;34m\u001b[0m\u001b[0;34m\u001b[0m\u001b[0m\n\u001b[0m",
            "\u001b[0;32m<ipython-input-96-27481d8211d9>\u001b[0m in \u001b[0;36mgreedySearch\u001b[0;34m(model, photo, wordtoix)\u001b[0m\n\u001b[1;32m      5\u001b[0m         \u001b[0msequence\u001b[0m \u001b[0;34m=\u001b[0m \u001b[0;34m[\u001b[0m\u001b[0mwordtoix\u001b[0m\u001b[0;34m[\u001b[0m\u001b[0mw\u001b[0m\u001b[0;34m]\u001b[0m \u001b[0;32mfor\u001b[0m \u001b[0mw\u001b[0m \u001b[0;32min\u001b[0m \u001b[0min_text\u001b[0m\u001b[0;34m.\u001b[0m\u001b[0msplit\u001b[0m\u001b[0;34m(\u001b[0m\u001b[0;34m)\u001b[0m \u001b[0;32mif\u001b[0m \u001b[0mw\u001b[0m \u001b[0;32min\u001b[0m \u001b[0mwordtoix\u001b[0m\u001b[0;34m]\u001b[0m\u001b[0;34m\u001b[0m\u001b[0;34m\u001b[0m\u001b[0m\n\u001b[1;32m      6\u001b[0m         \u001b[0msequence\u001b[0m \u001b[0;34m=\u001b[0m \u001b[0mpad_sequences\u001b[0m\u001b[0;34m(\u001b[0m\u001b[0;34m[\u001b[0m\u001b[0msequence\u001b[0m\u001b[0;34m]\u001b[0m\u001b[0;34m,\u001b[0m \u001b[0mmaxlen\u001b[0m\u001b[0;34m=\u001b[0m\u001b[0mmax_length_caption\u001b[0m\u001b[0;34m)\u001b[0m\u001b[0;34m\u001b[0m\u001b[0;34m\u001b[0m\u001b[0m\n\u001b[0;32m----> 7\u001b[0;31m         \u001b[0myhat\u001b[0m \u001b[0;34m=\u001b[0m \u001b[0mmodel\u001b[0m\u001b[0;34m.\u001b[0m\u001b[0mpredict\u001b[0m\u001b[0;34m(\u001b[0m\u001b[0;34m[\u001b[0m\u001b[0mphoto\u001b[0m\u001b[0;34m,\u001b[0m\u001b[0msequence\u001b[0m\u001b[0;34m]\u001b[0m\u001b[0;34m,\u001b[0m \u001b[0mverbose\u001b[0m\u001b[0;34m=\u001b[0m\u001b[0;36m0\u001b[0m\u001b[0;34m)\u001b[0m\u001b[0;34m\u001b[0m\u001b[0;34m\u001b[0m\u001b[0m\n\u001b[0m\u001b[1;32m      8\u001b[0m         \u001b[0myhat\u001b[0m \u001b[0;34m=\u001b[0m \u001b[0mnp\u001b[0m\u001b[0;34m.\u001b[0m\u001b[0margmax\u001b[0m\u001b[0;34m(\u001b[0m\u001b[0myhat\u001b[0m\u001b[0;34m)\u001b[0m\u001b[0;34m\u001b[0m\u001b[0;34m\u001b[0m\u001b[0m\n\u001b[1;32m      9\u001b[0m         \u001b[0mword\u001b[0m \u001b[0;34m=\u001b[0m \u001b[0mixtoword\u001b[0m\u001b[0;34m[\u001b[0m\u001b[0myhat\u001b[0m\u001b[0;34m]\u001b[0m\u001b[0;34m\u001b[0m\u001b[0;34m\u001b[0m\u001b[0m\n",
            "\u001b[0;32m/usr/local/lib/python3.6/dist-packages/tensorflow/python/keras/engine/training.py\u001b[0m in \u001b[0;36m_method_wrapper\u001b[0;34m(self, *args, **kwargs)\u001b[0m\n\u001b[1;32m     86\u001b[0m       raise ValueError('{} is not supported in multi-worker mode.'.format(\n\u001b[1;32m     87\u001b[0m           method.__name__))\n\u001b[0;32m---> 88\u001b[0;31m     \u001b[0;32mreturn\u001b[0m \u001b[0mmethod\u001b[0m\u001b[0;34m(\u001b[0m\u001b[0mself\u001b[0m\u001b[0;34m,\u001b[0m \u001b[0;34m*\u001b[0m\u001b[0margs\u001b[0m\u001b[0;34m,\u001b[0m \u001b[0;34m**\u001b[0m\u001b[0mkwargs\u001b[0m\u001b[0;34m)\u001b[0m\u001b[0;34m\u001b[0m\u001b[0;34m\u001b[0m\u001b[0m\n\u001b[0m\u001b[1;32m     89\u001b[0m \u001b[0;34m\u001b[0m\u001b[0m\n\u001b[1;32m     90\u001b[0m   return tf_decorator.make_decorator(\n",
            "\u001b[0;32m/usr/local/lib/python3.6/dist-packages/tensorflow/python/keras/engine/training.py\u001b[0m in \u001b[0;36mpredict\u001b[0;34m(self, x, batch_size, verbose, steps, callbacks, max_queue_size, workers, use_multiprocessing)\u001b[0m\n\u001b[1;32m   1247\u001b[0m           \u001b[0mworkers\u001b[0m\u001b[0;34m=\u001b[0m\u001b[0mworkers\u001b[0m\u001b[0;34m,\u001b[0m\u001b[0;34m\u001b[0m\u001b[0;34m\u001b[0m\u001b[0m\n\u001b[1;32m   1248\u001b[0m           \u001b[0muse_multiprocessing\u001b[0m\u001b[0;34m=\u001b[0m\u001b[0muse_multiprocessing\u001b[0m\u001b[0;34m,\u001b[0m\u001b[0;34m\u001b[0m\u001b[0;34m\u001b[0m\u001b[0m\n\u001b[0;32m-> 1249\u001b[0;31m           model=self)\n\u001b[0m\u001b[1;32m   1250\u001b[0m \u001b[0;34m\u001b[0m\u001b[0m\n\u001b[1;32m   1251\u001b[0m       \u001b[0;31m# Container that configures and calls `tf.keras.Callback`s.\u001b[0m\u001b[0;34m\u001b[0m\u001b[0;34m\u001b[0m\u001b[0;34m\u001b[0m\u001b[0m\n",
            "\u001b[0;32m/usr/local/lib/python3.6/dist-packages/tensorflow/python/keras/engine/data_adapter.py\u001b[0m in \u001b[0;36m__init__\u001b[0;34m(self, x, y, sample_weight, batch_size, steps_per_epoch, initial_epoch, epochs, shuffle, class_weight, max_queue_size, workers, use_multiprocessing, model)\u001b[0m\n\u001b[1;32m   1110\u001b[0m         \u001b[0muse_multiprocessing\u001b[0m\u001b[0;34m=\u001b[0m\u001b[0muse_multiprocessing\u001b[0m\u001b[0;34m,\u001b[0m\u001b[0;34m\u001b[0m\u001b[0;34m\u001b[0m\u001b[0m\n\u001b[1;32m   1111\u001b[0m         \u001b[0mdistribution_strategy\u001b[0m\u001b[0;34m=\u001b[0m\u001b[0mds_context\u001b[0m\u001b[0;34m.\u001b[0m\u001b[0mget_strategy\u001b[0m\u001b[0;34m(\u001b[0m\u001b[0;34m)\u001b[0m\u001b[0;34m,\u001b[0m\u001b[0;34m\u001b[0m\u001b[0;34m\u001b[0m\u001b[0m\n\u001b[0;32m-> 1112\u001b[0;31m         model=model)\n\u001b[0m\u001b[1;32m   1113\u001b[0m \u001b[0;34m\u001b[0m\u001b[0m\n\u001b[1;32m   1114\u001b[0m     \u001b[0mstrategy\u001b[0m \u001b[0;34m=\u001b[0m \u001b[0mds_context\u001b[0m\u001b[0;34m.\u001b[0m\u001b[0mget_strategy\u001b[0m\u001b[0;34m(\u001b[0m\u001b[0;34m)\u001b[0m\u001b[0;34m\u001b[0m\u001b[0;34m\u001b[0m\u001b[0m\n",
            "\u001b[0;32m/usr/local/lib/python3.6/dist-packages/tensorflow/python/keras/engine/data_adapter.py\u001b[0m in \u001b[0;36m__init__\u001b[0;34m(self, x, y, sample_weights, sample_weight_modes, batch_size, epochs, steps, shuffle, **kwargs)\u001b[0m\n\u001b[1;32m    280\u001b[0m             label, \", \".join(str(i.shape[0]) for i in nest.flatten(data)))\n\u001b[1;32m    281\u001b[0m       \u001b[0mmsg\u001b[0m \u001b[0;34m+=\u001b[0m \u001b[0;34m\"Please provide data which shares the same first dimension.\"\u001b[0m\u001b[0;34m\u001b[0m\u001b[0;34m\u001b[0m\u001b[0m\n\u001b[0;32m--> 282\u001b[0;31m       \u001b[0;32mraise\u001b[0m \u001b[0mValueError\u001b[0m\u001b[0;34m(\u001b[0m\u001b[0mmsg\u001b[0m\u001b[0;34m)\u001b[0m\u001b[0;34m\u001b[0m\u001b[0;34m\u001b[0m\u001b[0m\n\u001b[0m\u001b[1;32m    283\u001b[0m     \u001b[0mnum_samples\u001b[0m \u001b[0;34m=\u001b[0m \u001b[0mnum_samples\u001b[0m\u001b[0;34m.\u001b[0m\u001b[0mpop\u001b[0m\u001b[0;34m(\u001b[0m\u001b[0;34m)\u001b[0m\u001b[0;34m\u001b[0m\u001b[0;34m\u001b[0m\u001b[0m\n\u001b[1;32m    284\u001b[0m \u001b[0;34m\u001b[0m\u001b[0m\n",
            "\u001b[0;31mValueError\u001b[0m: Data cardinality is ambiguous:\n  x sizes: 2048, 1\nPlease provide data which shares the same first dimension."
          ]
        }
      ]
    },
    {
      "cell_type": "code",
      "metadata": {
        "id": "8qk3hHaDhOGi",
        "colab_type": "code",
        "colab": {}
      },
      "source": [
        "# Reverse vectorisation of words to map integers back to words\n",
        "def word_for_id(integer, wordtoix):\n",
        "\tfor word, index in wordtoix.word_index.items():\n",
        "\t\tif index == integer:\n",
        "\t\t\treturn word\n",
        "\treturn None"
      ],
      "execution_count": 0,
      "outputs": []
    },
    {
      "cell_type": "code",
      "metadata": {
        "id": "ohVv_Kz5hejQ",
        "colab_type": "code",
        "colab": {}
      },
      "source": [
        "# Generate a description for an image\n",
        "def generate_desc(model, wordtoix, photo, max_length):\n",
        "\t# seed generation process\n",
        "\tin_text = 'startseq'\n",
        "\t# iterate over whole length of sequence\n",
        "\tfor i in range(max_length):\n",
        "\t\t# integer encode input sequence\n",
        "\t\tsequence = wordtoix.texts_to_sequences([in_text])[0]\n",
        "\t\t# pad input\n",
        "\t\tsequence = pad_sequences([sequence], maxlen=max_length)\n",
        "\t\t# predict next word\n",
        "\t\tyhat = model.predict([photo,sequence], verbose=0)\n",
        "\t\t# convert probability to integer\n",
        "\t\tyhat = argmax(yhat)\n",
        "\t\t# map integer to word\n",
        "\t\tword = word_for_id(yhat, wordtoix)\n",
        "\t\t# stop if we cannot map the word\n",
        "\t\tif word is None:\n",
        "\t\t\tbreak\n",
        "\t\t# append as input for generating the next word\n",
        "\t\tin_text += ' ' + word\n",
        "\t\t# stop if we predict the end of the sequence\n",
        "\t\tif word == 'endseq':\n",
        "\t\t\tbreak\n",
        "\treturn in_text"
      ],
      "execution_count": 0,
      "outputs": []
    },
    {
      "cell_type": "code",
      "metadata": {
        "id": "Vlytc6SphqTk",
        "colab_type": "code",
        "colab": {}
      },
      "source": [
        "# Evaluate model by predicting captions for images\n",
        "# Compare predicted captions to truth captions\n",
        "# Calculate BLEU-1 through BLEU-4 to determine model fit\n",
        "def evaluate_model(model, captions, features, wordix, max_length):\n",
        "\tactual, predicted = list(), list()\n",
        "\t# step over the whole set\n",
        "\tfor key, desc_list in captions.items():\n",
        "\t\t# generate description\n",
        "\t\ttemp = image_dir + '/'\n",
        "\t\tphoto = features[temp + key + '.jpg']\n",
        "\t\tyhat = generate_desc(model, wordix, photo, max_length)\n",
        "\t\t# store actual and predicted\n",
        "\t\treferences = [d.split() for d in desc_list]\n",
        "\t\tactual.append(references)\n",
        "\t\tpredicted.append(yhat.split())\n",
        "\t# calculate BLEU score\n",
        "\tprint('BLEU-1: %f' % corpus_bleu(actual, predicted, weights=(1.0, 0, 0, 0)))\n",
        "\tprint('BLEU-2: %f' % corpus_bleu(actual, predicted, weights=(0.5, 0.5, 0, 0)))\n",
        "\tprint('BLEU-3: %f' % corpus_bleu(actual, predicted, weights=(0.3, 0.3, 0.3, 0)))\n",
        "\tprint('BLEU-4: %f' % corpus_bleu(actual, predicted, weights=(0.25, 0.25, 0.25, 0.25)))"
      ],
      "execution_count": 0,
      "outputs": []
    },
    {
      "cell_type": "code",
      "metadata": {
        "id": "HW8hiqXV_kyS",
        "colab_type": "code",
        "colab": {}
      },
      "source": [
        "# Find best model file name from model.fit output and insert below\n",
        "best_model = 'checkpoints/rebecca/exp_5/model-ep003-loss3.224-val_loss3.372.h5' # CHANGE THIS\n",
        "\n",
        "# Load best model\n",
        "best_model = tf.keras.models.load_model(best_model)\n"
      ],
      "execution_count": 0,
      "outputs": []
    },
    {
      "cell_type": "code",
      "metadata": {
        "id": "ElfjpCj_A4Xa",
        "colab_type": "code",
        "outputId": "8e05c829-1a18-4f9e-a879-b697c156009d",
        "colab": {
          "base_uri": "https://localhost:8080/",
          "height": 400
        }
      },
      "source": [
        "# Calculate BLEU scores on validation dataset for best model\n",
        "tic = time.perf_counter()\n",
        "evaluate_model(best_model, val_captions, val_features_extended, word_to_index, max_length_caption)\n",
        "toc = time.perf_counter()\n",
        "run_time = (toc-tic)/60\n",
        "print(f'Model evaluated in: {run_time:0.2f} minutes')"
      ],
      "execution_count": 122,
      "outputs": [
        {
          "output_type": "error",
          "ename": "AttributeError",
          "evalue": "ignored",
          "traceback": [
            "\u001b[0;31m---------------------------------------------------------------------------\u001b[0m",
            "\u001b[0;31mAttributeError\u001b[0m                            Traceback (most recent call last)",
            "\u001b[0;32m<ipython-input-122-8abcfe5e600a>\u001b[0m in \u001b[0;36m<module>\u001b[0;34m()\u001b[0m\n\u001b[1;32m      1\u001b[0m \u001b[0;31m# Calculate BLEU scores on validation dataset for best model\u001b[0m\u001b[0;34m\u001b[0m\u001b[0;34m\u001b[0m\u001b[0;34m\u001b[0m\u001b[0m\n\u001b[1;32m      2\u001b[0m \u001b[0mtic\u001b[0m \u001b[0;34m=\u001b[0m \u001b[0mtime\u001b[0m\u001b[0;34m.\u001b[0m\u001b[0mperf_counter\u001b[0m\u001b[0;34m(\u001b[0m\u001b[0;34m)\u001b[0m\u001b[0;34m\u001b[0m\u001b[0;34m\u001b[0m\u001b[0m\n\u001b[0;32m----> 3\u001b[0;31m \u001b[0mevaluate_model\u001b[0m\u001b[0;34m(\u001b[0m\u001b[0mbest_model\u001b[0m\u001b[0;34m,\u001b[0m \u001b[0mval_captions\u001b[0m\u001b[0;34m,\u001b[0m \u001b[0mval_features_extended\u001b[0m\u001b[0;34m,\u001b[0m \u001b[0mword_to_index\u001b[0m\u001b[0;34m,\u001b[0m \u001b[0mmax_length_caption\u001b[0m\u001b[0;34m)\u001b[0m\u001b[0;34m\u001b[0m\u001b[0;34m\u001b[0m\u001b[0m\n\u001b[0m\u001b[1;32m      4\u001b[0m \u001b[0mtoc\u001b[0m \u001b[0;34m=\u001b[0m \u001b[0mtime\u001b[0m\u001b[0;34m.\u001b[0m\u001b[0mperf_counter\u001b[0m\u001b[0;34m(\u001b[0m\u001b[0;34m)\u001b[0m\u001b[0;34m\u001b[0m\u001b[0;34m\u001b[0m\u001b[0m\n\u001b[1;32m      5\u001b[0m \u001b[0mrun_time\u001b[0m \u001b[0;34m=\u001b[0m \u001b[0;34m(\u001b[0m\u001b[0mtoc\u001b[0m\u001b[0;34m-\u001b[0m\u001b[0mtic\u001b[0m\u001b[0;34m)\u001b[0m\u001b[0;34m/\u001b[0m\u001b[0;36m60\u001b[0m\u001b[0;34m\u001b[0m\u001b[0;34m\u001b[0m\u001b[0m\n",
            "\u001b[0;32m<ipython-input-121-ab8679fc7f2b>\u001b[0m in \u001b[0;36mevaluate_model\u001b[0;34m(model, captions, features, wordix, max_length)\u001b[0m\n\u001b[1;32m      9\u001b[0m                 \u001b[0mtemp\u001b[0m \u001b[0;34m=\u001b[0m \u001b[0mimage_dir\u001b[0m \u001b[0;34m+\u001b[0m \u001b[0;34m'/'\u001b[0m\u001b[0;34m\u001b[0m\u001b[0;34m\u001b[0m\u001b[0m\n\u001b[1;32m     10\u001b[0m                 \u001b[0mphoto\u001b[0m \u001b[0;34m=\u001b[0m \u001b[0mfeatures\u001b[0m\u001b[0;34m[\u001b[0m\u001b[0mtemp\u001b[0m \u001b[0;34m+\u001b[0m \u001b[0mkey\u001b[0m \u001b[0;34m+\u001b[0m \u001b[0;34m'.jpg'\u001b[0m\u001b[0;34m]\u001b[0m\u001b[0;34m\u001b[0m\u001b[0;34m\u001b[0m\u001b[0m\n\u001b[0;32m---> 11\u001b[0;31m                 \u001b[0myhat\u001b[0m \u001b[0;34m=\u001b[0m \u001b[0mgenerate_desc\u001b[0m\u001b[0;34m(\u001b[0m\u001b[0mmodel\u001b[0m\u001b[0;34m,\u001b[0m \u001b[0mwordix\u001b[0m\u001b[0;34m,\u001b[0m \u001b[0mphoto\u001b[0m\u001b[0;34m,\u001b[0m \u001b[0mmax_length\u001b[0m\u001b[0;34m)\u001b[0m\u001b[0;34m\u001b[0m\u001b[0;34m\u001b[0m\u001b[0m\n\u001b[0m\u001b[1;32m     12\u001b[0m                 \u001b[0;31m# store actual and predicted\u001b[0m\u001b[0;34m\u001b[0m\u001b[0;34m\u001b[0m\u001b[0;34m\u001b[0m\u001b[0m\n\u001b[1;32m     13\u001b[0m                 \u001b[0mreferences\u001b[0m \u001b[0;34m=\u001b[0m \u001b[0;34m[\u001b[0m\u001b[0md\u001b[0m\u001b[0;34m.\u001b[0m\u001b[0msplit\u001b[0m\u001b[0;34m(\u001b[0m\u001b[0;34m)\u001b[0m \u001b[0;32mfor\u001b[0m \u001b[0md\u001b[0m \u001b[0;32min\u001b[0m \u001b[0mdesc_list\u001b[0m\u001b[0;34m]\u001b[0m\u001b[0;34m\u001b[0m\u001b[0;34m\u001b[0m\u001b[0m\n",
            "\u001b[0;32m<ipython-input-112-bfb99bcfe919>\u001b[0m in \u001b[0;36mgenerate_desc\u001b[0;34m(model, wordtoix, photo, max_length)\u001b[0m\n\u001b[1;32m      6\u001b[0m         \u001b[0;32mfor\u001b[0m \u001b[0mi\u001b[0m \u001b[0;32min\u001b[0m \u001b[0mrange\u001b[0m\u001b[0;34m(\u001b[0m\u001b[0mmax_length\u001b[0m\u001b[0;34m)\u001b[0m\u001b[0;34m:\u001b[0m\u001b[0;34m\u001b[0m\u001b[0;34m\u001b[0m\u001b[0m\n\u001b[1;32m      7\u001b[0m                 \u001b[0;31m# integer encode input sequence\u001b[0m\u001b[0;34m\u001b[0m\u001b[0;34m\u001b[0m\u001b[0;34m\u001b[0m\u001b[0m\n\u001b[0;32m----> 8\u001b[0;31m                 \u001b[0msequence\u001b[0m \u001b[0;34m=\u001b[0m \u001b[0mwordtoix\u001b[0m\u001b[0;34m.\u001b[0m\u001b[0mtexts_to_sequences\u001b[0m\u001b[0;34m(\u001b[0m\u001b[0;34m[\u001b[0m\u001b[0min_text\u001b[0m\u001b[0;34m]\u001b[0m\u001b[0;34m)\u001b[0m\u001b[0;34m[\u001b[0m\u001b[0;36m0\u001b[0m\u001b[0;34m]\u001b[0m\u001b[0;34m\u001b[0m\u001b[0;34m\u001b[0m\u001b[0m\n\u001b[0m\u001b[1;32m      9\u001b[0m                 \u001b[0;31m# pad input\u001b[0m\u001b[0;34m\u001b[0m\u001b[0;34m\u001b[0m\u001b[0;34m\u001b[0m\u001b[0m\n\u001b[1;32m     10\u001b[0m                 \u001b[0msequence\u001b[0m \u001b[0;34m=\u001b[0m \u001b[0mpad_sequences\u001b[0m\u001b[0;34m(\u001b[0m\u001b[0;34m[\u001b[0m\u001b[0msequence\u001b[0m\u001b[0;34m]\u001b[0m\u001b[0;34m,\u001b[0m \u001b[0mmaxlen\u001b[0m\u001b[0;34m=\u001b[0m\u001b[0mmax_length\u001b[0m\u001b[0;34m)\u001b[0m\u001b[0;34m\u001b[0m\u001b[0;34m\u001b[0m\u001b[0m\n",
            "\u001b[0;31mAttributeError\u001b[0m: 'dict' object has no attribute 'texts_to_sequences'"
          ]
        }
      ]
    },
    {
      "cell_type": "code",
      "metadata": {
        "id": "sUHXLI7rbhkJ",
        "colab_type": "code",
        "colab": {}
      },
      "source": [
        "val_features_extended = {k: val_features[k] for k in val_features}"
      ],
      "execution_count": 0,
      "outputs": []
    },
    {
      "cell_type": "code",
      "metadata": {
        "id": "LKst3wRob6lN",
        "colab_type": "code",
        "colab": {
          "base_uri": "https://localhost:8080/",
          "height": 1000
        },
        "outputId": "009aa9d2-51aa-4938-e5ae-11104ce6b0ed"
      },
      "source": [
        ""
      ],
      "execution_count": 123,
      "outputs": [
        {
          "output_type": "execute_result",
          "data": {
            "text/plain": [
              "{'/content/drive/Shared drives/DL_AT3/Experimentation/Flicker8k_Dataset/2090545563_a4e66ec76b.jpg': array([0.0521554 , 0.4960571 , 0.7101976 , ..., 1.0289885 , 0.03897582,\n",
              "        0.17930955], dtype=float32),\n",
              " '/content/drive/Shared drives/DL_AT3/Experimentation/Flicker8k_Dataset/3393035454_2d2370ffd4.jpg': array([0.07544497, 0.2420105 , 0.71981263, ..., 0.3938231 , 0.23637807,\n",
              "        0.20893596], dtype=float32),\n",
              " '/content/drive/Shared drives/DL_AT3/Experimentation/Flicker8k_Dataset/3695064885_a6922f06b2.jpg': array([0.45498163, 0.68771505, 1.0108081 , ..., 0.11809969, 0.7978896 ,\n",
              "        0.10715065], dtype=float32),\n",
              " '/content/drive/Shared drives/DL_AT3/Experimentation/Flicker8k_Dataset/1679557684_50a206e4a9.jpg': array([0.37189537, 0.7874425 , 0.17441615, ..., 0.27161545, 1.4280212 ,\n",
              "        1.38026   ], dtype=float32),\n",
              " '/content/drive/Shared drives/DL_AT3/Experimentation/Flicker8k_Dataset/3582685410_05315a15b8.jpg': array([0.6007186 , 0.11500151, 0.5007694 , ..., 0.35232958, 0.9228391 ,\n",
              "        0.02776774], dtype=float32),\n",
              " '/content/drive/Shared drives/DL_AT3/Experimentation/Flicker8k_Dataset/1579798212_d30844b4c5.jpg': array([0.8896644 , 0.3343447 , 0.99741507, ..., 0.42399248, 1.2146711 ,\n",
              "        0.14529486], dtype=float32),\n",
              " '/content/drive/Shared drives/DL_AT3/Experimentation/Flicker8k_Dataset/269650644_059a84ece5.jpg': array([0.7041322 , 0.50681025, 0.4191696 , ..., 0.898221  , 0.4665618 ,\n",
              "        0.12681222], dtype=float32),\n",
              " '/content/drive/Shared drives/DL_AT3/Experimentation/Flicker8k_Dataset/2596619849_7b635dd310.jpg': array([0.24348496, 0.44879603, 0.24559368, ..., 0.09553106, 0.2086707 ,\n",
              "        0.15408595], dtype=float32),\n",
              " '/content/drive/Shared drives/DL_AT3/Experimentation/Flicker8k_Dataset/2635164923_2a774f7854.jpg': array([0.07007637, 0.10295711, 0.61224437, ..., 0.18046595, 0.21154314,\n",
              "        0.5109643 ], dtype=float32),\n",
              " '/content/drive/Shared drives/DL_AT3/Experimentation/Flicker8k_Dataset/3583321426_f373c52161.jpg': array([0.12899995, 0.63451385, 0.89993775, ..., 0.2412325 , 0.48455533,\n",
              "        0.10351778], dtype=float32),\n",
              " '/content/drive/Shared drives/DL_AT3/Experimentation/Flicker8k_Dataset/2735792721_b8fe85e803.jpg': array([0.25960612, 0.26352793, 0.15446155, ..., 0.37540448, 0.6308981 ,\n",
              "        0.2339136 ], dtype=float32),\n",
              " '/content/drive/Shared drives/DL_AT3/Experimentation/Flicker8k_Dataset/3484841598_e26ee96aab.jpg': array([0.30049902, 0.2970855 , 0.34909898, ..., 0.15455708, 0.39614907,\n",
              "        0.0453717 ], dtype=float32),\n",
              " '/content/drive/Shared drives/DL_AT3/Experimentation/Flicker8k_Dataset/2490687446_9d46fdf5a9.jpg': array([0.15685004, 0.25830543, 0.01853891, ..., 0.5628947 , 0.32436594,\n",
              "        0.06402642], dtype=float32),\n",
              " '/content/drive/Shared drives/DL_AT3/Experimentation/Flicker8k_Dataset/2987328689_96a2d814f1.jpg': array([0.33040947, 0.21528013, 0.207876  , ..., 0.37899107, 0.8218341 ,\n",
              "        0.17087455], dtype=float32),\n",
              " '/content/drive/Shared drives/DL_AT3/Experimentation/Flicker8k_Dataset/2992614450_b5a6692239.jpg': array([0.42277682, 0.5170117 , 0.12228899, ..., 0.26135093, 0.11407126,\n",
              "        0.22198942], dtype=float32),\n",
              " '/content/drive/Shared drives/DL_AT3/Experimentation/Flicker8k_Dataset/2391812384_7429b5e567.jpg': array([1.2221737e+00, 1.7867467e-01, 5.4145241e-01, ..., 5.0546676e-01,\n",
              "        9.8143482e-01, 8.9759000e-05], dtype=float32),\n",
              " '/content/drive/Shared drives/DL_AT3/Experimentation/Flicker8k_Dataset/3665179773_dd217416fc.jpg': array([0.16227157, 0.201599  , 1.1928904 , ..., 0.98774946, 0.80223036,\n",
              "        0.4103061 ], dtype=float32),\n",
              " '/content/drive/Shared drives/DL_AT3/Experimentation/Flicker8k_Dataset/3515904775_f8acc5909e.jpg': array([0.18664625, 0.14867955, 0.16784261, ..., 0.38561052, 1.187121  ,\n",
              "        0.08464812], dtype=float32),\n",
              " '/content/drive/Shared drives/DL_AT3/Experimentation/Flicker8k_Dataset/3616808182_fb4eaec778.jpg': array([0.02172702, 0.4102571 , 0.27037266, ..., 0.12776884, 0.93494743,\n",
              "        0.58378947], dtype=float32),\n",
              " '/content/drive/Shared drives/DL_AT3/Experimentation/Flicker8k_Dataset/3652150541_8fb5a3a5d1.jpg': array([0.9891224 , 0.6071087 , 0.42326596, ..., 0.13133782, 0.33846152,\n",
              "        0.24031186], dtype=float32),\n",
              " '/content/drive/Shared drives/DL_AT3/Experimentation/Flicker8k_Dataset/3693961165_9d6c333d5b.jpg': array([0.475569  , 0.3030315 , 0.08292853, ..., 0.8402698 , 0.37480682,\n",
              "        0.7198103 ], dtype=float32),\n",
              " '/content/drive/Shared drives/DL_AT3/Experimentation/Flicker8k_Dataset/2895700779_fac1d9d278.jpg': array([0.5063129 , 0.53659546, 0.6942396 , ..., 1.1155031 , 0.38847864,\n",
              "        0.28372318], dtype=float32),\n",
              " '/content/drive/Shared drives/DL_AT3/Experimentation/Flicker8k_Dataset/2474092890_6c0781a8ed.jpg': array([0.3606577 , 0.31703073, 0.3964695 , ..., 0.17302123, 0.13869786,\n",
              "        0.10660551], dtype=float32),\n",
              " '/content/drive/Shared drives/DL_AT3/Experimentation/Flicker8k_Dataset/3420469425_2980b4cd30.jpg': array([1.14889   , 1.5955391 , 1.3150622 , ..., 0.3069222 , 0.3791188 ,\n",
              "        0.24814446], dtype=float32),\n",
              " '/content/drive/Shared drives/DL_AT3/Experimentation/Flicker8k_Dataset/537222436_ab406234ce.jpg': array([0.39220342, 0.4934861 , 0.7759988 , ..., 0.97487664, 0.23450488,\n",
              "        0.10141946], dtype=float32),\n",
              " '/content/drive/Shared drives/DL_AT3/Experimentation/Flicker8k_Dataset/3419634480_c390f62a6e.jpg': array([0.34219313, 0.3091781 , 0.03804743, ..., 0.04423969, 0.32723835,\n",
              "        0.11181825], dtype=float32),\n",
              " '/content/drive/Shared drives/DL_AT3/Experimentation/Flicker8k_Dataset/2659183350_730951f740.jpg': array([0.47817117, 0.11573999, 0.4456768 , ..., 0.00281522, 0.99292976,\n",
              "        0.4582717 ], dtype=float32),\n",
              " '/content/drive/Shared drives/DL_AT3/Experimentation/Flicker8k_Dataset/1178705300_c224d9a4f1.jpg': array([0.1645301 , 0.16134423, 0.15593897, ..., 0.9358715 , 0.7815819 ,\n",
              "        0.21071778], dtype=float32),\n",
              " '/content/drive/Shared drives/DL_AT3/Experimentation/Flicker8k_Dataset/989851184_9ef368e520.jpg': array([0.35850418, 0.1092775 , 0.15443464, ..., 0.07366562, 0.88585496,\n",
              "        1.189287  ], dtype=float32),\n",
              " '/content/drive/Shared drives/DL_AT3/Experimentation/Flicker8k_Dataset/535123126_c06c1ab9bf.jpg': array([0.24797535, 0.23449837, 0.23509966, ..., 0.31831098, 0.24760297,\n",
              "        0.25423685], dtype=float32),\n",
              " '/content/drive/Shared drives/DL_AT3/Experimentation/Flicker8k_Dataset/3226541300_6c81711e8e.jpg': array([0.50228727, 0.34727877, 0.9949525 , ..., 0.47818694, 0.28643242,\n",
              "        0.12844542], dtype=float32),\n",
              " '/content/drive/Shared drives/DL_AT3/Experimentation/Flicker8k_Dataset/3457784061_8f77f43a9c.jpg': array([0.59771156, 0.28415957, 0.5589671 , ..., 0.0761361 , 0.3130026 ,\n",
              "        0.09779875], dtype=float32),\n",
              " '/content/drive/Shared drives/DL_AT3/Experimentation/Flicker8k_Dataset/3364715316_df8c20bac1.jpg': array([0.2996508 , 0.09466446, 0.13141629, ..., 0.4422952 , 0.98124063,\n",
              "        0.1698932 ], dtype=float32),\n",
              " '/content/drive/Shared drives/DL_AT3/Experimentation/Flicker8k_Dataset/233361142_d9d5f0cae9.jpg': array([0.53686905, 0.7898265 , 0.06538095, ..., 0.2508018 , 1.0378034 ,\n",
              "        0.9502414 ], dtype=float32),\n",
              " '/content/drive/Shared drives/DL_AT3/Experimentation/Flicker8k_Dataset/634891010_9fa189effb.jpg': array([0.23102427, 0.21873134, 0.38469902, ..., 0.28124747, 0.59982353,\n",
              "        0.36029226], dtype=float32),\n",
              " '/content/drive/Shared drives/DL_AT3/Experimentation/Flicker8k_Dataset/2977379863_2e8d7a104e.jpg': array([0.2767659 , 0.48740658, 0.6225389 , ..., 1.1181769 , 1.5872347 ,\n",
              "        0.07740241], dtype=float32),\n",
              " '/content/drive/Shared drives/DL_AT3/Experimentation/Flicker8k_Dataset/3663951804_868982f3f9.jpg': array([0.18270195, 0.01777148, 0.19403553, ..., 0.8108985 , 0.11579534,\n",
              "        0.1317571 ], dtype=float32),\n",
              " '/content/drive/Shared drives/DL_AT3/Experimentation/Flicker8k_Dataset/3170802797_3c851bb475.jpg': array([0.24347721, 0.3325514 , 0.3341928 , ..., 0.17181581, 0.36372113,\n",
              "        0.06246061], dtype=float32),\n",
              " '/content/drive/Shared drives/DL_AT3/Experimentation/Flicker8k_Dataset/2409597310_958f5d8aff.jpg': array([0.41107118, 0.27089986, 0.075799  , ..., 0.50084615, 0.3143025 ,\n",
              "        0.6359635 ], dtype=float32),\n",
              " '/content/drive/Shared drives/DL_AT3/Experimentation/Flicker8k_Dataset/2384550175_e421d3a871.jpg': array([0.7680563 , 0.31707075, 0.4392302 , ..., 0.48242846, 0.41902995,\n",
              "        0.13140845], dtype=float32),\n",
              " '/content/drive/Shared drives/DL_AT3/Experimentation/Flicker8k_Dataset/2786245676_0a69543832.jpg': array([0.27635247, 0.14576381, 0.15751174, ..., 0.68299013, 1.1590846 ,\n",
              "        0.39642164], dtype=float32),\n",
              " '/content/drive/Shared drives/DL_AT3/Experimentation/Flicker8k_Dataset/3346918203_986dca6641.jpg': array([0.14415503, 0.09456819, 0.05233646, ..., 0.1319451 , 0.73815495,\n",
              "        0.25435978], dtype=float32),\n",
              " '/content/drive/Shared drives/DL_AT3/Experimentation/Flicker8k_Dataset/2597958208_e03aa149c9.jpg': array([0.48718882, 0.25193724, 0.8387805 , ..., 0.17463863, 0.00638471,\n",
              "        0.31534111], dtype=float32),\n",
              " '/content/drive/Shared drives/DL_AT3/Experimentation/Flicker8k_Dataset/3710520638_866d542a80.jpg': array([0.30787295, 0.17012212, 0.28827685, ..., 0.48320633, 0.8226184 ,\n",
              "        0.01760137], dtype=float32),\n",
              " '/content/drive/Shared drives/DL_AT3/Experimentation/Flicker8k_Dataset/3435015880_eda46ff50f.jpg': array([0.14218202, 0.10794094, 0.49154344, ..., 0.3120885 , 0.04996473,\n",
              "        0.20637639], dtype=float32),\n",
              " '/content/drive/Shared drives/DL_AT3/Experimentation/Flicker8k_Dataset/391324644_d23fdf06cb.jpg': array([0.22155812, 0.6234823 , 0.2293893 , ..., 0.01019078, 0.04382387,\n",
              "        0.11381766], dtype=float32),\n",
              " '/content/drive/Shared drives/DL_AT3/Experimentation/Flicker8k_Dataset/2381613738_d8d2012e3c.jpg': array([0.04624723, 0.20068485, 0.29762754, ..., 0.50883687, 0.22259974,\n",
              "        0.2106784 ], dtype=float32),\n",
              " '/content/drive/Shared drives/DL_AT3/Experimentation/Flicker8k_Dataset/411175971_0fffd3b8c6.jpg': array([0.26927987, 0.07090017, 0.5965773 , ..., 0.25093877, 0.5279193 ,\n",
              "        0.1428172 ], dtype=float32),\n",
              " '/content/drive/Shared drives/DL_AT3/Experimentation/Flicker8k_Dataset/2475300106_b8563111ba.jpg': array([0.17091985, 0.51029503, 0.09840653, ..., 0.5031954 , 0.390839  ,\n",
              "        0.2951378 ], dtype=float32),\n",
              " '/content/drive/Shared drives/DL_AT3/Experimentation/Flicker8k_Dataset/2752923489_d3bceebacb.jpg': array([0.71585333, 1.128448  , 1.6012179 , ..., 0.62214684, 0.7246177 ,\n",
              "        0.09060761], dtype=float32),\n",
              " '/content/drive/Shared drives/DL_AT3/Experimentation/Flicker8k_Dataset/3294952558_96bb8c8cf3.jpg': array([0.08697124, 0.62386644, 0.28945097, ..., 0.47632104, 0.30701506,\n",
              "        1.1118623 ], dtype=float32),\n",
              " '/content/drive/Shared drives/DL_AT3/Experimentation/Flicker8k_Dataset/3286543624_7a327f79ae.jpg': array([0.52054197, 0.1786126 , 0.01824264, ..., 0.17823023, 1.0812237 ,\n",
              "        0.27025485], dtype=float32),\n",
              " '/content/drive/Shared drives/DL_AT3/Experimentation/Flicker8k_Dataset/1440024115_129212c988.jpg': array([0.1030577 , 0.12552226, 0.23020986, ..., 0.13854158, 0.3213898 ,\n",
              "        0.40386537], dtype=float32),\n",
              " '/content/drive/Shared drives/DL_AT3/Experimentation/Flicker8k_Dataset/111497985_38e9f88856.jpg': array([0.6650812 , 0.04951845, 0.5093473 , ..., 0.26865697, 0.3290225 ,\n",
              "        0.5820067 ], dtype=float32),\n",
              " '/content/drive/Shared drives/DL_AT3/Experimentation/Flicker8k_Dataset/3512127856_18a4c7aace.jpg': array([0.40355694, 0.18981683, 0.26122814, ..., 0.4245236 , 0.559845  ,\n",
              "        0.37261915], dtype=float32),\n",
              " '/content/drive/Shared drives/DL_AT3/Experimentation/Flicker8k_Dataset/3158327361_6f1a518228.jpg': array([0.47279596, 0.03284954, 0.6500863 , ..., 1.5569975 , 0.6748217 ,\n",
              "        0.45326805], dtype=float32),\n",
              " '/content/drive/Shared drives/DL_AT3/Experimentation/Flicker8k_Dataset/3570800810_978c993133.jpg': array([0.30593288, 0.3455541 , 0.34175894, ..., 0.28521866, 0.8831403 ,\n",
              "        0.21601401], dtype=float32),\n",
              " '/content/drive/Shared drives/DL_AT3/Experimentation/Flicker8k_Dataset/2402793046_3385554e81.jpg': array([0.52709866, 0.1926617 , 0.07342889, ..., 1.0888388 , 0.00185004,\n",
              "        0.2728939 ], dtype=float32),\n",
              " '/content/drive/Shared drives/DL_AT3/Experimentation/Flicker8k_Dataset/3197791645_601908f26b.jpg': array([0.85226893, 0.06970885, 1.0934265 , ..., 0.26033044, 1.0298119 ,\n",
              "        0.4253095 ], dtype=float32),\n",
              " '/content/drive/Shared drives/DL_AT3/Experimentation/Flicker8k_Dataset/3523819210_99782628fc.jpg': array([0.3029369 , 0.15521578, 0.2326656 , ..., 1.0488307 , 0.6001733 ,\n",
              "        1.5158422 ], dtype=float32),\n",
              " '/content/drive/Shared drives/DL_AT3/Experimentation/Flicker8k_Dataset/3183875944_b2be694e06.jpg': array([0.35332185, 0.04233775, 0.12798533, ..., 0.14746737, 0.9328182 ,\n",
              "        0.4874776 ], dtype=float32),\n",
              " '/content/drive/Shared drives/DL_AT3/Experimentation/Flicker8k_Dataset/3161044966_27bf6f9dec.jpg': array([0.2003669 , 0.4656551 , 0.5004363 , ..., 0.8738893 , 0.09166464,\n",
              "        0.47054482], dtype=float32),\n",
              " '/content/drive/Shared drives/DL_AT3/Experimentation/Flicker8k_Dataset/3209966887_5b744bd050.jpg': array([0.18880406, 0.37154797, 0.7858584 , ..., 0.47984394, 0.9299845 ,\n",
              "        0.59347236], dtype=float32),\n",
              " '/content/drive/Shared drives/DL_AT3/Experimentation/Flicker8k_Dataset/3535768334_a3924bcccd.jpg': array([0.0319194 , 0.2602986 , 0.16087988, ..., 0.12315419, 0.20104189,\n",
              "        0.10472855], dtype=float32),\n",
              " '/content/drive/Shared drives/DL_AT3/Experimentation/Flicker8k_Dataset/3461110860_37ef15af8e.jpg': array([0.800515  , 0.8078397 , 0.43911865, ..., 0.3345942 , 1.1285038 ,\n",
              "        0.21230893], dtype=float32),\n",
              " '/content/drive/Shared drives/DL_AT3/Experimentation/Flicker8k_Dataset/2863027424_9c75105660.jpg': array([0.20537543, 0.5131462 , 0.13165951, ..., 0.02470091, 0.739714  ,\n",
              "        0.14056958], dtype=float32),\n",
              " '/content/drive/Shared drives/DL_AT3/Experimentation/Flicker8k_Dataset/396763804_3b7f1e12a8.jpg': array([0.39953548, 1.1908729 , 0.6064445 , ..., 0.22822708, 0.99316925,\n",
              "        0.5142533 ], dtype=float32),\n",
              " '/content/drive/Shared drives/DL_AT3/Experimentation/Flicker8k_Dataset/3193511842_82549c21fb.jpg': array([0.49769035, 0.9207344 , 0.23307462, ..., 0.72922814, 0.5917398 ,\n",
              "        0.22652659], dtype=float32),\n",
              " '/content/drive/Shared drives/DL_AT3/Experimentation/Flicker8k_Dataset/2800990525_a1f8427272.jpg': array([0.6339171 , 0.30583614, 0.2045312 , ..., 0.798287  , 0.10801975,\n",
              "        0.10389083], dtype=float32),\n",
              " '/content/drive/Shared drives/DL_AT3/Experimentation/Flicker8k_Dataset/3437034427_6df5e9fbf9.jpg': array([0.6577726 , 0.48394638, 0.65584016, ..., 0.21086743, 0.9636539 ,\n",
              "        0.19112721], dtype=float32),\n",
              " '/content/drive/Shared drives/DL_AT3/Experimentation/Flicker8k_Dataset/2885891981_6b02620ae9.jpg': array([0.08323526, 0.61330235, 0.09843206, ..., 0.31290406, 0.51048756,\n",
              "        0.6932435 ], dtype=float32),\n",
              " '/content/drive/Shared drives/DL_AT3/Experimentation/Flicker8k_Dataset/369186134_5eef374112.jpg': array([0.39371878, 0.21569481, 0.23737311, ..., 0.27830365, 0.94297713,\n",
              "        1.1784581 ], dtype=float32),\n",
              " '/content/drive/Shared drives/DL_AT3/Experimentation/Flicker8k_Dataset/3365602213_dd3287a633.jpg': array([0.7362775 , 0.29811403, 0.10032609, ..., 0.58678216, 0.63061976,\n",
              "        1.158203  ], dtype=float32),\n",
              " '/content/drive/Shared drives/DL_AT3/Experimentation/Flicker8k_Dataset/3229913073_e7857a5966.jpg': array([0.27538383, 0.19730835, 0.08202623, ..., 1.0518987 , 0.5179502 ,\n",
              "        0.13730428], dtype=float32),\n",
              " '/content/drive/Shared drives/DL_AT3/Experimentation/Flicker8k_Dataset/2664103423_c539f61016.jpg': array([0.46636337, 0.04787846, 0.42503735, ..., 0.46380144, 0.6462972 ,\n",
              "        0.25445706], dtype=float32),\n",
              " '/content/drive/Shared drives/DL_AT3/Experimentation/Flicker8k_Dataset/3240558825_cd859d6230.jpg': array([0.18775329, 0.47999388, 0.7011558 , ..., 0.62597805, 0.6750765 ,\n",
              "        0.29804382], dtype=float32),\n",
              " '/content/drive/Shared drives/DL_AT3/Experimentation/Flicker8k_Dataset/1680126311_b92a2e8e72.jpg': array([0.1568142 , 0.10270403, 0.03305812, ..., 0.1562208 , 0.09385619,\n",
              "        0.03841215], dtype=float32),\n",
              " '/content/drive/Shared drives/DL_AT3/Experimentation/Flicker8k_Dataset/2578289278_01516d23a0.jpg': array([0.17263283, 0.35405564, 0.5174247 , ..., 0.41393954, 0.49281368,\n",
              "        1.3175147 ], dtype=float32),\n",
              " '/content/drive/Shared drives/DL_AT3/Experimentation/Flicker8k_Dataset/255741044_1102982213.jpg': array([0.46613875, 0.6011268 , 0.3001473 , ..., 0.15713558, 0.9867602 ,\n",
              "        1.3637435 ], dtype=float32),\n",
              " '/content/drive/Shared drives/DL_AT3/Experimentation/Flicker8k_Dataset/255266148_7ba7df1a88.jpg': array([0.16798395, 0.15394235, 0.21940047, ..., 0.23270915, 0.5852083 ,\n",
              "        0.35150075], dtype=float32),\n",
              " '/content/drive/Shared drives/DL_AT3/Experimentation/Flicker8k_Dataset/2890075175_4bd32b201a.jpg': array([0.29263198, 0.6038835 , 0.3366523 , ..., 0.15073073, 0.61110795,\n",
              "        0.47850788], dtype=float32),\n",
              " '/content/drive/Shared drives/DL_AT3/Experimentation/Flicker8k_Dataset/3044359043_627488ddf0.jpg': array([0.8816547 , 0.3229577 , 0.13266557, ..., 0.20942262, 0.6802563 ,\n",
              "        0.15000294], dtype=float32),\n",
              " '/content/drive/Shared drives/DL_AT3/Experimentation/Flicker8k_Dataset/2273799395_5072a5736d.jpg': array([0.2943693 , 0.12303349, 0.1603091 , ..., 0.30010793, 0.8383858 ,\n",
              "        0.6839224 ], dtype=float32),\n",
              " '/content/drive/Shared drives/DL_AT3/Experimentation/Flicker8k_Dataset/2934628301_41ea2e6cf9.jpg': array([0.21751153, 0.16838968, 0.26800308, ..., 0.08557795, 0.34815812,\n",
              "        0.9147612 ], dtype=float32),\n",
              " '/content/drive/Shared drives/DL_AT3/Experimentation/Flicker8k_Dataset/3319177177_130a72b8ae.jpg': array([0.11538085, 0.1873709 , 0.06303448, ..., 0.08447069, 0.2690686 ,\n",
              "        0.46130735], dtype=float32),\n",
              " '/content/drive/Shared drives/DL_AT3/Experimentation/Flicker8k_Dataset/427936315_0b8f7b8d23.jpg': array([0.3059926 , 0.3098161 , 0.11807812, ..., 0.57515717, 0.16504249,\n",
              "        0.11515132], dtype=float32),\n",
              " '/content/drive/Shared drives/DL_AT3/Experimentation/Flicker8k_Dataset/443430496_3fea95a07d.jpg': array([0.05567997, 0.03322781, 0.01172601, ..., 0.45388845, 0.12468207,\n",
              "        0.12260733], dtype=float32),\n",
              " '/content/drive/Shared drives/DL_AT3/Experimentation/Flicker8k_Dataset/2300229745_af7a20c959.jpg': array([0.3357705 , 0.36431542, 0.19312939, ..., 0.24742942, 0.2706663 ,\n",
              "        0.07080542], dtype=float32),\n",
              " '/content/drive/Shared drives/DL_AT3/Experimentation/Flicker8k_Dataset/3265162450_5b4e3c5f1b.jpg': array([0.11598499, 0.1295918 , 0.19324405, ..., 0.16619231, 0.35358235,\n",
              "        0.04050873], dtype=float32),\n",
              " '/content/drive/Shared drives/DL_AT3/Experimentation/Flicker8k_Dataset/1874617189_e85d3f4326.jpg': array([0.39546245, 0.17674887, 0.46179315, ..., 0.46739632, 0.82863   ,\n",
              "        0.09547684], dtype=float32),\n",
              " '/content/drive/Shared drives/DL_AT3/Experimentation/Flicker8k_Dataset/3532782283_341f0381a3.jpg': array([0.35103333, 0.19516242, 0.4325601 , ..., 0.04048444, 0.03280605,\n",
              "        0.05839881], dtype=float32),\n",
              " '/content/drive/Shared drives/DL_AT3/Experimentation/Flicker8k_Dataset/3396251819_1efa69310f.jpg': array([0.5539212 , 0.3469049 , 0.40542793, ..., 0.498676  , 0.2984062 ,\n",
              "        0.25270236], dtype=float32),\n",
              " '/content/drive/Shared drives/DL_AT3/Experimentation/Flicker8k_Dataset/1387443857_602ab6f9bf.jpg': array([0.6901482 , 0.17511751, 0.54842186, ..., 0.24240538, 0.5265236 ,\n",
              "        0.13268983], dtype=float32),\n",
              " '/content/drive/Shared drives/DL_AT3/Experimentation/Flicker8k_Dataset/345785626_9fa59f38ce.jpg': array([0.35531604, 0.04481398, 0.3342626 , ..., 0.8421742 , 1.0414908 ,\n",
              "        0.14835364], dtype=float32),\n",
              " '/content/drive/Shared drives/DL_AT3/Experimentation/Flicker8k_Dataset/2100735137_05c6079537.jpg': array([0.77991354, 0.54247755, 0.71188295, ..., 0.00727119, 0.6985809 ,\n",
              "        0.56346893], dtype=float32),\n",
              " '/content/drive/Shared drives/DL_AT3/Experimentation/Flicker8k_Dataset/3631810528_7233c0f421.jpg': array([1.5242927 , 0.17242968, 0.1034225 , ..., 0.5922445 , 0.37031132,\n",
              "        0.39342508], dtype=float32),\n",
              " '/content/drive/Shared drives/DL_AT3/Experimentation/Flicker8k_Dataset/539801139_7258ee437f.jpg': array([0.33763438, 0.25570115, 0.5023507 , ..., 0.21833755, 0.12261853,\n",
              "        0.48832178], dtype=float32),\n",
              " '/content/drive/Shared drives/DL_AT3/Experimentation/Flicker8k_Dataset/465994762_1760e83c5d.jpg': array([0.21480244, 0.59575546, 0.3037619 , ..., 0.30721885, 0.36045444,\n",
              "        0.1347686 ], dtype=float32),\n",
              " '/content/drive/Shared drives/DL_AT3/Experimentation/Flicker8k_Dataset/2190137367_746335f707.jpg': array([0.4609755 , 0.0603675 , 0.5102756 , ..., 0.1571901 , 0.23148042,\n",
              "        0.06568732], dtype=float32),\n",
              " '/content/drive/Shared drives/DL_AT3/Experimentation/Flicker8k_Dataset/3618504267_d7eaa495d0.jpg': array([0.2911762 , 0.83947223, 0.66641057, ..., 0.06816684, 0.62560743,\n",
              "        0.6426667 ], dtype=float32),\n",
              " '/content/drive/Shared drives/DL_AT3/Experimentation/Flicker8k_Dataset/2736508369_fd9ff0b42f.jpg': array([0.24747367, 0.06450266, 0.26424003, ..., 0.09598511, 0.05236796,\n",
              "        0.10425334], dtype=float32),\n",
              " '/content/drive/Shared drives/DL_AT3/Experimentation/Flicker8k_Dataset/427557693_1108566fd2.jpg': array([0.57684046, 0.05230168, 0.16556288, ..., 0.7229113 , 0.42686278,\n",
              "        0.5717331 ], dtype=float32),\n",
              " '/content/drive/Shared drives/DL_AT3/Experimentation/Flicker8k_Dataset/2874876837_80d178ba9b.jpg': array([0.11268311, 0.6865539 , 1.0468464 , ..., 0.21152833, 0.06168451,\n",
              "        1.3044488 ], dtype=float32),\n",
              " '/content/drive/Shared drives/DL_AT3/Experimentation/Flicker8k_Dataset/1731546544_9fbf14617b.jpg': array([0.13694468, 0.03173677, 0.48283112, ..., 0.16130067, 1.4414688 ,\n",
              "        0.048074  ], dtype=float32),\n",
              " '/content/drive/Shared drives/DL_AT3/Experimentation/Flicker8k_Dataset/3091580843_178042c50b.jpg': array([0.5064082 , 0.16076243, 0.30611932, ..., 0.14861712, 0.02306453,\n",
              "        0.16431023], dtype=float32),\n",
              " '/content/drive/Shared drives/DL_AT3/Experimentation/Flicker8k_Dataset/2642688531_8fb68b2147.jpg': array([0.34959915, 0.13235867, 0.19387452, ..., 0.60593295, 0.0092841 ,\n",
              "        0.42302746], dtype=float32),\n",
              " '/content/drive/Shared drives/DL_AT3/Experimentation/Flicker8k_Dataset/470887781_faae5dae83.jpg': array([0.91626894, 0.23352167, 0.4471624 , ..., 0.19000272, 0.5924574 ,\n",
              "        0.3878976 ], dtype=float32),\n",
              " '/content/drive/Shared drives/DL_AT3/Experimentation/Flicker8k_Dataset/2420696992_22e0dd467d.jpg': array([0.37695086, 0.27543616, 0.1917969 , ..., 0.21691455, 0.16442862,\n",
              "        0.4678368 ], dtype=float32),\n",
              " '/content/drive/Shared drives/DL_AT3/Experimentation/Flicker8k_Dataset/3005126574_49c28ffbee.jpg': array([0.32616943, 0.36359534, 0.51412547, ..., 1.0152757 , 0.38927853,\n",
              "        1.5833478 ], dtype=float32),\n",
              " '/content/drive/Shared drives/DL_AT3/Experimentation/Flicker8k_Dataset/1164131282_b30926f332.jpg': array([0.13262081, 0.43483117, 0.08874653, ..., 0.38420624, 0.03261397,\n",
              "        0.3514768 ], dtype=float32),\n",
              " '/content/drive/Shared drives/DL_AT3/Experimentation/Flicker8k_Dataset/2170187328_65c2f11891.jpg': array([0.7197496 , 0.58610463, 0.5171762 , ..., 0.36432046, 0.8266256 ,\n",
              "        0.11696221], dtype=float32),\n",
              " '/content/drive/Shared drives/DL_AT3/Experimentation/Flicker8k_Dataset/1468389504_c724bdcad0.jpg': array([0.6222297 , 0.18580413, 0.2849961 , ..., 0.26184714, 1.9437313 ,\n",
              "        0.3656919 ], dtype=float32),\n",
              " '/content/drive/Shared drives/DL_AT3/Experimentation/Flicker8k_Dataset/3115901702_f07aa0ef74.jpg': array([0.18305513, 0.6832921 , 1.3097135 , ..., 0.0213872 , 0.79298615,\n",
              "        0.38114876], dtype=float32),\n",
              " '/content/drive/Shared drives/DL_AT3/Experimentation/Flicker8k_Dataset/3459871361_92d1ecda36.jpg': array([0.41571516, 1.3548529 , 0.4458527 , ..., 1.8842832 , 0.21285899,\n",
              "        0.40874696], dtype=float32),\n",
              " '/content/drive/Shared drives/DL_AT3/Experimentation/Flicker8k_Dataset/1022454332_6af2c1449a.jpg': array([0.4987718, 0.5118383, 0.5580948, ..., 0.5969279, 1.0398719,\n",
              "        1.0383673], dtype=float32),\n",
              " '/content/drive/Shared drives/DL_AT3/Experimentation/Flicker8k_Dataset/127450902_533ceeddfc.jpg': array([0.17255232, 0.07146089, 0.37444973, ..., 0.12378301, 0.6913438 ,\n",
              "        0.19034645], dtype=float32),\n",
              " '/content/drive/Shared drives/DL_AT3/Experimentation/Flicker8k_Dataset/3608752424_01a1cfd8a6.jpg': array([0.17787504, 0.10964307, 0.2752682 , ..., 0.15734181, 0.73669493,\n",
              "        0.18335438], dtype=float32),\n",
              " '/content/drive/Shared drives/DL_AT3/Experimentation/Flicker8k_Dataset/2290330500_e7bdaa58e1.jpg': array([0.10761981, 0.43330532, 0.4388853 , ..., 0.1561487 , 0.24696772,\n",
              "        0.47945964], dtype=float32),\n",
              " '/content/drive/Shared drives/DL_AT3/Experimentation/Flicker8k_Dataset/309049466_1d7e7d5fc2.jpg': array([0.14921275, 0.30629277, 0.5669522 , ..., 0.4190554 , 1.3017298 ,\n",
              "        0.6150819 ], dtype=float32),\n",
              " '/content/drive/Shared drives/DL_AT3/Experimentation/Flicker8k_Dataset/3367053761_8ec5834bf3.jpg': array([0.65460086, 0.3856184 , 0.3002606 , ..., 0.848941  , 0.18798524,\n",
              "        0.05018808], dtype=float32),\n",
              " '/content/drive/Shared drives/DL_AT3/Experimentation/Flicker8k_Dataset/2943334864_6bab479a3e.jpg': array([0.07861035, 0.76543623, 0.08589341, ..., 0.14570066, 0.16755053,\n",
              "        0.32388294], dtype=float32),\n",
              " '/content/drive/Shared drives/DL_AT3/Experimentation/Flicker8k_Dataset/2203615439_3c7cdc39dc.jpg': array([0.30515194, 0.17361185, 0.78208864, ..., 0.01179391, 0.7528186 ,\n",
              "        0.5074239 ], dtype=float32),\n",
              " '/content/drive/Shared drives/DL_AT3/Experimentation/Flicker8k_Dataset/3043904009_3b5e0412cd.jpg': array([0.09499636, 0.06547768, 1.0447824 , ..., 0.32799715, 0.375735  ,\n",
              "        0.14117661], dtype=float32),\n",
              " '/content/drive/Shared drives/DL_AT3/Experimentation/Flicker8k_Dataset/3172280520_e7655fb596.jpg': array([0.9007762 , 0.5832962 , 0.49040458, ..., 0.31175098, 0.44552496,\n",
              "        0.68562615], dtype=float32),\n",
              " '/content/drive/Shared drives/DL_AT3/Experimentation/Flicker8k_Dataset/2950637275_98f1e30cca.jpg': array([0.13672048, 0.40631527, 0.211962  , ..., 1.3248519 , 0.29353565,\n",
              "        0.32337338], dtype=float32),\n",
              " '/content/drive/Shared drives/DL_AT3/Experimentation/Flicker8k_Dataset/3287969199_08e775d896.jpg': array([0.13813388, 0.09262258, 0.351645  , ..., 0.51552975, 0.26629096,\n",
              "        0.48895454], dtype=float32),\n",
              " '/content/drive/Shared drives/DL_AT3/Experimentation/Flicker8k_Dataset/3223973114_6c15538ce9.jpg': array([0.13360184, 0.8555789 , 0.15810919, ..., 0.09973177, 0.2308079 ,\n",
              "        0.64622176], dtype=float32),\n",
              " '/content/drive/Shared drives/DL_AT3/Experimentation/Flicker8k_Dataset/3481859121_3d3e566ec0.jpg': array([0.5166875 , 0.8180338 , 1.5147153 , ..., 0.37372565, 0.3951893 ,\n",
              "        0.20670694], dtype=float32),\n",
              " '/content/drive/Shared drives/DL_AT3/Experimentation/Flicker8k_Dataset/2366643786_9c9a830db8.jpg': array([0.5149611 , 0.09205828, 0.98157567, ..., 0.18520299, 0.7027085 ,\n",
              "        0.24707107], dtype=float32),\n",
              " '/content/drive/Shared drives/DL_AT3/Experimentation/Flicker8k_Dataset/3540416139_c884f38351.jpg': array([0.27463907, 0.5822394 , 0.2835626 , ..., 0.48765236, 0.652753  ,\n",
              "        0.1908814 ], dtype=float32),\n",
              " '/content/drive/Shared drives/DL_AT3/Experimentation/Flicker8k_Dataset/3549140234_e99b07c739.jpg': array([0.123287  , 0.05887959, 0.19128476, ..., 0.08271641, 0.10127965,\n",
              "        0.01244932], dtype=float32),\n",
              " '/content/drive/Shared drives/DL_AT3/Experimentation/Flicker8k_Dataset/1420060118_aed262d606.jpg': array([0.2760953 , 0.09010383, 0.19122112, ..., 0.6504602 , 0.55531406,\n",
              "        0.10478089], dtype=float32),\n",
              " '/content/drive/Shared drives/DL_AT3/Experimentation/Flicker8k_Dataset/560278886_df4bd2e212.jpg': array([0.01860715, 0.31120834, 0.06985893, ..., 0.04279812, 0.21819656,\n",
              "        0.4356293 ], dtype=float32),\n",
              " '/content/drive/Shared drives/DL_AT3/Experimentation/Flicker8k_Dataset/3004287781_c041c09c16.jpg': array([1.097016  , 1.1655977 , 1.0356386 , ..., 0.06554767, 0.97219133,\n",
              "        0.40818498], dtype=float32),\n",
              " '/content/drive/Shared drives/DL_AT3/Experimentation/Flicker8k_Dataset/3215108916_0473007b47.jpg': array([0.10354254, 0.2305208 , 0.2054917 , ..., 0.01791052, 0.0987663 ,\n",
              "        0.81766325], dtype=float32),\n",
              " '/content/drive/Shared drives/DL_AT3/Experimentation/Flicker8k_Dataset/3421706363_a3e22a4908.jpg': array([0.30748188, 0.34968197, 0.16905372, ..., 0.09963519, 0.09423909,\n",
              "        0.16272458], dtype=float32),\n",
              " '/content/drive/Shared drives/DL_AT3/Experimentation/Flicker8k_Dataset/97105139_fae46fe8ef.jpg': array([0.1841079 , 0.07851608, 0.6284571 , ..., 0.4020176 , 1.4761486 ,\n",
              "        0.5917126 ], dtype=float32),\n",
              " '/content/drive/Shared drives/DL_AT3/Experimentation/Flicker8k_Dataset/3198247669_7493af04a7.jpg': array([0.22892958, 0.00106262, 0.33648384, ..., 0.        , 0.5577219 ,\n",
              "        0.7340369 ], dtype=float32),\n",
              " '/content/drive/Shared drives/DL_AT3/Experimentation/Flicker8k_Dataset/2318721455_80c6644441.jpg': array([0.4930292 , 0.1673157 , 0.29350844, ..., 1.2357388 , 0.02013757,\n",
              "        0.10803485], dtype=float32),\n",
              " '/content/drive/Shared drives/DL_AT3/Experimentation/Flicker8k_Dataset/2759089516_cbb993cb92.jpg': array([0.13850427, 0.6677235 , 0.83630645, ..., 1.5021865 , 0.8457512 ,\n",
              "        0.49690613], dtype=float32),\n",
              " '/content/drive/Shared drives/DL_AT3/Experimentation/Flicker8k_Dataset/2405978603_6221b0c2e7.jpg': array([0.18444487, 0.22806615, 0.07414689, ..., 0.3263206 , 0.21534413,\n",
              "        0.02144328], dtype=float32),\n",
              " '/content/drive/Shared drives/DL_AT3/Experimentation/Flicker8k_Dataset/2293149170_38fb2257ea.jpg': array([0.477302  , 0.06009222, 0.5434398 , ..., 0.19227254, 0.4726224 ,\n",
              "        0.01956153], dtype=float32),\n",
              " '/content/drive/Shared drives/DL_AT3/Experimentation/Flicker8k_Dataset/3142055158_01b9e4caa4.jpg': array([0.2349484 , 0.1096597 , 0.0669725 , ..., 0.04542807, 0.21580988,\n",
              "        1.1067295 ], dtype=float32),\n",
              " '/content/drive/Shared drives/DL_AT3/Experimentation/Flicker8k_Dataset/2529205842_bdcb49d65b.jpg': array([0.08529875, 0.66265893, 0.09630468, ..., 0.1456661 , 0.19101718,\n",
              "        1.0557003 ], dtype=float32),\n",
              " '/content/drive/Shared drives/DL_AT3/Experimentation/Flicker8k_Dataset/3195147187_a073d59fa8.jpg': array([0.25968653, 0.36077356, 0.18709542, ..., 0.00881095, 0.97714514,\n",
              "        0.73097837], dtype=float32),\n",
              " '/content/drive/Shared drives/DL_AT3/Experimentation/Flicker8k_Dataset/123997871_6a9ca987b1.jpg': array([0.1538839 , 0.33146974, 0.07853815, ..., 0.4369376 , 0.4694345 ,\n",
              "        0.81376064], dtype=float32),\n",
              " '/content/drive/Shared drives/DL_AT3/Experimentation/Flicker8k_Dataset/1472249944_d887c3aeda.jpg': array([1.1007242 , 0.21561658, 0.7628794 , ..., 0.1934454 , 0.4882275 ,\n",
              "        0.17250863], dtype=float32),\n",
              " '/content/drive/Shared drives/DL_AT3/Experimentation/Flicker8k_Dataset/973827791_467d83986e.jpg': array([0.4098971 , 0.20713149, 0.26307076, ..., 0.01156831, 0.72049785,\n",
              "        0.10152715], dtype=float32),\n",
              " '/content/drive/Shared drives/DL_AT3/Experimentation/Flicker8k_Dataset/3163198309_bbfe504f0a.jpg': array([0.10333422, 0.20455272, 0.3335084 , ..., 0.2141752 , 0.79553664,\n",
              "        0.64415646], dtype=float32),\n",
              " '/content/drive/Shared drives/DL_AT3/Experimentation/Flicker8k_Dataset/2225864432_48a24f49a4.jpg': array([1.3925459 , 0.3520251 , 0.99041665, ..., 0.44570845, 0.8036944 ,\n",
              "        0.08009528], dtype=float32),\n",
              " '/content/drive/Shared drives/DL_AT3/Experimentation/Flicker8k_Dataset/2429212017_77fc107699.jpg': array([0.5088333 , 1.6777563 , 2.1453223 , ..., 1.0959088 , 0.35343072,\n",
              "        0.06901215], dtype=float32),\n",
              " '/content/drive/Shared drives/DL_AT3/Experimentation/Flicker8k_Dataset/3047751696_78c2efe5e6.jpg': array([1.5994072 , 0.9025222 , 0.45248672, ..., 0.04138125, 0.4098941 ,\n",
              "        0.26968062], dtype=float32),\n",
              " '/content/drive/Shared drives/DL_AT3/Experimentation/Flicker8k_Dataset/1378557186_4bd1da6834.jpg': array([0.25987256, 0.5242592 , 0.25218838, ..., 0.12572765, 0.66553426,\n",
              "        0.39916795], dtype=float32),\n",
              " '/content/drive/Shared drives/DL_AT3/Experimentation/Flicker8k_Dataset/3331009729_d3b14738e6.jpg': array([0.50746024, 0.68608177, 0.5647265 , ..., 1.0609407 , 0.9517172 ,\n",
              "        0.4901292 ], dtype=float32),\n",
              " '/content/drive/Shared drives/DL_AT3/Experimentation/Flicker8k_Dataset/319870744_0e0138d205.jpg': array([0.24564031, 0.18224505, 0.29396126, ..., 0.4305508 , 0.23757772,\n",
              "        0.4114091 ], dtype=float32),\n",
              " '/content/drive/Shared drives/DL_AT3/Experimentation/Flicker8k_Dataset/2185793891_5a5e903ca6.jpg': array([0.7519227 , 0.43256554, 0.53529334, ..., 0.19272076, 0.24580477,\n",
              "        0.3771153 ], dtype=float32),\n",
              " '/content/drive/Shared drives/DL_AT3/Experimentation/Flicker8k_Dataset/2218907190_5f43bf5e4d.jpg': array([0.14763528, 0.27484   , 1.412651  , ..., 0.50626934, 0.21199311,\n",
              "        0.21614629], dtype=float32),\n",
              " '/content/drive/Shared drives/DL_AT3/Experimentation/Flicker8k_Dataset/537579448_a7f92cef58.jpg': array([0.20467722, 0.11553747, 0.2855918 , ..., 0.2576909 , 0.37950435,\n",
              "        0.14780009], dtype=float32),\n",
              " '/content/drive/Shared drives/DL_AT3/Experimentation/Flicker8k_Dataset/1984936420_3f3102132b.jpg': array([0.36803505, 0.10438144, 0.57007825, ..., 0.8699169 , 1.5702672 ,\n",
              "        0.20412156], dtype=float32),\n",
              " '/content/drive/Shared drives/DL_AT3/Experimentation/Flicker8k_Dataset/874665322_9ad05c4065.jpg': array([0.05457885, 0.13556623, 0.09526554, ..., 0.25391972, 0.30619025,\n",
              "        0.00530843], dtype=float32),\n",
              " '/content/drive/Shared drives/DL_AT3/Experimentation/Flicker8k_Dataset/3165123595_8db9f918bf.jpg': array([0.1703569 , 0.13931495, 0.16106065, ..., 0.3733706 , 0.36978567,\n",
              "        0.6162496 ], dtype=float32),\n",
              " '/content/drive/Shared drives/DL_AT3/Experimentation/Flicker8k_Dataset/2899276965_a20b839cfd.jpg': array([0.32833296, 0.32197288, 0.09683952, ..., 0.24511889, 0.19599202,\n",
              "        1.3778487 ], dtype=float32),\n",
              " '/content/drive/Shared drives/DL_AT3/Experimentation/Flicker8k_Dataset/2158267555_db1d94e468.jpg': array([0.06934339, 0.20922892, 0.49441966, ..., 0.12226148, 0.5630519 ,\n",
              "        0.08049281], dtype=float32),\n",
              " '/content/drive/Shared drives/DL_AT3/Experimentation/Flicker8k_Dataset/2481598514_05a65d1f72.jpg': array([0.13644409, 0.542913  , 0.37226418, ..., 0.7937214 , 0.4654197 ,\n",
              "        0.91966635], dtype=float32),\n",
              " '/content/drive/Shared drives/DL_AT3/Experimentation/Flicker8k_Dataset/3250076419_eb3de15063.jpg': array([0.30512813, 0.5205882 , 0.04698841, ..., 0.18457752, 0.05038496,\n",
              "        0.30675694], dtype=float32),\n",
              " '/content/drive/Shared drives/DL_AT3/Experimentation/Flicker8k_Dataset/947664583_7c63172366.jpg': array([0.9128963 , 0.3090901 , 0.47776586, ..., 0.4772656 , 0.7517966 ,\n",
              "        0.76812834], dtype=float32),\n",
              " '/content/drive/Shared drives/DL_AT3/Experimentation/Flicker8k_Dataset/3440952969_608eb5e42b.jpg': array([0.24146833, 0.33055067, 0.34956327, ..., 0.5426811 , 0.04279007,\n",
              "        0.26362163], dtype=float32),\n",
              " '/content/drive/Shared drives/DL_AT3/Experimentation/Flicker8k_Dataset/2502835694_4fe121bbea.jpg': array([0.3751917 , 0.22539538, 0.67158306, ..., 0.01200685, 0.6725222 ,\n",
              "        0.66228485], dtype=float32),\n",
              " '/content/drive/Shared drives/DL_AT3/Experimentation/Flicker8k_Dataset/300765528_8c8f709dda.jpg': array([0.0938036 , 0.7967071 , 1.3259512 , ..., 0.30080006, 0.65330607,\n",
              "        0.17841092], dtype=float32),\n",
              " '/content/drive/Shared drives/DL_AT3/Experimentation/Flicker8k_Dataset/2931254547_e97c6d0d63.jpg': array([0.6863237 , 0.93033516, 0.954274  , ..., 0.54151964, 1.7792213 ,\n",
              "        0.26432574], dtype=float32),\n",
              " '/content/drive/Shared drives/DL_AT3/Experimentation/Flicker8k_Dataset/782401952_5bc5d3413a.jpg': array([1.4120321 , 0.293115  , 0.7244271 , ..., 0.34236145, 1.121716  ,\n",
              "        0.3989852 ], dtype=float32),\n",
              " '/content/drive/Shared drives/DL_AT3/Experimentation/Flicker8k_Dataset/2589308405_e208b5e745.jpg': array([0.45848757, 0.35698414, 0.28312087, ..., 0.29674202, 0.7216809 ,\n",
              "        0.939987  ], dtype=float32),\n",
              " '/content/drive/Shared drives/DL_AT3/Experimentation/Flicker8k_Dataset/3222702477_34d2d24f1f.jpg': array([2.0904069e-01, 1.9378369e-01, 1.2535113e-01, ..., 5.5054843e-04,\n",
              "        1.4352437e-02, 7.8399432e-01], dtype=float32),\n",
              " '/content/drive/Shared drives/DL_AT3/Experimentation/Flicker8k_Dataset/3488087117_2719647989.jpg': array([0.16950375, 0.15910263, 0.04076575, ..., 0.3437944 , 0.12956765,\n",
              "        0.02689547], dtype=float32),\n",
              " '/content/drive/Shared drives/DL_AT3/Experimentation/Flicker8k_Dataset/3604928725_58147c87cd.jpg': array([0.17283657, 0.17940214, 0.6047814 , ..., 0.19567615, 0.8878516 ,\n",
              "        0.01864627], dtype=float32),\n",
              " '/content/drive/Shared drives/DL_AT3/Experimentation/Flicker8k_Dataset/2814037463_74de97da86.jpg': array([0.72099555, 0.33240324, 1.0077189 , ..., 0.3412509 , 0.39294994,\n",
              "        0.8996545 ], dtype=float32),\n",
              " '/content/drive/Shared drives/DL_AT3/Experimentation/Flicker8k_Dataset/241347664_4a3e7e5be7.jpg': array([0.06439789, 0.01646677, 0.06239717, ..., 0.02834465, 0.01464009,\n",
              "        0.05160277], dtype=float32),\n",
              " '/content/drive/Shared drives/DL_AT3/Experimentation/Flicker8k_Dataset/572618443_647483ca82.jpg': array([0.21662748, 0.15530616, 0.23401561, ..., 0.93764067, 1.1624244 ,\n",
              "        0.2950387 ], dtype=float32),\n",
              " '/content/drive/Shared drives/DL_AT3/Experimentation/Flicker8k_Dataset/282131366_5f9a39c43c.jpg': array([0.21187004, 0.5467692 , 0.197412  , ..., 0.17939886, 0.88754815,\n",
              "        1.015861  ], dtype=float32),\n",
              " '/content/drive/Shared drives/DL_AT3/Experimentation/Flicker8k_Dataset/3012513414_86180c44cb.jpg': array([0.07152843, 0.40573156, 0.17852859, ..., 0.7559951 , 0.22522585,\n",
              "        0.55920756], dtype=float32),\n",
              " '/content/drive/Shared drives/DL_AT3/Experimentation/Flicker8k_Dataset/2574194729_1f099647ee.jpg': array([0.1637217 , 1.1260715 , 0.2587699 , ..., 0.3585898 , 0.7696889 ,\n",
              "        0.03212913], dtype=float32),\n",
              " '/content/drive/Shared drives/DL_AT3/Experimentation/Flicker8k_Dataset/3563461991_de05537878.jpg': array([0.71354795, 0.0830811 , 0.45661736, ..., 0.7956392 , 0.36578238,\n",
              "        0.25477296], dtype=float32),\n",
              " '/content/drive/Shared drives/DL_AT3/Experimentation/Flicker8k_Dataset/989754491_7e53fb4586.jpg': array([0.9732225 , 0.22268878, 0.6810615 , ..., 0.10124673, 0.18266754,\n",
              "        0.29113305], dtype=float32),\n",
              " '/content/drive/Shared drives/DL_AT3/Experimentation/Flicker8k_Dataset/2701271123_6761bc5f26.jpg': array([0.16667631, 0.10047081, 0.04669661, ..., 0.28741556, 0.4867713 ,\n",
              "        0.32710478], dtype=float32),\n",
              " '/content/drive/Shared drives/DL_AT3/Experimentation/Flicker8k_Dataset/3474985112_24ef46e82d.jpg': array([0.01811063, 0.72022295, 0.00546911, ..., 0.23508462, 1.1845105 ,\n",
              "        0.53097904], dtype=float32),\n",
              " '/content/drive/Shared drives/DL_AT3/Experimentation/Flicker8k_Dataset/3553476195_fb3747d7c1.jpg': array([1.0391424 , 0.24262992, 0.2670488 , ..., 0.02883789, 0.6544082 ,\n",
              "        0.45373824], dtype=float32),\n",
              " '/content/drive/Shared drives/DL_AT3/Experimentation/Flicker8k_Dataset/3215870337_c92a1a1b2f.jpg': array([0.82219744, 0.29704523, 1.3072009 , ..., 0.23355517, 0.80364835,\n",
              "        0.3566363 ], dtype=float32),\n",
              " '/content/drive/Shared drives/DL_AT3/Experimentation/Flicker8k_Dataset/274313927_404d0e94ab.jpg': array([0.3947531 , 0.16510275, 0.13551815, ..., 0.07935146, 0.35057694,\n",
              "        0.2525983 ], dtype=float32),\n",
              " '/content/drive/Shared drives/DL_AT3/Experimentation/Flicker8k_Dataset/2520909293_9bb7f7364e.jpg': array([0.12126918, 0.13357499, 0.2415122 , ..., 0.50729245, 0.7409821 ,\n",
              "        0.03517682], dtype=float32),\n",
              " '/content/drive/Shared drives/DL_AT3/Experimentation/Flicker8k_Dataset/3530342993_a4a1f0e516.jpg': array([0.2583969 , 1.0799036 , 0.25845557, ..., 0.60537213, 0.22179191,\n",
              "        0.38222626], dtype=float32),\n",
              " '/content/drive/Shared drives/DL_AT3/Experimentation/Flicker8k_Dataset/3383037991_8f07784b81.jpg': array([0.3211354 , 0.28731075, 0.25959125, ..., 0.05655653, 1.1373825 ,\n",
              "        0.394962  ], dtype=float32),\n",
              " '/content/drive/Shared drives/DL_AT3/Experimentation/Flicker8k_Dataset/501320769_31eea7b7ea.jpg': array([0.02859222, 0.10668744, 0.15112248, ..., 0.13443919, 0.7635255 ,\n",
              "        0.26627088], dtype=float32),\n",
              " '/content/drive/Shared drives/DL_AT3/Experimentation/Flicker8k_Dataset/205682549_713aa6cd88.jpg': array([0.32341963, 0.05947085, 0.20456444, ..., 0.16114461, 0.23672919,\n",
              "        0.3715341 ], dtype=float32),\n",
              " '/content/drive/Shared drives/DL_AT3/Experimentation/Flicker8k_Dataset/2505465055_f1e6cf9b76.jpg': array([0.37436065, 0.37923858, 0.48103532, ..., 0.55677235, 0.22477525,\n",
              "        0.33345744], dtype=float32),\n",
              " '/content/drive/Shared drives/DL_AT3/Experimentation/Flicker8k_Dataset/911795495_342bb15b97.jpg': array([0.49456066, 0.35918707, 0.47037497, ..., 1.5336803 , 0.5746126 ,\n",
              "        0.18310302], dtype=float32),\n",
              " '/content/drive/Shared drives/DL_AT3/Experimentation/Flicker8k_Dataset/3621329299_6fb3f2935c.jpg': array([0.19079961, 0.59507287, 0.26747626, ..., 0.40135357, 0.458237  ,\n",
              "        0.06110512], dtype=float32),\n",
              " '/content/drive/Shared drives/DL_AT3/Experimentation/Flicker8k_Dataset/3541491057_61a49588d9.jpg': array([0.11912648, 0.15847889, 0.49880213, ..., 0.46190512, 0.02837221,\n",
              "        0.24859771], dtype=float32),\n",
              " '/content/drive/Shared drives/DL_AT3/Experimentation/Flicker8k_Dataset/3691800116_6a7b315e46.jpg': array([0.14043632, 0.67433846, 0.18309769, ..., 0.20466061, 0.30789903,\n",
              "        0.04964022], dtype=float32),\n",
              " '/content/drive/Shared drives/DL_AT3/Experimentation/Flicker8k_Dataset/313326614_b2adbe59e0.jpg': array([0.3330415 , 0.22814989, 0.13585052, ..., 0.2817776 , 0.3494518 ,\n",
              "        0.27092567], dtype=float32),\n",
              " '/content/drive/Shared drives/DL_AT3/Experimentation/Flicker8k_Dataset/3730011701_5352e02286.jpg': array([0.41660497, 0.34404546, 0.8604635 , ..., 1.6393435 , 1.6717675 ,\n",
              "        0.23221609], dtype=float32),\n",
              " '/content/drive/Shared drives/DL_AT3/Experimentation/Flicker8k_Dataset/3341961913_9a9b362f15.jpg': array([0.16896385, 0.39331055, 0.18742195, ..., 0.19966367, 0.0201091 ,\n",
              "        0.6599335 ], dtype=float32),\n",
              " '/content/drive/Shared drives/DL_AT3/Experimentation/Flicker8k_Dataset/2198511848_311d8a8c2f.jpg': array([0.01848697, 0.43235314, 0.14769754, ..., 0.5502575 , 0.30858412,\n",
              "        0.3963027 ], dtype=float32),\n",
              " '/content/drive/Shared drives/DL_AT3/Experimentation/Flicker8k_Dataset/2623146491_b64698b875.jpg': array([0.6602819 , 0.25342542, 0.15232503, ..., 0.28063154, 0.7275066 ,\n",
              "        0.78050685], dtype=float32),\n",
              " '/content/drive/Shared drives/DL_AT3/Experimentation/Flicker8k_Dataset/2924884899_f512c84332.jpg': array([0.21741891, 0.59242976, 0.698987  , ..., 0.8386267 , 0.563206  ,\n",
              "        0.48105872], dtype=float32),\n",
              " '/content/drive/Shared drives/DL_AT3/Experimentation/Flicker8k_Dataset/525887861_4cc7a1beca.jpg': array([0.27909315, 0.37610906, 0.51557493, ..., 0.32879412, 0.37725538,\n",
              "        0.4772307 ], dtype=float32),\n",
              " '/content/drive/Shared drives/DL_AT3/Experimentation/Flicker8k_Dataset/2975118353_5af5a5df54.jpg': array([0.22486022, 0.2410661 , 0.1307515 , ..., 0.07930591, 0.04854314,\n",
              "        0.22964251], dtype=float32),\n",
              " '/content/drive/Shared drives/DL_AT3/Experimentation/Flicker8k_Dataset/140526327_3cb984de09.jpg': array([0.16110545, 0.02413291, 0.42238277, ..., 0.5667011 , 0.41378367,\n",
              "        0.18875754], dtype=float32),\n",
              " '/content/drive/Shared drives/DL_AT3/Experimentation/Flicker8k_Dataset/2647394564_4843800cff.jpg': array([0.41555473, 0.33787876, 0.7628043 , ..., 0.25158024, 0.53534997,\n",
              "        0.03744178], dtype=float32),\n",
              " '/content/drive/Shared drives/DL_AT3/Experimentation/Flicker8k_Dataset/2752230113_b5dab6f0f1.jpg': array([0.24820949, 0.32510555, 0.9958411 , ..., 0.55408275, 0.7443735 ,\n",
              "        0.1539083 ], dtype=float32),\n",
              " '/content/drive/Shared drives/DL_AT3/Experimentation/Flicker8k_Dataset/3100442775_6e2659b973.jpg': array([0.11789589, 0.35182065, 0.10371548, ..., 0.21029535, 0.5344331 ,\n",
              "        1.3975031 ], dtype=float32),\n",
              " '/content/drive/Shared drives/DL_AT3/Experimentation/Flicker8k_Dataset/267015208_d80b3eb94d.jpg': array([0.36425298, 0.2966141 , 0.5808733 , ..., 0.5663544 , 0.13974217,\n",
              "        0.50764096], dtype=float32),\n",
              " '/content/drive/Shared drives/DL_AT3/Experimentation/Flicker8k_Dataset/1991806812_065f747689.jpg': array([0.6371468 , 0.1779708 , 0.31238568, ..., 1.228225  , 0.14704756,\n",
              "        0.3215136 ], dtype=float32),\n",
              " '/content/drive/Shared drives/DL_AT3/Experimentation/Flicker8k_Dataset/3079073247_97e88e2eb7.jpg': array([0.06689209, 0.4229005 , 0.04414094, ..., 0.02406466, 0.24202888,\n",
              "        0.641801  ], dtype=float32),\n",
              " '/content/drive/Shared drives/DL_AT3/Experimentation/Flicker8k_Dataset/3703107969_175da4b276.jpg': array([0.13808772, 0.4792204 , 0.10866835, ..., 0.14097744, 0.77715933,\n",
              "        0.4671237 ], dtype=float32),\n",
              " '/content/drive/Shared drives/DL_AT3/Experimentation/Flicker8k_Dataset/2452686995_621878f561.jpg': array([0.14761275, 0.08384337, 0.03397978, ..., 0.18159598, 0.09193037,\n",
              "        0.32333088], dtype=float32),\n",
              " '/content/drive/Shared drives/DL_AT3/Experimentation/Flicker8k_Dataset/1580671272_3e99d94305.jpg': array([0.15511909, 0.3817982 , 0.5615391 , ..., 0.19936563, 0.5505293 ,\n",
              "        0.5536895 ], dtype=float32),\n",
              " '/content/drive/Shared drives/DL_AT3/Experimentation/Flicker8k_Dataset/2399551242_c62a46dd5f.jpg': array([0.178128  , 0.23311506, 0.75544816, ..., 0.02583851, 2.0100732 ,\n",
              "        0.14065683], dtype=float32),\n",
              " '/content/drive/Shared drives/DL_AT3/Experimentation/Flicker8k_Dataset/214501174_6db1f4d69c.jpg': array([0.28049937, 0.31518036, 0.06945351, ..., 0.2964428 , 0.15939249,\n",
              "        0.20248091], dtype=float32),\n",
              " '/content/drive/Shared drives/DL_AT3/Experimentation/Flicker8k_Dataset/2052953131_30834196fb.jpg': array([0.02740018, 0.0327373 , 0.08222584, ..., 0.23782799, 0.65031016,\n",
              "        0.30868763], dtype=float32),\n",
              " '/content/drive/Shared drives/DL_AT3/Experimentation/Flicker8k_Dataset/454709143_9c513f095c.jpg': array([0.24996617, 0.03172207, 0.39859194, ..., 0.02438833, 0.5646118 ,\n",
              "        0.5674236 ], dtype=float32),\n",
              " '/content/drive/Shared drives/DL_AT3/Experimentation/Flicker8k_Dataset/3101378069_f8caa14c0a.jpg': array([0.20072278, 0.1823126 , 0.33917338, ..., 0.04849627, 0.09297913,\n",
              "        0.45530194], dtype=float32),\n",
              " '/content/drive/Shared drives/DL_AT3/Experimentation/Flicker8k_Dataset/2441815792_43565b1312.jpg': array([0.25039607, 0.98084784, 0.8976327 , ..., 0.2374743 , 0.4006511 ,\n",
              "        0.13469279], dtype=float32),\n",
              " '/content/drive/Shared drives/DL_AT3/Experimentation/Flicker8k_Dataset/441212506_fcc321ac28.jpg': array([0.29833627, 0.04924689, 0.32105413, ..., 0.1253004 , 0.05865845,\n",
              "        0.08046497], dtype=float32),\n",
              " '/content/drive/Shared drives/DL_AT3/Experimentation/Flicker8k_Dataset/241347300_7c84ecf764.jpg': array([0.22704172, 0.01415379, 0.10475525, ..., 0.07288634, 0.        ,\n",
              "        0.05179153], dtype=float32),\n",
              " '/content/drive/Shared drives/DL_AT3/Experimentation/Flicker8k_Dataset/3751594676_edfbfa0688.jpg': array([0.2122258 , 1.0778357 , 0.35768658, ..., 0.26350617, 0.05562072,\n",
              "        0.23388615], dtype=float32),\n",
              " '/content/drive/Shared drives/DL_AT3/Experimentation/Flicker8k_Dataset/2556392380_ee57514233.jpg': array([0.15969926, 0.6391854 , 0.15895528, ..., 0.1503073 , 0.09799024,\n",
              "        0.3475292 ], dtype=float32),\n",
              " '/content/drive/Shared drives/DL_AT3/Experimentation/Flicker8k_Dataset/3335692531_dd4a995f91.jpg': array([0.40743765, 0.17622581, 0.14776258, ..., 0.31940058, 0.80229884,\n",
              "        0.6804091 ], dtype=float32),\n",
              " '/content/drive/Shared drives/DL_AT3/Experimentation/Flicker8k_Dataset/3427540832_c882fded1d.jpg': array([5.8983302e-01, 9.8663837e-02, 3.4628278e-01, ..., 6.4051509e-01,\n",
              "        2.3501709e-01, 4.0112861e-04], dtype=float32),\n",
              " '/content/drive/Shared drives/DL_AT3/Experimentation/Flicker8k_Dataset/3205839744_24504ba179.jpg': array([0.15866035, 0.21496925, 0.25445947, ..., 0.10662453, 0.2842215 ,\n",
              "        0.37178183], dtype=float32),\n",
              " '/content/drive/Shared drives/DL_AT3/Experimentation/Flicker8k_Dataset/3625519177_4c2bb9e7f0.jpg': array([0.29765514, 0.17853658, 0.13909064, ..., 0.03583997, 0.24621855,\n",
              "        0.10473801], dtype=float32),\n",
              " '/content/drive/Shared drives/DL_AT3/Experimentation/Flicker8k_Dataset/244760289_f4467b2b67.jpg': array([0.7262396 , 0.19840479, 0.9560287 , ..., 0.06269077, 0.75647515,\n",
              "        0.7149946 ], dtype=float32),\n",
              " '/content/drive/Shared drives/DL_AT3/Experimentation/Flicker8k_Dataset/3477369101_8e0c61d8f4.jpg': array([0.90330225, 0.3588818 , 0.07843711, ..., 0.16386935, 0.22345178,\n",
              "        0.29458213], dtype=float32),\n",
              " '/content/drive/Shared drives/DL_AT3/Experimentation/Flicker8k_Dataset/2374247382_023a86b9ca.jpg': array([0.22208594, 0.29009575, 0.22324204, ..., 0.4121949 , 0.14753985,\n",
              "        0.32500684], dtype=float32),\n",
              " '/content/drive/Shared drives/DL_AT3/Experimentation/Flicker8k_Dataset/2312746782_4528a5b818.jpg': array([4.6536571e-01, 2.0746891e-01, 1.9505665e-01, ..., 6.3883555e-01,\n",
              "        7.3758280e-01, 6.1439205e-04], dtype=float32),\n",
              " '/content/drive/Shared drives/DL_AT3/Experimentation/Flicker8k_Dataset/3231880001_193a579b97.jpg': array([0.67307633, 0.10048763, 1.9414774 , ..., 0.82235736, 0.70820177,\n",
              "        0.3007747 ], dtype=float32),\n",
              " '/content/drive/Shared drives/DL_AT3/Experimentation/Flicker8k_Dataset/3656225270_cdf89e3240.jpg': array([0.3274115 , 0.04838633, 0.46334603, ..., 0.11353522, 0.23524663,\n",
              "        0.6785253 ], dtype=float32),\n",
              " '/content/drive/Shared drives/DL_AT3/Experimentation/Flicker8k_Dataset/2106772874_381824648b.jpg': array([0.24081469, 1.5243378 , 0.32343304, ..., 0.39998877, 0.67349887,\n",
              "        0.65177584], dtype=float32),\n",
              " '/content/drive/Shared drives/DL_AT3/Experimentation/Flicker8k_Dataset/3501936223_6122a13d27.jpg': array([0.10266219, 0.3172751 , 0.13265839, ..., 0.52503073, 0.11437713,\n",
              "        0.45589608], dtype=float32),\n",
              " '/content/drive/Shared drives/DL_AT3/Experimentation/Flicker8k_Dataset/911527312_f81ee36b97.jpg': array([0.7678851 , 0.40193975, 0.73519444, ..., 1.2170315 , 0.46776175,\n",
              "        0.8810511 ], dtype=float32),\n",
              " '/content/drive/Shared drives/DL_AT3/Experimentation/Flicker8k_Dataset/3429351222_17ae744daf.jpg': array([0.63779056, 0.33546028, 0.92715526, ..., 0.7023484 , 0.70101196,\n",
              "        0.2289744 ], dtype=float32),\n",
              " '/content/drive/Shared drives/DL_AT3/Experimentation/Flicker8k_Dataset/395461421_c586b136de.jpg': array([0.16308445, 0.09973545, 0.41282076, ..., 0.00536215, 0.694656  ,\n",
              "        0.40593195], dtype=float32),\n",
              " '/content/drive/Shared drives/DL_AT3/Experimentation/Flicker8k_Dataset/3514297698_0512623955.jpg': array([0.14627819, 0.33868238, 0.21894959, ..., 0.49133402, 1.1515658 ,\n",
              "        0.30339268], dtype=float32),\n",
              " '/content/drive/Shared drives/DL_AT3/Experimentation/Flicker8k_Dataset/2060031241_a3ae7a06bb.jpg': array([0.57990336, 0.33085954, 0.25069684, ..., 0.15619889, 0.13384116,\n",
              "        0.20389825], dtype=float32),\n",
              " '/content/drive/Shared drives/DL_AT3/Experimentation/Flicker8k_Dataset/2737233999_34d60dc5c3.jpg': array([0.4189391 , 0.27033964, 0.7741746 , ..., 0.14965302, 0.15775833,\n",
              "        0.21154957], dtype=float32),\n",
              " '/content/drive/Shared drives/DL_AT3/Experimentation/Flicker8k_Dataset/2542415282_9240e1b5fc.jpg': array([0.506622  , 0.54898024, 0.34589842, ..., 1.2253227 , 0.3273387 ,\n",
              "        0.43084717], dtype=float32),\n",
              " '/content/drive/Shared drives/DL_AT3/Experimentation/Flicker8k_Dataset/3249062399_0dafe5e4f5.jpg': array([0.27803603, 0.25248778, 0.3138333 , ..., 0.23908724, 0.3664316 ,\n",
              "        0.40732813], dtype=float32),\n",
              " '/content/drive/Shared drives/DL_AT3/Experimentation/Flicker8k_Dataset/2061927950_dafba5b8a3.jpg': array([0.09990449, 0.49358755, 0.47267714, ..., 0.0651105 , 0.11801615,\n",
              "        0.02787203], dtype=float32),\n",
              " '/content/drive/Shared drives/DL_AT3/Experimentation/Flicker8k_Dataset/191003283_992257f835.jpg': array([1.375696  , 0.66667116, 1.9285904 , ..., 0.6326787 , 0.5838306 ,\n",
              "        0.18873686], dtype=float32),\n",
              " '/content/drive/Shared drives/DL_AT3/Experimentation/Flicker8k_Dataset/2399219552_bbba0a9a59.jpg': array([0.17524004, 0.5205571 , 0.46328172, ..., 0.39415568, 0.09162861,\n",
              "        0.787151  ], dtype=float32),\n",
              " '/content/drive/Shared drives/DL_AT3/Experimentation/Flicker8k_Dataset/1476241331_2f43b67aed.jpg': array([0.2242316 , 0.26926762, 0.35920322, ..., 0.3146153 , 0.4281019 ,\n",
              "        0.43013287], dtype=float32),\n",
              " '/content/drive/Shared drives/DL_AT3/Experimentation/Flicker8k_Dataset/2826574228_c63009e473.jpg': array([0.3073638 , 0.10335082, 0.7962407 , ..., 0.25820407, 0.6791829 ,\n",
              "        0.02815743], dtype=float32),\n",
              " '/content/drive/Shared drives/DL_AT3/Experimentation/Flicker8k_Dataset/2858759108_6e697c5f3e.jpg': array([0.28130716, 1.1329528 , 0.44448262, ..., 0.36292523, 0.46749985,\n",
              "        0.27321744], dtype=float32),\n",
              " '/content/drive/Shared drives/DL_AT3/Experimentation/Flicker8k_Dataset/393958545_48c17c66d1.jpg': array([0.07430377, 0.23213656, 0.08185157, ..., 0.14233209, 0.15536106,\n",
              "        0.84041965], dtype=float32),\n",
              " '/content/drive/Shared drives/DL_AT3/Experimentation/Flicker8k_Dataset/2934801096_230ae78d7e.jpg': array([0.4625249 , 0.32413   , 0.9878665 , ..., 0.2615301 , 0.20664093,\n",
              "        0.18475851], dtype=float32),\n",
              " '/content/drive/Shared drives/DL_AT3/Experimentation/Flicker8k_Dataset/2481367956_8577d2fa98.jpg': array([0.4183434 , 0.10852973, 0.31890088, ..., 0.03936956, 0.42187265,\n",
              "        0.24971087], dtype=float32),\n",
              " '/content/drive/Shared drives/DL_AT3/Experimentation/Flicker8k_Dataset/1501297480_8db52c15b0.jpg': array([0.15594655, 0.68051314, 0.9030458 , ..., 0.7851386 , 0.52443886,\n",
              "        0.18507884], dtype=float32),\n",
              " '/content/drive/Shared drives/DL_AT3/Experimentation/Flicker8k_Dataset/2914800692_0c512d27b8.jpg': array([0.20527199, 0.44450745, 0.54800665, ..., 0.20396385, 0.3022131 ,\n",
              "        0.34412006], dtype=float32),\n",
              " '/content/drive/Shared drives/DL_AT3/Experimentation/Flicker8k_Dataset/3286761458_34af7e4499.jpg': array([0.28033137, 0.6561728 , 0.49345154, ..., 0.9541574 , 1.1661255 ,\n",
              "        0.8219438 ], dtype=float32),\n",
              " '/content/drive/Shared drives/DL_AT3/Experimentation/Flicker8k_Dataset/3541483943_9776baee7c.jpg': array([0.15232946, 0.5962084 , 0.27581996, ..., 0.565894  , 0.55019695,\n",
              "        0.82995605], dtype=float32),\n",
              " '/content/drive/Shared drives/DL_AT3/Experimentation/Flicker8k_Dataset/2842439618_fb20fe2215.jpg': array([0.06947347, 0.05542785, 0.11435559, ..., 0.06525556, 0.4971379 ,\n",
              "        1.0258864 ], dtype=float32),\n",
              " '/content/drive/Shared drives/DL_AT3/Experimentation/Flicker8k_Dataset/146098876_0d99d7fb98.jpg': array([1.0127664 , 0.462023  , 0.9159047 , ..., 0.12082463, 0.8633841 ,\n",
              "        0.43299422], dtype=float32),\n",
              " '/content/drive/Shared drives/DL_AT3/Experimentation/Flicker8k_Dataset/3398788809_25c71ba018.jpg': array([0.42092445, 0.8344177 , 0.6607027 , ..., 0.07389652, 1.2957141 ,\n",
              "        0.00977627], dtype=float32),\n",
              " '/content/drive/Shared drives/DL_AT3/Experimentation/Flicker8k_Dataset/3710050559_f6f12760fe.jpg': array([1.7883736e-01, 6.9940609e-01, 6.5734768e-01, ..., 5.1993048e-01,\n",
              "        4.6240422e-01, 1.7671366e-04], dtype=float32),\n",
              " '/content/drive/Shared drives/DL_AT3/Experimentation/Flicker8k_Dataset/2695093520_5cfeb0729d.jpg': array([0.22985432, 0.2728284 , 0.74258095, ..., 0.22301678, 0.71402055,\n",
              "        0.4829745 ], dtype=float32),\n",
              " '/content/drive/Shared drives/DL_AT3/Experimentation/Flicker8k_Dataset/3697456750_460aea7252.jpg': array([0.15018216, 0.55165356, 0.14529471, ..., 0.15883237, 0.11009108,\n",
              "        0.2702141 ], dtype=float32),\n",
              " '/content/drive/Shared drives/DL_AT3/Experimentation/Flicker8k_Dataset/3548191125_514f47e493.jpg': array([0.0315679 , 0.13566251, 0.08242462, ..., 0.14742157, 0.03470175,\n",
              "        0.5708462 ], dtype=float32),\n",
              " '/content/drive/Shared drives/DL_AT3/Experimentation/Flicker8k_Dataset/2902486045_6298eb22ef.jpg': array([0.39550817, 0.41696766, 0.67077994, ..., 0.799544  , 0.8316255 ,\n",
              "        0.4401516 ], dtype=float32),\n",
              " '/content/drive/Shared drives/DL_AT3/Experimentation/Flicker8k_Dataset/2431120202_b24fe2333a.jpg': array([0.17721575, 0.3710491 , 0.57977337, ..., 0.5475695 , 0.31149265,\n",
              "        0.48423016], dtype=float32),\n",
              " '/content/drive/Shared drives/DL_AT3/Experimentation/Flicker8k_Dataset/3211210739_3dea005fde.jpg': array([0.96874845, 0.4650911 , 0.10830975, ..., 0.5117962 , 0.68607515,\n",
              "        0.16440754], dtype=float32),\n",
              " '/content/drive/Shared drives/DL_AT3/Experimentation/Flicker8k_Dataset/466176275_f40d37851e.jpg': array([0.11104292, 0.33623248, 0.02418683, ..., 0.42575926, 0.13428494,\n",
              "        0.44180775], dtype=float32),\n",
              " '/content/drive/Shared drives/DL_AT3/Experimentation/Flicker8k_Dataset/2009636597_e3f4fe19fb.jpg': array([0.13958947, 0.43885443, 0.45224443, ..., 0.4831072 , 0.5489897 ,\n",
              "        0.00871642], dtype=float32),\n",
              " '/content/drive/Shared drives/DL_AT3/Experimentation/Flicker8k_Dataset/3410899419_4f8dca6f3f.jpg': array([0.8302002 , 0.42483243, 0.7016648 , ..., 1.4640713 , 1.0149573 ,\n",
              "        0.23566937], dtype=float32),\n",
              " '/content/drive/Shared drives/DL_AT3/Experimentation/Flicker8k_Dataset/2629346153_155ba73ae9.jpg': array([0.1400556 , 0.5063165 , 0.22019517, ..., 0.23023841, 1.2775738 ,\n",
              "        0.5153845 ], dtype=float32),\n",
              " '/content/drive/Shared drives/DL_AT3/Experimentation/Flicker8k_Dataset/3495349745_1b29a63571.jpg': array([0.01026545, 0.666662  , 0.12978956, ..., 0.13734251, 0.4276716 ,\n",
              "        0.28267246], dtype=float32),\n",
              " '/content/drive/Shared drives/DL_AT3/Experimentation/Flicker8k_Dataset/1077546505_a4f6c4daa9.jpg': array([1.1408249 , 0.17509073, 0.41640574, ..., 0.7658549 , 1.1801167 ,\n",
              "        0.9324676 ], dtype=float32),\n",
              " '/content/drive/Shared drives/DL_AT3/Experimentation/Flicker8k_Dataset/3314180199_2121e80368.jpg': array([0.14947164, 0.12013597, 0.09453344, ..., 0.4618752 , 0.2008934 ,\n",
              "        0.27956894], dtype=float32),\n",
              " '/content/drive/Shared drives/DL_AT3/Experimentation/Flicker8k_Dataset/2765747519_2b851e01d6.jpg': array([0.04591729, 0.13928553, 0.04794285, ..., 0.12070355, 0.01565693,\n",
              "        0.3071273 ], dtype=float32),\n",
              " '/content/drive/Shared drives/DL_AT3/Experimentation/Flicker8k_Dataset/145721498_a27d2db576.jpg': array([0.05457212, 0.07309826, 0.11816337, ..., 0.2067351 , 1.0673211 ,\n",
              "        0.15753905], dtype=float32),\n",
              " '/content/drive/Shared drives/DL_AT3/Experimentation/Flicker8k_Dataset/525538142_7348f0bce7.jpg': array([0.19325277, 0.31549257, 0.566378  , ..., 0.40445596, 1.393121  ,\n",
              "        0.15449163], dtype=float32),\n",
              " '/content/drive/Shared drives/DL_AT3/Experimentation/Flicker8k_Dataset/2483792149_a9b4ffecec.jpg': array([0.1960662 , 0.24288425, 0.25002104, ..., 0.        , 0.24710402,\n",
              "        0.09775777], dtype=float32),\n",
              " '/content/drive/Shared drives/DL_AT3/Experimentation/Flicker8k_Dataset/2630806789_6835bbae95.jpg': array([0.2215706 , 0.06337819, 0.34275416, ..., 0.08500276, 0.07541288,\n",
              "        0.26603135], dtype=float32),\n",
              " '/content/drive/Shared drives/DL_AT3/Experimentation/Flicker8k_Dataset/2428094795_d3a8f46046.jpg': array([0.25759244, 0.513945  , 0.29616407, ..., 0.98449206, 0.06809333,\n",
              "        0.05163059], dtype=float32),\n",
              " '/content/drive/Shared drives/DL_AT3/Experimentation/Flicker8k_Dataset/2296166785_292a4e9f4c.jpg': array([0.34062934, 0.02824191, 0.8802574 , ..., 0.2210118 , 0.41579705,\n",
              "        0.9551052 ], dtype=float32),\n",
              " '/content/drive/Shared drives/DL_AT3/Experimentation/Flicker8k_Dataset/3207343907_995f7ac1d2.jpg': array([0.3258586 , 0.31046453, 0.4551562 , ..., 0.36606997, 0.7317231 ,\n",
              "        1.3704358 ], dtype=float32),\n",
              " '/content/drive/Shared drives/DL_AT3/Experimentation/Flicker8k_Dataset/441398149_297146e38d.jpg': array([0.85391456, 0.51900434, 0.72496605, ..., 0.95305437, 0.8334526 ,\n",
              "        0.08208678], dtype=float32),\n",
              " '/content/drive/Shared drives/DL_AT3/Experimentation/Flicker8k_Dataset/3313620862_0c65c645f5.jpg': array([0.16217598, 0.3416924 , 0.6087785 , ..., 0.        , 0.26375142,\n",
              "        0.67332864], dtype=float32),\n",
              " '/content/drive/Shared drives/DL_AT3/Experimentation/Flicker8k_Dataset/664341930_bd5c8b60ea.jpg': array([0.13658273, 0.38510874, 0.3271963 , ..., 0.11858703, 1.0055455 ,\n",
              "        0.46788734], dtype=float32),\n",
              " '/content/drive/Shared drives/DL_AT3/Experimentation/Flicker8k_Dataset/463875230_f19e83d6df.jpg': array([0.18360712, 0.03787681, 0.25923222, ..., 0.8572048 , 0.3220985 ,\n",
              "        0.49491337], dtype=float32),\n",
              " '/content/drive/Shared drives/DL_AT3/Experimentation/Flicker8k_Dataset/2485467050_1d5e2696d4.jpg': array([0.6618483 , 0.82205635, 1.0347048 , ..., 0.27334368, 0.81855917,\n",
              "        0.06839845], dtype=float32),\n",
              " '/content/drive/Shared drives/DL_AT3/Experimentation/Flicker8k_Dataset/2515247156_c1b759fc33.jpg': array([0.09590213, 0.09568147, 0.16175304, ..., 0.97195613, 0.15827554,\n",
              "        0.12908547], dtype=float32),\n",
              " '/content/drive/Shared drives/DL_AT3/Experimentation/Flicker8k_Dataset/3677964239_6406ed096f.jpg': array([0.34677094, 0.39320514, 2.0395107 , ..., 0.10372825, 0.41759545,\n",
              "        0.26254642], dtype=float32),\n",
              " '/content/drive/Shared drives/DL_AT3/Experimentation/Flicker8k_Dataset/3247693965_845b3b4349.jpg': array([0.61801404, 0.48281187, 0.25932717, ..., 0.2777177 , 1.2289306 ,\n",
              "        1.3876685 ], dtype=float32),\n",
              " '/content/drive/Shared drives/DL_AT3/Experimentation/Flicker8k_Dataset/416992999_654a99a903.jpg': array([0.09846952, 0.03856487, 0.49288353, ..., 0.28081864, 0.8445198 ,\n",
              "        0.18736576], dtype=float32),\n",
              " '/content/drive/Shared drives/DL_AT3/Experimentation/Flicker8k_Dataset/3496028495_431cfdc042.jpg': array([0.1377811 , 0.22195122, 0.2799756 , ..., 0.11332166, 0.5282123 ,\n",
              "        0.51069033], dtype=float32),\n",
              " '/content/drive/Shared drives/DL_AT3/Experimentation/Flicker8k_Dataset/2613889835_6f50a3b83b.jpg': array([0.10499388, 0.18223462, 0.36987424, ..., 0.49529946, 0.24277124,\n",
              "        0.36565813], dtype=float32),\n",
              " '/content/drive/Shared drives/DL_AT3/Experimentation/Flicker8k_Dataset/435739506_2daf7f4887.jpg': array([0.28676924, 0.36233908, 0.20286715, ..., 0.2770974 , 0.67400855,\n",
              "        0.9275099 ], dtype=float32),\n",
              " '/content/drive/Shared drives/DL_AT3/Experimentation/Flicker8k_Dataset/2501742763_b2cb322087.jpg': array([0.45863485, 0.16527353, 0.02009771, ..., 0.33551016, 0.46518156,\n",
              "        0.19477981], dtype=float32),\n",
              " '/content/drive/Shared drives/DL_AT3/Experimentation/Flicker8k_Dataset/2907073768_08fd7bdf60.jpg': array([0.28875875, 0.27488276, 0.13800704, ..., 0.2089613 , 0.15417379,\n",
              "        0.19851683], dtype=float32),\n",
              " '/content/drive/Shared drives/DL_AT3/Experimentation/Flicker8k_Dataset/2978810122_183e60ff2d.jpg': array([0.07301363, 0.02900594, 0.24151954, ..., 0.32197028, 0.8239487 ,\n",
              "        0.82744896], dtype=float32),\n",
              " '/content/drive/Shared drives/DL_AT3/Experimentation/Flicker8k_Dataset/3700004668_99c3e3f55b.jpg': array([0.30913323, 0.13158585, 0.30496657, ..., 0.10369869, 0.2778723 ,\n",
              "        0.28381562], dtype=float32),\n",
              " '/content/drive/Shared drives/DL_AT3/Experimentation/Flicker8k_Dataset/2737759676_4bc9be2daf.jpg': array([0.52262264, 0.55861175, 0.16719934, ..., 0.8552212 , 0.6796333 ,\n",
              "        1.0788991 ], dtype=float32),\n",
              " '/content/drive/Shared drives/DL_AT3/Experimentation/Flicker8k_Dataset/3181409177_edb09c2718.jpg': array([0.18207002, 0.22266838, 0.07542907, ..., 0.16374378, 0.53342247,\n",
              "        0.06604945], dtype=float32),\n",
              " '/content/drive/Shared drives/DL_AT3/Experimentation/Flicker8k_Dataset/103106960_e8a41d64f8.jpg': array([0.18578675, 0.49442014, 0.37015623, ..., 1.1576986 , 1.3905951 ,\n",
              "        0.13558225], dtype=float32),\n",
              " '/content/drive/Shared drives/DL_AT3/Experimentation/Flicker8k_Dataset/540338917_57069687be.jpg': array([0.05954523, 0.01708792, 0.2631954 , ..., 0.37567157, 0.8953834 ,\n",
              "        0.75973415], dtype=float32),\n",
              " '/content/drive/Shared drives/DL_AT3/Experimentation/Flicker8k_Dataset/1295698260_e10c53c137.jpg': array([0.17465897, 0.64064664, 0.26572248, ..., 0.07469615, 0.68980026,\n",
              "        0.0227503 ], dtype=float32),\n",
              " '/content/drive/Shared drives/DL_AT3/Experimentation/Flicker8k_Dataset/460478198_83039f2593.jpg': array([0.2094757 , 0.2919577 , 0.13409847, ..., 0.2325194 , 0.64254695,\n",
              "        0.02451616], dtype=float32),\n",
              " '/content/drive/Shared drives/DL_AT3/Experimentation/Flicker8k_Dataset/252124738_796599e94b.jpg': array([0.5564312 , 0.6395185 , 0.6198994 , ..., 0.20129603, 0.14645313,\n",
              "        0.03221495], dtype=float32),\n",
              " '/content/drive/Shared drives/DL_AT3/Experimentation/Flicker8k_Dataset/246231741_882b45c4e1.jpg': array([0.19919877, 0.5764533 , 0.24832414, ..., 0.3665185 , 1.0773149 ,\n",
              "        0.2292058 ], dtype=float32),\n",
              " '/content/drive/Shared drives/DL_AT3/Experimentation/Flicker8k_Dataset/3519815055_304dc8e8d6.jpg': array([0.88332427, 0.6920189 , 1.2753915 , ..., 0.32890478, 0.59527576,\n",
              "        0.00968505], dtype=float32),\n",
              " '/content/drive/Shared drives/DL_AT3/Experimentation/Flicker8k_Dataset/3537920947_6c5a956f47.jpg': array([0.27349544, 0.7039918 , 0.38523453, ..., 0.72085613, 0.3005356 ,\n",
              "        0.19285056], dtype=float32),\n",
              " '/content/drive/Shared drives/DL_AT3/Experimentation/Flicker8k_Dataset/2972864304_481aeffe50.jpg': array([0.3558939 , 0.71038514, 1.2014835 , ..., 0.88530433, 0.7318392 ,\n",
              "        0.10014857], dtype=float32),\n",
              " '/content/drive/Shared drives/DL_AT3/Experimentation/Flicker8k_Dataset/3502897880_8392d0e4de.jpg': array([0.29556525, 0.39540714, 0.03109909, ..., 0.08541682, 0.10483995,\n",
              "        0.70587766], dtype=float32),\n",
              " '/content/drive/Shared drives/DL_AT3/Experimentation/Flicker8k_Dataset/1131155939_b4b457b05e.jpg': array([0.49478093, 0.11877618, 0.34294125, ..., 0.43925345, 1.3732239 ,\n",
              "        0.44918638], dtype=float32),\n",
              " '/content/drive/Shared drives/DL_AT3/Experimentation/Flicker8k_Dataset/2874984466_1aafec2c9f.jpg': array([0.42929268, 0.34215257, 0.15547603, ..., 0.1486854 , 0.22494425,\n",
              "        0.66175455], dtype=float32),\n",
              " '/content/drive/Shared drives/DL_AT3/Experimentation/Flicker8k_Dataset/421316045_ae7a1eb4bc.jpg': array([0.17792137, 0.16203056, 0.14646837, ..., 0.16497207, 0.12010272,\n",
              "        0.36304855], dtype=float32),\n",
              " '/content/drive/Shared drives/DL_AT3/Experimentation/Flicker8k_Dataset/3720210639_18bb34e475.jpg': array([0.01522202, 0.42514557, 0.42991677, ..., 0.6229085 , 0.40909076,\n",
              "        0.43516904], dtype=float32),\n",
              " '/content/drive/Shared drives/DL_AT3/Experimentation/Flicker8k_Dataset/3522349685_f046f0e250.jpg': array([0.7334916 , 0.6096804 , 0.67829907, ..., 0.43029112, 0.8533279 ,\n",
              "        0.3944986 ], dtype=float32),\n",
              " '/content/drive/Shared drives/DL_AT3/Experimentation/Flicker8k_Dataset/459778335_857d8ffebf.jpg': array([0.33172995, 0.02316606, 0.50452393, ..., 0.60232615, 0.6322677 ,\n",
              "        0.47801593], dtype=float32),\n",
              " '/content/drive/Shared drives/DL_AT3/Experimentation/Flicker8k_Dataset/3330935489_9cb67ca36b.jpg': array([0.2894946 , 0.6848334 , 0.49982786, ..., 1.0101392 , 0.258545  ,\n",
              "        0.24861121], dtype=float32),\n",
              " '/content/drive/Shared drives/DL_AT3/Experimentation/Flicker8k_Dataset/3590753142_61993d39df.jpg': array([0.22790389, 0.13165288, 0.87069476, ..., 0.34255487, 0.4067273 ,\n",
              "        0.29731083], dtype=float32),\n",
              " '/content/drive/Shared drives/DL_AT3/Experimentation/Flicker8k_Dataset/1459250022_bf1eddad11.jpg': array([0.3510516 , 0.77065146, 0.38645577, ..., 0.11840338, 0.006159  ,\n",
              "        0.17764664], dtype=float32),\n",
              " '/content/drive/Shared drives/DL_AT3/Experimentation/Flicker8k_Dataset/3371533654_73a12a35a4.jpg': array([0.21588108, 0.29559022, 0.38344252, ..., 1.505125  , 0.78643626,\n",
              "        0.10523961], dtype=float32),\n",
              " '/content/drive/Shared drives/DL_AT3/Experimentation/Flicker8k_Dataset/2675397335_1dcdbd12f5.jpg': array([0.53735673, 0.18313253, 0.0381607 , ..., 0.6801803 , 0.05773627,\n",
              "        0.6359005 ], dtype=float32),\n",
              " '/content/drive/Shared drives/DL_AT3/Experimentation/Flicker8k_Dataset/802594049_289e3c8420.jpg': array([0.04291698, 0.16221471, 0.12682626, ..., 0.6928105 , 0.41770905,\n",
              "        0.17374095], dtype=float32),\n",
              " '/content/drive/Shared drives/DL_AT3/Experimentation/Flicker8k_Dataset/576920249_df1bdc2068.jpg': array([0.39625388, 0.28318754, 0.39986116, ..., 0.17164822, 1.3432746 ,\n",
              "        0.3816061 ], dtype=float32),\n",
              " '/content/drive/Shared drives/DL_AT3/Experimentation/Flicker8k_Dataset/756521713_5d3da56a54.jpg': array([0.8492728 , 0.42180735, 0.36776793, ..., 0.03499468, 1.0392987 ,\n",
              "        0.16467267], dtype=float32),\n",
              " '/content/drive/Shared drives/DL_AT3/Experimentation/Flicker8k_Dataset/3560125106_691c292893.jpg': array([0.09697995, 0.32289302, 0.12600422, ..., 0.05534191, 0.63650495,\n",
              "        0.34776065], dtype=float32),\n",
              " '/content/drive/Shared drives/DL_AT3/Experimentation/Flicker8k_Dataset/2540203582_9a9ac92a5d.jpg': array([0.25243574, 0.24906355, 0.90165234, ..., 0.21461438, 0.24675843,\n",
              "        0.23772877], dtype=float32),\n",
              " '/content/drive/Shared drives/DL_AT3/Experimentation/Flicker8k_Dataset/3455405300_aa3069ecaa.jpg': array([1.0797914 , 0.8908531 , 1.5910861 , ..., 0.17647812, 1.0767694 ,\n",
              "        0.06000141], dtype=float32),\n",
              " '/content/drive/Shared drives/DL_AT3/Experimentation/Flicker8k_Dataset/2187720319_112d00f07d.jpg': array([0.2877753 , 0.97658   , 0.06293163, ..., 0.9156153 , 1.0030208 ,\n",
              "        0.7526891 ], dtype=float32),\n",
              " '/content/drive/Shared drives/DL_AT3/Experimentation/Flicker8k_Dataset/3346040664_5b584e6133.jpg': array([0.10426111, 0.4126317 , 0.52265126, ..., 0.2884512 , 0.3671394 ,\n",
              "        0.21246648], dtype=float32),\n",
              " '/content/drive/Shared drives/DL_AT3/Experimentation/Flicker8k_Dataset/3030079705_0dee8a3e89.jpg': array([1.3120515 , 0.01313247, 0.44420478, ..., 0.01029222, 0.6126157 ,\n",
              "        0.19082367], dtype=float32),\n",
              " '/content/drive/Shared drives/DL_AT3/Experimentation/Flicker8k_Dataset/2775249812_f4db95e818.jpg': array([0.12694943, 0.11170277, 0.40696636, ..., 0.51505065, 0.50831145,\n",
              "        0.0858524 ], dtype=float32),\n",
              " '/content/drive/Shared drives/DL_AT3/Experimentation/Flicker8k_Dataset/3711826708_bba64fb1e1.jpg': array([0.37103382, 0.08244136, 0.8762821 , ..., 0.35791394, 0.8143635 ,\n",
              "        0.15614347], dtype=float32),\n",
              " '/content/drive/Shared drives/DL_AT3/Experimentation/Flicker8k_Dataset/3401902253_cd27e6d0fe.jpg': array([0.15783209, 0.282941  , 0.17398229, ..., 0.26350683, 0.5951669 ,\n",
              "        0.11272493], dtype=float32),\n",
              " '/content/drive/Shared drives/DL_AT3/Experimentation/Flicker8k_Dataset/2537583012_4a358a6a8a.jpg': array([0.13979194, 0.07702713, 0.46826527, ..., 0.15801926, 0.42522997,\n",
              "        0.10074856], dtype=float32),\n",
              " '/content/drive/Shared drives/DL_AT3/Experimentation/Flicker8k_Dataset/2648310638_d6c576b5e4.jpg': array([0.15855852, 0.10173142, 0.39202   , ..., 0.04132918, 0.09389573,\n",
              "        0.21857882], dtype=float32),\n",
              " '/content/drive/Shared drives/DL_AT3/Experimentation/Flicker8k_Dataset/2670637584_d96efb8afa.jpg': array([0.3709371 , 0.3848706 , 0.2703474 , ..., 0.59830093, 0.9095041 ,\n",
              "        0.03695771], dtype=float32),\n",
              " '/content/drive/Shared drives/DL_AT3/Experimentation/Flicker8k_Dataset/3213395965_2a823c6865.jpg': array([0.68611187, 0.18692733, 0.5753474 , ..., 0.7582203 , 0.35118425,\n",
              "        0.6636096 ], dtype=float32),\n",
              " '/content/drive/Shared drives/DL_AT3/Experimentation/Flicker8k_Dataset/3088922727_4bdf2ccc94.jpg': array([0.61021876, 0.10402986, 0.7414054 , ..., 0.24035102, 0.16233543,\n",
              "        0.34882686], dtype=float32),\n",
              " '/content/drive/Shared drives/DL_AT3/Experimentation/Flicker8k_Dataset/3215896272_e9b4b547a9.jpg': array([0.12525117, 0.63537025, 0.1649543 , ..., 0.18441096, 0.06585011,\n",
              "        0.04555744], dtype=float32),\n",
              " '/content/drive/Shared drives/DL_AT3/Experimentation/Flicker8k_Dataset/2434006663_207a284cec.jpg': array([0.43137425, 0.1358856 , 0.47479957, ..., 0.3447703 , 1.455114  ,\n",
              "        0.9900503 ], dtype=float32),\n",
              " '/content/drive/Shared drives/DL_AT3/Experimentation/Flicker8k_Dataset/3373544964_c9f1253b7d.jpg': array([0.31611913, 0.48432025, 0.07343571, ..., 0.5307094 , 0.66870713,\n",
              "        0.58577317], dtype=float32),\n",
              " '/content/drive/Shared drives/DL_AT3/Experimentation/Flicker8k_Dataset/3126752627_dc2d6674da.jpg': array([0.10740431, 0.37181324, 0.46017164, ..., 0.09231196, 0.24356203,\n",
              "        0.78904736], dtype=float32),\n",
              " '/content/drive/Shared drives/DL_AT3/Experimentation/Flicker8k_Dataset/3514278386_de2343577e.jpg': array([0.40468937, 0.10725288, 0.21290198, ..., 0.08849248, 0.13971314,\n",
              "        0.04802114], dtype=float32),\n",
              " '/content/drive/Shared drives/DL_AT3/Experimentation/Flicker8k_Dataset/2201192417_d934730fea.jpg': array([0.08683541, 0.03475714, 0.08769344, ..., 0.02285783, 0.09883183,\n",
              "        0.7545038 ], dtype=float32),\n",
              " '/content/drive/Shared drives/DL_AT3/Experimentation/Flicker8k_Dataset/3386953179_84c2d7922f.jpg': array([0.00981886, 0.14734504, 0.10944933, ..., 0.5818509 , 0.03915866,\n",
              "        0.7644032 ], dtype=float32),\n",
              " '/content/drive/Shared drives/DL_AT3/Experimentation/Flicker8k_Dataset/2734669176_c272b42597.jpg': array([0.09141976, 0.150982  , 0.2821305 , ..., 0.3004158 , 0.2578027 ,\n",
              "        0.02866197], dtype=float32),\n",
              " '/content/drive/Shared drives/DL_AT3/Experimentation/Flicker8k_Dataset/607339469_af851c4119.jpg': array([0.30710685, 0.3671776 , 0.5487354 , ..., 0.36082792, 0.53215104,\n",
              "        0.1795302 ], dtype=float32),\n",
              " '/content/drive/Shared drives/DL_AT3/Experimentation/Flicker8k_Dataset/2500567791_101d5ddee3.jpg': array([0.40431413, 0.19655852, 0.18392366, ..., 0.27033988, 0.31574154,\n",
              "        0.4805022 ], dtype=float32),\n",
              " '/content/drive/Shared drives/DL_AT3/Experimentation/Flicker8k_Dataset/3689975998_72f50b6d91.jpg': array([0.0483627 , 0.09179186, 0.29194838, ..., 0.252692  , 0.10183315,\n",
              "        0.32488   ], dtype=float32),\n",
              " '/content/drive/Shared drives/DL_AT3/Experimentation/Flicker8k_Dataset/2081679622_6f1442367d.jpg': array([0.581934  , 0.11955729, 0.3500422 , ..., 0.96098965, 1.1570729 ,\n",
              "        0.16467103], dtype=float32),\n",
              " '/content/drive/Shared drives/DL_AT3/Experimentation/Flicker8k_Dataset/2726262796_03bd63a155.jpg': array([0.60616285, 0.02493404, 0.771508  , ..., 0.15593871, 1.7264771 ,\n",
              "        0.0914723 ], dtype=float32),\n",
              " '/content/drive/Shared drives/DL_AT3/Experimentation/Flicker8k_Dataset/2898304260_a4099a193a.jpg': array([0.19132468, 0.26518232, 0.21777467, ..., 1.7075491 , 0.48634735,\n",
              "        0.83690494], dtype=float32),\n",
              " '/content/drive/Shared drives/DL_AT3/Experimentation/Flicker8k_Dataset/3223709894_97824ba76f.jpg': array([0.1058826 , 0.16584022, 0.1550219 , ..., 0.02058337, 0.45938793,\n",
              "        0.45060337], dtype=float32),\n",
              " '/content/drive/Shared drives/DL_AT3/Experimentation/Flicker8k_Dataset/2204695848_3d1b140212.jpg': array([0.35537994, 0.10736809, 0.20384893, ..., 0.56715935, 0.71814024,\n",
              "        0.39113352], dtype=float32),\n",
              " '/content/drive/Shared drives/DL_AT3/Experimentation/Flicker8k_Dataset/3355683198_715fb1a2ac.jpg': array([0.9053286 , 0.6877179 , 0.55342793, ..., 0.09921028, 0.83965176,\n",
              "        0.7490907 ], dtype=float32),\n",
              " '/content/drive/Shared drives/DL_AT3/Experimentation/Flicker8k_Dataset/3630991662_990f397f7c.jpg': array([0.6295451 , 0.14904757, 0.4088633 , ..., 0.07616175, 1.088764  ,\n",
              "        0.527013  ], dtype=float32),\n",
              " '/content/drive/Shared drives/DL_AT3/Experimentation/Flicker8k_Dataset/2600386812_8790879d9a.jpg': array([0.5670744 , 0.06053383, 0.41690663, ..., 0.5547662 , 1.822423  ,\n",
              "        0.27119863], dtype=float32),\n",
              " '/content/drive/Shared drives/DL_AT3/Experimentation/Flicker8k_Dataset/2908466042_bf07cb52c7.jpg': array([0.27183837, 0.40687025, 0.25767034, ..., 0.267524  , 0.36657673,\n",
              "        0.1044145 ], dtype=float32),\n",
              " '/content/drive/Shared drives/DL_AT3/Experimentation/Flicker8k_Dataset/2773682293_3b712e47ff.jpg': array([0.3232659 , 0.5710999 , 0.45248443, ..., 0.41275907, 0.7449143 ,\n",
              "        0.67970854], dtype=float32),\n",
              " '/content/drive/Shared drives/DL_AT3/Experimentation/Flicker8k_Dataset/640203018_c0e7175831.jpg': array([0.12832987, 0.62624323, 0.4573707 , ..., 0.21069913, 0.98404384,\n",
              "        0.6636263 ], dtype=float32),\n",
              " '/content/drive/Shared drives/DL_AT3/Experimentation/Flicker8k_Dataset/107582366_d86f2d3347.jpg': array([1.9243895 , 0.06025969, 0.32719207, ..., 0.07559454, 0.6089904 ,\n",
              "        0.0758677 ], dtype=float32),\n",
              " '/content/drive/Shared drives/DL_AT3/Experimentation/Flicker8k_Dataset/3319899418_4bcf1b00d8.jpg': array([0.13857038, 0.2970109 , 0.17742096, ..., 0.3142057 , 0.78499854,\n",
              "        0.03004313], dtype=float32),\n",
              " '/content/drive/Shared drives/DL_AT3/Experimentation/Flicker8k_Dataset/823675317_b5fbdb17b3.jpg': array([0.31869572, 0.78183115, 0.47476274, ..., 0.7230887 , 0.21061829,\n",
              "        0.3249509 ], dtype=float32),\n",
              " '/content/drive/Shared drives/DL_AT3/Experimentation/Flicker8k_Dataset/294098577_c10f32bcfa.jpg': array([0.80774236, 0.4332882 , 0.5445019 , ..., 0.00140712, 1.085524  ,\n",
              "        0.68151546], dtype=float32),\n",
              " '/content/drive/Shared drives/DL_AT3/Experimentation/Flicker8k_Dataset/3240351042_5d29c94b0e.jpg': array([0.47884375, 0.23103635, 0.3133571 , ..., 0.2529079 , 0.61004883,\n",
              "        0.3449481 ], dtype=float32),\n",
              " '/content/drive/Shared drives/DL_AT3/Experimentation/Flicker8k_Dataset/1980882959_9a161f3469.jpg': array([0.17661221, 0.29647887, 0.4773969 , ..., 0.09126703, 0.3113152 ,\n",
              "        0.00406033], dtype=float32),\n",
              " '/content/drive/Shared drives/DL_AT3/Experimentation/Flicker8k_Dataset/3631023049_8a85bab19f.jpg': array([0.29464808, 0.16293804, 0.45129567, ..., 0.5716678 , 0.28993073,\n",
              "        0.06654885], dtype=float32),\n",
              " '/content/drive/Shared drives/DL_AT3/Experimentation/Flicker8k_Dataset/3278581900_8ce75a5332.jpg': array([0.15727149, 0.42402205, 0.7108885 , ..., 0.04480301, 0.988609  ,\n",
              "        0.38417038], dtype=float32),\n",
              " '/content/drive/Shared drives/DL_AT3/Experimentation/Flicker8k_Dataset/3175712926_5a470d0886.jpg': array([0.11119042, 0.23770088, 0.22687031, ..., 0.42883956, 0.30191132,\n",
              "        0.20376897], dtype=float32),\n",
              " '/content/drive/Shared drives/DL_AT3/Experimentation/Flicker8k_Dataset/2123932281_1a4fd38455.jpg': array([0.08230956, 0.65309054, 0.5183723 , ..., 0.69040453, 0.17846736,\n",
              "        0.52763575], dtype=float32),\n",
              " '/content/drive/Shared drives/DL_AT3/Experimentation/Flicker8k_Dataset/1138784872_69ade3f2ab.jpg': array([0.8255846 , 0.29167968, 0.4605336 , ..., 0.        , 0.40964505,\n",
              "        0.10957013], dtype=float32),\n",
              " '/content/drive/Shared drives/DL_AT3/Experimentation/Flicker8k_Dataset/2752919987_8bfca604ab.jpg': array([0.98277265, 0.5152581 , 0.44802094, ..., 0.5019597 , 0.6456251 ,\n",
              "        0.48495644], dtype=float32),\n",
              " '/content/drive/Shared drives/DL_AT3/Experimentation/Flicker8k_Dataset/1802092493_7b44fdb6b9.jpg': array([0.4397202 , 1.0185025 , 0.56238437, ..., 0.03718072, 1.628478  ,\n",
              "        0.34270248], dtype=float32),\n",
              " '/content/drive/Shared drives/DL_AT3/Experimentation/Flicker8k_Dataset/2661138991_d55aa0e5dc.jpg': array([0.2578595 , 0.39250475, 0.2364349 , ..., 0.48745698, 0.10624568,\n",
              "        0.6514326 ], dtype=float32),\n",
              " '/content/drive/Shared drives/DL_AT3/Experimentation/Flicker8k_Dataset/3665169936_01ae94c9fd.jpg': array([0.09177543, 0.25854325, 0.1578059 , ..., 0.11336409, 0.17198749,\n",
              "        0.25359127], dtype=float32),\n",
              " '/content/drive/Shared drives/DL_AT3/Experimentation/Flicker8k_Dataset/3458625738_297857369c.jpg': array([0.18713546, 0.10377537, 0.4195384 , ..., 0.6538738 , 0.13450636,\n",
              "        0.20163977], dtype=float32),\n",
              " '/content/drive/Shared drives/DL_AT3/Experimentation/Flicker8k_Dataset/2458033289_f0616879df.jpg': array([0.31555185, 0.01096437, 0.16364518, ..., 0.10467504, 0.44348982,\n",
              "        0.930269  ], dtype=float32),\n",
              " '/content/drive/Shared drives/DL_AT3/Experimentation/Flicker8k_Dataset/511749704_3037806cb1.jpg': array([0.04262373, 0.63967395, 0.046934  , ..., 0.00954969, 0.06401874,\n",
              "        0.5593407 ], dtype=float32),\n",
              " '/content/drive/Shared drives/DL_AT3/Experimentation/Flicker8k_Dataset/2623496164_68ffeb5067.jpg': array([0.22800298, 0.32949388, 0.25215152, ..., 0.01074436, 0.6276325 ,\n",
              "        0.70850277], dtype=float32),\n",
              " '/content/drive/Shared drives/DL_AT3/Experimentation/Flicker8k_Dataset/2141713971_e25eb12712.jpg': array([0.09052245, 0.16676325, 0.11085346, ..., 0.5316705 , 1.0534372 ,\n",
              "        0.8830284 ], dtype=float32),\n",
              " '/content/drive/Shared drives/DL_AT3/Experimentation/Flicker8k_Dataset/3271385712_ffd34f2de5.jpg': array([0.19576433, 0.7486143 , 0.34044632, ..., 0.13575907, 0.82564867,\n",
              "        0.11910596], dtype=float32),\n",
              " '/content/drive/Shared drives/DL_AT3/Experimentation/Flicker8k_Dataset/2053733930_e245615ad4.jpg': array([0.16565672, 0.2795446 , 0.2760595 , ..., 0.50362635, 0.18673986,\n",
              "        0.09223711], dtype=float32),\n",
              " '/content/drive/Shared drives/DL_AT3/Experimentation/Flicker8k_Dataset/1801663973_5ad393caeb.jpg': array([0.43699133, 0.44215015, 0.15485306, ..., 0.9174112 , 0.7818171 ,\n",
              "        0.3261323 ], dtype=float32),\n",
              " '/content/drive/Shared drives/DL_AT3/Experimentation/Flicker8k_Dataset/3557324238_6ba58831d9.jpg': array([0.58249587, 0.29476157, 0.75781494, ..., 0.47226852, 0.7861109 ,\n",
              "        0.8427048 ], dtype=float32),\n",
              " '/content/drive/Shared drives/DL_AT3/Experimentation/Flicker8k_Dataset/3357708906_fb3a54dd78.jpg': array([0.6389965 , 0.03632259, 0.44383067, ..., 0.00514833, 1.1962528 ,\n",
              "        1.2567718 ], dtype=float32),\n",
              " '/content/drive/Shared drives/DL_AT3/Experimentation/Flicker8k_Dataset/2987121689_f9de6c479b.jpg': array([0.08399586, 0.1477645 , 0.14869231, ..., 0.02982901, 0.03720808,\n",
              "        0.1468931 ], dtype=float32),\n",
              " '/content/drive/Shared drives/DL_AT3/Experimentation/Flicker8k_Dataset/2813784259_d201044d71.jpg': array([0.20559171, 0.29706123, 0.27281326, ..., 0.24087147, 0.11020523,\n",
              "        0.14234062], dtype=float32),\n",
              " '/content/drive/Shared drives/DL_AT3/Experimentation/Flicker8k_Dataset/1077931201_1e0bb83105.jpg': array([0.5394726 , 0.07466765, 0.19554918, ..., 0.8614657 , 0.821373  ,\n",
              "        1.069909  ], dtype=float32),\n",
              " '/content/drive/Shared drives/DL_AT3/Experimentation/Flicker8k_Dataset/1999444757_1b92efb590.jpg': array([0.2720627 , 0.9313032 , 0.86415184, ..., 0.5276965 , 0.84080756,\n",
              "        0.        ], dtype=float32),\n",
              " '/content/drive/Shared drives/DL_AT3/Experimentation/Flicker8k_Dataset/2710563762_06d48329d7.jpg': array([0.3948951 , 0.05370475, 0.8436862 , ..., 0.17305973, 0.43383485,\n",
              "        0.15157758], dtype=float32),\n",
              " '/content/drive/Shared drives/DL_AT3/Experimentation/Flicker8k_Dataset/1926129518_4350f4f552.jpg': array([0.27646467, 0.33101046, 0.08754182, ..., 0.22088638, 0.6415593 ,\n",
              "        0.1771273 ], dtype=float32),\n",
              " '/content/drive/Shared drives/DL_AT3/Experimentation/Flicker8k_Dataset/3394654132_9a8659605c.jpg': array([0.73551196, 0.45508367, 0.53859895, ..., 1.3193812 , 0.84001964,\n",
              "        0.7932137 ], dtype=float32),\n",
              " '/content/drive/Shared drives/DL_AT3/Experimentation/Flicker8k_Dataset/693164706_9624582e69.jpg': array([0.15319346, 0.37806907, 0.29843146, ..., 0.5279478 , 0.45129043,\n",
              "        0.13728513], dtype=float32),\n",
              " '/content/drive/Shared drives/DL_AT3/Experimentation/Flicker8k_Dataset/2165461920_1a4144eb2b.jpg': array([0.07226482, 0.05537843, 0.23191331, ..., 0.29924238, 0.1994778 ,\n",
              "        0.10102123], dtype=float32),\n",
              " '/content/drive/Shared drives/DL_AT3/Experimentation/Flicker8k_Dataset/3472485022_5d03e9852d.jpg': array([0.27996862, 0.3382982 , 0.05262727, ..., 0.21914026, 0.2310602 ,\n",
              "        0.18847299], dtype=float32),\n",
              " '/content/drive/Shared drives/DL_AT3/Experimentation/Flicker8k_Dataset/2210368267_0615754b48.jpg': array([0.72037697, 0.14470838, 0.41701326, ..., 1.2271199 , 1.1584172 ,\n",
              "        0.21984138], dtype=float32),\n",
              " '/content/drive/Shared drives/DL_AT3/Experimentation/Flicker8k_Dataset/2362481035_a7600875d0.jpg': array([0.04850274, 0.02941289, 0.2754125 , ..., 0.3579772 , 0.07654352,\n",
              "        0.13003287], dtype=float32),\n",
              " '/content/drive/Shared drives/DL_AT3/Experimentation/Flicker8k_Dataset/3690425778_3b390b3ea5.jpg': array([0.6510447 , 0.19413778, 0.50483835, ..., 0.9791832 , 1.0683324 ,\n",
              "        0.9308952 ], dtype=float32),\n",
              " '/content/drive/Shared drives/DL_AT3/Experimentation/Flicker8k_Dataset/2679565682_91ecd283ff.jpg': array([0.3877324 , 0.21561822, 0.24684224, ..., 0.36015865, 0.25492436,\n",
              "        0.04391834], dtype=float32),\n",
              " '/content/drive/Shared drives/DL_AT3/Experimentation/Flicker8k_Dataset/405534893_2d0f3b0147.jpg': array([0.2577718 , 0.        , 0.12303712, ..., 0.82497275, 1.3453449 ,\n",
              "        1.0927474 ], dtype=float32),\n",
              " '/content/drive/Shared drives/DL_AT3/Experimentation/Flicker8k_Dataset/2467853482_17009933e8.jpg': array([0.83238417, 0.21989554, 0.34836158, ..., 0.523584  , 1.1135641 ,\n",
              "        0.05376431], dtype=float32),\n",
              " '/content/drive/Shared drives/DL_AT3/Experimentation/Flicker8k_Dataset/475317104_1cdc1653b4.jpg': array([0.68646455, 0.09083445, 0.44658944, ..., 0.09105302, 0.27917373,\n",
              "        0.24767582], dtype=float32),\n",
              " '/content/drive/Shared drives/DL_AT3/Experimentation/Flicker8k_Dataset/2505056124_1276e8dbcb.jpg': array([0.15676904, 0.35773593, 0.22065112, ..., 0.52379405, 0.94892234,\n",
              "        0.1593962 ], dtype=float32),\n",
              " '/content/drive/Shared drives/DL_AT3/Experimentation/Flicker8k_Dataset/3075068274_2a28a5263b.jpg': array([0.3842815 , 0.8903641 , 0.11319888, ..., 0.94115317, 0.40971917,\n",
              "        0.4378013 ], dtype=float32),\n",
              " '/content/drive/Shared drives/DL_AT3/Experimentation/Flicker8k_Dataset/862177617_c2c0581075.jpg': array([0.3274881 , 0.4311619 , 0.6976234 , ..., 0.4690709 , 0.77035964,\n",
              "        0.475354  ], dtype=float32),\n",
              " '/content/drive/Shared drives/DL_AT3/Experimentation/Flicker8k_Dataset/1691573772_1adef8e40e.jpg': array([0.2167169 , 0.08677743, 0.15231091, ..., 0.3112093 , 0.70500493,\n",
              "        0.46476442], dtype=float32),\n",
              " '/content/drive/Shared drives/DL_AT3/Experimentation/Flicker8k_Dataset/2579266054_1ec58aa92f.jpg': array([0.26736936, 0.94749284, 0.9340755 , ..., 0.75233364, 0.6322235 ,\n",
              "        0.43720824], dtype=float32),\n",
              " '/content/drive/Shared drives/DL_AT3/Experimentation/Flicker8k_Dataset/505944126_f9a6ab8944.jpg': array([0.22995535, 0.3532675 , 0.25467998, ..., 0.12387776, 0.49897274,\n",
              "        0.39263785], dtype=float32),\n",
              " '/content/drive/Shared drives/DL_AT3/Experimentation/Flicker8k_Dataset/3176968956_d942a93513.jpg': array([0.23684542, 0.04816926, 0.17239496, ..., 0.17929915, 1.4478996 ,\n",
              "        0.60558844], dtype=float32),\n",
              " '/content/drive/Shared drives/DL_AT3/Experimentation/Flicker8k_Dataset/2596474836_79468f23a0.jpg': array([0.40404648, 0.17635511, 0.6888006 , ..., 0.6367569 , 1.4141548 ,\n",
              "        0.56339824], dtype=float32),\n",
              " '/content/drive/Shared drives/DL_AT3/Experimentation/Flicker8k_Dataset/3203878596_cbb307ce3b.jpg': array([0.251935  , 0.00546956, 0.1681704 , ..., 0.3350181 , 1.409833  ,\n",
              "        0.65600467], dtype=float32),\n",
              " '/content/drive/Shared drives/DL_AT3/Experimentation/Flicker8k_Dataset/3673484638_dce87295fe.jpg': array([0.43115604, 0.75118333, 0.11321261, ..., 0.52206135, 0.16210139,\n",
              "        0.7556566 ], dtype=float32),\n",
              " '/content/drive/Shared drives/DL_AT3/Experimentation/Flicker8k_Dataset/2346402952_e47d0065b6.jpg': array([0.16021556, 0.17541721, 0.36978126, ..., 0.42635623, 0.6246635 ,\n",
              "        0.01960668], dtype=float32),\n",
              " '/content/drive/Shared drives/DL_AT3/Experimentation/Flicker8k_Dataset/719837187_3e7bf1d472.jpg': array([0.06793516, 0.02755806, 0.1575129 , ..., 0.71267164, 0.961298  ,\n",
              "        0.11215347], dtype=float32),\n",
              " '/content/drive/Shared drives/DL_AT3/Experimentation/Flicker8k_Dataset/3163068926_d28ed3ef53.jpg': array([0.22380821, 0.21630523, 0.3789027 , ..., 0.02617952, 0.47642642,\n",
              "        0.6725167 ], dtype=float32),\n",
              " '/content/drive/Shared drives/DL_AT3/Experimentation/Flicker8k_Dataset/3644941648_012ec87848.jpg': array([0.08085313, 0.19820707, 0.26741385, ..., 0.7340448 , 0.12385614,\n",
              "        0.7579959 ], dtype=float32),\n",
              " '/content/drive/Shared drives/DL_AT3/Experimentation/Flicker8k_Dataset/3448490813_f9623e864d.jpg': array([0.34089106, 0.43835372, 0.18184485, ..., 0.30378193, 0.535326  ,\n",
              "        0.22468984], dtype=float32),\n",
              " '/content/drive/Shared drives/DL_AT3/Experimentation/Flicker8k_Dataset/3724581378_41049da264.jpg': array([0.31261745, 0.02356405, 0.3021382 , ..., 0.03843563, 0.4824558 ,\n",
              "        0.04300921], dtype=float32),\n",
              " '/content/drive/Shared drives/DL_AT3/Experimentation/Flicker8k_Dataset/1034276567_49bb87c51c.jpg': array([0.12012583, 0.33231857, 0.18382816, ..., 0.3041797 , 0.20294146,\n",
              "        0.22434506], dtype=float32),\n",
              " '/content/drive/Shared drives/DL_AT3/Experimentation/Flicker8k_Dataset/3421480658_b3518b6819.jpg': array([0.59167325, 0.10292898, 0.5003773 , ..., 0.52861524, 0.4023526 ,\n",
              "        0.5941549 ], dtype=float32),\n",
              " '/content/drive/Shared drives/DL_AT3/Experimentation/Flicker8k_Dataset/2618538137_44fffe10c4.jpg': array([0.10141486, 1.1254479 , 0.13581038, ..., 0.5880997 , 0.29013953,\n",
              "        0.6624865 ], dtype=float32),\n",
              " '/content/drive/Shared drives/DL_AT3/Experimentation/Flicker8k_Dataset/3486538055_bcf4d3dfda.jpg': array([0.19910437, 0.355509  , 0.23422103, ..., 0.44366974, 0.55376124,\n",
              "        0.6182907 ], dtype=float32),\n",
              " '/content/drive/Shared drives/DL_AT3/Experimentation/Flicker8k_Dataset/519167484_ee03e2a91e.jpg': array([0.42199135, 0.35962847, 0.35642722, ..., 0.03748458, 0.79994863,\n",
              "        0.12169142], dtype=float32),\n",
              " '/content/drive/Shared drives/DL_AT3/Experimentation/Flicker8k_Dataset/2282522980_45cfa8e0cf.jpg': array([0.29264987, 0.35338393, 0.19627886, ..., 0.09471022, 1.5051646 ,\n",
              "        0.31868088], dtype=float32),\n",
              " '/content/drive/Shared drives/DL_AT3/Experimentation/Flicker8k_Dataset/3711611500_ea47b58b6f.jpg': array([0.4586994 , 0.07684738, 0.16192909, ..., 0.11266242, 0.52750427,\n",
              "        0.5424662 ], dtype=float32),\n",
              " '/content/drive/Shared drives/DL_AT3/Experimentation/Flicker8k_Dataset/2057160636_6e9cf3b5f0.jpg': array([0.26608664, 0.02847284, 0.4398194 , ..., 0.01857368, 0.33785975,\n",
              "        0.15418795], dtype=float32),\n",
              " '/content/drive/Shared drives/DL_AT3/Experimentation/Flicker8k_Dataset/260392825_ea61660633.jpg': array([0.26333934, 0.18720523, 0.7633382 , ..., 0.08203922, 0.15265723,\n",
              "        0.6787048 ], dtype=float32),\n",
              " '/content/drive/Shared drives/DL_AT3/Experimentation/Flicker8k_Dataset/541046380_513e295384.jpg': array([1.4788597 , 0.18613143, 0.7435317 , ..., 0.01254976, 1.0417197 ,\n",
              "        0.18505043], dtype=float32),\n",
              " '/content/drive/Shared drives/DL_AT3/Experimentation/Flicker8k_Dataset/1396064003_3fd949c9dd.jpg': array([0.08616745, 0.10134423, 0.0487756 , ..., 0.44870442, 0.5636851 ,\n",
              "        0.72803384], dtype=float32),\n",
              " '/content/drive/Shared drives/DL_AT3/Experimentation/Flicker8k_Dataset/3702038926_966fdaa311.jpg': array([0.2658965 , 0.34585857, 1.4611335 , ..., 0.1288026 , 0.10187577,\n",
              "        0.39219153], dtype=float32),\n",
              " '/content/drive/Shared drives/DL_AT3/Experimentation/Flicker8k_Dataset/2598012140_832863fcb9.jpg': array([0.25134248, 0.21616274, 0.42287517, ..., 0.5204066 , 0.5019345 ,\n",
              "        0.51359534], dtype=float32),\n",
              " '/content/drive/Shared drives/DL_AT3/Experimentation/Flicker8k_Dataset/3468023754_8a07d4c56e.jpg': array([0.40569684, 0.54660463, 0.96175647, ..., 0.88047445, 0.7836166 ,\n",
              "        0.3561191 ], dtype=float32),\n",
              " '/content/drive/Shared drives/DL_AT3/Experimentation/Flicker8k_Dataset/309771854_952aabe3cc.jpg': array([0.60324633, 0.09561402, 1.4271978 , ..., 0.1267438 , 0.29090172,\n",
              "        0.0036833 ], dtype=float32),\n",
              " '/content/drive/Shared drives/DL_AT3/Experimentation/Flicker8k_Dataset/2937461473_11bbace28c.jpg': array([0.17982793, 0.84017223, 0.41341084, ..., 0.06137229, 1.2555392 ,\n",
              "        0.16396925], dtype=float32),\n",
              " '/content/drive/Shared drives/DL_AT3/Experimentation/Flicker8k_Dataset/247617035_9f2e821534.jpg': array([0.34842485, 0.59233296, 0.36622888, ..., 0.12493816, 0.66479707,\n",
              "        1.1985425 ], dtype=float32),\n",
              " '/content/drive/Shared drives/DL_AT3/Experimentation/Flicker8k_Dataset/2833431496_09d999db4d.jpg': array([0.42611372, 0.57080996, 0.47975907, ..., 0.6576427 , 0.23423597,\n",
              "        1.0562868 ], dtype=float32),\n",
              " '/content/drive/Shared drives/DL_AT3/Experimentation/Flicker8k_Dataset/3549277110_24d4064ccd.jpg': array([0.1394283 , 0.29122582, 0.21220298, ..., 0.12192547, 0.1540438 ,\n",
              "        0.0013891 ], dtype=float32),\n",
              " '/content/drive/Shared drives/DL_AT3/Experimentation/Flicker8k_Dataset/3116011063_f4071ccce6.jpg': array([0.27145666, 0.06726744, 0.15367496, ..., 0.23939091, 0.7539365 ,\n",
              "        0.51367396], dtype=float32),\n",
              " '/content/drive/Shared drives/DL_AT3/Experimentation/Flicker8k_Dataset/2403376030_903521c371.jpg': array([0.21483096, 0.29454407, 0.2717908 , ..., 0.4529396 , 1.0292044 ,\n",
              "        1.3125417 ], dtype=float32),\n",
              " '/content/drive/Shared drives/DL_AT3/Experimentation/Flicker8k_Dataset/2090997177_76d482b158.jpg': array([1.184366  , 0.04859995, 0.03396405, ..., 0.23489505, 0.13323073,\n",
              "        0.24545361], dtype=float32),\n",
              " '/content/drive/Shared drives/DL_AT3/Experimentation/Flicker8k_Dataset/3517023411_a8fbd15230.jpg': array([0.06215177, 0.46795982, 0.2135525 , ..., 0.39516607, 0.21252844,\n",
              "        0.49331984], dtype=float32),\n",
              " '/content/drive/Shared drives/DL_AT3/Experimentation/Flicker8k_Dataset/3328535573_33c3cd5b59.jpg': array([0.26629245, 0.30543566, 0.5031371 , ..., 0.08515236, 0.81170344,\n",
              "        0.02622835], dtype=float32),\n",
              " '/content/drive/Shared drives/DL_AT3/Experimentation/Flicker8k_Dataset/632251903_b36701a5e9.jpg': array([0.28848   , 0.1559773 , 0.3219274 , ..., 0.07438773, 0.55129   ,\n",
              "        0.34374714], dtype=float32),\n",
              " '/content/drive/Shared drives/DL_AT3/Experimentation/Flicker8k_Dataset/1426014905_da60d72957.jpg': array([0.12695369, 0.462862  , 0.673898  , ..., 0.40681678, 0.5236254 ,\n",
              "        0.342982  ], dtype=float32),\n",
              " '/content/drive/Shared drives/DL_AT3/Experimentation/Flicker8k_Dataset/3262849619_0bc4f88ef9.jpg': array([0.15551692, 0.20719191, 0.09882835, ..., 0.7499577 , 0.65560555,\n",
              "        0.03962099], dtype=float32),\n",
              " '/content/drive/Shared drives/DL_AT3/Experimentation/Flicker8k_Dataset/3478877323_0a507a601b.jpg': array([0.29350823, 0.35294828, 0.20406514, ..., 0.02559869, 0.31419057,\n",
              "        0.        ], dtype=float32),\n",
              " '/content/drive/Shared drives/DL_AT3/Experimentation/Flicker8k_Dataset/3154152744_4e93ec8a62.jpg': array([0.20462729, 0.03256049, 0.10924008, ..., 0.31775725, 0.59142935,\n",
              "        0.19121753], dtype=float32),\n",
              " '/content/drive/Shared drives/DL_AT3/Experimentation/Flicker8k_Dataset/2090339522_d30d2436f9.jpg': array([0.07471614, 0.1659429 , 0.42211807, ..., 1.0653191 , 0.16400422,\n",
              "        0.3701102 ], dtype=float32),\n",
              " '/content/drive/Shared drives/DL_AT3/Experimentation/Flicker8k_Dataset/2552438538_285a05b86c.jpg': array([0.06564514, 0.48721233, 0.47847652, ..., 0.24991566, 0.35328883,\n",
              "        0.4320094 ], dtype=float32),\n",
              " '/content/drive/Shared drives/DL_AT3/Experimentation/Flicker8k_Dataset/2687672606_275169c35d.jpg': array([0.25515944, 0.26439464, 0.44646436, ..., 0.4453114 , 0.7308694 ,\n",
              "        0.38599804], dtype=float32),\n",
              " '/content/drive/Shared drives/DL_AT3/Experimentation/Flicker8k_Dataset/2574509968_e4692ae169.jpg': array([0.12548178, 0.21476468, 0.185567  , ..., 0.02108984, 0.7037269 ,\n",
              "        0.13804947], dtype=float32),\n",
              " '/content/drive/Shared drives/DL_AT3/Experimentation/Flicker8k_Dataset/3262301835_9f1a49b80a.jpg': array([0.20290475, 0.5810267 , 0.5172641 , ..., 0.54659474, 0.5658466 ,\n",
              "        0.03826562], dtype=float32),\n",
              " '/content/drive/Shared drives/DL_AT3/Experimentation/Flicker8k_Dataset/3342271377_446ffc34c0.jpg': array([0.37482697, 1.0693278 , 1.2727504 , ..., 0.36343938, 1.0135273 ,\n",
              "        0.7334657 ], dtype=float32),\n",
              " '/content/drive/Shared drives/DL_AT3/Experimentation/Flicker8k_Dataset/262446581_06ef7d9445.jpg': array([0.4697235 , 0.29628313, 0.708191  , ..., 0.18218136, 0.32235873,\n",
              "        0.7418031 ], dtype=float32),\n",
              " '/content/drive/Shared drives/DL_AT3/Experimentation/Flicker8k_Dataset/2090387793_274ab4cf7d.jpg': array([0.23366877, 0.11932901, 0.58508164, ..., 0.3569326 , 0.08219856,\n",
              "        0.05638706], dtype=float32),\n",
              " '/content/drive/Shared drives/DL_AT3/Experimentation/Flicker8k_Dataset/3046190891_05c6ecd9b6.jpg': array([0.1155287 , 0.6395456 , 0.2561377 , ..., 0.09101039, 1.0569715 ,\n",
              "        0.9023054 ], dtype=float32),\n",
              " '/content/drive/Shared drives/DL_AT3/Experimentation/Flicker8k_Dataset/3716272233_7845ec5b3e.jpg': array([0.2515114 , 0.22772378, 0.27587414, ..., 0.2549377 , 0.74331796,\n",
              "        0.9780164 ], dtype=float32),\n",
              " '/content/drive/Shared drives/DL_AT3/Experimentation/Flicker8k_Dataset/3009035153_715e39b440.jpg': array([0.05935813, 0.12829797, 0.01664461, ..., 0.27215308, 0.03151859,\n",
              "        0.05747344], dtype=float32),\n",
              " '/content/drive/Shared drives/DL_AT3/Experimentation/Flicker8k_Dataset/862156271_3eacea90a8.jpg': array([0.55106425, 0.26675627, 0.7857323 , ..., 0.25238806, 1.1968025 ,\n",
              "        0.71987486], dtype=float32),\n",
              " '/content/drive/Shared drives/DL_AT3/Experimentation/Flicker8k_Dataset/2356574282_5078f08b58.jpg': array([0.4037084 , 0.737709  , 0.9198537 , ..., 0.67975414, 1.1149342 ,\n",
              "        0.25733227], dtype=float32),\n",
              " '/content/drive/Shared drives/DL_AT3/Experimentation/Flicker8k_Dataset/519228867_2fd25e38d4.jpg': array([0.23034187, 0.41648865, 0.28847647, ..., 1.0960073 , 0.12340908,\n",
              "        0.45209783], dtype=float32),\n",
              " '/content/drive/Shared drives/DL_AT3/Experimentation/Flicker8k_Dataset/3585123310_9a8e94bd2b.jpg': array([0.46040213, 0.2682919 , 0.78925264, ..., 0.72425413, 0.2448631 ,\n",
              "        0.32126257], dtype=float32),\n",
              " '/content/drive/Shared drives/DL_AT3/Experimentation/Flicker8k_Dataset/3331525712_af1dcc47f2.jpg': array([0.5320046 , 0.87807286, 0.48957372, ..., 0.41080996, 0.6902313 ,\n",
              "        0.2807068 ], dtype=float32),\n",
              " '/content/drive/Shared drives/DL_AT3/Experimentation/Flicker8k_Dataset/3205214191_29b42b9b09.jpg': array([0.38962495, 0.32043338, 0.2348798 , ..., 0.18364087, 0.55594814,\n",
              "        0.64410865], dtype=float32),\n",
              " '/content/drive/Shared drives/DL_AT3/Experimentation/Flicker8k_Dataset/2286823363_7d554ea740.jpg': array([0.10517168, 0.10275923, 0.19492814, ..., 0.02565319, 0.14721575,\n",
              "        0.60060394], dtype=float32),\n",
              " '/content/drive/Shared drives/DL_AT3/Experimentation/Flicker8k_Dataset/3484906808_ee20714408.jpg': array([0.21929339, 0.5737846 , 0.42178154, ..., 0.48939738, 0.50868845,\n",
              "        0.0374424 ], dtype=float32),\n",
              " '/content/drive/Shared drives/DL_AT3/Experimentation/Flicker8k_Dataset/3507670136_2e5f94accf.jpg': array([0.12326019, 0.6839343 , 0.07035246, ..., 0.4206696 , 0.59448564,\n",
              "        0.41617477], dtype=float32),\n",
              " '/content/drive/Shared drives/DL_AT3/Experimentation/Flicker8k_Dataset/244399048_8332bb3270.jpg': array([0.12032202, 0.58078754, 0.06931411, ..., 0.21034987, 0.03408257,\n",
              "        0.02012884], dtype=float32),\n",
              " '/content/drive/Shared drives/DL_AT3/Experimentation/Flicker8k_Dataset/3209620285_edfc479392.jpg': array([0.03230897, 0.3331998 , 0.25343314, ..., 0.10995323, 1.5728568 ,\n",
              "        0.00900616], dtype=float32),\n",
              " '/content/drive/Shared drives/DL_AT3/Experimentation/Flicker8k_Dataset/385835044_4aa11f6990.jpg': array([0.33212534, 0.15214984, 0.50874346, ..., 0.14664562, 0.17880803,\n",
              "        0.3227011 ], dtype=float32),\n",
              " '/content/drive/Shared drives/DL_AT3/Experimentation/Flicker8k_Dataset/2944025729_5aecda30ee.jpg': array([0.06834934, 0.44638216, 0.5018808 , ..., 0.8202156 , 0.35154623,\n",
              "        0.40010032], dtype=float32),\n",
              " '/content/drive/Shared drives/DL_AT3/Experimentation/Flicker8k_Dataset/501699433_f8df386cf9.jpg': array([0.3214953 , 0.11225651, 0.13666993, ..., 0.38868427, 0.4713276 ,\n",
              "        0.43627155], dtype=float32),\n",
              " '/content/drive/Shared drives/DL_AT3/Experimentation/Flicker8k_Dataset/3323076458_3ce72a1dae.jpg': array([0.07401007, 0.81452084, 0.07430989, ..., 0.65566343, 0.82945675,\n",
              "        0.2625379 ], dtype=float32),\n",
              " '/content/drive/Shared drives/DL_AT3/Experimentation/Flicker8k_Dataset/3684562647_28dc325522.jpg': array([0.26564002, 0.3669166 , 0.61769474, ..., 0.21253338, 0.14025816,\n",
              "        0.7241705 ], dtype=float32),\n",
              " '/content/drive/Shared drives/DL_AT3/Experimentation/Flicker8k_Dataset/483039719_75181b2726.jpg': array([0.33503467, 0.50491506, 0.22862706, ..., 0.4366455 , 0.4157914 ,\n",
              "        0.64623636], dtype=float32),\n",
              " '/content/drive/Shared drives/DL_AT3/Experimentation/Flicker8k_Dataset/203114209_e4cd71a6b7.jpg': array([0.08205006, 0.02781826, 0.41113555, ..., 0.0472471 , 0.14708161,\n",
              "        0.39919025], dtype=float32),\n",
              " '/content/drive/Shared drives/DL_AT3/Experimentation/Flicker8k_Dataset/2165677531_e1d5e086f7.jpg': array([0.12825741, 0.17668314, 0.16546781, ..., 0.31520253, 0.92439944,\n",
              "        0.27549672], dtype=float32),\n",
              " '/content/drive/Shared drives/DL_AT3/Experimentation/Flicker8k_Dataset/3532098999_4e07a0a17e.jpg': array([0.08134915, 0.07600486, 0.10364625, ..., 0.01250396, 0.31615698,\n",
              "        0.21514094], dtype=float32),\n",
              " '/content/drive/Shared drives/DL_AT3/Experimentation/Flicker8k_Dataset/1370773415_967b1ffde1.jpg': array([1.1713828 , 0.11321665, 1.3689742 , ..., 0.32840922, 0.08280889,\n",
              "        0.39896673], dtype=float32),\n",
              " '/content/drive/Shared drives/DL_AT3/Experimentation/Flicker8k_Dataset/3242088278_43eea5d17e.jpg': array([0.26782107, 0.09100923, 0.07908567, ..., 0.2449331 , 0.09073818,\n",
              "        0.2803104 ], dtype=float32),\n",
              " '/content/drive/Shared drives/DL_AT3/Experimentation/Flicker8k_Dataset/3421547427_53411b6278.jpg': array([0.11158234, 0.8465374 , 0.21386814, ..., 0.21202376, 0.6973947 ,\n",
              "        0.09399506], dtype=float32),\n",
              " '/content/drive/Shared drives/DL_AT3/Experimentation/Flicker8k_Dataset/3206919175_e3a11b6874.jpg': array([0.43527013, 0.6433755 , 0.4367125 , ..., 0.46133596, 0.7867825 ,\n",
              "        0.9075343 ], dtype=float32),\n",
              " '/content/drive/Shared drives/DL_AT3/Experimentation/Flicker8k_Dataset/2709359730_13bca100af.jpg': array([0.2833272 , 0.21916279, 0.14587602, ..., 0.37716922, 0.03031555,\n",
              "        0.3679241 ], dtype=float32),\n",
              " '/content/drive/Shared drives/DL_AT3/Experimentation/Flicker8k_Dataset/2115620856_4fa5025ac6.jpg': array([0.62612534, 0.12969528, 0.96001184, ..., 0.18175152, 0.1248198 ,\n",
              "        0.44303036], dtype=float32),\n",
              " '/content/drive/Shared drives/DL_AT3/Experimentation/Flicker8k_Dataset/3046431231_dc48851062.jpg': array([1.1790395 , 0.47543275, 1.3297487 , ..., 0.1410389 , 1.1256354 ,\n",
              "        0.493388  ], dtype=float32),\n",
              " '/content/drive/Shared drives/DL_AT3/Experimentation/Flicker8k_Dataset/2346772831_b2748ba1f0.jpg': array([0.07706352, 0.26339412, 0.44450104, ..., 0.79436445, 0.632887  ,\n",
              "        0.5010528 ], dtype=float32),\n",
              " '/content/drive/Shared drives/DL_AT3/Experimentation/Flicker8k_Dataset/3259110412_9908c45144.jpg': array([0.26090556, 0.11501178, 0.04409657, ..., 1.619359  , 0.93942165,\n",
              "        0.80604374], dtype=float32),\n",
              " '/content/drive/Shared drives/DL_AT3/Experimentation/Flicker8k_Dataset/1248357227_2b4175fc39.jpg': array([0.46713775, 0.31555405, 0.5580772 , ..., 0.00447627, 0.00178849,\n",
              "        0.10257412], dtype=float32),\n",
              " '/content/drive/Shared drives/DL_AT3/Experimentation/Flicker8k_Dataset/2480668859_6f9b46be6a.jpg': array([0.10463031, 0.01343423, 0.17589065, ..., 0.15872134, 0.33453462,\n",
              "        0.33988428], dtype=float32),\n",
              " '/content/drive/Shared drives/DL_AT3/Experimentation/Flicker8k_Dataset/3175434849_859f09fe07.jpg': array([0.55225766, 0.04984188, 0.34946197, ..., 0.15579675, 1.3093656 ,\n",
              "        1.1563774 ], dtype=float32),\n",
              " '/content/drive/Shared drives/DL_AT3/Experimentation/Flicker8k_Dataset/3053813297_7ce5f87710.jpg': array([0.1392786 , 0.30179408, 0.377903  , ..., 0.287044  , 0.29384422,\n",
              "        0.33346862], dtype=float32),\n",
              " '/content/drive/Shared drives/DL_AT3/Experimentation/Flicker8k_Dataset/2424111022_4e332b8aee.jpg': array([0.5324416 , 0.2024025 , 0.5900403 , ..., 0.10106702, 0.56522465,\n",
              "        0.34110057], dtype=float32),\n",
              " '/content/drive/Shared drives/DL_AT3/Experimentation/Flicker8k_Dataset/3019986034_7453777274.jpg': array([0.04189853, 0.5732814 , 0.19695418, ..., 0.50257635, 0.69341075,\n",
              "        0.10301314], dtype=float32),\n",
              " '/content/drive/Shared drives/DL_AT3/Experimentation/Flicker8k_Dataset/1570723692_3a2b064d43.jpg': array([0.24745233, 0.20484571, 0.18423408, ..., 0.07848738, 0.5486317 ,\n",
              "        1.3474406 ], dtype=float32),\n",
              " '/content/drive/Shared drives/DL_AT3/Experimentation/Flicker8k_Dataset/3623650392_7b75d4de21.jpg': array([0.47314736, 0.07361129, 0.30470517, ..., 0.5321083 , 0.98515236,\n",
              "        0.059257  ], dtype=float32),\n",
              " '/content/drive/Shared drives/DL_AT3/Experimentation/Flicker8k_Dataset/3676460610_8c52e8a355.jpg': array([0.22549026, 0.2618945 , 0.4025426 , ..., 0.15183336, 0.77170104,\n",
              "        0.17206845], dtype=float32),\n",
              " '/content/drive/Shared drives/DL_AT3/Experimentation/Flicker8k_Dataset/2302516347_26054442f9.jpg': array([0.09442619, 0.08552957, 0.4618235 , ..., 0.2439755 , 0.05654768,\n",
              "        0.26992947], dtype=float32),\n",
              " '/content/drive/Shared drives/DL_AT3/Experimentation/Flicker8k_Dataset/3457604528_302396c08c.jpg': array([0.6308278 , 0.31604645, 0.44847456, ..., 0.17365772, 0.38608724,\n",
              "        0.25097197], dtype=float32),\n",
              " '/content/drive/Shared drives/DL_AT3/Experimentation/Flicker8k_Dataset/241347356_8a515555fd.jpg': array([0.32578984, 0.18325156, 0.23375317, ..., 0.19264916, 0.15320587,\n",
              "        0.06615907], dtype=float32),\n",
              " '/content/drive/Shared drives/DL_AT3/Experimentation/Flicker8k_Dataset/3243094580_ccd01679f5.jpg': array([0.48864877, 0.346296  , 0.29725283, ..., 0.3485999 , 0.6012684 ,\n",
              "        0.13744622], dtype=float32),\n",
              " '/content/drive/Shared drives/DL_AT3/Experimentation/Flicker8k_Dataset/3273489163_8209545810.jpg': array([0.39677563, 0.18864089, 0.29348615, ..., 0.00471253, 0.12380046,\n",
              "        0.00385317], dtype=float32),\n",
              " '/content/drive/Shared drives/DL_AT3/Experimentation/Flicker8k_Dataset/3488837187_0c7264a16c.jpg': array([0.14809737, 0.3009829 , 0.10225675, ..., 0.68673587, 0.20546758,\n",
              "        0.10626659], dtype=float32),\n",
              " '/content/drive/Shared drives/DL_AT3/Experimentation/Flicker8k_Dataset/290019324_23582048d4.jpg': array([0.37996867, 0.5756422 , 0.17585593, ..., 0.39779764, 0.12663451,\n",
              "        0.31169605], dtype=float32),\n",
              " '/content/drive/Shared drives/DL_AT3/Experimentation/Flicker8k_Dataset/2393196444_8f4f540f5f.jpg': array([0.32349515, 0.28661996, 0.78840566, ..., 0.22104214, 0.25974137,\n",
              "        0.19606262], dtype=float32),\n",
              " '/content/drive/Shared drives/DL_AT3/Experimentation/Flicker8k_Dataset/1425919702_ddb761aeec.jpg': array([0.07838202, 0.18589549, 0.61791307, ..., 0.20226157, 0.29672313,\n",
              "        0.16592763], dtype=float32),\n",
              " '/content/drive/Shared drives/DL_AT3/Experimentation/Flicker8k_Dataset/3504275465_604ce2ef34.jpg': array([0.3426202 , 0.5562388 , 0.23777604, ..., 0.54296625, 0.58285934,\n",
              "        0.07647857], dtype=float32),\n",
              " '/content/drive/Shared drives/DL_AT3/Experimentation/Flicker8k_Dataset/1410193619_13fff6c875.jpg': array([0.55736136, 0.2877441 , 0.27345598, ..., 0.22133161, 0.4265735 ,\n",
              "        0.5048574 ], dtype=float32),\n",
              " '/content/drive/Shared drives/DL_AT3/Experimentation/Flicker8k_Dataset/3393446245_37dd3f3b59.jpg': array([0.9252151 , 0.22491363, 0.9699719 , ..., 0.11505953, 0.7624867 ,\n",
              "        0.6362376 ], dtype=float32),\n",
              " '/content/drive/Shared drives/DL_AT3/Experimentation/Flicker8k_Dataset/2883907436_82bf4a36b8.jpg': array([0.50686216, 0.5410213 , 0.47025764, ..., 0.28180522, 0.5216198 ,\n",
              "        0.10582434], dtype=float32),\n",
              " '/content/drive/Shared drives/DL_AT3/Experimentation/Flicker8k_Dataset/3191027142_33e86636ca.jpg': array([0.07104432, 0.98255193, 0.8729679 , ..., 0.3957823 , 0.48199427,\n",
              "        0.23810945], dtype=float32),\n",
              " '/content/drive/Shared drives/DL_AT3/Experimentation/Flicker8k_Dataset/1056249424_ef2a2e041c.jpg': array([0.35620767, 0.1407241 , 0.3421135 , ..., 0.25688392, 0.35701162,\n",
              "        0.4985926 ], dtype=float32),\n",
              " '/content/drive/Shared drives/DL_AT3/Experimentation/Flicker8k_Dataset/143552829_72b6ba49d4.jpg': array([0.20951927, 0.25447446, 0.09966858, ..., 0.00271199, 0.83809257,\n",
              "        0.7337725 ], dtype=float32),\n",
              " '/content/drive/Shared drives/DL_AT3/Experimentation/Flicker8k_Dataset/2135502491_a15c6b5eae.jpg': array([0.04061032, 0.21450844, 0.19221753, ..., 0.22232422, 0.3137483 ,\n",
              "        0.660093  ], dtype=float32),\n",
              " '/content/drive/Shared drives/DL_AT3/Experimentation/Flicker8k_Dataset/3438981089_2ef1a6353c.jpg': array([0.04637363, 0.1596896 , 0.0461159 , ..., 0.02675543, 0.05460105,\n",
              "        0.2600208 ], dtype=float32),\n",
              " '/content/drive/Shared drives/DL_AT3/Experimentation/Flicker8k_Dataset/2667549961_57e5e2c0a5.jpg': array([0.12398294, 0.22331388, 0.01577712, ..., 0.476372  , 0.95080966,\n",
              "        0.        ], dtype=float32),\n",
              " '/content/drive/Shared drives/DL_AT3/Experimentation/Flicker8k_Dataset/3396275223_ee080df8b5.jpg': array([4.2685050e-01, 8.2827789e-01, 2.0883000e+00, ..., 1.2780295e-03,\n",
              "        1.2853951e+00, 1.4100631e-02], dtype=float32),\n",
              " '/content/drive/Shared drives/DL_AT3/Experimentation/Flicker8k_Dataset/2714674623_8cd05ac114.jpg': array([0.36458504, 0.07913333, 0.19672146, ..., 0.18217084, 0.23132017,\n",
              "        0.8909364 ], dtype=float32),\n",
              " '/content/drive/Shared drives/DL_AT3/Experimentation/Flicker8k_Dataset/3504158556_1d410c8ff7.jpg': array([0.6097302 , 0.15923044, 0.48518556, ..., 0.01438202, 0.2736261 ,\n",
              "        0.958267  ], dtype=float32),\n",
              " '/content/drive/Shared drives/DL_AT3/Experimentation/Flicker8k_Dataset/3672944692_8d24a44fc6.jpg': array([0.03242467, 0.08233792, 0.34124613, ..., 0.08889675, 0.03094113,\n",
              "        0.6306265 ], dtype=float32),\n",
              " '/content/drive/Shared drives/DL_AT3/Experimentation/Flicker8k_Dataset/3599442049_e448c7c9b2.jpg': array([0.44694704, 0.21065351, 0.5786697 , ..., 0.2935648 , 1.1422237 ,\n",
              "        0.16986561], dtype=float32),\n",
              " '/content/drive/Shared drives/DL_AT3/Experimentation/Flicker8k_Dataset/2431723485_bc6b8e6418.jpg': array([0.28581712, 0.67911947, 0.09903687, ..., 0.29545194, 0.34393144,\n",
              "        0.5153291 ], dtype=float32),\n",
              " '/content/drive/Shared drives/DL_AT3/Experimentation/Flicker8k_Dataset/2339573065_91f1e3be60.jpg': array([0.39783037, 0.19319661, 0.3370906 , ..., 0.5295541 , 0.46743867,\n",
              "        0.14912298], dtype=float32),\n",
              " '/content/drive/Shared drives/DL_AT3/Experimentation/Flicker8k_Dataset/2831723637_30d4456665.jpg': array([0.3429812 , 0.54585874, 0.16768424, ..., 0.31474122, 0.06788456,\n",
              "        0.27938145], dtype=float32),\n",
              " '/content/drive/Shared drives/DL_AT3/Experimentation/Flicker8k_Dataset/1332823164_c70a5d930e.jpg': array([0.4241712 , 0.01222896, 0.95970196, ..., 0.06215798, 1.4633498 ,\n",
              "        0.2237461 ], dtype=float32),\n",
              " '/content/drive/Shared drives/DL_AT3/Experimentation/Flicker8k_Dataset/3423509305_e399d005db.jpg': array([0.6555563 , 1.48131   , 0.14711013, ..., 0.21127427, 0.86551595,\n",
              "        0.73434854], dtype=float32),\n",
              " '/content/drive/Shared drives/DL_AT3/Experimentation/Flicker8k_Dataset/3231596071_f0c522a639.jpg': array([0.8477916 , 0.48811513, 0.8552686 , ..., 0.44375002, 0.46982414,\n",
              "        0.2953862 ], dtype=float32),\n",
              " '/content/drive/Shared drives/DL_AT3/Experimentation/Flicker8k_Dataset/2248487956_2603f55ab9.jpg': array([0.7342392 , 0.65063155, 1.0841533 , ..., 0.7287979 , 0.4023649 ,\n",
              "        0.13066122], dtype=float32),\n",
              " '/content/drive/Shared drives/DL_AT3/Experimentation/Flicker8k_Dataset/3572144280_ea42bbd927.jpg': array([0.2809897 , 0.3653614 , 0.24731553, ..., 0.8128793 , 0.7149166 ,\n",
              "        0.05553601], dtype=float32),\n",
              " '/content/drive/Shared drives/DL_AT3/Experimentation/Flicker8k_Dataset/3432634159_1eb9a73306.jpg': array([0.16487329, 0.3362302 , 0.34902644, ..., 0.00606256, 0.15564494,\n",
              "        0.5154238 ], dtype=float32),\n",
              " '/content/drive/Shared drives/DL_AT3/Experimentation/Flicker8k_Dataset/3184031654_34b5c4ffe1.jpg': array([0.10677885, 0.13714093, 0.46239716, ..., 0.6089392 , 0.07485448,\n",
              "        0.10145709], dtype=float32),\n",
              " '/content/drive/Shared drives/DL_AT3/Experimentation/Flicker8k_Dataset/2061944672_0383e65c8a.jpg': array([0.4472199 , 0.59696394, 1.1099247 , ..., 0.01947796, 0.3147651 ,\n",
              "        1.0622451 ], dtype=float32),\n",
              " '/content/drive/Shared drives/DL_AT3/Experimentation/Flicker8k_Dataset/2838619742_eed855d8a8.jpg': array([0.28091455, 0.49225867, 0.3724128 , ..., 1.5007268 , 0.1483793 ,\n",
              "        0.79567647], dtype=float32),\n",
              " '/content/drive/Shared drives/DL_AT3/Experimentation/Flicker8k_Dataset/587604325_af5d6df679.jpg': array([0.06715152, 0.36367255, 0.09740119, ..., 0.28130066, 0.7166573 ,\n",
              "        1.0607883 ], dtype=float32),\n",
              " '/content/drive/Shared drives/DL_AT3/Experimentation/Flicker8k_Dataset/3539840291_1c3eed701d.jpg': array([0.05223029, 0.2528379 , 0.03391606, ..., 0.04101421, 0.08791177,\n",
              "        0.7532486 ], dtype=float32),\n",
              " '/content/drive/Shared drives/DL_AT3/Experimentation/Flicker8k_Dataset/464506846_1734302b58.jpg': array([0.18309824, 0.29443747, 0.10813154, ..., 0.21082284, 0.6500217 ,\n",
              "        0.08714967], dtype=float32),\n",
              " '/content/drive/Shared drives/DL_AT3/Experimentation/Flicker8k_Dataset/3517040752_debec03376.jpg': array([0.356623  , 0.06433941, 0.31964126, ..., 0.07832604, 0.95888585,\n",
              "        0.23993573], dtype=float32),\n",
              " '/content/drive/Shared drives/DL_AT3/Experimentation/Flicker8k_Dataset/3522025527_c10e6ebd26.jpg': array([0.04912517, 0.18647711, 0.08785478, ..., 0.21349733, 0.4677649 ,\n",
              "        0.2235129 ], dtype=float32),\n",
              " '/content/drive/Shared drives/DL_AT3/Experimentation/Flicker8k_Dataset/2866093652_aa717eb9ce.jpg': array([0.02855149, 0.0917117 , 0.59047127, ..., 0.09431383, 0.08629328,\n",
              "        0.20376581], dtype=float32),\n",
              " '/content/drive/Shared drives/DL_AT3/Experimentation/Flicker8k_Dataset/3365198533_539073002b.jpg': array([0.51676524, 0.6209272 , 0.5065007 , ..., 0.45690185, 0.6116706 ,\n",
              "        0.14218998], dtype=float32),\n",
              " '/content/drive/Shared drives/DL_AT3/Experimentation/Flicker8k_Dataset/2772084628_c0ae29d87a.jpg': array([0.44730994, 1.150528  , 0.86835825, ..., 0.11161383, 1.6124113 ,\n",
              "        0.4048462 ], dtype=float32),\n",
              " '/content/drive/Shared drives/DL_AT3/Experimentation/Flicker8k_Dataset/2976684095_ce7ccfd423.jpg': array([0.29371378, 0.35100943, 0.35785013, ..., 0.0737534 , 0.20580518,\n",
              "        0.30486295], dtype=float32),\n",
              " '/content/drive/Shared drives/DL_AT3/Experimentation/Flicker8k_Dataset/1745110280_0cbff5e273.jpg': array([0.34081718, 0.3506607 , 0.25466722, ..., 0.40249684, 0.28433788,\n",
              "        0.73508924], dtype=float32),\n",
              " '/content/drive/Shared drives/DL_AT3/Experimentation/Flicker8k_Dataset/2909081008_9a7bfc599a.jpg': array([0.3419017 , 1.0778131 , 0.6458444 , ..., 0.43502018, 1.1096258 ,\n",
              "        0.19122306], dtype=float32),\n",
              " '/content/drive/Shared drives/DL_AT3/Experimentation/Flicker8k_Dataset/3552206648_123bf4ac82.jpg': array([0.10279658, 0.28196266, 0.10208321, ..., 0.05029995, 0.82234776,\n",
              "        0.28584796], dtype=float32),\n",
              " '/content/drive/Shared drives/DL_AT3/Experimentation/Flicker8k_Dataset/3326588088_172d1b2584.jpg': array([0.26386845, 0.21921165, 0.3027395 , ..., 0.21150899, 0.10882176,\n",
              "        0.29662454], dtype=float32),\n",
              " '/content/drive/Shared drives/DL_AT3/Experimentation/Flicker8k_Dataset/3247500085_c4f641aa84.jpg': array([0.09226257, 0.11269934, 0.5424995 , ..., 0.99267465, 0.29968986,\n",
              "        0.6758385 ], dtype=float32),\n",
              " '/content/drive/Shared drives/DL_AT3/Experimentation/Flicker8k_Dataset/2194797921_96af7a9467.jpg': array([0.21390054, 0.14283532, 0.3819731 , ..., 0.20679128, 0.09809834,\n",
              "        0.4891226 ], dtype=float32),\n",
              " '/content/drive/Shared drives/DL_AT3/Experimentation/Flicker8k_Dataset/2460159430_71ab1aacfa.jpg': array([0.32146144, 0.25420615, 0.22284065, ..., 0.6646555 , 0.24404292,\n",
              "        0.32234722], dtype=float32),\n",
              " '/content/drive/Shared drives/DL_AT3/Experimentation/Flicker8k_Dataset/3400041870_4e7732b40f.jpg': array([0.7209019 , 0.34856394, 0.6490463 , ..., 0.8496833 , 0.9662487 ,\n",
              "        0.03262587], dtype=float32),\n",
              " '/content/drive/Shared drives/DL_AT3/Experimentation/Flicker8k_Dataset/862187579_9faf4a51e0.jpg': array([0.36062258, 0.12845036, 0.795883  , ..., 2.0408535 , 0.17384833,\n",
              "        0.46629655], dtype=float32),\n",
              " '/content/drive/Shared drives/DL_AT3/Experimentation/Flicker8k_Dataset/3513362553_5fc5779e20.jpg': array([0.16437364, 0.24119776, 0.4835098 , ..., 0.39943242, 0.35446787,\n",
              "        0.03609638], dtype=float32),\n",
              " '/content/drive/Shared drives/DL_AT3/Experimentation/Flicker8k_Dataset/3255017708_2b02bfcdcf.jpg': array([0.11513121, 0.6483233 , 0.11561432, ..., 0.2500838 , 0.14190702,\n",
              "        0.33510876], dtype=float32),\n",
              " '/content/drive/Shared drives/DL_AT3/Experimentation/Flicker8k_Dataset/3635991166_f95304af0a.jpg': array([0.42474154, 0.49840844, 0.0562663 , ..., 0.62023795, 0.1554071 ,\n",
              "        1.0567796 ], dtype=float32),\n",
              " '/content/drive/Shared drives/DL_AT3/Experimentation/Flicker8k_Dataset/2097403787_77a154f5b9.jpg': array([0.04896282, 0.03511353, 0.40251142, ..., 0.77862537, 0.787431  ,\n",
              "        0.59411323], dtype=float32),\n",
              " '/content/drive/Shared drives/DL_AT3/Experimentation/Flicker8k_Dataset/3328495660_ed0e3f29cf.jpg': array([0.9498887 , 0.40428784, 0.57923794, ..., 0.12331921, 0.03355033,\n",
              "        1.004946  ], dtype=float32),\n",
              " '/content/drive/Shared drives/DL_AT3/Experimentation/Flicker8k_Dataset/3540598210_972f0ff573.jpg': array([0.47410017, 0.2526533 , 1.3114021 , ..., 0.17566162, 1.449778  ,\n",
              "        0.4476465 ], dtype=float32),\n",
              " '/content/drive/Shared drives/DL_AT3/Experimentation/Flicker8k_Dataset/3174156702_95a1cda2d9.jpg': array([0.19826904, 0.3193677 , 0.25510815, ..., 0.5232935 , 0.36357474,\n",
              "        0.04066822], dtype=float32),\n",
              " '/content/drive/Shared drives/DL_AT3/Experimentation/Flicker8k_Dataset/2517284816_9b8fd3c6b6.jpg': array([0.14022264, 0.6965785 , 0.27284208, ..., 0.32599482, 0.6045767 ,\n",
              "        0.842383  ], dtype=float32),\n",
              " '/content/drive/Shared drives/DL_AT3/Experimentation/Flicker8k_Dataset/3520869880_2e8b7d7842.jpg': array([0.8356296 , 0.24858   , 1.2905015 , ..., 0.19531968, 0.3752964 ,\n",
              "        0.11978561], dtype=float32),\n",
              " '/content/drive/Shared drives/DL_AT3/Experimentation/Flicker8k_Dataset/3590647207_2d4ec3f52c.jpg': array([0.16339187, 0.29915345, 0.9697924 , ..., 0.20259026, 0.37513292,\n",
              "        0.14479831], dtype=float32),\n",
              " '/content/drive/Shared drives/DL_AT3/Experimentation/Flicker8k_Dataset/1306145560_1e37081b91.jpg': array([0.3703916 , 0.20863794, 0.16231668, ..., 0.08702482, 0.5285545 ,\n",
              "        0.10460778], dtype=float32),\n",
              " '/content/drive/Shared drives/DL_AT3/Experimentation/Flicker8k_Dataset/481887827_f8975dabf1.jpg': array([0.35779527, 0.12905848, 0.28645813, ..., 0.14754733, 0.4910053 ,\n",
              "        0.14369282], dtype=float32),\n",
              " '/content/drive/Shared drives/DL_AT3/Experimentation/Flicker8k_Dataset/756004341_1a816df714.jpg': array([0.33377236, 0.47071892, 0.74889207, ..., 1.6942257 , 0.54861104,\n",
              "        0.96103287], dtype=float32),\n",
              " '/content/drive/Shared drives/DL_AT3/Experimentation/Flicker8k_Dataset/2993167197_e5d0a73530.jpg': array([0.22489087, 0.9390947 , 0.29231337, ..., 0.26846802, 0.26100942,\n",
              "        0.6815599 ], dtype=float32),\n",
              " '/content/drive/Shared drives/DL_AT3/Experimentation/Flicker8k_Dataset/424307754_1e2f44d265.jpg': array([0.19644418, 0.4336775 , 0.44466597, ..., 0.03147047, 0.37295622,\n",
              "        0.30045912], dtype=float32),\n",
              " '/content/drive/Shared drives/DL_AT3/Experimentation/Flicker8k_Dataset/326028454_fb396167e6.jpg': array([0.91261435, 0.33632183, 0.22821057, ..., 0.32993525, 0.05596454,\n",
              "        0.18230738], dtype=float32),\n",
              " '/content/drive/Shared drives/DL_AT3/Experimentation/Flicker8k_Dataset/210126070_0d43b300b9.jpg': array([0.13120513, 0.47457093, 0.35860196, ..., 0.18337929, 0.28158438,\n",
              "        0.24738038], dtype=float32),\n",
              " '/content/drive/Shared drives/DL_AT3/Experimentation/Flicker8k_Dataset/2921670682_6a77a6c3e9.jpg': array([0.20886344, 0.13482837, 0.15151168, ..., 0.38966867, 0.08928203,\n",
              "        0.2259681 ], dtype=float32),\n",
              " '/content/drive/Shared drives/DL_AT3/Experimentation/Flicker8k_Dataset/804087017_330bcc8c56.jpg': array([1.7226775 , 0.11917886, 0.7866262 , ..., 0.12722537, 0.14414634,\n",
              "        0.48947364], dtype=float32),\n",
              " '/content/drive/Shared drives/DL_AT3/Experimentation/Flicker8k_Dataset/3399616238_77acf4ee12.jpg': array([0.5444863 , 0.18155155, 0.29927117, ..., 0.61842275, 0.06026357,\n",
              "        0.04401705], dtype=float32),\n",
              " '/content/drive/Shared drives/DL_AT3/Experimentation/Flicker8k_Dataset/3446586125_cafa0bfd67.jpg': array([0.44198358, 0.3429411 , 0.1390712 , ..., 0.47176424, 0.18836813,\n",
              "        0.04314372], dtype=float32),\n",
              " '/content/drive/Shared drives/DL_AT3/Experimentation/Flicker8k_Dataset/236144859_52f9e38885.jpg': array([0.22628602, 0.6206372 , 0.26038557, ..., 0.45483086, 1.0358518 ,\n",
              "        1.544026  ], dtype=float32),\n",
              " '/content/drive/Shared drives/DL_AT3/Experimentation/Flicker8k_Dataset/3209523192_05a4cef844.jpg': array([0.22697003, 0.06353861, 0.24579033, ..., 0.5757797 , 0.20030352,\n",
              "        0.51735926], dtype=float32),\n",
              " '/content/drive/Shared drives/DL_AT3/Experimentation/Flicker8k_Dataset/2218843713_cf28ea319e.jpg': array([0.39581153, 0.03854163, 0.37454244, ..., 0.05049348, 0.00255402,\n",
              "        0.00682803], dtype=float32),\n",
              " '/content/drive/Shared drives/DL_AT3/Experimentation/Flicker8k_Dataset/1346051107_9cdc14e070.jpg': array([0.33570647, 0.1546787 , 0.37133485, ..., 0.21571055, 0.4455264 ,\n",
              "        0.03547431], dtype=float32),\n",
              " '/content/drive/Shared drives/DL_AT3/Experimentation/Flicker8k_Dataset/134724228_30408cd77f.jpg': array([0.30525064, 0.4397923 , 0.38576198, ..., 0.08392714, 0.4041712 ,\n",
              "        0.24460873], dtype=float32),\n",
              " '/content/drive/Shared drives/DL_AT3/Experimentation/Flicker8k_Dataset/135235570_5698072cd4.jpg': array([0.23984878, 0.67722744, 0.21917269, ..., 0.53853637, 0.05488826,\n",
              "        0.51007986], dtype=float32),\n",
              " '/content/drive/Shared drives/DL_AT3/Experimentation/Flicker8k_Dataset/2887750774_920eb171aa.jpg': array([0.07217143, 0.39127946, 0.38922393, ..., 0.20319235, 1.1048424 ,\n",
              "        0.13894728], dtype=float32),\n",
              " '/content/drive/Shared drives/DL_AT3/Experimentation/Flicker8k_Dataset/251792066_b5233b3d86.jpg': array([0.5751112 , 0.18125702, 0.22786207, ..., 0.29876724, 0.30706388,\n",
              "        0.12393532], dtype=float32),\n",
              " '/content/drive/Shared drives/DL_AT3/Experimentation/Flicker8k_Dataset/3057618932_3b80ae85de.jpg': array([0.3415583 , 0.3177495 , 0.25635183, ..., 0.08922379, 0.56911856,\n",
              "        0.06701826], dtype=float32),\n",
              " '/content/drive/Shared drives/DL_AT3/Experimentation/Flicker8k_Dataset/688940111_325a74674a.jpg': array([0.5705585 , 0.28483707, 0.17175204, ..., 0.85641265, 0.88548416,\n",
              "        0.08331415], dtype=float32),\n",
              " '/content/drive/Shared drives/DL_AT3/Experimentation/Flicker8k_Dataset/2192333873_2a0cbe849d.jpg': array([0.1723909 , 0.03138555, 0.12198222, ..., 0.14761919, 1.667458  ,\n",
              "        0.33153802], dtype=float32),\n",
              " '/content/drive/Shared drives/DL_AT3/Experimentation/Flicker8k_Dataset/3240014971_ee2ea8406f.jpg': array([0.2669363 , 0.16381793, 0.89807403, ..., 0.76072454, 0.45572013,\n",
              "        0.10132816], dtype=float32),\n",
              " '/content/drive/Shared drives/DL_AT3/Experimentation/Flicker8k_Dataset/1089755335_0bfbfd30e6.jpg': array([0.55268157, 0.30650517, 0.26254246, ..., 0.2635771 , 0.943709  ,\n",
              "        0.343284  ], dtype=float32),\n",
              " '/content/drive/Shared drives/DL_AT3/Experimentation/Flicker8k_Dataset/2308256827_3c0a7d514d.jpg': array([0.05847022, 0.5344053 , 0.27435908, ..., 0.00893071, 0.1443431 ,\n",
              "        0.47133368], dtype=float32),\n",
              " '/content/drive/Shared drives/DL_AT3/Experimentation/Flicker8k_Dataset/3330675488_8692476a4a.jpg': array([0.31538257, 0.21772338, 0.11077163, ..., 0.68878984, 0.48500264,\n",
              "        0.07265659], dtype=float32),\n",
              " '/content/drive/Shared drives/DL_AT3/Experimentation/Flicker8k_Dataset/3463268965_f22884fc69.jpg': array([0.23964268, 0.1373055 , 0.24030218, ..., 0.05230533, 0.57288927,\n",
              "        0.14778832], dtype=float32),\n",
              " '/content/drive/Shared drives/DL_AT3/Experimentation/Flicker8k_Dataset/3590739067_58baffb3a7.jpg': array([0.3189047 , 0.44614363, 0.09083664, ..., 0.62393004, 0.10289514,\n",
              "        0.03700426], dtype=float32),\n",
              " '/content/drive/Shared drives/DL_AT3/Experimentation/Flicker8k_Dataset/3189521080_133777bce5.jpg': array([0.2739126 , 0.4280712 , 0.10470511, ..., 0.59820914, 1.1436207 ,\n",
              "        0.48700505], dtype=float32),\n",
              " '/content/drive/Shared drives/DL_AT3/Experimentation/Flicker8k_Dataset/2404520067_87798dbaee.jpg': array([0.27444702, 0.20354721, 0.09768303, ..., 0.15787517, 0.376812  ,\n",
              "        0.29799387], dtype=float32),\n",
              " '/content/drive/Shared drives/DL_AT3/Experimentation/Flicker8k_Dataset/425518464_a18b87c563.jpg': array([0.4442499 , 0.27369422, 0.821399  , ..., 0.441113  , 0.1880654 ,\n",
              "        0.00821115], dtype=float32),\n",
              " '/content/drive/Shared drives/DL_AT3/Experimentation/Flicker8k_Dataset/482882307_7dcb9eee11.jpg': array([0.44457886, 0.33215252, 0.20610487, ..., 0.15925284, 0.33795306,\n",
              "        1.1256373 ], dtype=float32),\n",
              " '/content/drive/Shared drives/DL_AT3/Experimentation/Flicker8k_Dataset/90011335_cfdf9674c2.jpg': array([0.26927975, 0.2660891 , 0.3151825 , ..., 0.33944428, 0.78424525,\n",
              "        0.7810761 ], dtype=float32),\n",
              " '/content/drive/Shared drives/DL_AT3/Experimentation/Flicker8k_Dataset/3211199368_ca78387f72.jpg': array([0.18279946, 0.5234723 , 0.48211977, ..., 0.34481305, 0.6785338 ,\n",
              "        0.17326854], dtype=float32),\n",
              " '/content/drive/Shared drives/DL_AT3/Experimentation/Flicker8k_Dataset/493542985_c85ad29ebe.jpg': array([0.16329682, 0.50540775, 0.33639693, ..., 0.6898135 , 0.38225505,\n",
              "        0.14010683], dtype=float32),\n",
              " '/content/drive/Shared drives/DL_AT3/Experimentation/Flicker8k_Dataset/2647062476_5ef31ba867.jpg': array([0.2340157 , 0.21934545, 0.7882984 , ..., 0.34896755, 0.94367844,\n",
              "        0.95829344], dtype=float32),\n",
              " '/content/drive/Shared drives/DL_AT3/Experimentation/Flicker8k_Dataset/3225226381_9fe306fb9e.jpg': array([0.19059776, 0.19242623, 0.02432813, ..., 0.25324744, 0.29021314,\n",
              "        0.42277917], dtype=float32),\n",
              " '/content/drive/Shared drives/DL_AT3/Experimentation/Flicker8k_Dataset/2920969723_83918fe909.jpg': array([1.0411217 , 0.3201879 , 0.19919184, ..., 0.34854034, 0.78641856,\n",
              "        0.5536876 ], dtype=float32),\n",
              " '/content/drive/Shared drives/DL_AT3/Experimentation/Flicker8k_Dataset/136644885_f7d2bbf546.jpg': array([0.01980837, 0.1267942 , 0.07849962, ..., 0.5863433 , 0.0796527 ,\n",
              "        0.        ], dtype=float32),\n",
              " '/content/drive/Shared drives/DL_AT3/Experimentation/Flicker8k_Dataset/2148991939_3b9fd6c439.jpg': array([0.33980522, 0.32931754, 0.20990172, ..., 0.4779803 , 0.97924554,\n",
              "        0.6166602 ], dtype=float32),\n",
              " '/content/drive/Shared drives/DL_AT3/Experimentation/Flicker8k_Dataset/2980445969_a86f4e6a0e.jpg': array([0.19217071, 0.1662137 , 0.34215593, ..., 0.05667083, 0.637942  ,\n",
              "        0.03908446], dtype=float32),\n",
              " '/content/drive/Shared drives/DL_AT3/Experimentation/Flicker8k_Dataset/2887171449_f54a2b9f39.jpg': array([0.722902  , 0.5286614 , 0.62504625, ..., 0.41710934, 0.6381837 ,\n",
              "        0.13936275], dtype=float32),\n",
              " '/content/drive/Shared drives/DL_AT3/Experimentation/Flicker8k_Dataset/3441701164_6dbbdf1bce.jpg': array([0.10434846, 0.2105107 , 0.00132132, ..., 0.1554771 , 0.24990195,\n",
              "        0.7106908 ], dtype=float32),\n",
              " '/content/drive/Shared drives/DL_AT3/Experimentation/Flicker8k_Dataset/410042380_517ccee020.jpg': array([0.88560635, 0.329668  , 1.2257373 , ..., 0.81760085, 0.04788944,\n",
              "        0.45629662], dtype=float32),\n",
              " '/content/drive/Shared drives/DL_AT3/Experimentation/Flicker8k_Dataset/3622929632_26fb800000.jpg': array([0.1838699 , 0.16737328, 0.16111548, ..., 0.3519654 , 0.53733873,\n",
              "        0.02460869], dtype=float32),\n",
              " '/content/drive/Shared drives/DL_AT3/Experimentation/Flicker8k_Dataset/2884651479_12e400ee58.jpg': array([0.34635893, 0.09142274, 0.34431177, ..., 0.08420689, 0.35814306,\n",
              "        0.03656353], dtype=float32),\n",
              " '/content/drive/Shared drives/DL_AT3/Experimentation/Flicker8k_Dataset/241346105_c1c860db0d.jpg': array([0.08039863, 0.07093921, 0.3036123 , ..., 0.06193674, 0.05635487,\n",
              "        0.12871644], dtype=float32),\n",
              " '/content/drive/Shared drives/DL_AT3/Experimentation/Flicker8k_Dataset/3269087421_1d489abeae.jpg': array([0.32107028, 0.79215443, 0.7377967 , ..., 0.66025287, 0.59103453,\n",
              "        0.25478095], dtype=float32),\n",
              " '/content/drive/Shared drives/DL_AT3/Experimentation/Flicker8k_Dataset/1088767354_2acee738cf.jpg': array([0.74665177, 0.37384227, 1.2655811 , ..., 0.5047972 , 1.3712137 ,\n",
              "        0.78051156], dtype=float32),\n",
              " '/content/drive/Shared drives/DL_AT3/Experimentation/Flicker8k_Dataset/2939371251_f923569a72.jpg': array([0.11036815, 0.27930468, 0.13477457, ..., 0.0513453 , 0.20473573,\n",
              "        0.14327377], dtype=float32),\n",
              " '/content/drive/Shared drives/DL_AT3/Experimentation/Flicker8k_Dataset/3542425197_2ef81c6051.jpg': array([0.06898442, 0.5100446 , 0.37340778, ..., 0.41845855, 0.44951195,\n",
              "        0.00916821], dtype=float32),\n",
              " '/content/drive/Shared drives/DL_AT3/Experimentation/Flicker8k_Dataset/1501985304_8c50093004.jpg': array([0.28755844, 0.20756939, 0.12407497, ..., 1.0517583 , 0.07791087,\n",
              "        0.22789964], dtype=float32),\n",
              " '/content/drive/Shared drives/DL_AT3/Experimentation/Flicker8k_Dataset/1468962616_5803b4397f.jpg': array([0.70225346, 0.6048297 , 0.5044098 , ..., 0.5495822 , 0.64866495,\n",
              "        0.46463662], dtype=float32),\n",
              " '/content/drive/Shared drives/DL_AT3/Experimentation/Flicker8k_Dataset/186346360_541047336f.jpg': array([0.96986175, 0.2290593 , 1.0045584 , ..., 0.5443011 , 0.93344676,\n",
              "        1.078807  ], dtype=float32),\n",
              " '/content/drive/Shared drives/DL_AT3/Experimentation/Flicker8k_Dataset/3457460673_800d7f7dd9.jpg': array([0.19245438, 0.83973604, 0.22358587, ..., 0.9145287 , 0.7587241 ,\n",
              "        1.0886364 ], dtype=float32),\n",
              " '/content/drive/Shared drives/DL_AT3/Experimentation/Flicker8k_Dataset/1377668044_36398401dd.jpg': array([0.10837029, 0.1377988 , 0.16276802, ..., 0.23535572, 0.55211335,\n",
              "        0.3111748 ], dtype=float32),\n",
              " '/content/drive/Shared drives/DL_AT3/Experimentation/Flicker8k_Dataset/3134387321_3a253224c1.jpg': array([0.13485672, 0.5896728 , 0.79657114, ..., 0.78596187, 1.1569223 ,\n",
              "        0.6313046 ], dtype=float32),\n",
              " '/content/drive/Shared drives/DL_AT3/Experimentation/Flicker8k_Dataset/772403830_08b72c7da9.jpg': array([0.37196243, 0.08010822, 0.28845805, ..., 0.18836235, 0.7777211 ,\n",
              "        0.17375746], dtype=float32),\n",
              " '/content/drive/Shared drives/DL_AT3/Experimentation/Flicker8k_Dataset/3623302162_099f983d58.jpg': array([0.2476824 , 0.9242642 , 0.18856944, ..., 0.55219185, 0.8289077 ,\n",
              "        0.49077868], dtype=float32),\n",
              " '/content/drive/Shared drives/DL_AT3/Experimentation/Flicker8k_Dataset/3447876218_4ccf42d7a0.jpg': array([0.2810425 , 0.03785929, 0.17369753, ..., 0.51717395, 0.610229  ,\n",
              "        0.38632056], dtype=float32),\n",
              " '/content/drive/Shared drives/DL_AT3/Experimentation/Flicker8k_Dataset/476740978_45b65ebe0c.jpg': array([0.22002867, 0.46368816, 0.19380042, ..., 0.31157094, 0.4640271 ,\n",
              "        0.55563116], dtype=float32),\n",
              " '/content/drive/Shared drives/DL_AT3/Experimentation/Flicker8k_Dataset/2455286250_fb6a66175a.jpg': array([0.43041185, 0.28277752, 0.53179204, ..., 0.00195813, 0.5943294 ,\n",
              "        0.30534172], dtype=float32),\n",
              " '/content/drive/Shared drives/DL_AT3/Experimentation/Flicker8k_Dataset/3098336319_a7e5b061d0.jpg': array([0.23378792, 0.32701546, 0.20390958, ..., 0.29967633, 0.9536123 ,\n",
              "        0.82391894], dtype=float32),\n",
              " '/content/drive/Shared drives/DL_AT3/Experimentation/Flicker8k_Dataset/3712574653_e009f76d19.jpg': array([1.1816089 , 0.42573842, 1.6294488 , ..., 0.1650748 , 1.1576014 ,\n",
              "        0.20811127], dtype=float32),\n",
              " '/content/drive/Shared drives/DL_AT3/Experimentation/Flicker8k_Dataset/2095444126_201ff9f222.jpg': array([0.5939673 , 1.3803542 , 0.2743067 , ..., 0.09032331, 0.8440478 ,\n",
              "        0.89134   ], dtype=float32),\n",
              " '/content/drive/Shared drives/DL_AT3/Experimentation/Flicker8k_Dataset/2752341621_54490b9b09.jpg': array([0.02760409, 0.04393325, 0.69043875, ..., 0.19155312, 1.8725429 ,\n",
              "        0.50040436], dtype=float32),\n",
              " '/content/drive/Shared drives/DL_AT3/Experimentation/Flicker8k_Dataset/3198962089_e647d1b0cd.jpg': array([0.0430618 , 0.2591902 , 0.25081   , ..., 0.8337368 , 0.59348917,\n",
              "        0.22673547], dtype=float32),\n",
              " '/content/drive/Shared drives/DL_AT3/Experimentation/Flicker8k_Dataset/2589156742_c46bc82137.jpg': array([0.02513097, 0.17566587, 0.3141836 , ..., 0.3982691 , 0.4032883 ,\n",
              "        0.00559346], dtype=float32),\n",
              " '/content/drive/Shared drives/DL_AT3/Experimentation/Flicker8k_Dataset/97577988_65e2eae14a.jpg': array([0.08167036, 0.12481876, 0.18663296, ..., 0.28896236, 0.35158175,\n",
              "        0.65617955], dtype=float32),\n",
              " '/content/drive/Shared drives/DL_AT3/Experimentation/Flicker8k_Dataset/2444741900_5cb3ef3e1d.jpg': array([0.17256993, 0.14293206, 0.0196395 , ..., 1.0043412 , 0.14816786,\n",
              "        0.90949947], dtype=float32),\n",
              " '/content/drive/Shared drives/DL_AT3/Experimentation/Flicker8k_Dataset/775664534_3f6de7d413.jpg': array([0.30164707, 0.4441057 , 0.66138095, ..., 0.13148126, 0.50325185,\n",
              "        0.21583764], dtype=float32),\n",
              " '/content/drive/Shared drives/DL_AT3/Experimentation/Flicker8k_Dataset/2602083686_e8a1af69cf.jpg': array([0.45360193, 0.43288898, 0.28356427, ..., 0.51548094, 0.18901464,\n",
              "        0.44949737], dtype=float32),\n",
              " '/content/drive/Shared drives/DL_AT3/Experimentation/Flicker8k_Dataset/3186863842_5832573c5e.jpg': array([0.34568602, 0.4094543 , 0.3119212 , ..., 0.133859  , 1.1029377 ,\n",
              "        0.30243826], dtype=float32),\n",
              " '/content/drive/Shared drives/DL_AT3/Experimentation/Flicker8k_Dataset/2059616165_b7c99c1009.jpg': array([0.43869907, 0.46810344, 0.22037761, ..., 0.14204425, 0.43843353,\n",
              "        0.14910805], dtype=float32),\n",
              " '/content/drive/Shared drives/DL_AT3/Experimentation/Flicker8k_Dataset/1510078253_96e9ec50e7.jpg': array([0.702333  , 0.05579817, 0.542284  , ..., 0.40331045, 0.53906703,\n",
              "        0.522313  ], dtype=float32),\n",
              " '/content/drive/Shared drives/DL_AT3/Experimentation/Flicker8k_Dataset/2169067981_cc19268f23.jpg': array([0.36878264, 0.5507916 , 0.80526614, ..., 0.44621453, 0.48417273,\n",
              "        0.451014  ], dtype=float32),\n",
              " '/content/drive/Shared drives/DL_AT3/Experimentation/Flicker8k_Dataset/3335885203_a3fe8e541f.jpg': array([0.12952103, 0.17039733, 0.089259  , ..., 0.05314939, 0.00585106,\n",
              "        0.08191594], dtype=float32),\n",
              " '/content/drive/Shared drives/DL_AT3/Experimentation/Flicker8k_Dataset/3244910944_612b8ce98f.jpg': array([0.08257247, 0.35132954, 0.12783739, ..., 0.8051842 , 0.40615767,\n",
              "        0.15674707], dtype=float32),\n",
              " '/content/drive/Shared drives/DL_AT3/Experimentation/Flicker8k_Dataset/3370308329_7f2de5bb58.jpg': array([0.16461149, 0.08151953, 0.689962  , ..., 0.42209294, 0.7461213 ,\n",
              "        0.3188632 ], dtype=float32),\n",
              " '/content/drive/Shared drives/DL_AT3/Experimentation/Flicker8k_Dataset/2597308074_acacc12e1b.jpg': array([0.47801375, 0.16805625, 0.68842065, ..., 0.09443569, 0.7325588 ,\n",
              "        0.43834305], dtype=float32),\n",
              " '/content/drive/Shared drives/DL_AT3/Experimentation/Flicker8k_Dataset/3520936130_9e90872560.jpg': array([0.10064235, 0.30823442, 0.21682602, ..., 0.43663442, 0.31407955,\n",
              "        0.35217762], dtype=float32),\n",
              " '/content/drive/Shared drives/DL_AT3/Experimentation/Flicker8k_Dataset/3242007318_01e82171aa.jpg': array([1.0100653 , 0.3374393 , 1.1179852 , ..., 0.6727757 , 0.18278214,\n",
              "        0.48294407], dtype=float32),\n",
              " '/content/drive/Shared drives/DL_AT3/Experimentation/Flicker8k_Dataset/2795287622_da187a3e86.jpg': array([1.1639371 , 0.20605609, 1.0398048 , ..., 0.13631228, 0.14254281,\n",
              "        0.22864822], dtype=float32),\n",
              " '/content/drive/Shared drives/DL_AT3/Experimentation/Flicker8k_Dataset/2904997007_23d4b94101.jpg': array([0.32166094, 0.28340662, 0.38423824, ..., 0.22346637, 0.5349326 ,\n",
              "        0.15014578], dtype=float32),\n",
              " '/content/drive/Shared drives/DL_AT3/Experimentation/Flicker8k_Dataset/390986651_c801db91a0.jpg': array([0.1541882 , 0.58796   , 0.8107145 , ..., 0.5068001 , 0.31880546,\n",
              "        0.5798941 ], dtype=float32),\n",
              " '/content/drive/Shared drives/DL_AT3/Experimentation/Flicker8k_Dataset/3159641529_c2c74f3eaf.jpg': array([0.3333056 , 0.6464725 , 0.05338114, ..., 0.23862353, 0.91987216,\n",
              "        0.09955972], dtype=float32),\n",
              " '/content/drive/Shared drives/DL_AT3/Experimentation/Flicker8k_Dataset/2085557551_7a88d01d4e.jpg': array([0.28461924, 0.45778573, 1.1395628 , ..., 0.42992845, 0.3290633 ,\n",
              "        0.01506863], dtype=float32),\n",
              " '/content/drive/Shared drives/DL_AT3/Experimentation/Flicker8k_Dataset/3104690333_4314d979de.jpg': array([0.50933903, 0.1348161 , 0.37407002, ..., 0.48824736, 0.82234955,\n",
              "        1.1498508 ], dtype=float32),\n",
              " '/content/drive/Shared drives/DL_AT3/Experimentation/Flicker8k_Dataset/96978713_775d66a18d.jpg': array([0.10505442, 0.04406661, 0.6698727 , ..., 0.11574432, 0.25687256,\n",
              "        0.10885698], dtype=float32),\n",
              " '/content/drive/Shared drives/DL_AT3/Experimentation/Flicker8k_Dataset/2978409165_acc4f29a40.jpg': array([0.1799885 , 0.05594316, 0.22635695, ..., 0.12582731, 0.59967077,\n",
              "        1.052038  ], dtype=float32),\n",
              " '/content/drive/Shared drives/DL_AT3/Experimentation/Flicker8k_Dataset/288508162_1727873924.jpg': array([0.25221324, 0.6229223 , 0.21520342, ..., 0.39936164, 0.4329509 ,\n",
              "        0.8411097 ], dtype=float32),\n",
              " '/content/drive/Shared drives/DL_AT3/Experimentation/Flicker8k_Dataset/3219122000_bd6b4ae5ff.jpg': array([0.29381126, 0.7202505 , 0.03183312, ..., 0.47133112, 0.17205402,\n",
              "        0.5944316 ], dtype=float32),\n",
              " '/content/drive/Shared drives/DL_AT3/Experimentation/Flicker8k_Dataset/3405011838_f81117c99f.jpg': array([0.142487  , 0.39376548, 0.53358227, ..., 0.99103725, 0.7585559 ,\n",
              "        0.5724832 ], dtype=float32),\n",
              " '/content/drive/Shared drives/DL_AT3/Experimentation/Flicker8k_Dataset/2745811124_12c4426b8b.jpg': array([0.42901382, 0.78916323, 0.137008  , ..., 0.22418508, 0.5902616 ,\n",
              "        0.2723403 ], dtype=float32),\n",
              " '/content/drive/Shared drives/DL_AT3/Experimentation/Flicker8k_Dataset/2364774105_fbaf0c191f.jpg': array([0.16839357, 0.0716238 , 0.3879364 , ..., 0.25890708, 0.28689232,\n",
              "        0.11187679], dtype=float32),\n",
              " '/content/drive/Shared drives/DL_AT3/Experimentation/Flicker8k_Dataset/229954612_a4438297ee.jpg': array([0.4998867 , 0.05311815, 0.27881616, ..., 0.        , 0.07842097,\n",
              "        0.40305132], dtype=float32),\n",
              " '/content/drive/Shared drives/DL_AT3/Experimentation/Flicker8k_Dataset/3091962081_194f2f3bd4.jpg': array([0.36469394, 0.6203732 , 1.4948764 , ..., 1.273294  , 0.16833597,\n",
              "        0.14370048], dtype=float32),\n",
              " '/content/drive/Shared drives/DL_AT3/Experimentation/Flicker8k_Dataset/2107838729_a527e434bd.jpg': array([0.3118224, 0.2446555, 0.5552045, ..., 0.025766 , 0.6232728,\n",
              "        0.5447171], dtype=float32),\n",
              " '/content/drive/Shared drives/DL_AT3/Experimentation/Flicker8k_Dataset/3449718979_e987c64e2d.jpg': array([0.19561456, 0.1924671 , 0.10562305, ..., 0.15262519, 0.94987893,\n",
              "        0.98278266], dtype=float32),\n",
              " '/content/drive/Shared drives/DL_AT3/Experimentation/Flicker8k_Dataset/239453674_0df7767208.jpg': array([0.25851   , 0.6814387 , 0.6284123 , ..., 0.09694964, 0.4629122 ,\n",
              "        0.17785051], dtype=float32),\n",
              " '/content/drive/Shared drives/DL_AT3/Experimentation/Flicker8k_Dataset/3265864834_e0229020dd.jpg': array([0.23705885, 0.28048798, 0.02055131, ..., 0.15847191, 1.1499865 ,\n",
              "        0.911611  ], dtype=float32),\n",
              " '/content/drive/Shared drives/DL_AT3/Experimentation/Flicker8k_Dataset/159712188_d530dd478c.jpg': array([0.0944649 , 0.27409375, 0.78579867, ..., 0.09336473, 0.48107758,\n",
              "        0.33609742], dtype=float32),\n",
              " '/content/drive/Shared drives/DL_AT3/Experimentation/Flicker8k_Dataset/3508522093_51f6d77f45.jpg': array([0.11206111, 0.40956083, 0.6523168 , ..., 0.61053455, 0.6791302 ,\n",
              "        0.08314011], dtype=float32),\n",
              " '/content/drive/Shared drives/DL_AT3/Experimentation/Flicker8k_Dataset/2354064281_10afa38206.jpg': array([0.10607587, 0.25350848, 0.28318197, ..., 0.7043338 , 0.6350062 ,\n",
              "        0.20122041], dtype=float32),\n",
              " '/content/drive/Shared drives/DL_AT3/Experimentation/Flicker8k_Dataset/3122579598_14841c038a.jpg': array([0.05734962, 0.0730274 , 0.1087596 , ..., 0.74203503, 0.9157507 ,\n",
              "        0.01254216], dtype=float32),\n",
              " '/content/drive/Shared drives/DL_AT3/Experimentation/Flicker8k_Dataset/2356664078_4b1e6e465d.jpg': array([0.44388983, 0.38382038, 0.023003  , ..., 0.13840798, 0.35412443,\n",
              "        0.19466564], dtype=float32),\n",
              " '/content/drive/Shared drives/DL_AT3/Experimentation/Flicker8k_Dataset/3439243433_d5f3508612.jpg': array([0.04973653, 0.38287088, 0.10419215, ..., 0.57622683, 0.0448651 ,\n",
              "        0.07053225], dtype=float32),\n",
              " '/content/drive/Shared drives/DL_AT3/Experimentation/Flicker8k_Dataset/2461990494_c5ece064cc.jpg': array([0.30868888, 0.31004953, 0.2078748 , ..., 0.05828312, 0.67509174,\n",
              "        0.15267664], dtype=float32),\n",
              " '/content/drive/Shared drives/DL_AT3/Experimentation/Flicker8k_Dataset/745563422_f4fa7d9157.jpg': array([0.74724525, 0.5453842 , 0.92212445, ..., 0.34946483, 0.9017347 ,\n",
              "        0.5126242 ], dtype=float32),\n",
              " '/content/drive/Shared drives/DL_AT3/Experimentation/Flicker8k_Dataset/3662963630_8f097e38d4.jpg': array([0.14811864, 0.28357378, 0.42423254, ..., 0.12435684, 0.16965778,\n",
              "        0.29813403], dtype=float32),\n",
              " '/content/drive/Shared drives/DL_AT3/Experimentation/Flicker8k_Dataset/3689727848_b53f931130.jpg': array([0.37775797, 0.61679065, 1.2883749 , ..., 0.2195946 , 0.7112948 ,\n",
              "        0.21656452], dtype=float32),\n",
              " '/content/drive/Shared drives/DL_AT3/Experimentation/Flicker8k_Dataset/3288173388_03bc2a844d.jpg': array([0.29378426, 0.34769973, 0.3895067 , ..., 0.06207677, 1.4885437 ,\n",
              "        0.61503726], dtype=float32),\n",
              " '/content/drive/Shared drives/DL_AT3/Experimentation/Flicker8k_Dataset/3212465975_b657f40eed.jpg': array([0.07387699, 0.13443443, 0.21015126, ..., 0.42399076, 0.04565511,\n",
              "        0.03255167], dtype=float32),\n",
              " '/content/drive/Shared drives/DL_AT3/Experimentation/Flicker8k_Dataset/2573667207_a1bf49befc.jpg': array([0.27391037, 0.04801157, 0.5296069 , ..., 0.06744375, 1.302189  ,\n",
              "        0.3775362 ], dtype=float32),\n",
              " '/content/drive/Shared drives/DL_AT3/Experimentation/Flicker8k_Dataset/514905846_b54d13946a.jpg': array([0.04004251, 0.35816428, 0.2637913 , ..., 0.24033347, 0.10666239,\n",
              "        0.400721  ], dtype=float32),\n",
              " '/content/drive/Shared drives/DL_AT3/Experimentation/Flicker8k_Dataset/3273969811_42e9fa8f63.jpg': array([0.09354915, 0.07358135, 0.3872397 , ..., 0.4758299 , 0.03339683,\n",
              "        0.1390598 ], dtype=float32),\n",
              " '/content/drive/Shared drives/DL_AT3/Experimentation/Flicker8k_Dataset/3652764505_87139e71f8.jpg': array([0.6653452 , 0.3299056 , 0.3752278 , ..., 0.01252499, 0.12420375,\n",
              "        0.28018725], dtype=float32),\n",
              " '/content/drive/Shared drives/DL_AT3/Experimentation/Flicker8k_Dataset/599366440_a238e805cf.jpg': array([0.2976063 , 0.42155033, 0.40476668, ..., 0.44667757, 0.19199726,\n",
              "        0.28515694], dtype=float32),\n",
              " '/content/drive/Shared drives/DL_AT3/Experimentation/Flicker8k_Dataset/2288530008_4ebcee2174.jpg': array([0.15348893, 0.55302894, 0.1546149 , ..., 0.08405304, 0.2821275 ,\n",
              "        0.19213077], dtype=float32),\n",
              " '/content/drive/Shared drives/DL_AT3/Experimentation/Flicker8k_Dataset/3679407035_708774de34.jpg': array([1.2005352 , 0.3145489 , 0.39423075, ..., 1.4157386 , 0.09073538,\n",
              "        0.9370873 ], dtype=float32),\n",
              " '/content/drive/Shared drives/DL_AT3/Experimentation/Flicker8k_Dataset/2768662025_44001fe5d1.jpg': array([0.3580708 , 0.09275329, 0.43098804, ..., 0.15237184, 0.45807576,\n",
              "        0.2283043 ], dtype=float32),\n",
              " '/content/drive/Shared drives/DL_AT3/Experimentation/Flicker8k_Dataset/3704698586_a42c25d0c1.jpg': array([0.14259586, 0.21678987, 0.06620657, ..., 0.04197869, 0.5141008 ,\n",
              "        0.3238153 ], dtype=float32),\n",
              " '/content/drive/Shared drives/DL_AT3/Experimentation/Flicker8k_Dataset/3261666285_86fceb762d.jpg': array([0.11103901, 0.29548678, 0.19763635, ..., 0.00052274, 0.03232924,\n",
              "        0.32110095], dtype=float32),\n",
              " '/content/drive/Shared drives/DL_AT3/Experimentation/Flicker8k_Dataset/534886684_a6c9f40fa1.jpg': array([0.21356913, 0.48714525, 0.7248423 , ..., 0.8826062 , 0.4260389 ,\n",
              "        0.1900531 ], dtype=float32),\n",
              " '/content/drive/Shared drives/DL_AT3/Experimentation/Flicker8k_Dataset/3182570190_48214e54c7.jpg': array([1.2333083 , 0.08357242, 0.8172196 , ..., 0.8036262 , 1.0322613 ,\n",
              "        0.46931708], dtype=float32),\n",
              " '/content/drive/Shared drives/DL_AT3/Experimentation/Flicker8k_Dataset/2222186636_85e03e0b75.jpg': array([1.2721286 , 0.14503652, 0.361314  , ..., 0.09786043, 1.2771399 ,\n",
              "        0.22096992], dtype=float32),\n",
              " '/content/drive/Shared drives/DL_AT3/Experimentation/Flicker8k_Dataset/3587596696_9c5964c94d.jpg': array([0.02182452, 0.08884173, 0.5918956 , ..., 0.58580047, 0.0677311 ,\n",
              "        1.3435818 ], dtype=float32),\n",
              " '/content/drive/Shared drives/DL_AT3/Experimentation/Flicker8k_Dataset/3608663656_9192a21eeb.jpg': array([0.11499043, 0.02327635, 0.08265257, ..., 0.00483306, 0.05565628,\n",
              "        0.61251915], dtype=float32),\n",
              " '/content/drive/Shared drives/DL_AT3/Experimentation/Flicker8k_Dataset/368393384_86defdcde8.jpg': array([0.09086423, 0.08713737, 0.02030808, ..., 0.5653705 , 0.447549  ,\n",
              "        0.22477904], dtype=float32),\n",
              " '/content/drive/Shared drives/DL_AT3/Experimentation/Flicker8k_Dataset/1526325728_74eb4153d8.jpg': array([0.26126504, 0.5410686 , 0.09044894, ..., 0.16478197, 0.5141784 ,\n",
              "        0.28933337], dtype=float32),\n",
              " '/content/drive/Shared drives/DL_AT3/Experimentation/Flicker8k_Dataset/3624676866_8f6d0efcc9.jpg': array([1.0680552 , 0.27932736, 1.3476233 , ..., 0.41385674, 0.6434064 ,\n",
              "        0.5191214 ], dtype=float32),\n",
              " '/content/drive/Shared drives/DL_AT3/Experimentation/Flicker8k_Dataset/2307451605_22e9c06530.jpg': array([0.23236108, 0.10973655, 0.3145476 , ..., 0.1565865 , 0.1600666 ,\n",
              "        0.15072504], dtype=float32),\n",
              " '/content/drive/Shared drives/DL_AT3/Experimentation/Flicker8k_Dataset/2913207978_9e9624e249.jpg': array([1.0513477, 0.5079372, 1.1652772, ..., 0.7146368, 1.3695946,\n",
              "        0.5206225], dtype=float32),\n",
              " '/content/drive/Shared drives/DL_AT3/Experimentation/Flicker8k_Dataset/3294830188_e46bd9b93c.jpg': array([0.21361089, 0.37694284, 0.51446575, ..., 0.11397012, 0.5174023 ,\n",
              "        0.84499   ], dtype=float32),\n",
              " '/content/drive/Shared drives/DL_AT3/Experimentation/Flicker8k_Dataset/3550276904_19de3561c5.jpg': array([1.7952332 , 0.2439336 , 1.2132113 , ..., 0.17325598, 0.27417806,\n",
              "        0.22768483], dtype=float32),\n",
              " '/content/drive/Shared drives/DL_AT3/Experimentation/Flicker8k_Dataset/300577374_bfccb0430b.jpg': array([0.5285458 , 1.0094403 , 0.9612709 , ..., 0.59698546, 1.1814312 ,\n",
              "        0.10038733], dtype=float32),\n",
              " '/content/drive/Shared drives/DL_AT3/Experimentation/Flicker8k_Dataset/2092177624_13ab757e8b.jpg': array([0.12373815, 0.17680906, 0.2740335 , ..., 0.41342252, 0.37463617,\n",
              "        0.6188762 ], dtype=float32),\n",
              " '/content/drive/Shared drives/DL_AT3/Experimentation/Flicker8k_Dataset/3380519003_9f91d5a7fb.jpg': array([0.20969883, 0.78165364, 0.22715925, ..., 0.7790138 , 0.23377436,\n",
              "        0.28460014], dtype=float32),\n",
              " '/content/drive/Shared drives/DL_AT3/Experimentation/Flicker8k_Dataset/3375920709_ef7370fa09.jpg': array([0.11228934, 0.08038163, 0.13173015, ..., 0.1751523 , 0.26281703,\n",
              "        0.07782466], dtype=float32),\n",
              " '/content/drive/Shared drives/DL_AT3/Experimentation/Flicker8k_Dataset/1087539207_9f77ab3aaf.jpg': array([0.47237688, 0.35360855, 0.4114612 , ..., 0.8674505 , 0.3375893 ,\n",
              "        0.3826887 ], dtype=float32),\n",
              " '/content/drive/Shared drives/DL_AT3/Experimentation/Flicker8k_Dataset/2868136205_3cf679208d.jpg': array([0.5074793 , 0.3104154 , 0.40709448, ..., 0.58267146, 0.3986901 ,\n",
              "        0.00249659], dtype=float32),\n",
              " '/content/drive/Shared drives/DL_AT3/Experimentation/Flicker8k_Dataset/3436313241_6c73153fb6.jpg': array([0.41656038, 0.95341706, 0.0106467 , ..., 0.2544466 , 0.11053775,\n",
              "        0.58932394], dtype=float32),\n",
              " '/content/drive/Shared drives/DL_AT3/Experimentation/Flicker8k_Dataset/2480021389_dda9fb2818.jpg': array([0.12116656, 0.28056204, 0.17311253, ..., 0.2426053 , 0.31731164,\n",
              "        0.17754853], dtype=float32),\n",
              " '/content/drive/Shared drives/DL_AT3/Experimentation/Flicker8k_Dataset/1663454406_5e2cf8c5bb.jpg': array([0.24060246, 0.66963375, 0.9247538 , ..., 0.48703435, 0.25972754,\n",
              "        0.21820888], dtype=float32),\n",
              " '/content/drive/Shared drives/DL_AT3/Experimentation/Flicker8k_Dataset/3287904625_f68ca5cea7.jpg': array([0.34459442, 0.11713548, 0.51212704, ..., 0.20872457, 0.8547831 ,\n",
              "        1.0761349 ], dtype=float32),\n",
              " '/content/drive/Shared drives/DL_AT3/Experimentation/Flicker8k_Dataset/1045521051_108ebc19be.jpg': array([0.08333042, 0.27610627, 1.1407592 , ..., 0.30433795, 0.54330546,\n",
              "        0.3803911 ], dtype=float32),\n",
              " '/content/drive/Shared drives/DL_AT3/Experimentation/Flicker8k_Dataset/624058168_f1c5e87e59.jpg': array([0.06295214, 0.24145043, 0.1305933 , ..., 0.47734553, 0.75211674,\n",
              "        0.0554051 ], dtype=float32),\n",
              " '/content/drive/Shared drives/DL_AT3/Experimentation/Flicker8k_Dataset/2173061319_1f267765dc.jpg': array([0.22009775, 0.06510779, 0.14563021, ..., 0.10374857, 0.18226866,\n",
              "        0.6031399 ], dtype=float32),\n",
              " '/content/drive/Shared drives/DL_AT3/Experimentation/Flicker8k_Dataset/462080147_ca088e6541.jpg': array([0.30881426, 0.5676465 , 0.43151593, ..., 0.00271881, 0.75579154,\n",
              "        0.6169406 ], dtype=float32),\n",
              " '/content/drive/Shared drives/DL_AT3/Experimentation/Flicker8k_Dataset/179009558_69be522c63.jpg': array([0.4165908 , 0.6526967 , 0.49972117, ..., 0.28184816, 0.8485124 ,\n",
              "        0.33954313], dtype=float32),\n",
              " '/content/drive/Shared drives/DL_AT3/Experimentation/Flicker8k_Dataset/2872197070_4e97c3ccfa.jpg': array([0.32025188, 1.3310428 , 0.27993163, ..., 0.43515185, 0.920912  ,\n",
              "        1.1355178 ], dtype=float32),\n",
              " '/content/drive/Shared drives/DL_AT3/Experimentation/Flicker8k_Dataset/3351418768_596ef7fd6f.jpg': array([0.03560215, 0.04294496, 0.6518649 , ..., 0.08878341, 0.52596927,\n",
              "        1.6415489 ], dtype=float32),\n",
              " '/content/drive/Shared drives/DL_AT3/Experimentation/Flicker8k_Dataset/1429546659_44cb09cbe2.jpg': array([0.30671877, 0.6381117 , 0.3422466 , ..., 0.41962475, 0.57963526,\n",
              "        0.2890909 ], dtype=float32),\n",
              " '/content/drive/Shared drives/DL_AT3/Experimentation/Flicker8k_Dataset/2931950813_93145c4746.jpg': array([0.5280353 , 0.28256968, 0.7280663 , ..., 0.6427816 , 0.3759365 ,\n",
              "        0.11213962], dtype=float32),\n",
              " '/content/drive/Shared drives/DL_AT3/Experimentation/Flicker8k_Dataset/1303548017_47de590273.jpg': array([0.5613637 , 0.34251165, 0.48620516, ..., 0.32821393, 0.19048637,\n",
              "        0.08398737], dtype=float32),\n",
              " '/content/drive/Shared drives/DL_AT3/Experimentation/Flicker8k_Dataset/2579572274_826598b14a.jpg': array([0.5622549 , 0.16732965, 0.34547186, ..., 0.9860692 , 0.05937168,\n",
              "        0.8732376 ], dtype=float32),\n",
              " '/content/drive/Shared drives/DL_AT3/Experimentation/Flicker8k_Dataset/3231575742_31732664cf.jpg': array([0.25839394, 0.22608873, 0.31238717, ..., 0.7336246 , 0.58819747,\n",
              "        0.32449305], dtype=float32),\n",
              " '/content/drive/Shared drives/DL_AT3/Experimentation/Flicker8k_Dataset/2344699642_4fae2f4e07.jpg': array([0.18663359, 0.1430343 , 0.18861343, ..., 0.48304826, 0.30177465,\n",
              "        0.14750738], dtype=float32),\n",
              " '/content/drive/Shared drives/DL_AT3/Experimentation/Flicker8k_Dataset/3455757720_7aeba57056.jpg': array([0.47845614, 0.04731867, 0.33074528, ..., 0.16659072, 0.34485888,\n",
              "        0.14989746], dtype=float32),\n",
              " '/content/drive/Shared drives/DL_AT3/Experimentation/Flicker8k_Dataset/3585488964_1467945775.jpg': array([0.19996117, 0.30724588, 0.04899118, ..., 0.09947529, 1.1798172 ,\n",
              "        0.39855057], dtype=float32),\n",
              " '/content/drive/Shared drives/DL_AT3/Experimentation/Flicker8k_Dataset/1470536919_1f3fd6c65a.jpg': array([0.60620576, 0.7408098 , 0.06284565, ..., 0.06928804, 0.43181914,\n",
              "        0.47320426], dtype=float32),\n",
              " '/content/drive/Shared drives/DL_AT3/Experimentation/Flicker8k_Dataset/2109370875_05241bdda7.jpg': array([0.4287147 , 0.35894448, 0.15496348, ..., 0.36393285, 1.6643367 ,\n",
              "        0.5624337 ], dtype=float32),\n",
              " '/content/drive/Shared drives/DL_AT3/Experimentation/Flicker8k_Dataset/2800934095_b84a5009dd.jpg': array([0.48056903, 0.09229563, 0.09932096, ..., 0.47424483, 0.        ,\n",
              "        0.11503171], dtype=float32),\n",
              " '/content/drive/Shared drives/DL_AT3/Experimentation/Flicker8k_Dataset/2815755985_0fa55544c0.jpg': array([0.03829967, 0.25351888, 0.22833982, ..., 0.43103498, 0.7556586 ,\n",
              "        0.01453451], dtype=float32),\n",
              " '/content/drive/Shared drives/DL_AT3/Experimentation/Flicker8k_Dataset/2217328285_b1d55c17ca.jpg': array([0.22623351, 0.24141005, 0.50520694, ..., 0.78023595, 1.4603491 ,\n",
              "        0.11022097], dtype=float32),\n",
              " '/content/drive/Shared drives/DL_AT3/Experimentation/Flicker8k_Dataset/2714220101_c31db50b10.jpg': array([0.08928437, 0.00222033, 0.17202675, ..., 0.79812074, 0.15845013,\n",
              "        0.04593555], dtype=float32),\n",
              " '/content/drive/Shared drives/DL_AT3/Experimentation/Flicker8k_Dataset/3005124440_c096b310fb.jpg': array([0.63246226, 1.3889741 , 0.7972559 , ..., 0.31582752, 0.8775799 ,\n",
              "        0.2202998 ], dtype=float32),\n",
              " '/content/drive/Shared drives/DL_AT3/Experimentation/Flicker8k_Dataset/224026428_0165164ceb.jpg': array([0.19972634, 0.26232547, 0.737976  , ..., 0.22629139, 0.15797833,\n",
              "        0.48614627], dtype=float32),\n",
              " '/content/drive/Shared drives/DL_AT3/Experimentation/Flicker8k_Dataset/2646540383_343e1ec9a4.jpg': array([0.29518878, 0.2718168 , 0.08117753, ..., 1.6129771 , 0.75461876,\n",
              "        1.1439984 ], dtype=float32),\n",
              " '/content/drive/Shared drives/DL_AT3/Experimentation/Flicker8k_Dataset/3560081723_62da0035bd.jpg': array([0.20295133, 0.32949817, 0.13324219, ..., 0.36946416, 0.268397  ,\n",
              "        0.4335919 ], dtype=float32),\n",
              " '/content/drive/Shared drives/DL_AT3/Experimentation/Flicker8k_Dataset/3132832452_c354c6396c.jpg': array([0.962128  , 0.27666757, 0.87625355, ..., 0.        , 0.9790591 ,\n",
              "        0.27431014], dtype=float32),\n",
              " '/content/drive/Shared drives/DL_AT3/Experimentation/Flicker8k_Dataset/2178095150_436b035741.jpg': array([0.39578623, 0.78719485, 0.10143449, ..., 0.37060764, 0.10808355,\n",
              "        0.47511634], dtype=float32),\n",
              " '/content/drive/Shared drives/DL_AT3/Experimentation/Flicker8k_Dataset/3037558954_20115165e3.jpg': array([0.39795515, 0.22145027, 0.20861621, ..., 0.11932173, 0.00591989,\n",
              "        0.3038517 ], dtype=float32),\n",
              " '/content/drive/Shared drives/DL_AT3/Experimentation/Flicker8k_Dataset/3525403875_7f95e0cbfe.jpg': array([0.24179187, 0.25340116, 0.05153409, ..., 0.35425517, 0.46829894,\n",
              "        0.38719335], dtype=float32),\n",
              " '/content/drive/Shared drives/DL_AT3/Experimentation/Flicker8k_Dataset/2097489021_ca1b9f5c3b.jpg': array([0.04555583, 0.7934159 , 0.22979167, ..., 0.41112375, 0.6075946 ,\n",
              "        0.12748535], dtype=float32),\n",
              " '/content/drive/Shared drives/DL_AT3/Experimentation/Flicker8k_Dataset/3330333217_1a69497a74.jpg': array([0.62743074, 0.26557553, 0.3720513 , ..., 0.00245951, 0.18354902,\n",
              "        0.3821671 ], dtype=float32),\n",
              " '/content/drive/Shared drives/DL_AT3/Experimentation/Flicker8k_Dataset/611910909_4f8e43e070.jpg': array([0.37755603, 0.3554253 , 0.44051713, ..., 0.8772165 , 0.5038097 ,\n",
              "        0.02571342], dtype=float32),\n",
              " '/content/drive/Shared drives/DL_AT3/Experimentation/Flicker8k_Dataset/2637904605_fc355816fc.jpg': array([0.5762344 , 0.29272035, 0.12610966, ..., 0.03015147, 0.66592026,\n",
              "        0.50855047], dtype=float32),\n",
              " '/content/drive/Shared drives/DL_AT3/Experimentation/Flicker8k_Dataset/2551344688_17a12a6948.jpg': array([0.45062256, 0.5674515 , 0.64722574, ..., 1.3143067 , 0.18370548,\n",
              "        0.05877667], dtype=float32),\n",
              " '/content/drive/Shared drives/DL_AT3/Experimentation/Flicker8k_Dataset/1130369873_d80a1aa59c.jpg': array([0.08775832, 0.20859043, 0.043845  , ..., 0.6485284 , 0.20409463,\n",
              "        0.00123818], dtype=float32),\n",
              " '/content/drive/Shared drives/DL_AT3/Experimentation/Flicker8k_Dataset/3286198467_8880be127e.jpg': array([0.2520104 , 0.61826634, 0.12920341, ..., 0.26483196, 0.04019544,\n",
              "        0.3117376 ], dtype=float32),\n",
              " '/content/drive/Shared drives/DL_AT3/Experimentation/Flicker8k_Dataset/3041645937_ff7591d134.jpg': array([1.159874  , 0.7100755 , 0.9657239 , ..., 2.2584708 , 0.2545743 ,\n",
              "        0.37914458], dtype=float32),\n",
              " '/content/drive/Shared drives/DL_AT3/Experimentation/Flicker8k_Dataset/2911552402_5166bc173b.jpg': array([0.06893268, 0.2952172 , 0.02037219, ..., 0.408891  , 0.3188646 ,\n",
              "        0.196215  ], dtype=float32),\n",
              " '/content/drive/Shared drives/DL_AT3/Experimentation/Flicker8k_Dataset/241346923_18bd84bea4.jpg': array([0.19861998, 0.1867826 , 0.36300054, ..., 0.17689759, 0.08836854,\n",
              "        0.05013002], dtype=float32),\n",
              " '/content/drive/Shared drives/DL_AT3/Experimentation/Flicker8k_Dataset/3381161854_af8b05243c.jpg': array([0.07989255, 0.17938009, 0.38366187, ..., 0.1866352 , 0.11827817,\n",
              "        0.01813224], dtype=float32),\n",
              " '/content/drive/Shared drives/DL_AT3/Experimentation/Flicker8k_Dataset/2695962887_a1647c567b.jpg': array([0.30736792, 0.5768578 , 0.16328272, ..., 0.17840402, 0.04344908,\n",
              "        0.04398806], dtype=float32),\n",
              " '/content/drive/Shared drives/DL_AT3/Experimentation/Flicker8k_Dataset/3255732353_fbc487aefc.jpg': array([0.19350445, 0.39428455, 0.595407  , ..., 0.78249997, 1.1922445 ,\n",
              "        0.7595028 ], dtype=float32),\n",
              " '/content/drive/Shared drives/DL_AT3/Experimentation/Flicker8k_Dataset/3545793128_af3af544dc.jpg': array([0.03976192, 0.82259035, 0.23959596, ..., 0.9327526 , 0.07453725,\n",
              "        0.03236904], dtype=float32),\n",
              " '/content/drive/Shared drives/DL_AT3/Experimentation/Flicker8k_Dataset/2891162278_fbf96be4f4.jpg': array([0.19372825, 0.41182262, 0.0537627 , ..., 0.03992526, 0.0651684 ,\n",
              "        0.07646828], dtype=float32),\n",
              " '/content/drive/Shared drives/DL_AT3/Experimentation/Flicker8k_Dataset/3583293892_c96af8cd98.jpg': array([0.53156745, 0.19408081, 0.2436584 , ..., 0.0294263 , 0.16186623,\n",
              "        0.3955669 ], dtype=float32),\n",
              " '/content/drive/Shared drives/DL_AT3/Experimentation/Flicker8k_Dataset/2693539377_5442430f81.jpg': array([0.2231006 , 0.7840701 , 0.18006876, ..., 0.54970235, 0.00863637,\n",
              "        0.0855037 ], dtype=float32),\n",
              " '/content/drive/Shared drives/DL_AT3/Experimentation/Flicker8k_Dataset/3044745642_1d0784ff29.jpg': array([0.05177901, 0.21383692, 0.16372862, ..., 0.34622142, 0.3468042 ,\n",
              "        0.22974035], dtype=float32),\n",
              " '/content/drive/Shared drives/DL_AT3/Experimentation/Flicker8k_Dataset/1469000260_5d473c8283.jpg': array([0.3264894 , 0.30189395, 0.20948336, ..., 0.1527201 , 0.48355833,\n",
              "        0.44980636], dtype=float32),\n",
              " '/content/drive/Shared drives/DL_AT3/Experimentation/Flicker8k_Dataset/3487131146_9d3aca387a.jpg': array([0.22867745, 0.27029857, 0.18227819, ..., 0.12765804, 0.34133628,\n",
              "        0.14187348], dtype=float32),\n",
              " '/content/drive/Shared drives/DL_AT3/Experimentation/Flicker8k_Dataset/3524612244_64f00afec5.jpg': array([0.67463166, 0.24828266, 0.5264244 , ..., 0.18588716, 0.00388879,\n",
              "        0.5696411 ], dtype=float32),\n",
              " '/content/drive/Shared drives/DL_AT3/Experimentation/Flicker8k_Dataset/3265527323_6431f00692.jpg': array([0.31831127, 0.2827295 , 0.6806023 , ..., 0.38837838, 0.7620811 ,\n",
              "        0.03232442], dtype=float32),\n",
              " '/content/drive/Shared drives/DL_AT3/Experimentation/Flicker8k_Dataset/3036971334_78187a9570.jpg': array([0.91281056, 0.11307523, 0.97035956, ..., 0.04948298, 0.33217832,\n",
              "        0.08371531], dtype=float32),\n",
              " '/content/drive/Shared drives/DL_AT3/Experimentation/Flicker8k_Dataset/405537503_f66ecc5073.jpg': array([2.4890661e-02, 1.4385572e-01, 1.7418532e-03, ..., 5.0273284e-02,\n",
              "        4.5847687e-01, 1.7566258e+00], dtype=float32),\n",
              " '/content/drive/Shared drives/DL_AT3/Experimentation/Flicker8k_Dataset/3222842866_cb85243ce4.jpg': array([0.29392225, 0.71761227, 0.04630246, ..., 0.40513417, 0.6315433 ,\n",
              "        1.2692153 ], dtype=float32),\n",
              " '/content/drive/Shared drives/DL_AT3/Experimentation/Flicker8k_Dataset/3410902181_b2a3c6eec9.jpg': array([0.09176289, 0.20792879, 0.09980946, ..., 0.11868241, 0.76843125,\n",
              "        0.22673771], dtype=float32),\n",
              " '/content/drive/Shared drives/DL_AT3/Experimentation/Flicker8k_Dataset/2832453252_a06f7826a8.jpg': array([0.30956003, 0.35035595, 0.48394448, ..., 0.10501054, 0.5826299 ,\n",
              "        0.13928236], dtype=float32),\n",
              " '/content/drive/Shared drives/DL_AT3/Experimentation/Flicker8k_Dataset/3235746553_a40416c00e.jpg': array([0.29329076, 0.06503041, 0.20469734, ..., 0.14539573, 0.74964106,\n",
              "        0.7768671 ], dtype=float32),\n",
              " '/content/drive/Shared drives/DL_AT3/Experimentation/Flicker8k_Dataset/93922153_8d831f7f01.jpg': array([0.4176623 , 0.03229428, 0.570327  , ..., 0.6537862 , 0.5644275 ,\n",
              "        0.8056916 ], dtype=float32),\n",
              " '/content/drive/Shared drives/DL_AT3/Experimentation/Flicker8k_Dataset/3256272547_5ae6c66293.jpg': array([0.3928538 , 0.257782  , 0.427997  , ..., 0.02015839, 1.081507  ,\n",
              "        0.1836918 ], dtype=float32),\n",
              " '/content/drive/Shared drives/DL_AT3/Experimentation/Flicker8k_Dataset/2621771656_09a620da6d.jpg': array([0.06383006, 0.49810886, 0.00905796, ..., 0.2508422 , 0.36763376,\n",
              "        1.1411952 ], dtype=float32),\n",
              " '/content/drive/Shared drives/DL_AT3/Experimentation/Flicker8k_Dataset/3393152604_27bd1037f2.jpg': array([0.49335042, 0.69319195, 0.19915631, ..., 0.794551  , 1.1435788 ,\n",
              "        0.5881568 ], dtype=float32),\n",
              " '/content/drive/Shared drives/DL_AT3/Experimentation/Flicker8k_Dataset/2261550615_b6c25d987b.jpg': array([1.0999465 , 0.31760877, 0.5742674 , ..., 0.        , 0.31094724,\n",
              "        0.3087731 ], dtype=float32),\n",
              " '/content/drive/Shared drives/DL_AT3/Experimentation/Flicker8k_Dataset/2936590102_25036069a6.jpg': array([0.18235148, 0.92057216, 0.6265183 , ..., 0.26894388, 0.22333433,\n",
              "        0.00655482], dtype=float32),\n",
              " '/content/drive/Shared drives/DL_AT3/Experimentation/Flicker8k_Dataset/3549673305_4dfd44e04a.jpg': array([0.53345907, 0.40690076, 1.2536256 , ..., 0.33734405, 0.4450349 ,\n",
              "        0.00160484], dtype=float32),\n",
              " '/content/drive/Shared drives/DL_AT3/Experimentation/Flicker8k_Dataset/3553225222_f5ebe44af1.jpg': array([0.27280948, 0.19903308, 0.8563223 , ..., 0.6059649 , 1.3024775 ,\n",
              "        0.664805  ], dtype=float32),\n",
              " '/content/drive/Shared drives/DL_AT3/Experimentation/Flicker8k_Dataset/3215081286_d55541aa6b.jpg': array([0.915129  , 0.02341679, 0.45308003, ..., 0.15840927, 0.69537735,\n",
              "        0.29614937], dtype=float32),\n",
              " '/content/drive/Shared drives/DL_AT3/Experimentation/Flicker8k_Dataset/2710416789_555180e399.jpg': array([0.493428  , 0.56663847, 0.20182475, ..., 0.6256202 , 0.5453799 ,\n",
              "        0.4945245 ], dtype=float32),\n",
              " '/content/drive/Shared drives/DL_AT3/Experimentation/Flicker8k_Dataset/3718305988_fe2c91fd44.jpg': array([0.00444491, 1.4196779 , 0.15544504, ..., 1.0424374 , 0.        ,\n",
              "        0.55597985], dtype=float32),\n",
              " '/content/drive/Shared drives/DL_AT3/Experimentation/Flicker8k_Dataset/2406591500_403f145905.jpg': array([1.0875647 , 0.2618328 , 0.8032923 , ..., 0.7722746 , 1.2908328 ,\n",
              "        0.14767404], dtype=float32),\n",
              " '/content/drive/Shared drives/DL_AT3/Experimentation/Flicker8k_Dataset/3415178926_909db9400b.jpg': array([0.18165536, 0.17285413, 0.14633189, ..., 0.54163134, 0.6867808 ,\n",
              "        0.35361785], dtype=float32),\n",
              " '/content/drive/Shared drives/DL_AT3/Experimentation/Flicker8k_Dataset/2579899436_5086a33c7a.jpg': array([0.26947486, 0.04341798, 0.12050612, ..., 0.29291043, 1.0981234 ,\n",
              "        1.0298095 ], dtype=float32),\n",
              " '/content/drive/Shared drives/DL_AT3/Experimentation/Flicker8k_Dataset/2199083344_3aa77f4879.jpg': array([0.57736826, 0.6464573 , 0.51459515, ..., 0.13462368, 0.39470592,\n",
              "        0.8581641 ], dtype=float32),\n",
              " '/content/drive/Shared drives/DL_AT3/Experimentation/Flicker8k_Dataset/3500139659_b2a60b0141.jpg': array([0.2935567 , 0.06868118, 0.17971969, ..., 0.28745586, 0.43783402,\n",
              "        0.10204725], dtype=float32),\n",
              " '/content/drive/Shared drives/DL_AT3/Experimentation/Flicker8k_Dataset/3686078365_9e655e238f.jpg': array([0.24089906, 0.30410498, 0.2622422 , ..., 0.43279737, 1.1716698 ,\n",
              "        0.5622515 ], dtype=float32),\n",
              " '/content/drive/Shared drives/DL_AT3/Experimentation/Flicker8k_Dataset/3419197575_aa5b84a9f0.jpg': array([0.22811043, 0.35771945, 0.8490203 , ..., 0.6382698 , 0.09237131,\n",
              "        0.0687914 ], dtype=float32),\n",
              " '/content/drive/Shared drives/DL_AT3/Experimentation/Flicker8k_Dataset/3257182199_5fda78d870.jpg': array([0.7872344 , 0.5448071 , 0.5173769 , ..., 0.36409026, 0.7195411 ,\n",
              "        0.0031983 ], dtype=float32),\n",
              " '/content/drive/Shared drives/DL_AT3/Experimentation/Flicker8k_Dataset/3420278866_1d17c12713.jpg': array([0.09505554, 0.25151557, 0.17749073, ..., 0.35295096, 0.03253272,\n",
              "        0.2350693 ], dtype=float32),\n",
              " '/content/drive/Shared drives/DL_AT3/Experimentation/Flicker8k_Dataset/339822505_be3ccbb71f.jpg': array([1.3091846 , 0.19297817, 1.7777548 , ..., 0.82603455, 0.45673412,\n",
              "        0.00296929], dtype=float32),\n",
              " '/content/drive/Shared drives/DL_AT3/Experimentation/Flicker8k_Dataset/3711664623_ef87105ea7.jpg': array([0.38807166, 0.29054952, 0.74374425, ..., 0.7453698 , 0.55407846,\n",
              "        0.48463985], dtype=float32),\n",
              " '/content/drive/Shared drives/DL_AT3/Experimentation/Flicker8k_Dataset/2936707421_8e629874b8.jpg': array([0.29559737, 0.45842165, 0.43041602, ..., 0.10749836, 0.19073628,\n",
              "        0.14103056], dtype=float32),\n",
              " '/content/drive/Shared drives/DL_AT3/Experimentation/Flicker8k_Dataset/289860281_94d699f36d.jpg': array([0.36536598, 0.32779762, 0.8993479 , ..., 1.198498  , 0.66438174,\n",
              "        0.2612723 ], dtype=float32),\n",
              " '/content/drive/Shared drives/DL_AT3/Experimentation/Flicker8k_Dataset/661749711_6f408dad62.jpg': array([0.10718222, 0.2252427 , 0.08974324, ..., 0.20659731, 0.        ,\n",
              "        0.04712667], dtype=float32),\n",
              " '/content/drive/Shared drives/DL_AT3/Experimentation/Flicker8k_Dataset/247706586_7e25c7adf8.jpg': array([0.12548144, 0.05011627, 0.19133863, ..., 0.06100459, 0.06388733,\n",
              "        0.15135098], dtype=float32),\n",
              " '/content/drive/Shared drives/DL_AT3/Experimentation/Flicker8k_Dataset/3322200641_c2e51ff37b.jpg': array([0.14124134, 0.21035904, 0.09492312, ..., 0.27865145, 1.2894566 ,\n",
              "        0.15227114], dtype=float32),\n",
              " '/content/drive/Shared drives/DL_AT3/Experimentation/Flicker8k_Dataset/1350811702_2ce7cfd0c5.jpg': array([0.093909  , 1.1826866 , 0.5424221 , ..., 0.45774418, 0.7971635 ,\n",
              "        0.6089275 ], dtype=float32),\n",
              " '/content/drive/Shared drives/DL_AT3/Experimentation/Flicker8k_Dataset/524310507_51220580de.jpg': array([0.3833294 , 0.00746359, 0.4549263 , ..., 0.26328704, 0.66586006,\n",
              "        0.3335951 ], dtype=float32),\n",
              " '/content/drive/Shared drives/DL_AT3/Experimentation/Flicker8k_Dataset/3217291172_10ef70af88.jpg': array([0.02319009, 0.39668536, 1.4735153 , ..., 0.09761308, 1.2382305 ,\n",
              "        0.4666643 ], dtype=float32),\n",
              " '/content/drive/Shared drives/DL_AT3/Experimentation/Flicker8k_Dataset/2094323311_27d58b1513.jpg': array([0.25854367, 0.45469302, 0.18616983, ..., 0.48480022, 0.33487514,\n",
              "        0.21521714], dtype=float32),\n",
              " '/content/drive/Shared drives/DL_AT3/Experimentation/Flicker8k_Dataset/957682378_46c3b07bcd.jpg': array([0.2758556 , 0.27755713, 0.18266504, ..., 0.02670299, 0.09555401,\n",
              "        0.06046236], dtype=float32),\n",
              " '/content/drive/Shared drives/DL_AT3/Experimentation/Flicker8k_Dataset/23445819_3a458716c1.jpg': array([0.19132681, 0.5392686 , 0.29296798, ..., 0.83412004, 0.62329084,\n",
              "        1.1499562 ], dtype=float32),\n",
              " '/content/drive/Shared drives/DL_AT3/Experimentation/Flicker8k_Dataset/3173461705_b5cdeef1eb.jpg': array([0.3014979 , 0.1691012 , 0.54646754, ..., 0.60378146, 2.3684273 ,\n",
              "        0.8987825 ], dtype=float32),\n",
              " '/content/drive/Shared drives/DL_AT3/Experimentation/Flicker8k_Dataset/2402744031_11f9f2f2b8.jpg': array([0.8322161 , 0.40388453, 0.7308902 , ..., 0.04925235, 0.7474075 ,\n",
              "        0.15923482], dtype=float32),\n",
              " '/content/drive/Shared drives/DL_AT3/Experimentation/Flicker8k_Dataset/3653484549_f316590b0f.jpg': array([0.21718128, 0.94989187, 1.2959836 , ..., 1.2538173 , 0.7916155 ,\n",
              "        0.5639087 ], dtype=float32),\n",
              " '/content/drive/Shared drives/DL_AT3/Experimentation/Flicker8k_Dataset/438639005_208bc59b0b.jpg': array([0.13743263, 0.28546694, 0.2640587 , ..., 0.        , 0.17696337,\n",
              "        0.30172023], dtype=float32),\n",
              " '/content/drive/Shared drives/DL_AT3/Experimentation/Flicker8k_Dataset/442220883_ff3d6e507f.jpg': array([0.26416445, 0.31610033, 0.22287662, ..., 0.03947822, 0.75503385,\n",
              "        0.5200565 ], dtype=float32),\n",
              " '/content/drive/Shared drives/DL_AT3/Experimentation/Flicker8k_Dataset/2833820456_143ea6ce47.jpg': array([0.79782534, 0.17367482, 1.8812248 , ..., 0.17903996, 1.2635261 ,\n",
              "        1.2586987 ], dtype=float32),\n",
              " '/content/drive/Shared drives/DL_AT3/Experimentation/Flicker8k_Dataset/3356748019_2251399314.jpg': array([0.13095039, 0.5003879 , 0.13892712, ..., 0.05795274, 0.21809906,\n",
              "        0.9070537 ], dtype=float32),\n",
              " '/content/drive/Shared drives/DL_AT3/Experimentation/Flicker8k_Dataset/2187503678_fd743e0a00.jpg': array([0.34052873, 0.62124896, 0.42913872, ..., 0.03607589, 0.53099614,\n",
              "        0.10660224], dtype=float32),\n",
              " '/content/drive/Shared drives/DL_AT3/Experimentation/Flicker8k_Dataset/1319634306_816f21677f.jpg': array([0.19284508, 0.14921433, 0.10676099, ..., 0.13876283, 0.99539137,\n",
              "        0.8912443 ], dtype=float32),\n",
              " '/content/drive/Shared drives/DL_AT3/Experimentation/Flicker8k_Dataset/1177994172_10d143cb8d.jpg': array([0.19632277, 0.32617956, 0.33432597, ..., 0.14681312, 0.57494694,\n",
              "        0.75594574], dtype=float32),\n",
              " '/content/drive/Shared drives/DL_AT3/Experimentation/Flicker8k_Dataset/3174453534_fcc927c647.jpg': array([0.27527738, 0.20756613, 0.5738154 , ..., 0.1379607 , 0.12459836,\n",
              "        0.05626446], dtype=float32),\n",
              " '/content/drive/Shared drives/DL_AT3/Experimentation/Flicker8k_Dataset/2543017787_9720b4fa1c.jpg': array([0.26353437, 0.305397  , 0.14871028, ..., 2.201882  , 0.96850467,\n",
              "        0.05925019], dtype=float32),\n",
              " '/content/drive/Shared drives/DL_AT3/Experimentation/Flicker8k_Dataset/2865703567_52de2444f2.jpg': array([0.4383245 , 0.19724154, 0.20950122, ..., 1.3887815 , 0.32753167,\n",
              "        0.7740457 ], dtype=float32),\n",
              " '/content/drive/Shared drives/DL_AT3/Experimentation/Flicker8k_Dataset/1579206585_5ca6a24db0.jpg': array([0.2590961 , 0.46792844, 0.2581662 , ..., 0.461119  , 0.5560793 ,\n",
              "        0.3679779 ], dtype=float32),\n",
              " '/content/drive/Shared drives/DL_AT3/Experimentation/Flicker8k_Dataset/440190907_bf8b7ba8ef.jpg': array([2.1442332 , 0.03121864, 0.4048969 , ..., 0.01188641, 0.3911409 ,\n",
              "        0.27165318], dtype=float32),\n",
              " '/content/drive/Shared drives/DL_AT3/Experimentation/Flicker8k_Dataset/3119913014_688d4997d7.jpg': array([0.63297045, 0.60832703, 0.54029185, ..., 0.29563326, 0.59401786,\n",
              "        0.26102147], dtype=float32),\n",
              " '/content/drive/Shared drives/DL_AT3/Experimentation/Flicker8k_Dataset/3393394134_0caac47e1c.jpg': array([0.89749664, 0.6746738 , 0.04289428, ..., 0.10864463, 0.69628346,\n",
              "        0.73686016], dtype=float32),\n",
              " '/content/drive/Shared drives/DL_AT3/Experimentation/Flicker8k_Dataset/2836360729_6500249fe6.jpg': array([0.28898942, 0.08015952, 0.2756309 , ..., 1.0262089 , 0.28880337,\n",
              "        0.4772898 ], dtype=float32),\n",
              " '/content/drive/Shared drives/DL_AT3/Experimentation/Flicker8k_Dataset/2249480913_e1695e5c28.jpg': array([0.25801694, 0.5879551 , 0.13652998, ..., 0.25790155, 0.13422674,\n",
              "        0.11916187], dtype=float32),\n",
              " '/content/drive/Shared drives/DL_AT3/Experimentation/Flicker8k_Dataset/2906802485_dfebf09173.jpg': array([0.05649406, 0.06996948, 0.14190647, ..., 0.        , 0.02167512,\n",
              "        0.54131216], dtype=float32),\n",
              " '/content/drive/Shared drives/DL_AT3/Experimentation/Flicker8k_Dataset/2121140070_a09644550b.jpg': array([0.43980584, 0.33209974, 0.78797215, ..., 0.01881395, 0.58858097,\n",
              "        0.1788544 ], dtype=float32),\n",
              " '/content/drive/Shared drives/DL_AT3/Experimentation/Flicker8k_Dataset/3016521240_2ef20834b6.jpg': array([0.99508524, 0.43952817, 0.19154632, ..., 0.5424369 , 0.24983948,\n",
              "        0.4575211 ], dtype=float32),\n",
              " '/content/drive/Shared drives/DL_AT3/Experimentation/Flicker8k_Dataset/3139895886_5a6d495b13.jpg': array([0.2919951 , 0.5183251 , 0.02987932, ..., 0.2711248 , 0.72446406,\n",
              "        0.46360758], dtype=float32),\n",
              " '/content/drive/Shared drives/DL_AT3/Experimentation/Flicker8k_Dataset/414773731_c3f5bf43d5.jpg': array([0.40535933, 0.41297317, 0.363658  , ..., 0.25784063, 0.34399143,\n",
              "        0.18404621], dtype=float32),\n",
              " '/content/drive/Shared drives/DL_AT3/Experimentation/Flicker8k_Dataset/3191982761_88793192ed.jpg': array([0.20790318, 0.20118928, 0.480833  , ..., 0.09798744, 1.6169833 ,\n",
              "        0.98513794], dtype=float32),\n",
              " '/content/drive/Shared drives/DL_AT3/Experimentation/Flicker8k_Dataset/661755629_602ea4cf09.jpg': array([0.20069446, 0.2054278 , 0.13865593, ..., 0.32627195, 0.04407802,\n",
              "        0.0061936 ], dtype=float32),\n",
              " '/content/drive/Shared drives/DL_AT3/Experimentation/Flicker8k_Dataset/3485657956_7481582565.jpg': array([0.25172725, 0.08518893, 0.01792355, ..., 0.1306699 , 0.4449231 ,\n",
              "        0.4380636 ], dtype=float32),\n",
              " '/content/drive/Shared drives/DL_AT3/Experimentation/Flicker8k_Dataset/3173157541_70b16b4318.jpg': array([0.5183131 , 0.22155319, 0.7220633 , ..., 0.19934836, 0.97636306,\n",
              "        0.32069415], dtype=float32),\n",
              " '/content/drive/Shared drives/DL_AT3/Experimentation/Flicker8k_Dataset/3416339125_0860d3d1eb.jpg': array([0.39833397, 0.45847043, 0.24670702, ..., 0.858726  , 0.7534059 ,\n",
              "        1.3336002 ], dtype=float32),\n",
              " '/content/drive/Shared drives/DL_AT3/Experimentation/Flicker8k_Dataset/397286183_745abbf40d.jpg': array([0.3904417 , 0.46765435, 0.24100514, ..., 0.31017932, 0.46782696,\n",
              "        0.9356402 ], dtype=float32),\n",
              " '/content/drive/Shared drives/DL_AT3/Experimentation/Flicker8k_Dataset/3576536763_3c8c4f232e.jpg': array([0.3947184 , 0.07396008, 0.5564375 , ..., 0.19160733, 0.7747834 ,\n",
              "        0.14998825], dtype=float32),\n",
              " '/content/drive/Shared drives/DL_AT3/Experimentation/Flicker8k_Dataset/1528205014_1323aa9dfd.jpg': array([0.7175293 , 0.60535884, 1.2738593 , ..., 0.26089358, 0.36059418,\n",
              "        0.03991784], dtype=float32),\n",
              " '/content/drive/Shared drives/DL_AT3/Experimentation/Flicker8k_Dataset/2647229826_e0e0c65ef1.jpg': array([0.08611298, 0.08686419, 0.49419418, ..., 0.49145666, 0.1738983 ,\n",
              "        0.89999354], dtype=float32),\n",
              " '/content/drive/Shared drives/DL_AT3/Experimentation/Flicker8k_Dataset/3333017828_b930b9d41b.jpg': array([0.13992217, 0.1381458 , 0.11648509, ..., 0.406604  , 0.69474876,\n",
              "        0.38642687], dtype=float32),\n",
              " '/content/drive/Shared drives/DL_AT3/Experimentation/Flicker8k_Dataset/3089107423_81a24eaf18.jpg': array([0.42933205, 0.2185256 , 0.7441052 , ..., 0.3459711 , 1.1465069 ,\n",
              "        0.5952382 ], dtype=float32),\n",
              " '/content/drive/Shared drives/DL_AT3/Experimentation/Flicker8k_Dataset/3150315970_8f045c41a4.jpg': array([1.3512511 , 0.41559887, 1.2984012 , ..., 0.52541065, 0.2989507 ,\n",
              "        0.46557963], dtype=float32),\n",
              " '/content/drive/Shared drives/DL_AT3/Experimentation/Flicker8k_Dataset/2986280913_13fb2d472e.jpg': array([0.18536818, 0.536608  , 0.17772913, ..., 0.        , 0.04264577,\n",
              "        0.03169406], dtype=float32),\n",
              " '/content/drive/Shared drives/DL_AT3/Experimentation/Flicker8k_Dataset/3482879314_d3387e95b1.jpg': array([0.27232412, 0.7687751 , 1.3493853 , ..., 0.3572889 , 0.51734376,\n",
              "        0.14243683], dtype=float32),\n",
              " '/content/drive/Shared drives/DL_AT3/Experimentation/Flicker8k_Dataset/2493974889_50ae29f1e1.jpg': array([0.24858527, 0.14798424, 0.17803197, ..., 0.00162971, 0.20651752,\n",
              "        0.09372887], dtype=float32),\n",
              " '/content/drive/Shared drives/DL_AT3/Experimentation/Flicker8k_Dataset/3470303255_fbb41b8dd0.jpg': array([0.11894011, 0.5638822 , 1.3335552 , ..., 0.6705216 , 0.73352265,\n",
              "        0.4835583 ], dtype=float32),\n",
              " '/content/drive/Shared drives/DL_AT3/Experimentation/Flicker8k_Dataset/3444684583_6656e38088.jpg': array([0.15005308, 0.131227  , 0.115389  , ..., 0.3526414 , 0.27358234,\n",
              "        0.12182274], dtype=float32),\n",
              " '/content/drive/Shared drives/DL_AT3/Experimentation/Flicker8k_Dataset/2303426046_09cfd7bc4e.jpg': array([0.11372703, 0.6330106 , 0.11374284, ..., 0.19200706, 0.5902048 ,\n",
              "        1.0509075 ], dtype=float32),\n",
              " '/content/drive/Shared drives/DL_AT3/Experimentation/Flicker8k_Dataset/3532200762_b28c39d311.jpg': array([0.09908187, 0.03332099, 0.9718555 , ..., 0.11442868, 0.6536574 ,\n",
              "        0.4096884 ], dtype=float32),\n",
              " '/content/drive/Shared drives/DL_AT3/Experimentation/Flicker8k_Dataset/515797344_4ae75cb9b1.jpg': array([0.32395715, 0.16023391, 0.49638173, ..., 0.04349898, 0.6425507 ,\n",
              "        0.5093608 ], dtype=float32),\n",
              " '/content/drive/Shared drives/DL_AT3/Experimentation/Flicker8k_Dataset/241347391_4fcd4639f4.jpg': array([0.0364423 , 0.03934502, 0.29372063, ..., 0.01847629, 0.5187335 ,\n",
              "        0.18266788], dtype=float32),\n",
              " '/content/drive/Shared drives/DL_AT3/Experimentation/Flicker8k_Dataset/2976537455_f3988c2d46.jpg': array([0.22538152, 0.06280754, 0.0866968 , ..., 0.6147001 , 0.17174077,\n",
              "        0.38977975], dtype=float32),\n",
              " '/content/drive/Shared drives/DL_AT3/Experimentation/Flicker8k_Dataset/3330102093_1d6e35e78d.jpg': array([0.0219948 , 0.40217286, 0.14397547, ..., 0.18886262, 0.5266751 ,\n",
              "        0.01271097], dtype=float32),\n",
              " '/content/drive/Shared drives/DL_AT3/Experimentation/Flicker8k_Dataset/3594566537_55bd712fdb.jpg': array([0.17894018, 0.11904281, 0.21028565, ..., 0.3214392 , 0.44103423,\n",
              "        0.20465797], dtype=float32),\n",
              " '/content/drive/Shared drives/DL_AT3/Experimentation/Flicker8k_Dataset/3146355833_1b7fc80210.jpg': array([0.14688374, 0.5612953 , 1.3659543 , ..., 0.20042849, 0.24799322,\n",
              "        0.04459548], dtype=float32),\n",
              " '/content/drive/Shared drives/DL_AT3/Experimentation/Flicker8k_Dataset/2502354602_f4d6dcf42d.jpg': array([0.7499508 , 0.46746644, 0.8365719 , ..., 0.44811136, 0.8845643 ,\n",
              "        0.02466237], dtype=float32),\n",
              " '/content/drive/Shared drives/DL_AT3/Experimentation/Flicker8k_Dataset/2394857899_76bfdf720b.jpg': array([0.25197196, 0.3648096 , 0.41033667, ..., 0.608335  , 0.5805775 ,\n",
              "        0.7714114 ], dtype=float32),\n",
              " '/content/drive/Shared drives/DL_AT3/Experimentation/Flicker8k_Dataset/2898810636_84fb5c0b63.jpg': array([0.10862291, 0.25503272, 0.5744038 , ..., 1.0119394 , 0.32595283,\n",
              "        0.67789125], dtype=float32),\n",
              " '/content/drive/Shared drives/DL_AT3/Experimentation/Flicker8k_Dataset/3420338549_bd78d35243.jpg': array([0.374995  , 0.6231555 , 0.54141307, ..., 0.698622  , 0.28062743,\n",
              "        0.4273792 ], dtype=float32),\n",
              " '/content/drive/Shared drives/DL_AT3/Experimentation/Flicker8k_Dataset/3186556417_b2d6921a20.jpg': array([0.5774932 , 0.12182851, 0.31402725, ..., 0.0387636 , 0.58007663,\n",
              "        0.34069106], dtype=float32),\n",
              " '/content/drive/Shared drives/DL_AT3/Experimentation/Flicker8k_Dataset/3415113018_7b95ddcd11.jpg': array([0.17273669, 0.35652205, 0.25855666, ..., 0.10490438, 0.07333882,\n",
              "        0.56544673], dtype=float32),\n",
              " '/content/drive/Shared drives/DL_AT3/Experimentation/Flicker8k_Dataset/3461049169_e068ae4f25.jpg': array([0.21628128, 0.42385983, 0.96084064, ..., 0.14930326, 0.48968005,\n",
              "        0.2693125 ], dtype=float32),\n",
              " '/content/drive/Shared drives/DL_AT3/Experimentation/Flicker8k_Dataset/2422482455_b98d9c2120.jpg': array([0.29751214, 0.14785701, 0.35192606, ..., 0.10842758, 0.2833426 ,\n",
              "        0.47948807], dtype=float32),\n",
              " '/content/drive/Shared drives/DL_AT3/Experimentation/Flicker8k_Dataset/3176131893_7181c733aa.jpg': array([0.40561268, 0.13814485, 0.6232877 , ..., 1.1555042 , 0.91913533,\n",
              "        0.00215812], dtype=float32),\n",
              " '/content/drive/Shared drives/DL_AT3/Experimentation/Flicker8k_Dataset/1355935187_2c99648138.jpg': array([0.30293646, 0.2574708 , 0.40234217, ..., 0.50778365, 0.55587554,\n",
              "        0.07451516], dtype=float32),\n",
              " '/content/drive/Shared drives/DL_AT3/Experimentation/Flicker8k_Dataset/2986716822_e220754d32.jpg': array([0.25544482, 0.5821096 , 0.0743753 , ..., 0.31591094, 0.6196606 ,\n",
              "        0.40737724], dtype=float32),\n",
              " '/content/drive/Shared drives/DL_AT3/Experimentation/Flicker8k_Dataset/2448210587_9fe7ea5f42.jpg': array([0.17528123, 0.4057117 , 0.14255871, ..., 0.37527454, 0.7055936 ,\n",
              "        0.05596235], dtype=float32),\n",
              " '/content/drive/Shared drives/DL_AT3/Experimentation/Flicker8k_Dataset/3559374748_f18c7caa55.jpg': array([0.06543358, 0.59591836, 0.03704451, ..., 0.49846238, 0.5854686 ,\n",
              "        0.01845033], dtype=float32),\n",
              " '/content/drive/Shared drives/DL_AT3/Experimentation/Flicker8k_Dataset/2525716531_e6dedee421.jpg': array([0.36571723, 0.08855858, 0.6275755 , ..., 0.25225323, 0.9306598 ,\n",
              "        0.10391997], dtype=float32),\n",
              " '/content/drive/Shared drives/DL_AT3/Experimentation/Flicker8k_Dataset/3155279929_d1cddbe7cf.jpg': array([0.09922457, 0.21793543, 0.18544626, ..., 0.21259996, 0.45908904,\n",
              "        0.5294753 ], dtype=float32),\n",
              " '/content/drive/Shared drives/DL_AT3/Experimentation/Flicker8k_Dataset/3679502342_7fe6ef8a36.jpg': array([0.67861515, 0.32573402, 0.89454603, ..., 0.95699894, 0.13328286,\n",
              "        0.7716311 ], dtype=float32),\n",
              " '/content/drive/Shared drives/DL_AT3/Experimentation/Flicker8k_Dataset/236730743_0d4fd8de5a.jpg': array([0.07439578, 0.13605931, 0.17297179, ..., 0.12296301, 0.6413536 ,\n",
              "        0.23259294], dtype=float32),\n",
              " '/content/drive/Shared drives/DL_AT3/Experimentation/Flicker8k_Dataset/463786229_b54c9a3436.jpg': array([0.24545687, 0.4314996 , 0.58550364, ..., 0.11631113, 0.3825491 ,\n",
              "        0.22788224], dtype=float32),\n",
              " '/content/drive/Shared drives/DL_AT3/Experimentation/Flicker8k_Dataset/3234890865_bb3c316968.jpg': array([1.274528  , 0.1866636 , 0.23165244, ..., 0.25412136, 0.16239497,\n",
              "        0.25851914], dtype=float32),\n",
              " '/content/drive/Shared drives/DL_AT3/Experimentation/Flicker8k_Dataset/3103231330_db98b14501.jpg': array([0.26948732, 0.9365189 , 0.9363884 , ..., 0.61295664, 0.22119752,\n",
              "        0.6419552 ], dtype=float32),\n",
              " '/content/drive/Shared drives/DL_AT3/Experimentation/Flicker8k_Dataset/2703155733_19ac6f97a8.jpg': array([0.6942643 , 0.40325898, 1.1302574 , ..., 0.39568865, 0.5194431 ,\n",
              "        0.4462    ], dtype=float32),\n",
              " '/content/drive/Shared drives/DL_AT3/Experimentation/Flicker8k_Dataset/3292277400_f95cdd13d1.jpg': array([0.9059801 , 0.7890861 , 0.07671773, ..., 0.06842412, 0.43154502,\n",
              "        0.6084112 ], dtype=float32),\n",
              " '/content/drive/Shared drives/DL_AT3/Experimentation/Flicker8k_Dataset/2877424957_9beb1dc49a.jpg': array([1.1481507 , 0.18086453, 0.91798204, ..., 0.04788484, 1.1379206 ,\n",
              "        0.31424403], dtype=float32),\n",
              " '/content/drive/Shared drives/DL_AT3/Experimentation/Flicker8k_Dataset/3094568845_d0b56c5651.jpg': array([0.10971039, 0.2891968 , 0.395612  , ..., 0.3881002 , 0.21358138,\n",
              "        0.31635475], dtype=float32),\n",
              " '/content/drive/Shared drives/DL_AT3/Experimentation/Flicker8k_Dataset/3293945284_6a04e477a9.jpg': array([0.33530813, 0.26367274, 0.20427884, ..., 0.56358576, 0.23668844,\n",
              "        0.2930526 ], dtype=float32),\n",
              " '/content/drive/Shared drives/DL_AT3/Experimentation/Flicker8k_Dataset/3604496023_c1f546423e.jpg': array([0.8673639 , 0.1848546 , 0.29682064, ..., 0.13785028, 0.38060844,\n",
              "        0.7091415 ], dtype=float32),\n",
              " '/content/drive/Shared drives/DL_AT3/Experimentation/Flicker8k_Dataset/3146937399_8c046b7b1a.jpg': array([0.52902603, 0.21923584, 0.4116275 , ..., 0.5389432 , 0.33660853,\n",
              "        0.4440893 ], dtype=float32),\n",
              " '/content/drive/Shared drives/DL_AT3/Experimentation/Flicker8k_Dataset/3578372039_57473f473c.jpg': array([0.2693471 , 0.38435546, 0.87065804, ..., 0.5352443 , 0.17459123,\n",
              "        0.28392956], dtype=float32),\n",
              " '/content/drive/Shared drives/DL_AT3/Experimentation/Flicker8k_Dataset/2734219983_fe86a60bf9.jpg': array([0.39779037, 0.1372228 , 0.60525596, ..., 0.13455975, 0.9448283 ,\n",
              "        0.02026989], dtype=float32),\n",
              " '/content/drive/Shared drives/DL_AT3/Experimentation/Flicker8k_Dataset/413231421_43833a11f5.jpg': array([0.13414443, 0.05963837, 0.28031874, ..., 0.4067998 , 0.5398084 ,\n",
              "        0.2783257 ], dtype=float32),\n",
              " '/content/drive/Shared drives/DL_AT3/Experimentation/Flicker8k_Dataset/3443703471_14845d8850.jpg': array([0.11558261, 1.0250697 , 0.23962265, ..., 0.56062067, 0.9227718 ,\n",
              "        0.5944474 ], dtype=float32),\n",
              " '/content/drive/Shared drives/DL_AT3/Experimentation/Flicker8k_Dataset/2417745327_a2c2705043.jpg': array([0.11540256, 0.36162192, 0.42512697, ..., 0.38971776, 1.0022225 ,\n",
              "        0.33760536], dtype=float32),\n",
              " '/content/drive/Shared drives/DL_AT3/Experimentation/Flicker8k_Dataset/2502935765_a0ae1fa7be.jpg': array([0.1881466 , 0.4444756 , 0.20670311, ..., 0.49396163, 0.30107743,\n",
              "        0.00307582], dtype=float32),\n",
              " '/content/drive/Shared drives/DL_AT3/Experimentation/Flicker8k_Dataset/1032122270_ea6f0beedb.jpg': array([0.35767123, 0.34993598, 0.49749744, ..., 0.21691413, 1.3482784 ,\n",
              "        1.0504994 ], dtype=float32),\n",
              " '/content/drive/Shared drives/DL_AT3/Experimentation/Flicker8k_Dataset/3404906655_bc51c69c1e.jpg': array([0.07556394, 0.24535124, 0.06671835, ..., 0.05608839, 1.2817388 ,\n",
              "        0.07210356], dtype=float32),\n",
              " '/content/drive/Shared drives/DL_AT3/Experimentation/Flicker8k_Dataset/3005872315_e6771763bd.jpg': array([0.13342711, 0.13601628, 0.11258637, ..., 0.29158688, 0.06440426,\n",
              "        0.862219  ], dtype=float32),\n",
              " '/content/drive/Shared drives/DL_AT3/Experimentation/Flicker8k_Dataset/2987775031_3f9ac69319.jpg': array([0.08205171, 0.39331532, 0.07897469, ..., 0.11031065, 0.4871628 ,\n",
              "        0.12579092], dtype=float32),\n",
              " '/content/drive/Shared drives/DL_AT3/Experimentation/Flicker8k_Dataset/2942311160_a154104c62.jpg': array([0.07589182, 0.33627105, 0.0858171 , ..., 0.06245613, 0.08112969,\n",
              "        0.45868605], dtype=float32),\n",
              " '/content/drive/Shared drives/DL_AT3/Experimentation/Flicker8k_Dataset/2481003841_06086eafc2.jpg': array([0.4106257 , 0.5166105 , 0.11883576, ..., 0.2044551 , 0.20189859,\n",
              "        0.39470264], dtype=float32),\n",
              " '/content/drive/Shared drives/DL_AT3/Experimentation/Flicker8k_Dataset/2269795781_46a296aa21.jpg': array([0.01567258, 0.15693454, 0.16539937, ..., 0.37413138, 0.41246113,\n",
              "        0.04396236], dtype=float32),\n",
              " '/content/drive/Shared drives/DL_AT3/Experimentation/Flicker8k_Dataset/141755292_7a0b3364cf.jpg': array([0.7250113 , 0.45069933, 0.26244655, ..., 0.72173727, 0.5652389 ,\n",
              "        0.9492031 ], dtype=float32),\n",
              " '/content/drive/Shared drives/DL_AT3/Experimentation/Flicker8k_Dataset/2574230252_f5a1382dd4.jpg': array([0.49472797, 0.42833865, 0.16632885, ..., 0.63396347, 0.32877272,\n",
              "        0.02305079], dtype=float32),\n",
              " '/content/drive/Shared drives/DL_AT3/Experimentation/Flicker8k_Dataset/3555573680_41c1540a86.jpg': array([0.19197461, 0.21115723, 0.54208845, ..., 0.9888396 , 0.6182861 ,\n",
              "        0.04145641], dtype=float32),\n",
              " '/content/drive/Shared drives/DL_AT3/Experimentation/Flicker8k_Dataset/3214381315_b54f5c9be4.jpg': array([0.30458713, 0.8241594 , 0.5136714 , ..., 0.2077846 , 1.003322  ,\n",
              "        0.28090596], dtype=float32),\n",
              " '/content/drive/Shared drives/DL_AT3/Experimentation/Flicker8k_Dataset/490390951_87395fcb1c.jpg': array([0.07357576, 0.21802096, 1.1469655 , ..., 0.6091051 , 0.07350789,\n",
              "        0.33508337], dtype=float32),\n",
              " '/content/drive/Shared drives/DL_AT3/Experimentation/Flicker8k_Dataset/3529314899_b4e533bb76.jpg': array([0.15436053, 0.14382812, 0.22566952, ..., 0.2634244 , 0.06507356,\n",
              "        0.26626202], dtype=float32),\n",
              " '/content/drive/Shared drives/DL_AT3/Experimentation/Flicker8k_Dataset/2099323664_bb20457f26.jpg': array([0.16696087, 0.7888748 , 0.11644952, ..., 0.31338045, 0.5390463 ,\n",
              "        1.2257147 ], dtype=float32),\n",
              " '/content/drive/Shared drives/DL_AT3/Experimentation/Flicker8k_Dataset/404850242_3a55a4c874.jpg': array([1.0202091 , 0.29821005, 0.4122726 , ..., 0.15290004, 0.33416328,\n",
              "        0.3849667 ], dtype=float32),\n",
              " '/content/drive/Shared drives/DL_AT3/Experimentation/Flicker8k_Dataset/3134341610_3c55e373a7.jpg': array([0.65198874, 0.33870193, 1.589347  , ..., 0.56020236, 0.720156  ,\n",
              "        0.42350703], dtype=float32),\n",
              " '/content/drive/Shared drives/DL_AT3/Experimentation/Flicker8k_Dataset/1232148178_4f45cc3284.jpg': array([0.30313855, 0.34444574, 0.39559343, ..., 1.5216618 , 0.7662988 ,\n",
              "        0.04989507], dtype=float32),\n",
              " '/content/drive/Shared drives/DL_AT3/Experimentation/Flicker8k_Dataset/618771382_459bb492e4.jpg': array([0.15004936, 0.3174583 , 1.1228366 , ..., 0.6407795 , 0.31641465,\n",
              "        0.3977228 ], dtype=float32),\n",
              " '/content/drive/Shared drives/DL_AT3/Experimentation/Flicker8k_Dataset/3266261886_36e1323d2f.jpg': array([0.87492317, 0.4391239 , 0.416451  , ..., 0.5722611 , 0.06221909,\n",
              "        0.6518574 ], dtype=float32),\n",
              " '/content/drive/Shared drives/DL_AT3/Experimentation/Flicker8k_Dataset/566384456_97da3c7bd6.jpg': array([0.13141963, 0.11839259, 0.7331595 , ..., 0.41126898, 0.59286475,\n",
              "        0.52614045], dtype=float32),\n",
              " '/content/drive/Shared drives/DL_AT3/Experimentation/Flicker8k_Dataset/124972799_de706b6d0b.jpg': array([0.24897772, 0.6575581 , 0.11070883, ..., 0.28231362, 0.7502979 ,\n",
              "        1.494667  ], dtype=float32),\n",
              " '/content/drive/Shared drives/DL_AT3/Experimentation/Flicker8k_Dataset/3441145615_b4fcd9eea0.jpg': array([0.0599759 , 0.57449263, 0.5276074 , ..., 0.88358414, 1.0821626 ,\n",
              "        0.41445673], dtype=float32),\n",
              " '/content/drive/Shared drives/DL_AT3/Experimentation/Flicker8k_Dataset/3306464579_1b16a0caf2.jpg': array([0.35260767, 0.14277825, 0.44609457, ..., 0.17260095, 0.2399573 ,\n",
              "        0.63166505], dtype=float32),\n",
              " '/content/drive/Shared drives/DL_AT3/Experimentation/Flicker8k_Dataset/3112635165_2d614d7c1a.jpg': array([0.77273464, 0.7682831 , 0.04820728, ..., 0.6013564 , 0.8362858 ,\n",
              "        1.154019  ], dtype=float32),\n",
              " '/content/drive/Shared drives/DL_AT3/Experimentation/Flicker8k_Dataset/3563673070_71fa0903ed.jpg': array([0.020594  , 0.17482111, 0.2794481 , ..., 0.25767797, 1.3049376 ,\n",
              "        0.08770461], dtype=float32),\n",
              " '/content/drive/Shared drives/DL_AT3/Experimentation/Flicker8k_Dataset/3425918361_3b890d9575.jpg': array([0.00644104, 0.4539323 , 0.24229097, ..., 0.20672342, 0.3171001 ,\n",
              "        0.24248335], dtype=float32),\n",
              " '/content/drive/Shared drives/DL_AT3/Experimentation/Flicker8k_Dataset/2275253272_00f941366e.jpg': array([0.31919017, 0.22453524, 0.85147864, ..., 0.2751556 , 0.8599142 ,\n",
              "        0.17870347], dtype=float32),\n",
              " '/content/drive/Shared drives/DL_AT3/Experimentation/Flicker8k_Dataset/3192311620_99bda27fbd.jpg': array([0.9078927 , 0.52213585, 0.18819863, ..., 0.3438771 , 0.30510134,\n",
              "        0.5142179 ], dtype=float32),\n",
              " '/content/drive/Shared drives/DL_AT3/Experimentation/Flicker8k_Dataset/2736902411_a0010f89ae.jpg': array([0.9753939 , 0.7484577 , 1.2768308 , ..., 0.54861516, 0.93020624,\n",
              "        0.53055155], dtype=float32),\n",
              " '/content/drive/Shared drives/DL_AT3/Experimentation/Flicker8k_Dataset/2602306033_2b3100d36b.jpg': array([0.2586832 , 0.07854039, 0.46715152, ..., 0.1327369 , 1.1151986 ,\n",
              "        0.03384019], dtype=float32),\n",
              " '/content/drive/Shared drives/DL_AT3/Experimentation/Flicker8k_Dataset/415118186_64defc96f3.jpg': array([0.37423438, 0.20876327, 0.38534886, ..., 0.5750033 , 0.5356314 ,\n",
              "        0.871928  ], dtype=float32),\n",
              " '/content/drive/Shared drives/DL_AT3/Experimentation/Flicker8k_Dataset/2266144051_614b2d62b0.jpg': array([0.2041411 , 0.22276302, 0.13639157, ..., 0.3791388 , 0.5754285 ,\n",
              "        0.28137714], dtype=float32),\n",
              " '/content/drive/Shared drives/DL_AT3/Experimentation/Flicker8k_Dataset/244870123_dcb6e53643.jpg': array([0.38113567, 0.10831757, 0.697927  , ..., 0.18642451, 0.95612144,\n",
              "        0.9764197 ], dtype=float32),\n",
              " '/content/drive/Shared drives/DL_AT3/Experimentation/Flicker8k_Dataset/3482787182_a5c6d4b386.jpg': array([0.27699557, 0.5542373 , 0.50185406, ..., 0.90941983, 0.8125138 ,\n",
              "        1.0045829 ], dtype=float32),\n",
              " '/content/drive/Shared drives/DL_AT3/Experimentation/Flicker8k_Dataset/3288174272_2daa06d360.jpg': array([0.29744944, 0.60417295, 0.7936276 , ..., 0.16897744, 0.45007226,\n",
              "        0.27747598], dtype=float32),\n",
              " '/content/drive/Shared drives/DL_AT3/Experimentation/Flicker8k_Dataset/3064097919_e536ab9693.jpg': array([0.0420375 , 0.5273032 , 0.27648667, ..., 0.4295371 , 0.04169978,\n",
              "        0.26879227], dtype=float32),\n",
              " '/content/drive/Shared drives/DL_AT3/Experimentation/Flicker8k_Dataset/2100046085_69b59b6645.jpg': array([0.13104329, 0.33583778, 0.42734933, ..., 0.6219281 , 1.0191854 ,\n",
              "        0.07901355], dtype=float32),\n",
              " '/content/drive/Shared drives/DL_AT3/Experimentation/Flicker8k_Dataset/3226796100_08c49cfa5c.jpg': array([0.17797142, 0.14682251, 0.33102196, ..., 0.32187462, 0.0388357 ,\n",
              "        0.        ], dtype=float32),\n",
              " '/content/drive/Shared drives/DL_AT3/Experimentation/Flicker8k_Dataset/3601978895_9fec23ce0c.jpg': array([0.2635309 , 0.64056957, 0.12910745, ..., 1.0993104 , 0.84957886,\n",
              "        0.6129333 ], dtype=float32),\n",
              " '/content/drive/Shared drives/DL_AT3/Experimentation/Flicker8k_Dataset/3029043380_b28644ea5d.jpg': array([0.3366314 , 0.691996  , 0.83376443, ..., 0.16174991, 0.47126907,\n",
              "        0.05673488], dtype=float32),\n",
              " '/content/drive/Shared drives/DL_AT3/Experimentation/Flicker8k_Dataset/2038662925_f4fa8c2534.jpg': array([0.07693573, 0.21069509, 0.3664123 , ..., 0.29680008, 0.03860145,\n",
              "        0.10016388], dtype=float32),\n",
              " '/content/drive/Shared drives/DL_AT3/Experimentation/Flicker8k_Dataset/397815951_3b02090324.jpg': array([0.2716839 , 0.49177277, 0.43727747, ..., 0.08520833, 0.6458864 ,\n",
              "        0.80801797], dtype=float32),\n",
              " '/content/drive/Shared drives/DL_AT3/Experimentation/Flicker8k_Dataset/3218861747_5c5c547b66.jpg': array([0.5601309 , 0.26666003, 0.4430653 , ..., 1.399286  , 0.58208597,\n",
              "        0.41649157], dtype=float32),\n",
              " '/content/drive/Shared drives/DL_AT3/Experimentation/Flicker8k_Dataset/424379231_23f1ade134.jpg': array([0.078574  , 0.70653605, 0.04338456, ..., 0.12358862, 0.07119394,\n",
              "        0.02875812], dtype=float32),\n",
              " '/content/drive/Shared drives/DL_AT3/Experimentation/Flicker8k_Dataset/225699652_53f6fb33cd.jpg': array([0.23843975, 0.08801684, 0.12990771, ..., 0.25277442, 0.27214646,\n",
              "        0.0094908 ], dtype=float32),\n",
              " '/content/drive/Shared drives/DL_AT3/Experimentation/Flicker8k_Dataset/3375014075_157388f8a9.jpg': array([0.2640365 , 0.15962954, 0.3751691 , ..., 0.28331822, 0.63624036,\n",
              "        0.16033664], dtype=float32),\n",
              " '/content/drive/Shared drives/DL_AT3/Experimentation/Flicker8k_Dataset/2869009633_ea3cafd437.jpg': array([0.37818676, 0.08953542, 1.108676  , ..., 0.8052708 , 1.1339717 ,\n",
              "        0.70272005], dtype=float32),\n",
              " '/content/drive/Shared drives/DL_AT3/Experimentation/Flicker8k_Dataset/3561433412_3985208d53.jpg': array([0.4731935 , 0.5539503 , 0.16207439, ..., 0.29806316, 0.57583976,\n",
              "        0.074952  ], dtype=float32),\n",
              " '/content/drive/Shared drives/DL_AT3/Experimentation/Flicker8k_Dataset/381514859_b40418d9c3.jpg': array([0.02426992, 0.5669782 , 0.34087592, ..., 0.8088843 , 0.20918256,\n",
              "        0.00659522], dtype=float32),\n",
              " '/content/drive/Shared drives/DL_AT3/Experimentation/Flicker8k_Dataset/3420284416_a90af1fb7a.jpg': array([0.19402254, 0.24529308, 0.40297922, ..., 0.15432729, 0.44753185,\n",
              "        0.0205271 ], dtype=float32),\n",
              " '/content/drive/Shared drives/DL_AT3/Experimentation/Flicker8k_Dataset/2642474867_4e6346f809.jpg': array([0.24527046, 0.4008975 , 0.08853612, ..., 0.24713385, 0.10442686,\n",
              "        0.28651184], dtype=float32),\n",
              " '/content/drive/Shared drives/DL_AT3/Experimentation/Flicker8k_Dataset/3436259762_43709321ff.jpg': array([0.11294872, 0.22120476, 0.01892554, ..., 0.09395292, 0.13921247,\n",
              "        0.55217266], dtype=float32),\n",
              " '/content/drive/Shared drives/DL_AT3/Experimentation/Flicker8k_Dataset/619169586_0a13ee7c21.jpg': array([0.1343869 , 0.20572877, 0.73957515, ..., 0.08447609, 0.86555487,\n",
              "        0.31339896], dtype=float32),\n",
              " '/content/drive/Shared drives/DL_AT3/Experimentation/Flicker8k_Dataset/3516285214_59823b341e.jpg': array([0.35334134, 0.01989678, 0.30867517, ..., 0.09105277, 0.15515453,\n",
              "        0.7269029 ], dtype=float32),\n",
              " '/content/drive/Shared drives/DL_AT3/Experimentation/Flicker8k_Dataset/3694219419_a7a83d4886.jpg': array([0.09222589, 0.07860328, 0.8852284 , ..., 0.29375976, 0.07796261,\n",
              "        0.16865355], dtype=float32),\n",
              " '/content/drive/Shared drives/DL_AT3/Experimentation/Flicker8k_Dataset/263850317_5bb3a18a08.jpg': array([1.2380512 , 0.46720645, 1.1615069 , ..., 0.04032934, 0.51823866,\n",
              "        0.03284331], dtype=float32),\n",
              " '/content/drive/Shared drives/DL_AT3/Experimentation/Flicker8k_Dataset/3722572342_6904d11d52.jpg': array([0.21246082, 0.09965952, 0.1163339 , ..., 0.10017283, 0.16298261,\n",
              "        0.58520854], dtype=float32),\n",
              " '/content/drive/Shared drives/DL_AT3/Experimentation/Flicker8k_Dataset/3425685827_03683e8e5a.jpg': array([1.6698868 , 0.27673244, 0.44499868, ..., 1.1374285 , 0.2063178 ,\n",
              "        0.10839392], dtype=float32),\n",
              " '/content/drive/Shared drives/DL_AT3/Experimentation/Flicker8k_Dataset/3342272425_804316cb3d.jpg': array([1.3995208 , 0.4438355 , 1.63907   , ..., 0.12698123, 1.0015938 ,\n",
              "        0.35489577], dtype=float32),\n",
              " '/content/drive/Shared drives/DL_AT3/Experimentation/Flicker8k_Dataset/166433861_70b66cd381.jpg': array([0.15047368, 0.19491076, 0.17440397, ..., 0.19143867, 0.10855679,\n",
              "        0.6029945 ], dtype=float32),\n",
              " '/content/drive/Shared drives/DL_AT3/Experimentation/Flicker8k_Dataset/3187924573_203223e6c0.jpg': array([0.2672596 , 0.0797512 , 0.40677595, ..., 0.03616107, 0.3679325 ,\n",
              "        0.59712106], dtype=float32),\n",
              " '/content/drive/Shared drives/DL_AT3/Experimentation/Flicker8k_Dataset/3480052428_c034b98a08.jpg': array([0.29925346, 0.5344545 , 0.6673844 , ..., 0.20027506, 0.3569827 ,\n",
              "        0.5863539 ], dtype=float32),\n",
              " '/content/drive/Shared drives/DL_AT3/Experimentation/Flicker8k_Dataset/2890057168_c712f932e0.jpg': array([1.6854768 , 0.4584859 , 0.718688  , ..., 0.60364366, 0.89580405,\n",
              "        0.552347  ], dtype=float32),\n",
              " '/content/drive/Shared drives/DL_AT3/Experimentation/Flicker8k_Dataset/2450486758_a66fd296ea.jpg': array([0.36274457, 0.150545  , 0.65745306, ..., 1.1237146 , 0.64421093,\n",
              "        0.0851924 ], dtype=float32),\n",
              " '/content/drive/Shared drives/DL_AT3/Experimentation/Flicker8k_Dataset/295729735_8360f2e64c.jpg': array([0.35627967, 0.3677364 , 0.6340687 , ..., 0.1275298 , 0.06177296,\n",
              "        0.21199545], dtype=float32),\n",
              " '/content/drive/Shared drives/DL_AT3/Experimentation/Flicker8k_Dataset/3403263046_3cc701a07a.jpg': array([0.18924472, 1.5920837 , 0.07905981, ..., 0.4249091 , 0.3302613 ,\n",
              "        1.0817286 ], dtype=float32),\n",
              " '/content/drive/Shared drives/DL_AT3/Experimentation/Flicker8k_Dataset/261883591_3f2bca823c.jpg': array([0.27072084, 0.09337178, 0.4024345 , ..., 0.21602124, 0.03614264,\n",
              "        0.02688688], dtype=float32),\n",
              " '/content/drive/Shared drives/DL_AT3/Experimentation/Flicker8k_Dataset/3504940491_94c43792ed.jpg': array([0.2570417 , 0.2851491 , 0.01437491, ..., 0.48223957, 0.01295191,\n",
              "        0.1500999 ], dtype=float32),\n",
              " '/content/drive/Shared drives/DL_AT3/Experimentation/Flicker8k_Dataset/3470129475_9e58b6742c.jpg': array([0.2793542 , 0.38810724, 0.1819048 , ..., 0.03806613, 0.14905399,\n",
              "        0.2291059 ], dtype=float32),\n",
              " '/content/drive/Shared drives/DL_AT3/Experimentation/Flicker8k_Dataset/3646820231_2abc736840.jpg': array([0.10305046, 0.30712172, 0.25964943, ..., 0.24524224, 0.21435454,\n",
              "        0.7999682 ], dtype=float32),\n",
              " '/content/drive/Shared drives/DL_AT3/Experimentation/Flicker8k_Dataset/3613175012_bcd063e7c9.jpg': array([0.21269792, 0.06255871, 0.3688116 , ..., 0.10002239, 0.17345141,\n",
              "        0.1821003 ], dtype=float32),\n",
              " '/content/drive/Shared drives/DL_AT3/Experimentation/Flicker8k_Dataset/2140305708_591d10b54d.jpg': array([0.24081981, 0.06086006, 0.6148131 , ..., 0.82102895, 1.261142  ,\n",
              "        0.68139565], dtype=float32),\n",
              " '/content/drive/Shared drives/DL_AT3/Experimentation/Flicker8k_Dataset/2193980605_4221c6474d.jpg': array([0.60729647, 0.17194141, 0.25777674, ..., 0.5696707 , 0.8290819 ,\n",
              "        0.14704522], dtype=float32),\n",
              " '/content/drive/Shared drives/DL_AT3/Experimentation/Flicker8k_Dataset/3170110692_d1e0e66cee.jpg': array([1.0991626 , 0.32105625, 0.599448  , ..., 1.0517716 , 0.10393351,\n",
              "        0.22899877], dtype=float32),\n",
              " '/content/drive/Shared drives/DL_AT3/Experimentation/Flicker8k_Dataset/2983555530_a89f1f5ed7.jpg': array([0.0812335 , 0.25001693, 0.04497578, ..., 0.04003905, 0.11305448,\n",
              "        0.04380218], dtype=float32),\n",
              " '/content/drive/Shared drives/DL_AT3/Experimentation/Flicker8k_Dataset/2142232919_c857a09dd7.jpg': array([0.2119344 , 0.31273156, 0.06368077, ..., 0.55863816, 0.40171558,\n",
              "        0.37042174], dtype=float32),\n",
              " '/content/drive/Shared drives/DL_AT3/Experimentation/Flicker8k_Dataset/3077781040_bc27778609.jpg': array([0.2210257 , 0.38522977, 0.0861576 , ..., 0.00180388, 0.30649513,\n",
              "        0.0207094 ], dtype=float32),\n",
              " '/content/drive/Shared drives/DL_AT3/Experimentation/Flicker8k_Dataset/3149804151_1cc8d10783.jpg': array([0.04572081, 0.23571767, 0.04525417, ..., 0.18764329, 0.72483003,\n",
              "        0.59572625], dtype=float32),\n",
              " '/content/drive/Shared drives/DL_AT3/Experimentation/Flicker8k_Dataset/2905975229_7c37156dbe.jpg': array([0.03285801, 0.3198463 , 0.11421421, ..., 0.00180147, 0.17763184,\n",
              "        0.5057866 ], dtype=float32),\n",
              " '/content/drive/Shared drives/DL_AT3/Experimentation/Flicker8k_Dataset/27782020_4dab210360.jpg': array([0.14637798, 0.09243669, 0.6678991 , ..., 0.20155945, 0.91624457,\n",
              "        0.30976748], dtype=float32),\n",
              " '/content/drive/Shared drives/DL_AT3/Experimentation/Flicker8k_Dataset/232874193_c691df882d.jpg': array([0.38673678, 0.0921999 , 0.18965256, ..., 0.24771021, 0.4686664 ,\n",
              "        0.08879221], dtype=float32),\n",
              " '/content/drive/Shared drives/DL_AT3/Experimentation/Flicker8k_Dataset/3294179574_4f67e67d6f.jpg': array([0.31319574, 0.7787441 , 0.52936494, ..., 1.2449157 , 0.5407183 ,\n",
              "        0.6253761 ], dtype=float32),\n",
              " '/content/drive/Shared drives/DL_AT3/Experimentation/Flicker8k_Dataset/2449446913_28fa5b7c75.jpg': array([0.08560111, 0.06101732, 0.23553392, ..., 0.08941936, 0.04788997,\n",
              "        0.6759095 ], dtype=float32),\n",
              " '/content/drive/Shared drives/DL_AT3/Experimentation/Flicker8k_Dataset/3681414069_71ba164f71.jpg': array([0.77052796, 0.4714765 , 0.61622995, ..., 0.2752388 , 0.4758429 ,\n",
              "        1.9594731 ], dtype=float32),\n",
              " '/content/drive/Shared drives/DL_AT3/Experimentation/Flicker8k_Dataset/3369258147_03db257f0f.jpg': array([1.2934859 , 0.25495073, 1.1531925 , ..., 0.25102562, 0.22034156,\n",
              "        0.07259444], dtype=float32),\n",
              " '/content/drive/Shared drives/DL_AT3/Experimentation/Flicker8k_Dataset/1215334959_b1970965f7.jpg': array([0.31440556, 0.06681082, 0.6205945 , ..., 0.20165604, 0.1891082 ,\n",
              "        1.0982318 ], dtype=float32),\n",
              " '/content/drive/Shared drives/DL_AT3/Experimentation/Flicker8k_Dataset/1100214449_d10861e633.jpg': array([0.27178603, 0.2646133 , 0.34193954, ..., 0.28090626, 0.7175696 ,\n",
              "        0.10185448], dtype=float32),\n",
              " '/content/drive/Shared drives/DL_AT3/Experimentation/Flicker8k_Dataset/1478268555_7e301fc510.jpg': array([0.13995017, 0.18300855, 0.12852077, ..., 0.10142048, 0.7373859 ,\n",
              "        0.16506812], dtype=float32),\n",
              " '/content/drive/Shared drives/DL_AT3/Experimentation/Flicker8k_Dataset/3232252882_05db7c2216.jpg': array([0.07999263, 0.6876843 , 0.29174185, ..., 0.        , 1.708626  ,\n",
              "        0.70441425], dtype=float32),\n",
              " '/content/drive/Shared drives/DL_AT3/Experimentation/Flicker8k_Dataset/3033612929_764d977bd5.jpg': array([0.17080915, 0.55471253, 0.26479822, ..., 0.01973603, 0.76707065,\n",
              "        0.04602911], dtype=float32),\n",
              " '/content/drive/Shared drives/DL_AT3/Experimentation/Flicker8k_Dataset/1388970365_162edcceb4.jpg': array([0.12614606, 0.3843364 , 0.87603986, ..., 0.20185772, 0.86134267,\n",
              "        0.48911643], dtype=float32),\n",
              " '/content/drive/Shared drives/DL_AT3/Experimentation/Flicker8k_Dataset/3445544288_68fdb25969.jpg': array([0.46166933, 0.2817762 , 0.33976668, ..., 1.6497512 , 0.41434944,\n",
              "        0.08293166], dtype=float32),\n",
              " '/content/drive/Shared drives/DL_AT3/Experimentation/Flicker8k_Dataset/3401647850_685c03ffff.jpg': array([0.35464463, 0.23151696, 0.03813101, ..., 0.20706072, 1.2607393 ,\n",
              "        0.8262135 ], dtype=float32),\n",
              " '/content/drive/Shared drives/DL_AT3/Experimentation/Flicker8k_Dataset/3482859574_3908de3427.jpg': array([0.5465324 , 0.7758853 , 1.1899381 , ..., 0.52656335, 0.25588372,\n",
              "        0.02438968], dtype=float32),\n",
              " '/content/drive/Shared drives/DL_AT3/Experimentation/Flicker8k_Dataset/497122685_a51b29dc46.jpg': array([0.64255774, 0.49253517, 0.12562524, ..., 1.4008721 , 0.7611787 ,\n",
              "        0.56285036], dtype=float32),\n",
              " '/content/drive/Shared drives/DL_AT3/Experimentation/Flicker8k_Dataset/3025495499_b15797b452.jpg': array([0.14908952, 0.5935585 , 0.23815975, ..., 0.9392272 , 0.23053774,\n",
              "        0.0526183 ], dtype=float32),\n",
              " '/content/drive/Shared drives/DL_AT3/Experimentation/Flicker8k_Dataset/278007543_99f5a91a3e.jpg': array([0.16536888, 1.089837  , 0.09371936, ..., 0.07646085, 0.50504005,\n",
              "        0.6996628 ], dtype=float32),\n",
              " '/content/drive/Shared drives/DL_AT3/Experimentation/Flicker8k_Dataset/621000329_84f48948eb.jpg': array([0.58585125, 0.21225914, 0.3672948 , ..., 0.24888128, 0.21147713,\n",
              "        0.44841677], dtype=float32),\n",
              " '/content/drive/Shared drives/DL_AT3/Experimentation/Flicker8k_Dataset/3094278545_febac56382.jpg': array([0.90385336, 0.7957054 , 0.8272873 , ..., 0.5555301 , 0.8108572 ,\n",
              "        0.13922329], dtype=float32),\n",
              " '/content/drive/Shared drives/DL_AT3/Experimentation/Flicker8k_Dataset/3568225554_73cdb19576.jpg': array([0.28413597, 0.27018178, 0.15645139, ..., 0.13208166, 0.8692497 ,\n",
              "        0.6876037 ], dtype=float32),\n",
              " '/content/drive/Shared drives/DL_AT3/Experimentation/Flicker8k_Dataset/3495453699_1c9faedf3c.jpg': array([0.67350817, 0.2713763 , 0.8751415 , ..., 0.7059673 , 0.7244488 ,\n",
              "        0.45617157], dtype=float32),\n",
              " '/content/drive/Shared drives/DL_AT3/Experimentation/Flicker8k_Dataset/457945610_1a23b9ced0.jpg': array([0.06983659, 0.06682386, 0.25462505, ..., 0.7690135 , 0.9402955 ,\n",
              "        0.13839701], dtype=float32),\n",
              " '/content/drive/Shared drives/DL_AT3/Experimentation/Flicker8k_Dataset/3334300164_e75e0479ae.jpg': array([0.267273  , 0.05414616, 0.43206024, ..., 0.1422744 , 0.17576195,\n",
              "        0.05521458], dtype=float32),\n",
              " '/content/drive/Shared drives/DL_AT3/Experimentation/Flicker8k_Dataset/656260720_a7db4ce48b.jpg': array([0.30141592, 0.19450144, 0.10953242, ..., 0.262759  , 0.18111116,\n",
              "        1.44444   ], dtype=float32),\n",
              " '/content/drive/Shared drives/DL_AT3/Experimentation/Flicker8k_Dataset/3275711232_e261143664.jpg': array([0.268256  , 0.11453313, 0.83009636, ..., 0.981277  , 0.4819639 ,\n",
              "        0.20978343], dtype=float32),\n",
              " '/content/drive/Shared drives/DL_AT3/Experimentation/Flicker8k_Dataset/1675679141_36c9bc2969.jpg': array([0.02245753, 0.        , 0.1966    , ..., 0.85087377, 1.2869462 ,\n",
              "        1.0406321 ], dtype=float32),\n",
              " '/content/drive/Shared drives/DL_AT3/Experimentation/Flicker8k_Dataset/2806632713_edd6f6c893.jpg': array([0.23119031, 0.4530915 , 0.25363135, ..., 0.7886899 , 0.30510414,\n",
              "        0.13794574], dtype=float32),\n",
              " '/content/drive/Shared drives/DL_AT3/Experimentation/Flicker8k_Dataset/3477315700_52a4d740a5.jpg': array([0.04302365, 0.19263634, 0.17961925, ..., 0.5305367 , 0.23146904,\n",
              "        0.11387467], dtype=float32),\n",
              " '/content/drive/Shared drives/DL_AT3/Experimentation/Flicker8k_Dataset/2417341107_97dbab9c5e.jpg': array([0.18616053, 0.08732734, 0.47977388, ..., 0.32089424, 1.3477876 ,\n",
              "        0.34966776], dtype=float32),\n",
              " '/content/drive/Shared drives/DL_AT3/Experimentation/Flicker8k_Dataset/640053014_549d2f23d2.jpg': array([0.19266325, 0.34731957, 0.25140646, ..., 0.4410745 , 0.12254377,\n",
              "        0.16239941], dtype=float32),\n",
              " '/content/drive/Shared drives/DL_AT3/Experimentation/Flicker8k_Dataset/3425756814_13909354d4.jpg': array([0.62177384, 0.4520314 , 0.15599236, ..., 0.13237864, 0.13777083,\n",
              "        0.28116155], dtype=float32),\n",
              " '/content/drive/Shared drives/DL_AT3/Experimentation/Flicker8k_Dataset/3466891862_9afde75568.jpg': array([0.46438122, 0.18777815, 0.15937316, ..., 0.6712539 , 0.01967876,\n",
              "        0.03102853], dtype=float32),\n",
              " '/content/drive/Shared drives/DL_AT3/Experimentation/Flicker8k_Dataset/3430779304_43a2146f4b.jpg': array([0.6036513 , 0.3865276 , 0.2576577 , ..., 0.45254502, 0.8170733 ,\n",
              "        0.9162076 ], dtype=float32),\n",
              " '/content/drive/Shared drives/DL_AT3/Experimentation/Flicker8k_Dataset/3530502404_f8c3a3f61c.jpg': array([0.14352453, 0.42988917, 0.15562598, ..., 0.24992758, 0.03466655,\n",
              "        0.22717376], dtype=float32),\n",
              " '/content/drive/Shared drives/DL_AT3/Experimentation/Flicker8k_Dataset/861661418_8a37024ace.jpg': array([0.2663242 , 0.10454341, 0.15183058, ..., 0.5197263 , 0.0640568 ,\n",
              "        0.15446733], dtype=float32),\n",
              " '/content/drive/Shared drives/DL_AT3/Experimentation/Flicker8k_Dataset/3068407619_5207b26986.jpg': array([0.30931   , 0.11250339, 0.21025826, ..., 0.17541368, 0.95364475,\n",
              "        0.25277412], dtype=float32),\n",
              " '/content/drive/Shared drives/DL_AT3/Experimentation/Flicker8k_Dataset/3487378989_c051d2715b.jpg': array([0.20472631, 0.17730501, 0.2065369 , ..., 0.1257144 , 0.43488848,\n",
              "        0.41379324], dtype=float32),\n",
              " '/content/drive/Shared drives/DL_AT3/Experimentation/Flicker8k_Dataset/2189181027_a445b13438.jpg': array([0.18744305, 0.27628464, 0.13677843, ..., 0.15520684, 1.0780616 ,\n",
              "        1.1551626 ], dtype=float32),\n",
              " '/content/drive/Shared drives/DL_AT3/Experimentation/Flicker8k_Dataset/2631625732_75b714e685.jpg': array([0.3535601 , 0.21094523, 0.39116395, ..., 0.07339046, 0.4836721 ,\n",
              "        0.10538264], dtype=float32),\n",
              " '/content/drive/Shared drives/DL_AT3/Experimentation/Flicker8k_Dataset/2665586311_9a5f4e3fbe.jpg': array([0.7413367 , 0.20269756, 0.8006215 , ..., 0.6359683 , 0.12748225,\n",
              "        0.01950347], dtype=float32),\n",
              " '/content/drive/Shared drives/DL_AT3/Experimentation/Flicker8k_Dataset/522652105_a89f1cf260.jpg': array([0.1399647 , 0.05206284, 0.6368208 , ..., 0.        , 0.1284189 ,\n",
              "        0.47825256], dtype=float32)}"
            ]
          },
          "metadata": {
            "tags": []
          },
          "execution_count": 123
        }
      ]
    }
  ]
}